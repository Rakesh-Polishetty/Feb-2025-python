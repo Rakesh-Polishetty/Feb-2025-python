{
 "cells": [
  {
   "cell_type": "markdown",
   "id": "44486a35-983f-470c-a12d-66fba9225b3a",
   "metadata": {},
   "source": [
    "## type casting\n",
    "\n",
    "- It means to convert one data type into another type\n",
    "\n",
    "- We learned 4 data types\n",
    "\n",
    "    - integer: int\n",
    "\n",
    "    - float: float\n",
    " \n",
    "    - boolean: bool\n",
    " \n",
    "    - string: str\n"
   ]
  },
  {
   "cell_type": "markdown",
   "id": "5817994d-9791-46b9-bbe2-2a68e666293d",
   "metadata": {},
   "source": [
    "**int to other data types**"
   ]
  },
  {
   "cell_type": "code",
   "execution_count": 6,
   "id": "65f7fbbc-e5df-46a1-815c-181fd3562265",
   "metadata": {},
   "outputs": [
    {
     "data": {
      "text/plain": [
       "int"
      ]
     },
     "execution_count": 6,
     "metadata": {},
     "output_type": "execute_result"
    }
   ],
   "source": [
    "number=100\n",
    "type(number)"
   ]
  },
  {
   "cell_type": "code",
   "execution_count": 10,
   "id": "01851ab5-5e11-4d7f-9454-947d7f04a959",
   "metadata": {},
   "outputs": [
    {
     "data": {
      "text/plain": [
       "float"
      ]
     },
     "execution_count": 10,
     "metadata": {},
     "output_type": "execute_result"
    }
   ],
   "source": [
    "float_number=float(number)\n",
    "type(float_number)"
   ]
  },
  {
   "cell_type": "code",
   "execution_count": 18,
   "id": "43881b6b-8fae-4c86-bf00-bba5edecbe00",
   "metadata": {},
   "outputs": [
    {
     "data": {
      "text/plain": [
       "bool"
      ]
     },
     "execution_count": 18,
     "metadata": {},
     "output_type": "execute_result"
    }
   ],
   "source": [
    "bool_number=bool(number)\n",
    "type(bool_number)"
   ]
  },
  {
   "cell_type": "code",
   "execution_count": 12,
   "id": "757ae8bb-d406-4488-b0be-29e756609f2d",
   "metadata": {},
   "outputs": [
    {
     "data": {
      "text/plain": [
       "str"
      ]
     },
     "execution_count": 12,
     "metadata": {},
     "output_type": "execute_result"
    }
   ],
   "source": [
    "str_number= str(number)\n",
    "type(str_number)"
   ]
  },
  {
   "cell_type": "code",
   "execution_count": 9,
   "id": "d0a8ad62-0ff1-4280-bea9-5769df5f82a4",
   "metadata": {},
   "outputs": [
    {
     "data": {
      "text/plain": [
       "(100.0, True, '100')"
      ]
     },
     "execution_count": 9,
     "metadata": {},
     "output_type": "execute_result"
    }
   ],
   "source": [
    "float(100),bool(100),str(100)"
   ]
  },
  {
   "cell_type": "code",
   "execution_count": 22,
   "id": "1910d2b1-72dc-4cc9-9424-b5792d10ada6",
   "metadata": {},
   "outputs": [
    {
     "name": "stdout",
     "output_type": "stream",
     "text": [
      "100.0\n",
      "True\n",
      "100\n"
     ]
    }
   ],
   "source": [
    "print(float(100))\n",
    "print(bool(100))\n",
    "print(str(100))"
   ]
  },
  {
   "cell_type": "code",
   "execution_count": 24,
   "id": "d005fd67-ee06-488e-95c4-1fc8fa34cce0",
   "metadata": {},
   "outputs": [
    {
     "name": "stdout",
     "output_type": "stream",
     "text": [
      "-100.0\n",
      "True\n",
      "-100\n"
     ]
    }
   ],
   "source": [
    "print(float(-100))\n",
    "print(bool(-100))\n",
    "print(str(-100))"
   ]
  },
  {
   "cell_type": "markdown",
   "id": "8d64df7a-4c40-4384-878e-540f8d714c9c",
   "metadata": {},
   "source": [
    "- For bool zero means off\n",
    "- False means off"
   ]
  },
  {
   "cell_type": "code",
   "execution_count": 42,
   "id": "83d6cb7f-ad42-47ef-8a15-fe0b2bf59eb1",
   "metadata": {},
   "outputs": [
    {
     "name": "stdout",
     "output_type": "stream",
     "text": [
      "0.0\n",
      "False\n",
      "0\n"
     ]
    }
   ],
   "source": [
    "print(float(0))\n",
    "print(bool(0))\n",
    "print(str(0))"
   ]
  },
  {
   "cell_type": "markdown",
   "id": "ea8e39cc-4969-4743-8fcd-95483f49558a",
   "metadata": {},
   "source": [
    "**Float to other data types**"
   ]
  },
  {
   "cell_type": "code",
   "execution_count": 30,
   "id": "34d34794-8d46-4783-bb4b-ef98b3dcd191",
   "metadata": {},
   "outputs": [
    {
     "data": {
      "text/plain": [
       "100"
      ]
     },
     "execution_count": 30,
     "metadata": {},
     "output_type": "execute_result"
    }
   ],
   "source": [
    "number=100.2\n",
    "int(number)"
   ]
  },
  {
   "cell_type": "code",
   "execution_count": 32,
   "id": "61809c8a-7281-4870-b06a-72384c1a7b6c",
   "metadata": {},
   "outputs": [
    {
     "data": {
      "text/plain": [
       "True"
      ]
     },
     "execution_count": 32,
     "metadata": {},
     "output_type": "execute_result"
    }
   ],
   "source": [
    "bool(number)"
   ]
  },
  {
   "cell_type": "code",
   "execution_count": 34,
   "id": "d0ba6150-a22c-4384-b109-4b43a2e6009c",
   "metadata": {},
   "outputs": [
    {
     "data": {
      "text/plain": [
       "'100.2'"
      ]
     },
     "execution_count": 34,
     "metadata": {},
     "output_type": "execute_result"
    }
   ],
   "source": [
    "str(number)"
   ]
  },
  {
   "cell_type": "code",
   "execution_count": 36,
   "id": "0faeb026-4484-4a0d-b142-7e727e1e14a6",
   "metadata": {},
   "outputs": [
    {
     "data": {
      "text/plain": [
       "(100, True, '100.2')"
      ]
     },
     "execution_count": 36,
     "metadata": {},
     "output_type": "execute_result"
    }
   ],
   "source": [
    "int(100.2),bool(100.2),str(100.2)"
   ]
  },
  {
   "cell_type": "code",
   "execution_count": 38,
   "id": "9a482ccb-f231-41ac-8151-0401062690b1",
   "metadata": {},
   "outputs": [
    {
     "name": "stdout",
     "output_type": "stream",
     "text": [
      "100\n",
      "True\n",
      "100.2\n"
     ]
    }
   ],
   "source": [
    "print(int(100.2))\n",
    "print(bool(100.2))\n",
    "print(str(100.2))"
   ]
  },
  {
   "cell_type": "code",
   "execution_count": 44,
   "id": "c75da66c-b577-45ed-bf18-5eab802b8b10",
   "metadata": {},
   "outputs": [
    {
     "name": "stdout",
     "output_type": "stream",
     "text": [
      "-100\n",
      "True\n",
      "-100.2\n"
     ]
    }
   ],
   "source": [
    "print(int(-100.2))\n",
    "print(bool(-100.2))\n",
    "print(str(-100.2))"
   ]
  },
  {
   "cell_type": "code",
   "execution_count": 40,
   "id": "85852af8-b186-4274-98a8-fb46ebf84f8f",
   "metadata": {},
   "outputs": [
    {
     "name": "stdout",
     "output_type": "stream",
     "text": [
      "0\n",
      "False\n",
      "0.0\n"
     ]
    }
   ],
   "source": [
    "print(int(0.0))\n",
    "print(bool(0.0))\n",
    "print(str(0.0))"
   ]
  },
  {
   "cell_type": "markdown",
   "id": "0f37949b-69dd-4234-a06c-72c1a3b75d08",
   "metadata": {},
   "source": [
    "**string to other data types**"
   ]
  },
  {
   "cell_type": "code",
   "execution_count": null,
   "id": "fd069625-8f52-4292-824c-8dcd2c14b7a7",
   "metadata": {},
   "outputs": [],
   "source": [
    "int('apple')  #not works\n",
    "float('apple') #not works\n",
    "bool('apple')  #works"
   ]
  },
  {
   "cell_type": "code",
   "execution_count": 47,
   "id": "7f11ba2f-6cd1-4d64-b0f8-2af9954f9b61",
   "metadata": {},
   "outputs": [
    {
     "data": {
      "text/plain": [
       "True"
      ]
     },
     "execution_count": 47,
     "metadata": {},
     "output_type": "execute_result"
    }
   ],
   "source": [
    "bool('apple')"
   ]
  },
  {
   "cell_type": "markdown",
   "id": "7d3c31e4-cfed-4ea6-9dc1-807aae233899",
   "metadata": {},
   "source": [
    "- True: ON, that is present\n",
    "- False:OFF, that is not present"
   ]
  },
  {
   "cell_type": "code",
   "execution_count": 49,
   "id": "e297d7d1-bb2d-407e-9ca9-492cfed8edcc",
   "metadata": {},
   "outputs": [
    {
     "data": {
      "text/plain": [
       "True"
      ]
     },
     "execution_count": 49,
     "metadata": {},
     "output_type": "execute_result"
    }
   ],
   "source": [
    "bool('0')"
   ]
  },
  {
   "cell_type": "code",
   "execution_count": 51,
   "id": "c0ccd786-b070-4e85-8e72-64c281638a5a",
   "metadata": {},
   "outputs": [
    {
     "data": {
      "text/plain": [
       "False"
      ]
     },
     "execution_count": 51,
     "metadata": {},
     "output_type": "execute_result"
    }
   ],
   "source": [
    "bool('')"
   ]
  },
  {
   "cell_type": "code",
   "execution_count": 53,
   "id": "f06a9ccc-cda6-45eb-b692-268cbc37713d",
   "metadata": {},
   "outputs": [
    {
     "data": {
      "text/plain": [
       "5"
      ]
     },
     "execution_count": 53,
     "metadata": {},
     "output_type": "execute_result"
    }
   ],
   "source": [
    "len('apple')"
   ]
  },
  {
   "cell_type": "code",
   "execution_count": 55,
   "id": "a0611d74-afe4-4f2c-98e6-62ed8d3e3847",
   "metadata": {},
   "outputs": [
    {
     "data": {
      "text/plain": [
       "1"
      ]
     },
     "execution_count": 55,
     "metadata": {},
     "output_type": "execute_result"
    }
   ],
   "source": [
    "len('0')"
   ]
  },
  {
   "cell_type": "markdown",
   "id": "2effe5e2-667b-46a0-93ae-e49311d57cac",
   "metadata": {},
   "source": [
    "- for number 0 and 0.0 boolean conversion gives **False**\n",
    "\n",
    "- for empty string boolean conversion gives **False**"
   ]
  },
  {
   "cell_type": "code",
   "execution_count": 69,
   "id": "ce9c57b6-1af8-4de1-b39c-ac6b59cd7eae",
   "metadata": {},
   "outputs": [
    {
     "data": {
      "text/plain": [
       "10"
      ]
     },
     "execution_count": 69,
     "metadata": {},
     "output_type": "execute_result"
    }
   ],
   "source": [
    "float('10')  #works 10.0\n",
    "bool('10')   #works True\n",
    "int('10')    #works 10"
   ]
  },
  {
   "cell_type": "code",
   "execution_count": 73,
   "id": "dd0609c6-eae2-488e-8575-c15d9fc35d49",
   "metadata": {},
   "outputs": [
    {
     "data": {
      "text/plain": [
       "10.0"
      ]
     },
     "execution_count": 73,
     "metadata": {},
     "output_type": "execute_result"
    }
   ],
   "source": [
    "float('apple')   #fail\n",
    "float('10')      #works"
   ]
  },
  {
   "cell_type": "markdown",
   "id": "48a62a4b-df00-421d-b4f9-c45c79ee9368",
   "metadata": {},
   "source": [
    "**object not callable**\n",
    "\n",
    "- python magic\n",
    "\n",
    "- either you need to open new notebook\n",
    "\n",
    "- or go to kernel and restart"
   ]
  },
  {
   "cell_type": "code",
   "execution_count": 75,
   "id": "d0019a80-cbc8-4902-bacc-b087bf143960",
   "metadata": {},
   "outputs": [
    {
     "data": {
      "text/plain": [
       "(10.0, True, 10)"
      ]
     },
     "execution_count": 75,
     "metadata": {},
     "output_type": "execute_result"
    }
   ],
   "source": [
    "float('10'), bool('10'), int('10')"
   ]
  },
  {
   "cell_type": "code",
   "execution_count": null,
   "id": "55b1c72e-6cb1-41c7-9324-992e765325fa",
   "metadata": {},
   "outputs": [],
   "source": [
    "float('10.5')\n",
    "bool('10.5')\n",
    "int('10.5')"
   ]
  },
  {
   "cell_type": "markdown",
   "id": "2d724169-9f0c-4ee2-8256-bae3b12250b8",
   "metadata": {},
   "source": [
    "**float is the boss**"
   ]
  },
  {
   "cell_type": "code",
   "execution_count": null,
   "id": "7f44b015-2ec7-4da4-bd06-a2d4bc038ec4",
   "metadata": {},
   "outputs": [],
   "source": [
    "float('10')  #works\n",
    "float'(10.5') #works\n",
    "\n",
    "int('10') #works\n",
    "int('10.5') #fail"
   ]
  },
  {
   "cell_type": "markdown",
   "id": "aa7842bd-4d3f-41ce-9d29-6cf3d2cb5d42",
   "metadata": {},
   "source": [
    "# boolean and other data types"
   ]
  },
  {
   "cell_type": "code",
   "execution_count": 83,
   "id": "b8c2c0f2-8077-43a8-8ceb-e7355a56562b",
   "metadata": {},
   "outputs": [
    {
     "data": {
      "text/plain": [
       "(1, 1.0, 'True', 0, 0.0, 'False')"
      ]
     },
     "execution_count": 83,
     "metadata": {},
     "output_type": "execute_result"
    }
   ],
   "source": [
    "int(True), float(True),str(True),int(False), float(False), str(False)   #all works "
   ]
  },
  {
   "cell_type": "code",
   "execution_count": null,
   "id": "0192a282-f85c-414f-aab6-f6e8b34aca6e",
   "metadata": {},
   "outputs": [],
   "source": []
  }
 ],
 "metadata": {
  "kernelspec": {
   "display_name": "Python [conda env:base] *",
   "language": "python",
   "name": "conda-base-py"
  },
  "language_info": {
   "codemirror_mode": {
    "name": "ipython",
    "version": 3
   },
   "file_extension": ".py",
   "mimetype": "text/x-python",
   "name": "python",
   "nbconvert_exporter": "python",
   "pygments_lexer": "ipython3",
   "version": "3.12.7"
  }
 },
 "nbformat": 4,
 "nbformat_minor": 5
}
