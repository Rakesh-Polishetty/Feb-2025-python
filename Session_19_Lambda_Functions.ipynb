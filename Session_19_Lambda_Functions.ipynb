{
 "cells": [
  {
   "cell_type": "markdown",
   "id": "cd6b963c-3c4f-4581-a5d0-b1a46487fd66",
   "metadata": {},
   "source": [
    "### Lambda functions \n",
    "\n",
    "- lambda functions represent functions in a single line\n",
    "\n",
    "- it is similar anology to list comprehension\n",
    "\n",
    "- to reduce the time complexity we will go for lambda functions"
   ]
  },
  {
   "cell_type": "markdown",
   "id": "1f1b8b25-f1aa-4227-9208-97df7f523603",
   "metadata": {},
   "source": [
    "$pattern-1$: **function with one arguement**"
   ]
  },
  {
   "cell_type": "code",
   "execution_count": 3,
   "id": "72c0ea87-ab27-4100-baad-a675cd581e21",
   "metadata": {},
   "outputs": [
    {
     "data": {
      "text/plain": [
       "100"
      ]
     },
     "execution_count": 3,
     "metadata": {},
     "output_type": "execute_result"
    }
   ],
   "source": [
    "def mul(a):\n",
    "    return(a*a)\n",
    "ans=mul(10)\n",
    "ans"
   ]
  },
  {
   "cell_type": "code",
   "execution_count": null,
   "id": "92b3de6c-c847-492c-b684-577b3c0516ba",
   "metadata": {},
   "outputs": [],
   "source": [
    "# syntax\n",
    "# function name= lambda <arguement> : <return output>"
   ]
  },
  {
   "cell_type": "code",
   "execution_count": 13,
   "id": "61b3d22a-b65d-4269-88ab-6bbac21a467d",
   "metadata": {},
   "outputs": [
    {
     "data": {
      "text/plain": [
       "441"
      ]
     },
     "execution_count": 13,
     "metadata": {},
     "output_type": "execute_result"
    }
   ],
   "source": [
    "mul=lambda a:a*a\n",
    "mul(21)"
   ]
  },
  {
   "cell_type": "code",
   "execution_count": 15,
   "id": "5a830923-8be1-48ec-aae7-5fe71d5e63d5",
   "metadata": {},
   "outputs": [
    {
     "data": {
      "text/plain": [
       "1000"
      ]
     },
     "execution_count": 15,
     "metadata": {},
     "output_type": "execute_result"
    }
   ],
   "source": [
    "cube=lambda a:a*a*a\n",
    "cube(10)"
   ]
  },
  {
   "cell_type": "markdown",
   "id": "208fb59e-dc84-4f42-b005-6bb02b979ef2",
   "metadata": {},
   "source": [
    "$pattern-2$: **function with two arguements**"
   ]
  },
  {
   "cell_type": "code",
   "execution_count": 19,
   "id": "8d1da4cc-42bf-415b-bc9c-034c91528172",
   "metadata": {},
   "outputs": [
    {
     "data": {
      "text/plain": [
       "110"
      ]
     },
     "execution_count": 19,
     "metadata": {},
     "output_type": "execute_result"
    }
   ],
   "source": [
    "def add(a,b):\n",
    "    return(a+b)\n",
    "add(10,100)"
   ]
  },
  {
   "cell_type": "code",
   "execution_count": null,
   "id": "92207d26-d7db-4614-bb21-ec86e9e67462",
   "metadata": {},
   "outputs": [],
   "source": [
    "# syntax\n",
    "# function name= lambda <arg1,arg2> : <return_statement>"
   ]
  },
  {
   "cell_type": "code",
   "execution_count": 21,
   "id": "04719d59-c68f-451b-9ee1-af7dfc14b2dd",
   "metadata": {},
   "outputs": [
    {
     "data": {
      "text/plain": [
       "50"
      ]
     },
     "execution_count": 21,
     "metadata": {},
     "output_type": "execute_result"
    }
   ],
   "source": [
    "add=lambda a,b:a+b\n",
    "add(20,30)"
   ]
  },
  {
   "cell_type": "markdown",
   "id": "43a0b5c9-0ffc-48cb-a511-a3b7af03d7d8",
   "metadata": {},
   "source": [
    "$pattern-3$: **function with three arguements**"
   ]
  },
  {
   "cell_type": "code",
   "execution_count": 39,
   "id": "7877adf4-e6c2-4f72-a255-2fbaff187455",
   "metadata": {},
   "outputs": [
    {
     "data": {
      "text/plain": [
       "59.33"
      ]
     },
     "execution_count": 39,
     "metadata": {},
     "output_type": "execute_result"
    }
   ],
   "source": [
    "avg=lambda a,b,c:round((a+b+c)/3,2)\n",
    "avg(34,44,100)"
   ]
  },
  {
   "cell_type": "markdown",
   "id": "9b8e4afe-e2e1-4f48-9a9b-2e16f2afd1ec",
   "metadata": {},
   "source": [
    "$pattern-4$: **function with default arguements**"
   ]
  },
  {
   "cell_type": "code",
   "execution_count": 51,
   "id": "76cc2c2d-4edf-402b-a8c5-4eaac182e091",
   "metadata": {},
   "outputs": [
    {
     "data": {
      "text/plain": [
       "103.33"
      ]
     },
     "execution_count": 51,
     "metadata": {},
     "output_type": "execute_result"
    }
   ],
   "source": [
    "avg=lambda a,b,c=30:round((a+b+c)/3,2)\n",
    "avg(37,243)"
   ]
  },
  {
   "cell_type": "code",
   "execution_count": 53,
   "id": "e228a9d7-25d9-4913-9d39-8e9f955724dc",
   "metadata": {},
   "outputs": [
    {
     "name": "stdout",
     "output_type": "stream",
     "text": [
      "===================================function with one arguement================================\n",
      "441\n",
      "===================================function with two arguements================================\n",
      "50\n",
      "===================================function with three arguements================================\n",
      "59.33\n",
      "===================================function with default arguements================================\n",
      "103.33\n"
     ]
    }
   ],
   "source": [
    "print('===================================function with one arguement================================')\n",
    "mul=lambda a:a*a\n",
    "print(mul(21))\n",
    "print('===================================function with two arguements================================')\n",
    "add=lambda a,b:a+b\n",
    "print(add(20,30))\n",
    "print('===================================function with three arguements================================')\n",
    "avg=lambda a,b,c:round((a+b+c)/3,2)\n",
    "print(avg(34,44,100))\n",
    "print('===================================function with default arguements================================')\n",
    "avg=lambda a,b,c=30:round((a+b+c)/3,2)\n",
    "print(avg(37,243))"
   ]
  },
  {
   "cell_type": "markdown",
   "id": "5fd1cb95-a3be-4e65-9546-690190958661",
   "metadata": {},
   "source": [
    "**$Pattern-5$:**"
   ]
  },
  {
   "cell_type": "code",
   "execution_count": 59,
   "id": "37b933e3-124d-4431-98a2-421fecf98c5f",
   "metadata": {},
   "outputs": [
    {
     "data": {
      "text/plain": [
       "['Hyd', 'Bengaluru', 'Mumbai', 'Pune']"
      ]
     },
     "execution_count": 59,
     "metadata": {},
     "output_type": "execute_result"
    }
   ],
   "source": [
    "input=['hyd','bengaluru','mumbai','pune']\n",
    "output=[]\n",
    "for i in input:\n",
    "    output.append(i.capitalize())\n",
    "output"
   ]
  },
  {
   "cell_type": "code",
   "execution_count": 63,
   "id": "a7e0c4dd-ee62-4ffa-aeee-de4adf9ca401",
   "metadata": {},
   "outputs": [
    {
     "data": {
      "text/plain": [
       "['Hyd', 'Bengaluru', 'Mumbai', 'Pune']"
      ]
     },
     "execution_count": 63,
     "metadata": {},
     "output_type": "execute_result"
    }
   ],
   "source": [
    "output=[i.capitalize() for i in input]\n",
    "output"
   ]
  },
  {
   "cell_type": "code",
   "execution_count": 67,
   "id": "b65b359a-0ad2-4e3e-b273-121e08d29925",
   "metadata": {},
   "outputs": [
    {
     "data": {
      "text/plain": [
       "<function __main__.<lambda>(i)>"
      ]
     },
     "execution_count": 67,
     "metadata": {},
     "output_type": "execute_result"
    }
   ],
   "source": [
    "# step-1: lambda <variable> : <output>\n",
    "lambda i: i.capitalize()"
   ]
  },
  {
   "cell_type": "code",
   "execution_count": 69,
   "id": "558d7cc4-5a2f-462a-9b08-4be95a35da44",
   "metadata": {},
   "outputs": [
    {
     "data": {
      "text/plain": [
       "(<function __main__.<lambda>(i)>, ['hyd', 'bengaluru', 'mumbai', 'pune'])"
      ]
     },
     "execution_count": 69,
     "metadata": {},
     "output_type": "execute_result"
    }
   ],
   "source": [
    "# step-1: lambda <variable> : <output>\n",
    "# step-2: lambda <variable> : <output>, <iterator>\n",
    "lambda i : i.capitalize(), input"
   ]
  },
  {
   "cell_type": "markdown",
   "id": "97733428-dd8d-44b3-a95c-af58a8ebf52d",
   "metadata": {},
   "source": [
    "### **map**"
   ]
  },
  {
   "cell_type": "code",
   "execution_count": 74,
   "id": "71873d30-89b1-433e-a979-43499d7e3d64",
   "metadata": {},
   "outputs": [
    {
     "data": {
      "text/plain": [
       "<map at 0x16a8ef37880>"
      ]
     },
     "execution_count": 74,
     "metadata": {},
     "output_type": "execute_result"
    }
   ],
   "source": [
    "# step-1: lambda <variable> : <output>\n",
    "# step-2: lambda <variable> : <output>, <iterator>\n",
    "# step-3: map(lambda <variable> : <output>, <iterator>)\n",
    "map(lambda i : i.capitalize(), input)"
   ]
  },
  {
   "cell_type": "code",
   "execution_count": 76,
   "id": "aea00cde-53a2-43d1-a8da-8da6d78cf32e",
   "metadata": {},
   "outputs": [
    {
     "data": {
      "text/plain": [
       "['Hyd', 'Bengaluru', 'Mumbai', 'Pune']"
      ]
     },
     "execution_count": 76,
     "metadata": {},
     "output_type": "execute_result"
    }
   ],
   "source": [
    "# step-1: lambda <variable> : <output>\n",
    "# step-2: lambda <variable> : <output>, <iterator>\n",
    "# step-3: map(lambda <variable> : <output>, <iterator>)\n",
    "# step-4: list(map(lambda <variable> : <output>, <iterator>))\n",
    "list(map(lambda i : i.capitalize(), input))"
   ]
  },
  {
   "cell_type": "code",
   "execution_count": 78,
   "id": "69487d67-dc23-4519-a9a7-4212ff2fd1ca",
   "metadata": {},
   "outputs": [
    {
     "data": {
      "text/plain": [
       "['Hyd', 'Bengaluru', 'Mumbai', 'Pune']"
      ]
     },
     "execution_count": 78,
     "metadata": {},
     "output_type": "execute_result"
    }
   ],
   "source": [
    "lambda i: i.capitalize()\n",
    "lambda i : i.capitalize(), input\n",
    "map(lambda i : i.capitalize(), input)\n",
    "list(map(lambda i : i.capitalize(), input))"
   ]
  },
  {
   "cell_type": "code",
   "execution_count": 86,
   "id": "9f4835d6-a4fa-4044-832e-abd66576e6dc",
   "metadata": {},
   "outputs": [
    {
     "data": {
      "text/plain": [
       "['HYD', 'BENGALURU', 'MUMBAI', 'PUNE']"
      ]
     },
     "execution_count": 86,
     "metadata": {},
     "output_type": "execute_result"
    }
   ],
   "source": [
    "# Q1)\n",
    "input=['hyd','bengaluru','mumbai','pune']\n",
    "output=list(map(lambda i : i.upper(), input))\n",
    "output"
   ]
  },
  {
   "cell_type": "code",
   "execution_count": 88,
   "id": "12d2139c-5057-46c1-9403-1c3d219e491b",
   "metadata": {},
   "outputs": [
    {
     "data": {
      "text/plain": [
       "[0, 1, 2, 3]"
      ]
     },
     "execution_count": 88,
     "metadata": {},
     "output_type": "execute_result"
    }
   ],
   "source": [
    "# Q2)\n",
    "output=list(map(lambda i : input.index(i), input))\n",
    "output"
   ]
  },
  {
   "cell_type": "code",
   "execution_count": 92,
   "id": "b5828aca-4f00-4bf4-97a5-8e4e4913e91a",
   "metadata": {},
   "outputs": [
    {
     "data": {
      "text/plain": [
       "['Hello', 'How', 'Are', 'You']"
      ]
     },
     "execution_count": 92,
     "metadata": {},
     "output_type": "execute_result"
    }
   ],
   "source": [
    "# Q3)\n",
    "input='hello how are you'\n",
    "l=input.split()\n",
    "output=list(map(lambda i : i.capitalize(),l))\n",
    "output"
   ]
  },
  {
   "cell_type": "markdown",
   "id": "dea9f09d-dc38-4c67-9d7c-6a295fc28539",
   "metadata": {},
   "source": [
    "#### lambda arg : condition,iterator"
   ]
  },
  {
   "cell_type": "code",
   "execution_count": 132,
   "id": "b888d134-c00d-4d4f-bf62-5f209f6d1ad7",
   "metadata": {},
   "outputs": [
    {
     "data": {
      "text/plain": [
       "[False, True, False, True]"
      ]
     },
     "execution_count": 132,
     "metadata": {},
     "output_type": "execute_result"
    }
   ],
   "source": [
    "# Q4)\n",
    "input=['hyd','beng#aluru','mumbai','pu#ne']\n",
    "output=list(map(lambda i :'#' in i,input))\n",
    "output"
   ]
  },
  {
   "cell_type": "markdown",
   "id": "07c7c043-52c4-4c5b-a3db-46d1b9a5d48d",
   "metadata": {},
   "source": [
    "### **Filter**\n",
    "\n",
    "- filter is applied on lambda functions to retrive the True output\n",
    "\n",
    "- map will just map the function and iterator\n",
    "\n",
    "- when we apply condition map will give True False\n",
    "\n",
    "- filter will use instead of map"
   ]
  },
  {
   "cell_type": "code",
   "execution_count": 137,
   "id": "1b3d7d6c-5c23-4085-8b8e-139bde07e5aa",
   "metadata": {},
   "outputs": [
    {
     "data": {
      "text/plain": [
       "['beng#aluru', 'pu#ne']"
      ]
     },
     "execution_count": 137,
     "metadata": {},
     "output_type": "execute_result"
    }
   ],
   "source": [
    "# Q4)\n",
    "input=['hyd','beng#aluru','mumbai','pu#ne']\n",
    "output=list(filter(lambda i :'#' in i,input))\n",
    "output"
   ]
  },
  {
   "cell_type": "code",
   "execution_count": 141,
   "id": "69f4ca93-29d3-49df-b61d-dd84529ae3a1",
   "metadata": {},
   "outputs": [
    {
     "data": {
      "text/plain": [
       "['hyd', 'mumbai']"
      ]
     },
     "execution_count": 141,
     "metadata": {},
     "output_type": "execute_result"
    }
   ],
   "source": [
    "# Q5)\n",
    "input=['hyd','beng#aluru','mumbai','pu#ne']\n",
    "output=list(filter(lambda i :'#' not in i,input))\n",
    "output"
   ]
  },
  {
   "cell_type": "markdown",
   "id": "15c3615a-74a0-4e85-b1bd-e4ed7e6c1efd",
   "metadata": {},
   "source": [
    "### **reduce**\n",
    "\n",
    "- reduce will be helpful to perform math operations using lambda functions\n",
    "\n",
    "- it is a method under a package called : **functools**"
   ]
  },
  {
   "cell_type": "code",
   "execution_count": 146,
   "id": "44d4c201-a1ae-4f21-91fc-2b163b4fe3b0",
   "metadata": {},
   "outputs": [
    {
     "data": {
      "text/plain": [
       "['GenericAlias',\n",
       " 'RLock',\n",
       " 'WRAPPER_ASSIGNMENTS',\n",
       " 'WRAPPER_UPDATES',\n",
       " '_CacheInfo',\n",
       " '_HashedSeq',\n",
       " '_NOT_FOUND',\n",
       " '__all__',\n",
       " '__builtins__',\n",
       " '__cached__',\n",
       " '__doc__',\n",
       " '__file__',\n",
       " '__loader__',\n",
       " '__name__',\n",
       " '__package__',\n",
       " '__spec__',\n",
       " '_c3_merge',\n",
       " '_c3_mro',\n",
       " '_compose_mro',\n",
       " '_convert',\n",
       " '_find_impl',\n",
       " '_ge_from_gt',\n",
       " '_ge_from_le',\n",
       " '_ge_from_lt',\n",
       " '_gt_from_ge',\n",
       " '_gt_from_le',\n",
       " '_gt_from_lt',\n",
       " '_initial_missing',\n",
       " '_le_from_ge',\n",
       " '_le_from_gt',\n",
       " '_le_from_lt',\n",
       " '_lru_cache_wrapper',\n",
       " '_lt_from_ge',\n",
       " '_lt_from_gt',\n",
       " '_lt_from_le',\n",
       " '_make_key',\n",
       " '_unwrap_partial',\n",
       " 'cache',\n",
       " 'cached_property',\n",
       " 'cmp_to_key',\n",
       " 'get_cache_token',\n",
       " 'lru_cache',\n",
       " 'namedtuple',\n",
       " 'partial',\n",
       " 'partialmethod',\n",
       " 'recursive_repr',\n",
       " 'reduce',\n",
       " 'singledispatch',\n",
       " 'singledispatchmethod',\n",
       " 'total_ordering',\n",
       " 'update_wrapper',\n",
       " 'wraps']"
      ]
     },
     "execution_count": 146,
     "metadata": {},
     "output_type": "execute_result"
    }
   ],
   "source": [
    "import functools\n",
    "dir(functools)"
   ]
  },
  {
   "cell_type": "code",
   "execution_count": 148,
   "id": "36f16b4d-634b-4d42-81b5-7ccc002d0f74",
   "metadata": {},
   "outputs": [
    {
     "data": {
      "text/plain": [
       "15"
      ]
     },
     "execution_count": 148,
     "metadata": {},
     "output_type": "execute_result"
    }
   ],
   "source": [
    "list1=[1,2,3,4,5]\n",
    "sum(list1)"
   ]
  },
  {
   "cell_type": "code",
   "execution_count": 150,
   "id": "ea6d964c-b032-4675-aef0-63e93452b416",
   "metadata": {},
   "outputs": [
    {
     "name": "stdout",
     "output_type": "stream",
     "text": [
      "15\n"
     ]
    }
   ],
   "source": [
    "list1=[1,2,3,4,5]\n",
    "summ=0\n",
    "for i in list1:\n",
    "    summ=summ+i\n",
    "print(summ)"
   ]
  },
  {
   "cell_type": "code",
   "execution_count": 158,
   "id": "8c2c28ba-4161-4e33-8d07-94a589fd5e36",
   "metadata": {},
   "outputs": [
    {
     "data": {
      "text/plain": [
       "15"
      ]
     },
     "execution_count": 158,
     "metadata": {},
     "output_type": "execute_result"
    }
   ],
   "source": [
    "from functools import reduce\n",
    "list1=[1,2,3,4,5]\n",
    "lambda summ,i:summ+i\n",
    "lambda summ,i:summ+i,list1\n",
    "reduce(lambda summ,i:summ+i,list1)"
   ]
  },
  {
   "cell_type": "code",
   "execution_count": 174,
   "id": "9aa2b6ed-4c07-4d8f-a6cc-3b99110f4315",
   "metadata": {},
   "outputs": [
    {
     "data": {
      "text/plain": [
       "215"
      ]
     },
     "execution_count": 174,
     "metadata": {},
     "output_type": "execute_result"
    }
   ],
   "source": [
    "from functools import reduce\n",
    "list1=[1,2,3,4,5]\n",
    "\n",
    "lambda summ,i:summ+i\n",
    "\n",
    "lambda summ,i:summ+i,list1\n",
    "\n",
    "lambda summ,i:summ+i,list1,200\n",
    "\n",
    "reduce(lambda summ,i:summ+i,list1,200)"
   ]
  },
  {
   "cell_type": "code",
   "execution_count": null,
   "id": "eab0f93c-906d-40bd-a08c-37077f062660",
   "metadata": {},
   "outputs": [],
   "source": []
  }
 ],
 "metadata": {
  "kernelspec": {
   "display_name": "Python [conda env:base] *",
   "language": "python",
   "name": "conda-base-py"
  },
  "language_info": {
   "codemirror_mode": {
    "name": "ipython",
    "version": 3
   },
   "file_extension": ".py",
   "mimetype": "text/x-python",
   "name": "python",
   "nbconvert_exporter": "python",
   "pygments_lexer": "ipython3",
   "version": "3.12.7"
  }
 },
 "nbformat": 4,
 "nbformat_minor": 5
}
