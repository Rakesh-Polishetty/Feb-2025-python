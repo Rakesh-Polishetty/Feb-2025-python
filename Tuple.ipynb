{
 "cells": [
  {
   "cell_type": "markdown",
   "id": "8cf066ad-02cf-4a50-9ce4-c5edd92f1a10",
   "metadata": {},
   "source": [
    "## Tuple"
   ]
  },
  {
   "cell_type": "markdown",
   "id": "c61b1bfb-2b14-410e-bfd5-ad5b4310d269",
   "metadata": {},
   "source": [
    "**Basic Representation**\n",
    "\n",
    "- tuple elements are in **paranthesis**\n",
    "\n",
    "- Heterogeneous in nature,tuple in tuple,list in tuple,string in tuple possible"
   ]
  },
  {
   "cell_type": "code",
   "execution_count": 4,
   "id": "41d616f2-ea40-4794-8ef2-4507326584ed",
   "metadata": {},
   "outputs": [
    {
     "data": {
      "text/plain": [
       "(1, 2, 3)"
      ]
     },
     "execution_count": 4,
     "metadata": {},
     "output_type": "execute_result"
    }
   ],
   "source": [
    "t1=(1,2,3)\n",
    "t1"
   ]
  },
  {
   "cell_type": "code",
   "execution_count": 6,
   "id": "b50a56ee-9a2c-4b72-bf36-27771bfebd70",
   "metadata": {},
   "outputs": [
    {
     "data": {
      "text/plain": [
       "('A', 'B', 'C')"
      ]
     },
     "execution_count": 6,
     "metadata": {},
     "output_type": "execute_result"
    }
   ],
   "source": [
    "t2=('A','B','C')\n",
    "t2"
   ]
  },
  {
   "cell_type": "code",
   "execution_count": 8,
   "id": "b7a2f452-5efb-4d87-a977-fcb7707edc92",
   "metadata": {},
   "outputs": [
    {
     "data": {
      "text/plain": [
       "(1, 'A', [1, 2, 3], (4, 5, 6))"
      ]
     },
     "execution_count": 8,
     "metadata": {},
     "output_type": "execute_result"
    }
   ],
   "source": [
    "t3=(1,'A',[1,2,3],(4,5,6))\n",
    "t3"
   ]
  },
  {
   "cell_type": "code",
   "execution_count": 12,
   "id": "734c9ad0-e795-490c-9e62-20f0b340e8d5",
   "metadata": {},
   "outputs": [
    {
     "data": {
      "text/plain": [
       "(4, 5, 6)"
      ]
     },
     "execution_count": 12,
     "metadata": {},
     "output_type": "execute_result"
    }
   ],
   "source": [
    "t3[3]"
   ]
  },
  {
   "cell_type": "markdown",
   "id": "2168e321-4ccb-4a75-8d8c-e39209a6543f",
   "metadata": {},
   "source": [
    "**inbuilt functions**"
   ]
  },
  {
   "cell_type": "markdown",
   "id": "f51e451c-6677-42fa-97b0-a138e6a23cca",
   "metadata": {},
   "source": [
    "- print"
   ]
  },
  {
   "cell_type": "code",
   "execution_count": 57,
   "id": "d5de6c54-434d-4f85-9933-eafcfa655b0f",
   "metadata": {},
   "outputs": [
    {
     "name": "stdout",
     "output_type": "stream",
     "text": [
      "(1, 2, 3)\n"
     ]
    }
   ],
   "source": [
    "t1=(1,2,3)\n",
    "print(t1)"
   ]
  },
  {
   "cell_type": "code",
   "execution_count": 59,
   "id": "4e4459af-b619-40c2-826d-be0445e78bee",
   "metadata": {},
   "outputs": [
    {
     "name": "stdout",
     "output_type": "stream",
     "text": [
      "('A', 'B', 'C')\n"
     ]
    }
   ],
   "source": [
    "t2=('A','B','C')\n",
    "print(t2)"
   ]
  },
  {
   "cell_type": "code",
   "execution_count": 61,
   "id": "157038cd-47a1-4bbb-8797-fcbea897d782",
   "metadata": {},
   "outputs": [
    {
     "name": "stdout",
     "output_type": "stream",
     "text": [
      "(1, 'A', [1, 2, 3], (4, 5, 6))\n"
     ]
    }
   ],
   "source": [
    "t3=(1,'A',[1,2,3],(4,5,6))\n",
    "print(t3)"
   ]
  },
  {
   "cell_type": "markdown",
   "id": "06fd92fa-04ce-49e8-9e37-ea62b5adb58a",
   "metadata": {},
   "source": [
    "- type"
   ]
  },
  {
   "cell_type": "code",
   "execution_count": 18,
   "id": "52dc2109-988a-4b9d-a6b7-7f81f6ecc7c6",
   "metadata": {},
   "outputs": [
    {
     "data": {
      "text/plain": [
       "tuple"
      ]
     },
     "execution_count": 18,
     "metadata": {},
     "output_type": "execute_result"
    }
   ],
   "source": [
    "t2=('A','B','C')\n",
    "type(t2)"
   ]
  },
  {
   "cell_type": "code",
   "execution_count": 20,
   "id": "dd0524af-347b-4835-984e-71411ee8be50",
   "metadata": {},
   "outputs": [
    {
     "data": {
      "text/plain": [
       "tuple"
      ]
     },
     "execution_count": 20,
     "metadata": {},
     "output_type": "execute_result"
    }
   ],
   "source": [
    "t3=(1,'A',[1,2,3],(4,5,6))\n",
    "type(t3)"
   ]
  },
  {
   "cell_type": "markdown",
   "id": "99b3a79c-ccec-4e34-bac2-8f814d2e6556",
   "metadata": {},
   "source": [
    "- len"
   ]
  },
  {
   "cell_type": "code",
   "execution_count": 24,
   "id": "d65d75bb-f714-449f-bd9a-78e3d4196e9a",
   "metadata": {},
   "outputs": [
    {
     "data": {
      "text/plain": [
       "4"
      ]
     },
     "execution_count": 24,
     "metadata": {},
     "output_type": "execute_result"
    }
   ],
   "source": [
    "t3=(1,'A',[1,2,3],(4,5,6))\n",
    "len(t3)"
   ]
  },
  {
   "cell_type": "code",
   "execution_count": 28,
   "id": "294a83dc-70d4-4b0b-9978-e09a8129a3f7",
   "metadata": {},
   "outputs": [
    {
     "data": {
      "text/plain": [
       "3"
      ]
     },
     "execution_count": 28,
     "metadata": {},
     "output_type": "execute_result"
    }
   ],
   "source": [
    "t2=('A','B','C')\n",
    "len(t2)"
   ]
  },
  {
   "cell_type": "markdown",
   "id": "a20a104e-bbc8-46e4-b39a-ffa4f830c660",
   "metadata": {},
   "source": [
    "- min"
   ]
  },
  {
   "cell_type": "code",
   "execution_count": 35,
   "id": "7b11e8bd-c7ca-4dc7-8960-5853fdc8ea14",
   "metadata": {},
   "outputs": [
    {
     "data": {
      "text/plain": [
       "'A'"
      ]
     },
     "execution_count": 35,
     "metadata": {},
     "output_type": "execute_result"
    }
   ],
   "source": [
    "t2=('A','B','C')\n",
    "min(t2)"
   ]
  },
  {
   "cell_type": "code",
   "execution_count": 37,
   "id": "544cfb52-f1d4-4515-a99e-536b597f43e2",
   "metadata": {},
   "outputs": [
    {
     "data": {
      "text/plain": [
       "1"
      ]
     },
     "execution_count": 37,
     "metadata": {},
     "output_type": "execute_result"
    }
   ],
   "source": [
    "t1=(1,2,3)\n",
    "min(t1)"
   ]
  },
  {
   "cell_type": "code",
   "execution_count": 41,
   "id": "9c57233b-a20e-42cd-b17c-19fd6e852596",
   "metadata": {},
   "outputs": [
    {
     "ename": "TypeError",
     "evalue": "'<' not supported between instances of 'str' and 'int'",
     "output_type": "error",
     "traceback": [
      "\u001b[1;31m---------------------------------------------------------------------------\u001b[0m",
      "\u001b[1;31mTypeError\u001b[0m                                 Traceback (most recent call last)",
      "Cell \u001b[1;32mIn[41], line 2\u001b[0m\n\u001b[0;32m      1\u001b[0m t3\u001b[38;5;241m=\u001b[39m(\u001b[38;5;241m1\u001b[39m,\u001b[38;5;124m'\u001b[39m\u001b[38;5;124mA\u001b[39m\u001b[38;5;124m'\u001b[39m,[\u001b[38;5;241m1\u001b[39m,\u001b[38;5;241m2\u001b[39m,\u001b[38;5;241m3\u001b[39m],(\u001b[38;5;241m4\u001b[39m,\u001b[38;5;241m5\u001b[39m,\u001b[38;5;241m6\u001b[39m))\n\u001b[1;32m----> 2\u001b[0m \u001b[38;5;28mmin\u001b[39m(t3)\n",
      "\u001b[1;31mTypeError\u001b[0m: '<' not supported between instances of 'str' and 'int'"
     ]
    }
   ],
   "source": [
    "t3=(1,'A',[1,2,3],(4,5,6))\n",
    "min(t3)"
   ]
  },
  {
   "cell_type": "markdown",
   "id": "4993bd49-2b43-43a2-b443-5cf0fb821f01",
   "metadata": {},
   "source": [
    "- max"
   ]
  },
  {
   "cell_type": "code",
   "execution_count": 43,
   "id": "f9575c5f-a4a5-41a8-b2a3-59f9ccf8d267",
   "metadata": {},
   "outputs": [
    {
     "data": {
      "text/plain": [
       "3"
      ]
     },
     "execution_count": 43,
     "metadata": {},
     "output_type": "execute_result"
    }
   ],
   "source": [
    "t1=(1,2,3)\n",
    "max(t1)"
   ]
  },
  {
   "cell_type": "code",
   "execution_count": 45,
   "id": "f9061dd5-8c22-41dc-b634-d20d9b1ed92e",
   "metadata": {},
   "outputs": [
    {
     "data": {
      "text/plain": [
       "'C'"
      ]
     },
     "execution_count": 45,
     "metadata": {},
     "output_type": "execute_result"
    }
   ],
   "source": [
    "t2=('A','B','C')\n",
    "max(t2)"
   ]
  },
  {
   "cell_type": "code",
   "execution_count": 48,
   "id": "543e5e9d-c2aa-4bcc-a5b7-ea3fde11baef",
   "metadata": {},
   "outputs": [
    {
     "ename": "TypeError",
     "evalue": "'>' not supported between instances of 'str' and 'int'",
     "output_type": "error",
     "traceback": [
      "\u001b[1;31m---------------------------------------------------------------------------\u001b[0m",
      "\u001b[1;31mTypeError\u001b[0m                                 Traceback (most recent call last)",
      "Cell \u001b[1;32mIn[48], line 2\u001b[0m\n\u001b[0;32m      1\u001b[0m t3\u001b[38;5;241m=\u001b[39m(\u001b[38;5;241m1\u001b[39m,\u001b[38;5;124m'\u001b[39m\u001b[38;5;124mA\u001b[39m\u001b[38;5;124m'\u001b[39m,[\u001b[38;5;241m1\u001b[39m,\u001b[38;5;241m2\u001b[39m,\u001b[38;5;241m3\u001b[39m],(\u001b[38;5;241m4\u001b[39m,\u001b[38;5;241m5\u001b[39m,\u001b[38;5;241m6\u001b[39m))\n\u001b[1;32m----> 2\u001b[0m \u001b[38;5;28mmax\u001b[39m(t3)\n",
      "\u001b[1;31mTypeError\u001b[0m: '>' not supported between instances of 'str' and 'int'"
     ]
    }
   ],
   "source": [
    "t3=(1,'A',[1,2,3],(4,5,6))\n",
    "max(t3)"
   ]
  },
  {
   "cell_type": "markdown",
   "id": "a32ca28a-0760-4652-b942-147effd3e6d7",
   "metadata": {},
   "source": [
    "- sum"
   ]
  },
  {
   "cell_type": "code",
   "execution_count": 51,
   "id": "5c829a79-aa85-4fbd-b432-2e850a9262d9",
   "metadata": {},
   "outputs": [
    {
     "data": {
      "text/plain": [
       "6"
      ]
     },
     "execution_count": 51,
     "metadata": {},
     "output_type": "execute_result"
    }
   ],
   "source": [
    "t1=(1,2,3)\n",
    "sum(t1)"
   ]
  },
  {
   "cell_type": "code",
   "execution_count": 53,
   "id": "f88e1ad6-a6e9-407c-af2b-bfcac3e2bc5e",
   "metadata": {},
   "outputs": [
    {
     "ename": "TypeError",
     "evalue": "unsupported operand type(s) for +: 'int' and 'str'",
     "output_type": "error",
     "traceback": [
      "\u001b[1;31m---------------------------------------------------------------------------\u001b[0m",
      "\u001b[1;31mTypeError\u001b[0m                                 Traceback (most recent call last)",
      "Cell \u001b[1;32mIn[53], line 2\u001b[0m\n\u001b[0;32m      1\u001b[0m t2\u001b[38;5;241m=\u001b[39m(\u001b[38;5;124m'\u001b[39m\u001b[38;5;124mA\u001b[39m\u001b[38;5;124m'\u001b[39m,\u001b[38;5;124m'\u001b[39m\u001b[38;5;124mB\u001b[39m\u001b[38;5;124m'\u001b[39m,\u001b[38;5;124m'\u001b[39m\u001b[38;5;124mC\u001b[39m\u001b[38;5;124m'\u001b[39m)\n\u001b[1;32m----> 2\u001b[0m \u001b[38;5;28msum\u001b[39m(t2)\n",
      "\u001b[1;31mTypeError\u001b[0m: unsupported operand type(s) for +: 'int' and 'str'"
     ]
    }
   ],
   "source": [
    "t2=('A','B','C')\n",
    "sum(t2)"
   ]
  },
  {
   "cell_type": "code",
   "execution_count": 64,
   "id": "3edfd5f2-a6cc-49d2-96ff-3a66b5b184f9",
   "metadata": {},
   "outputs": [
    {
     "ename": "TypeError",
     "evalue": "unsupported operand type(s) for +: 'int' and 'str'",
     "output_type": "error",
     "traceback": [
      "\u001b[1;31m---------------------------------------------------------------------------\u001b[0m",
      "\u001b[1;31mTypeError\u001b[0m                                 Traceback (most recent call last)",
      "Cell \u001b[1;32mIn[64], line 2\u001b[0m\n\u001b[0;32m      1\u001b[0m t3\u001b[38;5;241m=\u001b[39m(\u001b[38;5;241m1\u001b[39m,\u001b[38;5;124m'\u001b[39m\u001b[38;5;124mA\u001b[39m\u001b[38;5;124m'\u001b[39m,[\u001b[38;5;241m1\u001b[39m,\u001b[38;5;241m2\u001b[39m,\u001b[38;5;241m3\u001b[39m],(\u001b[38;5;241m4\u001b[39m,\u001b[38;5;241m5\u001b[39m,\u001b[38;5;241m6\u001b[39m))\n\u001b[1;32m----> 2\u001b[0m \u001b[38;5;28msum\u001b[39m(t3)\n",
      "\u001b[1;31mTypeError\u001b[0m: unsupported operand type(s) for +: 'int' and 'str'"
     ]
    }
   ],
   "source": [
    "t3=(1,'A',[1,2,3],(4,5,6))\n",
    "sum(t3)"
   ]
  },
  {
   "cell_type": "markdown",
   "id": "2e9f5a27-b511-458f-8cb2-0722f737a2d2",
   "metadata": {},
   "source": [
    "- sorted"
   ]
  },
  {
   "cell_type": "code",
   "execution_count": 67,
   "id": "11b3b1c7-ba65-415e-9062-adec12e584b2",
   "metadata": {},
   "outputs": [
    {
     "data": {
      "text/plain": [
       "[0, 1, 2, 3, 52, 74, 112, 2025]"
      ]
     },
     "execution_count": 67,
     "metadata": {},
     "output_type": "execute_result"
    }
   ],
   "source": [
    "t1=(74,52,0,1,2,3,112,2025)\n",
    "sorted(t1)"
   ]
  },
  {
   "cell_type": "code",
   "execution_count": 69,
   "id": "5053d19f-43f3-4911-a376-1469eeeb648d",
   "metadata": {},
   "outputs": [
    {
     "data": {
      "text/plain": [
       "['A', 'B', 'C', 'C', 'M', 'Y', 'Z']"
      ]
     },
     "execution_count": 69,
     "metadata": {},
     "output_type": "execute_result"
    }
   ],
   "source": [
    "t2=('A','Z','Y','M','C','B','C')\n",
    "sorted(t2)"
   ]
  },
  {
   "cell_type": "code",
   "execution_count": 71,
   "id": "7f28cfee-1cf3-40aa-82f1-a1a07a14b1d9",
   "metadata": {},
   "outputs": [
    {
     "ename": "TypeError",
     "evalue": "'<' not supported between instances of 'str' and 'int'",
     "output_type": "error",
     "traceback": [
      "\u001b[1;31m---------------------------------------------------------------------------\u001b[0m",
      "\u001b[1;31mTypeError\u001b[0m                                 Traceback (most recent call last)",
      "Cell \u001b[1;32mIn[71], line 2\u001b[0m\n\u001b[0;32m      1\u001b[0m t3\u001b[38;5;241m=\u001b[39m(\u001b[38;5;241m1\u001b[39m,\u001b[38;5;124m'\u001b[39m\u001b[38;5;124mA\u001b[39m\u001b[38;5;124m'\u001b[39m,[\u001b[38;5;241m1\u001b[39m,\u001b[38;5;241m2\u001b[39m,\u001b[38;5;241m3\u001b[39m],(\u001b[38;5;241m4\u001b[39m,\u001b[38;5;241m5\u001b[39m,\u001b[38;5;241m6\u001b[39m))\n\u001b[1;32m----> 2\u001b[0m \u001b[38;5;28msorted\u001b[39m(t3)\n",
      "\u001b[1;31mTypeError\u001b[0m: '<' not supported between instances of 'str' and 'int'"
     ]
    }
   ],
   "source": [
    "t3=(1,'A',[1,2,3],(4,5,6))\n",
    "sorted(t3)"
   ]
  },
  {
   "cell_type": "markdown",
   "id": "76e07b33-e5d4-42fd-8628-1f79519c0101",
   "metadata": {},
   "source": [
    "- reversed"
   ]
  },
  {
   "cell_type": "code",
   "execution_count": 74,
   "id": "50d7920c-448c-41cd-a0e1-63fb7b1202c2",
   "metadata": {},
   "outputs": [
    {
     "data": {
      "text/plain": [
       "<reversed at 0x2030afb04f0>"
      ]
     },
     "execution_count": 74,
     "metadata": {},
     "output_type": "execute_result"
    }
   ],
   "source": [
    "t1=(74,52,0,1,2,3,112,2025)\n",
    "reversed(t1)"
   ]
  },
  {
   "cell_type": "code",
   "execution_count": 84,
   "id": "8c9abeb2-0360-4164-a2fa-1b0bf6fd6310",
   "metadata": {},
   "outputs": [
    {
     "data": {
      "text/plain": [
       "[2025, 112, 3, 2, 1, 0, 52, 74]"
      ]
     },
     "execution_count": 84,
     "metadata": {},
     "output_type": "execute_result"
    }
   ],
   "source": [
    "t1=(74,52,0,1,2,3,112,2025)\n",
    "list(reversed(t1))"
   ]
  },
  {
   "cell_type": "code",
   "execution_count": 86,
   "id": "6a9491ac-9840-4125-9a6e-5f368912269e",
   "metadata": {},
   "outputs": [
    {
     "name": "stdout",
     "output_type": "stream",
     "text": [
      "2025\n",
      "112\n",
      "3\n",
      "2\n",
      "1\n",
      "0\n",
      "52\n",
      "74\n"
     ]
    }
   ],
   "source": [
    "t1=(74,52,0,1,2,3,112,2025)\n",
    "for i in reversed(t1):\n",
    "    print(i)"
   ]
  },
  {
   "cell_type": "markdown",
   "id": "bb3ccfe8-3c10-4a99-955f-148bebda1f39",
   "metadata": {},
   "source": [
    "**concatenation**"
   ]
  },
  {
   "cell_type": "code",
   "execution_count": 91,
   "id": "2820774a-dafd-4405-a42e-83ecd9f0434b",
   "metadata": {},
   "outputs": [
    {
     "data": {
      "text/plain": [
       "(74, 52, 0, 1, 2, 3, 112, 2025, 'A', 'Z', 'Y', 'M', 'C', 'B', 'C')"
      ]
     },
     "execution_count": 91,
     "metadata": {},
     "output_type": "execute_result"
    }
   ],
   "source": [
    "t1=(74,52,0,1,2,3,112,2025)\n",
    "t2=('A','Z','Y','M','C','B','C')\n",
    "t1+t2"
   ]
  },
  {
   "cell_type": "markdown",
   "id": "fe193160-07d4-4424-87c0-704befd6ed00",
   "metadata": {},
   "source": [
    "**index**"
   ]
  },
  {
   "cell_type": "code",
   "execution_count": 94,
   "id": "9f328d90-1a04-43d6-b742-99725714cdda",
   "metadata": {},
   "outputs": [
    {
     "data": {
      "text/plain": [
       "'Cherry'"
      ]
     },
     "execution_count": 94,
     "metadata": {},
     "output_type": "execute_result"
    }
   ],
   "source": [
    "t1=(10,20,30,['Apple','Banana',('Cherry')])\n",
    "t1[3][2]"
   ]
  },
  {
   "cell_type": "code",
   "execution_count": 100,
   "id": "7b433eae-afae-48a6-9d04-733f2271a9ee",
   "metadata": {},
   "outputs": [
    {
     "data": {
      "text/plain": [
       "(10, 20, 30)"
      ]
     },
     "execution_count": 100,
     "metadata": {},
     "output_type": "execute_result"
    }
   ],
   "source": [
    "t1=((10,20,30),2)\n",
    "t1[0]"
   ]
  },
  {
   "cell_type": "code",
   "execution_count": 108,
   "id": "b8abf587-5123-4822-a54f-2602c318601b",
   "metadata": {},
   "outputs": [
    {
     "data": {
      "text/plain": [
       "10"
      ]
     },
     "execution_count": 108,
     "metadata": {},
     "output_type": "execute_result"
    }
   ],
   "source": [
    "t1=((((10,20,30))))\n",
    "t1[0]"
   ]
  },
  {
   "cell_type": "markdown",
   "id": "fc2e1385-e110-43ae-befe-17f9a2454b81",
   "metadata": {},
   "source": [
    "**in vs range operator**"
   ]
  },
  {
   "cell_type": "code",
   "execution_count": 111,
   "id": "ce9a0018-7c60-4776-9868-d0b4c8274f3d",
   "metadata": {},
   "outputs": [
    {
     "name": "stdout",
     "output_type": "stream",
     "text": [
      "10\n",
      "20\n",
      "30\n",
      "['Apple', 'Banana', 'Cherry']\n"
     ]
    }
   ],
   "source": [
    "t1=(10,20,30,['Apple','Banana',('Cherry')])\n",
    "for i in t1:\n",
    "    print(i)"
   ]
  },
  {
   "cell_type": "code",
   "execution_count": 113,
   "id": "4975308e-cefa-4bef-b4df-ada1beae73da",
   "metadata": {},
   "outputs": [
    {
     "name": "stdout",
     "output_type": "stream",
     "text": [
      "0\n",
      "1\n",
      "2\n",
      "3\n"
     ]
    }
   ],
   "source": [
    "t1=(10,20,30,['Apple','Banana',('Cherry')])\n",
    "for i in range(len(t1)):\n",
    "    print(i)"
   ]
  },
  {
   "cell_type": "markdown",
   "id": "0e4d1963-68cd-4fdd-b49f-63e6c6f7367e",
   "metadata": {},
   "source": [
    "**mutable vs immutable**"
   ]
  },
  {
   "cell_type": "code",
   "execution_count": 125,
   "id": "7335bcac-8161-44fd-9337-d3465d0752fb",
   "metadata": {},
   "outputs": [
    {
     "ename": "TypeError",
     "evalue": "'tuple' object does not support item assignment",
     "output_type": "error",
     "traceback": [
      "\u001b[1;31m---------------------------------------------------------------------------\u001b[0m",
      "\u001b[1;31mTypeError\u001b[0m                                 Traceback (most recent call last)",
      "Cell \u001b[1;32mIn[125], line 2\u001b[0m\n\u001b[0;32m      1\u001b[0m t1\u001b[38;5;241m=\u001b[39m(\u001b[38;5;241m10\u001b[39m,\u001b[38;5;241m20\u001b[39m,\u001b[38;5;241m30\u001b[39m,[\u001b[38;5;124m'\u001b[39m\u001b[38;5;124mApple\u001b[39m\u001b[38;5;124m'\u001b[39m,\u001b[38;5;124m'\u001b[39m\u001b[38;5;124mBanana\u001b[39m\u001b[38;5;124m'\u001b[39m,(\u001b[38;5;124m'\u001b[39m\u001b[38;5;124mCherry\u001b[39m\u001b[38;5;124m'\u001b[39m)])\n\u001b[1;32m----> 2\u001b[0m t1[\u001b[38;5;241m1\u001b[39m]\u001b[38;5;241m=\u001b[39m\u001b[38;5;241m30\u001b[39m\n\u001b[0;32m      3\u001b[0m t1\n",
      "\u001b[1;31mTypeError\u001b[0m: 'tuple' object does not support item assignment"
     ]
    }
   ],
   "source": [
    "t1=(10,20,30,['Apple','Banana',('Cherry')])\n",
    "t1[1]=30\n",
    "t1"
   ]
  },
  {
   "cell_type": "markdown",
   "id": "67298969-beba-49be-a84f-c9312d5129ab",
   "metadata": {},
   "source": [
    "**Slice**"
   ]
  },
  {
   "cell_type": "code",
   "execution_count": 143,
   "id": "93e3d208-d487-409c-9488-e64193418229",
   "metadata": {},
   "outputs": [
    {
     "data": {
      "text/plain": [
       "(10, 20, 30, 40, 50, 'A', 'B', 'C')"
      ]
     },
     "execution_count": 143,
     "metadata": {},
     "output_type": "execute_result"
    }
   ],
   "source": [
    "t1=(10,20,30,40,50,'A','B','C','D','E','Apple','Banana')\n",
    "t1[0:8]"
   ]
  },
  {
   "cell_type": "code",
   "execution_count": 147,
   "id": "76f63b1a-f6d0-4d85-bcf7-62958e7ea20b",
   "metadata": {},
   "outputs": [
    {
     "data": {
      "text/plain": [
       "(10, 30, 50, 'B', 'D')"
      ]
     },
     "execution_count": 147,
     "metadata": {},
     "output_type": "execute_result"
    }
   ],
   "source": [
    "t1[-13:-2:2]"
   ]
  },
  {
   "cell_type": "code",
   "execution_count": 157,
   "id": "458da8c3-3c0f-4b2f-9911-cb526f9d18e6",
   "metadata": {},
   "outputs": [
    {
     "data": {
      "text/plain": [
       "(30, 'A', 'D')"
      ]
     },
     "execution_count": 157,
     "metadata": {},
     "output_type": "execute_result"
    }
   ],
   "source": [
    "t1[-10:10:3]"
   ]
  },
  {
   "cell_type": "code",
   "execution_count": 159,
   "id": "be1d3119-41d0-4a3f-ba5f-72955d351301",
   "metadata": {},
   "outputs": [
    {
     "data": {
      "text/plain": [
       "()"
      ]
     },
     "execution_count": 159,
     "metadata": {},
     "output_type": "execute_result"
    }
   ],
   "source": [
    "t1[-10:2:-2]"
   ]
  },
  {
   "cell_type": "markdown",
   "id": "280d86d5-4a0e-4b61-8a3e-0c95c6cce4bf",
   "metadata": {},
   "source": [
    "- methods"
   ]
  },
  {
   "cell_type": "code",
   "execution_count": 162,
   "id": "fd726f64-53bb-4b5d-b3d1-e0021fc7b86b",
   "metadata": {},
   "outputs": [
    {
     "data": {
      "text/plain": [
       "['__add__',\n",
       " '__class__',\n",
       " '__class_getitem__',\n",
       " '__contains__',\n",
       " '__delattr__',\n",
       " '__dir__',\n",
       " '__doc__',\n",
       " '__eq__',\n",
       " '__format__',\n",
       " '__ge__',\n",
       " '__getattribute__',\n",
       " '__getitem__',\n",
       " '__getnewargs__',\n",
       " '__getstate__',\n",
       " '__gt__',\n",
       " '__hash__',\n",
       " '__init__',\n",
       " '__init_subclass__',\n",
       " '__iter__',\n",
       " '__le__',\n",
       " '__len__',\n",
       " '__lt__',\n",
       " '__mul__',\n",
       " '__ne__',\n",
       " '__new__',\n",
       " '__reduce__',\n",
       " '__reduce_ex__',\n",
       " '__repr__',\n",
       " '__rmul__',\n",
       " '__setattr__',\n",
       " '__sizeof__',\n",
       " '__str__',\n",
       " '__subclasshook__',\n",
       " 'count',\n",
       " 'index']"
      ]
     },
     "execution_count": 162,
     "metadata": {},
     "output_type": "execute_result"
    }
   ],
   "source": [
    "dir(())"
   ]
  },
  {
   "cell_type": "markdown",
   "id": "ecb941ec-85c9-419b-8ed5-005110ef982d",
   "metadata": {},
   "source": [
    "- count"
   ]
  },
  {
   "cell_type": "code",
   "execution_count": 172,
   "id": "f24c0ad5-0f5e-4343-be8c-95fd45852135",
   "metadata": {},
   "outputs": [
    {
     "data": {
      "text/plain": [
       "1"
      ]
     },
     "execution_count": 172,
     "metadata": {},
     "output_type": "execute_result"
    }
   ],
   "source": [
    "t1=(10,20,30,40,50,'A','B','C','D','E','Apple','Banana')\n",
    "t1.count('A')"
   ]
  },
  {
   "cell_type": "code",
   "execution_count": 176,
   "id": "82b78562-d365-4f6a-ba29-c867a7bd6f27",
   "metadata": {},
   "outputs": [
    {
     "data": {
      "text/plain": [
       "0"
      ]
     },
     "execution_count": 176,
     "metadata": {},
     "output_type": "execute_result"
    }
   ],
   "source": [
    "t1=(10,20,30,40,50,'A','B','C','D','E','Apple','Banana',40,50)\n",
    "t1.count('rakesh')"
   ]
  },
  {
   "cell_type": "code",
   "execution_count": 180,
   "id": "bc15266c-dee6-4b56-b1e3-ff18cb3660b4",
   "metadata": {},
   "outputs": [
    {
     "data": {
      "text/plain": [
       "3"
      ]
     },
     "execution_count": 180,
     "metadata": {},
     "output_type": "execute_result"
    }
   ],
   "source": [
    "t1=(10,20,30,40,50,'A','B','C','D','E','Apple','Banana',50,50)\n",
    "t1.count(50)"
   ]
  },
  {
   "cell_type": "markdown",
   "id": "7633fe33-497a-4971-8c2b-9689cb2c6917",
   "metadata": {},
   "source": [
    "- index"
   ]
  },
  {
   "cell_type": "code",
   "execution_count": 183,
   "id": "b1aa353b-20f5-41fa-845c-8a71ed61b5d1",
   "metadata": {},
   "outputs": [
    {
     "data": {
      "text/plain": [
       "5"
      ]
     },
     "execution_count": 183,
     "metadata": {},
     "output_type": "execute_result"
    }
   ],
   "source": [
    "t1=(10,20,30,40,50,'A','B','C','D','E','Apple','Banana')\n",
    "t1.index('A')"
   ]
  },
  {
   "cell_type": "code",
   "execution_count": 185,
   "id": "47c94aec-1fc1-44df-a064-74925049a591",
   "metadata": {},
   "outputs": [
    {
     "ename": "ValueError",
     "evalue": "tuple.index(x): x not in tuple",
     "output_type": "error",
     "traceback": [
      "\u001b[1;31m---------------------------------------------------------------------------\u001b[0m",
      "\u001b[1;31mValueError\u001b[0m                                Traceback (most recent call last)",
      "Cell \u001b[1;32mIn[185], line 2\u001b[0m\n\u001b[0;32m      1\u001b[0m t1\u001b[38;5;241m=\u001b[39m(\u001b[38;5;241m10\u001b[39m,\u001b[38;5;241m20\u001b[39m,\u001b[38;5;241m30\u001b[39m,\u001b[38;5;241m40\u001b[39m,\u001b[38;5;241m50\u001b[39m,\u001b[38;5;124m'\u001b[39m\u001b[38;5;124mA\u001b[39m\u001b[38;5;124m'\u001b[39m,\u001b[38;5;124m'\u001b[39m\u001b[38;5;124mB\u001b[39m\u001b[38;5;124m'\u001b[39m,\u001b[38;5;124m'\u001b[39m\u001b[38;5;124mC\u001b[39m\u001b[38;5;124m'\u001b[39m,\u001b[38;5;124m'\u001b[39m\u001b[38;5;124mD\u001b[39m\u001b[38;5;124m'\u001b[39m,\u001b[38;5;124m'\u001b[39m\u001b[38;5;124mE\u001b[39m\u001b[38;5;124m'\u001b[39m,\u001b[38;5;124m'\u001b[39m\u001b[38;5;124mApple\u001b[39m\u001b[38;5;124m'\u001b[39m,\u001b[38;5;124m'\u001b[39m\u001b[38;5;124mBanana\u001b[39m\u001b[38;5;124m'\u001b[39m)\n\u001b[1;32m----> 2\u001b[0m t1\u001b[38;5;241m.\u001b[39mindex(\u001b[38;5;124m'\u001b[39m\u001b[38;5;124mrakesh\u001b[39m\u001b[38;5;124m'\u001b[39m)\n",
      "\u001b[1;31mValueError\u001b[0m: tuple.index(x): x not in tuple"
     ]
    }
   ],
   "source": [
    "t1=(10,20,30,40,50,'A','B','C','D','E','Apple','Banana')\n",
    "t1.index('rakesh')"
   ]
  },
  {
   "cell_type": "code",
   "execution_count": 187,
   "id": "6439973b-ea87-420e-80d7-7975e1e6b621",
   "metadata": {},
   "outputs": [
    {
     "data": {
      "text/plain": [
       "4"
      ]
     },
     "execution_count": 187,
     "metadata": {},
     "output_type": "execute_result"
    }
   ],
   "source": [
    "t1=(10,20,30,40,50,'A','B','C','D','E','Apple','Banana',50,50)\n",
    "t1.index(50)"
   ]
  },
  {
   "cell_type": "code",
   "execution_count": 199,
   "id": "6e4d136c-f7a0-4754-a4dd-e266a32020b9",
   "metadata": {},
   "outputs": [
    {
     "name": "stdout",
     "output_type": "stream",
     "text": [
      "4\n",
      "12\n",
      "13\n"
     ]
    }
   ],
   "source": [
    "t1=(10,20,30,40,50,'A','B','C','D','E','Apple','Banana',50,50)\n",
    "id1=t1.index(50)\n",
    "print(id1)\n",
    "id2=t1.index(50,id1+1)\n",
    "print(id2)\n",
    "id3=t1.index(50,id2+1)\n",
    "print(id3)"
   ]
  },
  {
   "cell_type": "code",
   "execution_count": null,
   "id": "4b4ba570-277e-4475-ba87-a6219e3e90e9",
   "metadata": {},
   "outputs": [],
   "source": []
  }
 ],
 "metadata": {
  "kernelspec": {
   "display_name": "Python [conda env:base] *",
   "language": "python",
   "name": "conda-base-py"
  },
  "language_info": {
   "codemirror_mode": {
    "name": "ipython",
    "version": 3
   },
   "file_extension": ".py",
   "mimetype": "text/x-python",
   "name": "python",
   "nbconvert_exporter": "python",
   "pygments_lexer": "ipython3",
   "version": "3.12.7"
  }
 },
 "nbformat": 4,
 "nbformat_minor": 5
}
