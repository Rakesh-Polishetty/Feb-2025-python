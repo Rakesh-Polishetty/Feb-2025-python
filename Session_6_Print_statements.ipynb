{
 "cells": [
  {
   "cell_type": "code",
   "execution_count": 1,
   "id": "55babc12-4271-4cdc-acf4-53f851467901",
   "metadata": {},
   "outputs": [
    {
     "data": {
      "text/plain": [
       "20"
      ]
     },
     "execution_count": 1,
     "metadata": {},
     "output_type": "execute_result"
    }
   ],
   "source": [
    "a=10\n",
    "b=20\n",
    "a\n",
    "b"
   ]
  },
  {
   "cell_type": "code",
   "execution_count": 3,
   "id": "6ffd99c2-3d9d-4fec-b73a-e4e85094438d",
   "metadata": {},
   "outputs": [
    {
     "name": "stdout",
     "output_type": "stream",
     "text": [
      "10\n",
      "20\n"
     ]
    }
   ],
   "source": [
    "print(a)\n",
    "print(b)"
   ]
  },
  {
   "cell_type": "code",
   "execution_count": 11,
   "id": "9a25367a-e404-4527-828a-69426c0b69bc",
   "metadata": {},
   "outputs": [
    {
     "name": "stdout",
     "output_type": "stream",
     "text": [
      "10\n",
      "20\n"
     ]
    }
   ],
   "source": [
    "print(10)\n",
    "print(20)"
   ]
  },
  {
   "cell_type": "code",
   "execution_count": 15,
   "id": "56ff0b21-9b4a-42a8-b67d-bdad94673162",
   "metadata": {},
   "outputs": [
    {
     "name": "stdout",
     "output_type": "stream",
     "text": [
      "10\n",
      "20\n"
     ]
    },
    {
     "data": {
      "text/plain": [
       "(None, None)"
      ]
     },
     "execution_count": 15,
     "metadata": {},
     "output_type": "execute_result"
    }
   ],
   "source": [
    "print(10),print(20)"
   ]
  },
  {
   "cell_type": "code",
   "execution_count": 17,
   "id": "69b596ec-cf9b-4305-a375-cee54196a08a",
   "metadata": {},
   "outputs": [
    {
     "data": {
      "text/plain": [
       "(10, 20)"
      ]
     },
     "execution_count": 17,
     "metadata": {},
     "output_type": "execute_result"
    }
   ],
   "source": [
    "10,20"
   ]
  },
  {
   "cell_type": "code",
   "execution_count": 22,
   "id": "3568474b-bad8-4645-83ad-73da12df4cf5",
   "metadata": {},
   "outputs": [
    {
     "name": "stdout",
     "output_type": "stream",
     "text": [
      "30 Nareshit Hyd\n"
     ]
    }
   ],
   "source": [
    "print(30,'Nareshit','Hyd')"
   ]
  },
  {
   "cell_type": "code",
   "execution_count": 63,
   "id": "27f21e43-e515-40f1-8c60-f044c15e2e53",
   "metadata": {},
   "outputs": [
    {
     "name": "stdout",
     "output_type": "stream",
     "text": [
      "the addition of 100 and 200 is 300\n",
      "the addition of num1 and num2 is add\n",
      "the addition of 100 and 200 is 300\n"
     ]
    }
   ],
   "source": [
    "num1=100\n",
    "num2=200\n",
    "add=num1+num2\n",
    "# the addition of 100 and 200 is 300\n",
    "print(\"the addition of 100 and 200 is 300\")\n",
    "print(\"the addition of num1 and num2 is add\")\n",
    "print(\"the addition of\",num1,\"and\",num2,\"is\",add)"
   ]
  },
  {
   "cell_type": "code",
   "execution_count": 57,
   "id": "44000729-b3bc-45f1-84e7-b6b0bcfd1a16",
   "metadata": {},
   "outputs": [
    {
     "name": "stdout",
     "output_type": "stream",
     "text": [
      "my name is python im 10 years old and came from hyd\n",
      "my name is name im age years old and came from city\n",
      "my name is python I'm 10 years old and came from hyd\n"
     ]
    }
   ],
   "source": [
    "name=\"python\"\n",
    "age=10\n",
    "city=\"hyd\"\n",
    "# my name is python im 10 years old and came from hyd\n",
    "print(\"my name is python im 10 years old and came from hyd\")\n",
    "print(\"my name is name im age years old and came from city\")\n",
    "print(\"my name is\", name, \"I'm\", age, \"years old and came from\", city)"
   ]
  },
  {
   "cell_type": "markdown",
   "id": "94b4c21d-2fa5-47cb-bd7e-121d7552f890",
   "metadata": {},
   "source": [
    "**Format**"
   ]
  },
  {
   "cell_type": "code",
   "execution_count": 1,
   "id": "69c80594-7e4a-4746-8e39-0f2c9f5ef344",
   "metadata": {},
   "outputs": [
    {
     "name": "stdout",
     "output_type": "stream",
     "text": [
      "my name is python im 10 years old and came from hyd\n",
      "my name is {} im {} years old and came from {}\n",
      "my name is python im 10 years old and came from hyd\n"
     ]
    }
   ],
   "source": [
    "name=\"python\"\n",
    "age=10\n",
    "city=\"hyd\"\n",
    "print(\"my name is python im 10 years old and came from hyd\")\n",
    "print(\"my name is {} im {} years old and came from {}\")\n",
    "print(\"my name is {} im {} years old and came from {}\".format(name,age,city))"
   ]
  },
  {
   "cell_type": "code",
   "execution_count": 19,
   "id": "1f0f3138-349e-4693-a32d-e4f64af6122d",
   "metadata": {},
   "outputs": [
    {
     "name": "stdout",
     "output_type": "stream",
     "text": [
      "the addition of 100 and 200 is 300\n",
      "the addition of {} and {} is {}\n",
      "the addition of 100 and 200 is 300\n"
     ]
    }
   ],
   "source": [
    "num1=100\n",
    "num2=200\n",
    "add=num1+num2\n",
    "# the addition of 100 and 200 is 300\n",
    "print(\"the addition of 100 and 200 is 300\")\n",
    "print(\"the addition of {} and {} is {}\")\n",
    "print(\"the addition of {} and {} is {}\".format(num1,num2,add))"
   ]
  },
  {
   "cell_type": "code",
   "execution_count": null,
   "id": "a42974d2-58b1-4ffc-a45e-8d8c8fb47ee3",
   "metadata": {},
   "outputs": [],
   "source": [
    "# wap take two numbers to perform the \n",
    "# subtraction\n",
    "# multiplication\n",
    "# division\n",
    "# print the statements as follows\n",
    "\n",
    "# the subtraction of 100 and 200 is -100\n",
    "# the multiplication of 100 and 200 is 2000\n",
    "# the division of 100 and 200 is 0.5"
   ]
  },
  {
   "cell_type": "code",
   "execution_count": null,
   "id": "fcacab57-f1d9-4790-b239-90f125663188",
   "metadata": {},
   "outputs": [],
   "source": [
    "#wap take three numbers to perform the average\n",
    "#a,b,c\n",
    "#avg=(a+b+c)/3\n",
    "#print the statement\n",
    "#the average of a,b,c is: avg"
   ]
  },
  {
   "cell_type": "code",
   "execution_count": 63,
   "id": "665229b6-570a-4173-b575-bc6ae2e23ef9",
   "metadata": {},
   "outputs": [
    {
     "name": "stdout",
     "output_type": "stream",
     "text": [
      "the subtraction of 100 and 200 is -100\n",
      "the subtraction of {} and {} is {}\n",
      "the subtraction of 100 and 200 is -100\n"
     ]
    }
   ],
   "source": [
    "num1=100\n",
    "num2=200\n",
    "sub=num1-num2\n",
    "print(\"the subtraction of 100 and 200 is -100\")\n",
    "print(\"the subtraction of {} and {} is {}\")\n",
    "print(\"the subtraction of {} and {} is {}\".format(num1,num2,sub))"
   ]
  },
  {
   "cell_type": "code",
   "execution_count": 81,
   "id": "12c22e50-0106-4593-a28d-403048a4607d",
   "metadata": {},
   "outputs": [
    {
     "name": "stdout",
     "output_type": "stream",
     "text": [
      "the multiplication of 100 and 200 is 2000\n",
      "the multiplication of {} and {} is {}\n",
      "the multiplication of 100 and 200 is 20000\n"
     ]
    }
   ],
   "source": [
    "num1=100\n",
    "num2=200\n",
    "mul=num1*num2\n",
    "print(\"the multiplication of 100 and 200 is 2000\")\n",
    "print(\"the multiplication of {} and {} is {}\")\n",
    "print(\"the multiplication of {} and {} is {}\".format(num1,num2,mul))"
   ]
  },
  {
   "cell_type": "code",
   "execution_count": 34,
   "id": "dc6b37ee-3f51-4959-843c-3c59f14e8dbc",
   "metadata": {},
   "outputs": [
    {
     "name": "stdout",
     "output_type": "stream",
     "text": [
      "the division of 100 and 200 is 0.5\n",
      "the division of {} and {} is {}\n",
      "the division of 100 and 200 is 0.5\n"
     ]
    }
   ],
   "source": [
    "num1=100\n",
    "num2=200\n",
    "div=num1/num2\n",
    "print(\"the division of 100 and 200 is 0.5\")\n",
    "print(\"the division of {} and {} is {}\")\n",
    "print(\"the division of {} and {} is {}\".format(num1,num2,div))"
   ]
  },
  {
   "cell_type": "code",
   "execution_count": 7,
   "id": "ef7555c2-4bdf-4ebd-9bd0-2322117979f0",
   "metadata": {},
   "outputs": [
    {
     "name": "stdout",
     "output_type": "stream",
     "text": [
      "20.0\n",
      "the average of a,b,c is: avg\n",
      "the average of {},{},{} is: {}\n",
      "the average of 10,20,30 is: 20.0\n"
     ]
    }
   ],
   "source": [
    "a=10\n",
    "b=20\n",
    "c=30\n",
    "avg=(a+b+c)/3\n",
    "print(avg)\n",
    "print(\"the average of a,b,c is: avg\")\n",
    "print(\"the average of {},{},{} is: {}\")\n",
    "print(\"the average of {},{},{} is: {}\".format(a,b,c,avg))"
   ]
  },
  {
   "cell_type": "code",
   "execution_count": 21,
   "id": "832d4ca5-2d8f-464c-83e6-7751101ed201",
   "metadata": {},
   "outputs": [
    {
     "name": "stdout",
     "output_type": "stream",
     "text": [
      "======================================ADDITION==============================\n",
      "the addition of 100 and 200 is 300\n",
      "the addition of {} and {} is {}\n",
      "the addition of 100 and 200 is 300\n",
      "=====================================SUBTRACTION============================\n",
      "the subtraction of 100 and 200 is -100\n",
      "the subtraction of {} and {} is {}\n",
      "the subtraction of 100 and 200 is -100\n",
      "====================================MULTIPLICATION==========================\n",
      "the multiplication of 100 and 200 is 2000\n",
      "the multiplication of {} and {} is {}\n",
      "the multiplication of 100 and 200 is 20000\n",
      "===================================DIVISION=================================\n",
      "the division of 100 and 200 is 0.5\n",
      "the division of {} and {} is {}\n",
      "the division of 100 and 200 is 0.5\n",
      "==================================AVERAGE=====================================\n",
      "20.0\n",
      "the average of a,b,c is: avg\n",
      "the average of {},{},{} is: {}\n",
      "the average of 10,20,30 is: 20.0\n"
     ]
    }
   ],
   "source": [
    "print(\"======================================ADDITION==============================\")\n",
    "\n",
    "num1=100\n",
    "num2=200\n",
    "add=num1+num2\n",
    "# the addition of 100 and 200 is 300\n",
    "print(\"the addition of 100 and 200 is 300\")\n",
    "print(\"the addition of {} and {} is {}\")\n",
    "print(\"the addition of {} and {} is {}\".format(num1,num2,add))\n",
    "\n",
    "print(\"=====================================SUBTRACTION============================\")\n",
    "\n",
    "num1=100\n",
    "num2=200\n",
    "sub=num1-num2\n",
    "print(\"the subtraction of 100 and 200 is -100\")\n",
    "print(\"the subtraction of {} and {} is {}\")\n",
    "print(\"the subtraction of {} and {} is {}\".format(num1,num2,sub))\n",
    "\n",
    "print(\"====================================MULTIPLICATION==========================\")\n",
    "\n",
    "num1=100\n",
    "num2=200\n",
    "mul=num1*num2\n",
    "print(\"the multiplication of 100 and 200 is 2000\")\n",
    "print(\"the multiplication of {} and {} is {}\")\n",
    "print(\"the multiplication of {} and {} is {}\".format(num1,num2,mul))\n",
    "\n",
    "print(\"===================================DIVISION=================================\")\n",
    "\n",
    "num1=100\n",
    "num2=200\n",
    "div=num1/num2\n",
    "print(\"the division of 100 and 200 is 0.5\")\n",
    "print(\"the division of {} and {} is {}\")\n",
    "print(\"the division of {} and {} is {}\".format(num1,num2,div))\n",
    "\n",
    "print(\"==================================AVERAGE=====================================\")\n",
    "\n",
    "a=10\n",
    "b=20\n",
    "c=30\n",
    "avg=(a+b+c)/3\n",
    "print(avg)\n",
    "print(\"the average of a,b,c is: avg\")\n",
    "print(\"the average of {},{},{} is: {}\")\n",
    "print(\"the average of {},{},{} is: {}\".format(a,b,c,avg))"
   ]
  },
  {
   "cell_type": "markdown",
   "id": "7fe2d661-179c-477d-97fc-1f5b7d41814f",
   "metadata": {},
   "source": [
    "# f string: formatted string method"
   ]
  },
  {
   "cell_type": "code",
   "execution_count": 71,
   "id": "ae1b1408-ea92-45cc-9be2-4b2bac275232",
   "metadata": {},
   "outputs": [
    {
     "name": "stdout",
     "output_type": "stream",
     "text": [
      "the addition of 100 and 200 is 300\n",
      "the addition of {} and num2 is {}\n",
      "the addition of 100 and 200 is 300\n"
     ]
    }
   ],
   "source": [
    "num1=100\n",
    "num2=200\n",
    "add=num1+num2\n",
    "\n",
    "print(\"the addition of 100 and 200 is 300\")\n",
    "print(\"the addition of {} and num2 is {}\")\n",
    "print(f\"the addition of {num1} and {num2} is {add}\")"
   ]
  },
  {
   "cell_type": "code",
   "execution_count": 77,
   "id": "1d1a0df9-b82d-4331-8cee-400bf0da9e54",
   "metadata": {},
   "outputs": [
    {
     "name": "stdout",
     "output_type": "stream",
     "text": [
      "the subtraction of 100 and 200 is -100\n",
      "the subtraction of {} and {} is {}\n",
      "the subtraction of 100 and 200 is -100\n"
     ]
    }
   ],
   "source": [
    "num1=100\n",
    "num2=200\n",
    "sub=num1-num2\n",
    "print(\"the subtraction of 100 and 200 is -100\")\n",
    "print(\"the subtraction of {} and {} is {}\")\n",
    "print(f\"the subtraction of {num1} and {num2} is {sub}\")"
   ]
  },
  {
   "cell_type": "code",
   "execution_count": 83,
   "id": "67e65ad6-6b61-4b93-92f1-0aaf8fdc8320",
   "metadata": {},
   "outputs": [
    {
     "name": "stdout",
     "output_type": "stream",
     "text": [
      "the multiplication of 100 and 200 is 2000\n",
      "the multiplication of {} and {} is {}\n",
      "the multiplication of 100 and 200 is 20000\n"
     ]
    }
   ],
   "source": [
    "num1=100\n",
    "num2=200\n",
    "mul=num1*num2\n",
    "print(\"the multiplication of 100 and 200 is 2000\")\n",
    "print(\"the multiplication of {} and {} is {}\")\n",
    "print(f\"the multiplication of {num1} and {num2} is {mul}\")"
   ]
  },
  {
   "cell_type": "code",
   "execution_count": 108,
   "id": "1f72cfed-f52d-40d9-90e1-093043ba02b3",
   "metadata": {},
   "outputs": [
    {
     "name": "stdout",
     "output_type": "stream",
     "text": [
      "the division of 100 and 200 is 0.5\n",
      "the division of {} and {} is {}\n",
      "the division of 100 and 200 is 0.5\n"
     ]
    }
   ],
   "source": [
    "num1=100\n",
    "num2=200\n",
    "div=num1/num2\n",
    "print(\"the division of 100 and 200 is 0.5\")\n",
    "print(\"the division of {} and {} is {}\")\n",
    "print(f\"the division of {num1} and {num2} is {div}\")"
   ]
  },
  {
   "cell_type": "code",
   "execution_count": 9,
   "id": "294aaad7-9b9b-4085-9ff3-9d4476a4014f",
   "metadata": {},
   "outputs": [
    {
     "name": "stdout",
     "output_type": "stream",
     "text": [
      "20.0\n",
      "the average of a,b,c is: avg\n",
      "the average of {},{},{} is: {}\n",
      "the average of 10,20,30 is: 20.0\n"
     ]
    }
   ],
   "source": [
    "a=10\n",
    "b=20\n",
    "c=30\n",
    "avg=(a+b+c)/3\n",
    "print(avg)\n",
    "print(\"the average of a,b,c is: avg\")\n",
    "print(\"the average of {},{},{} is: {}\")\n",
    "print(f\"the average of {a},{b},{c} is: {avg}\")"
   ]
  },
  {
   "cell_type": "code",
   "execution_count": 24,
   "id": "36c1631a-4c07-496f-ba8e-625caf9e13fb",
   "metadata": {},
   "outputs": [
    {
     "name": "stdout",
     "output_type": "stream",
     "text": [
      "===============================ADDITION========================\n",
      "the addition of 100 and 200 is 300\n",
      "the addition of {} and num2 is {}\n",
      "the addition of 100 and 200 is 300\n",
      "================================SUBTRACTION=====================\n",
      "the subtraction of 100 and 200 is -100\n",
      "the subtraction of {} and {} is {}\n",
      "the subtraction of 100 and 200 is -100\n",
      "===============================MULTIPLICATION===================\n",
      "the multiplication of 100 and 200 is 2000\n",
      "the multiplication of {} and {} is {}\n",
      "the multiplication of 100 and 200 is 20000\n",
      "================================DIVISION=========================\n",
      "the division of 100 and 200 is 0.5\n",
      "the division of {} and {} is {}\n",
      "the division of 100 and 200 is 0.5\n",
      "===============================AVERAGE============================\n",
      "20.0\n",
      "the average of a,b,c is: avg\n",
      "the average of {},{},{} is: {}\n",
      "the average of 10,20,30 is: 20.0\n"
     ]
    }
   ],
   "source": [
    "print(\"===============================ADDITION========================\")\n",
    "\n",
    "num1=100\n",
    "num2=200\n",
    "add=num1+num2\n",
    "\n",
    "print(\"the addition of 100 and 200 is 300\")\n",
    "print(\"the addition of {} and num2 is {}\")\n",
    "print(f\"the addition of {num1} and {num2} is {add}\")\n",
    "\n",
    "print(\"================================SUBTRACTION=====================\")\n",
    "\n",
    "num1=100\n",
    "num2=200\n",
    "sub=num1-num2\n",
    "print(\"the subtraction of 100 and 200 is -100\")\n",
    "print(\"the subtraction of {} and {} is {}\")\n",
    "print(f\"the subtraction of {num1} and {num2} is {sub}\")\n",
    "\n",
    "print(\"===============================MULTIPLICATION===================\")\n",
    "\n",
    "num1=100\n",
    "num2=200\n",
    "mul=num1*num2\n",
    "print(\"the multiplication of 100 and 200 is 2000\")\n",
    "print(\"the multiplication of {} and {} is {}\")\n",
    "print(f\"the multiplication of {num1} and {num2} is {mul}\")\n",
    "\n",
    "print(\"================================DIVISION=========================\")\n",
    "\n",
    "num1=100\n",
    "num2=200\n",
    "div=num1/num2\n",
    "print(\"the division of 100 and 200 is 0.5\")\n",
    "print(\"the division of {} and {} is {}\")\n",
    "print(f\"the division of {num1} and {num2} is {div}\")\n",
    "\n",
    "print(\"===============================AVERAGE============================\")\n",
    "\n",
    "a=10\n",
    "b=20\n",
    "c=30\n",
    "avg=(a+b+c)/3\n",
    "print(avg)\n",
    "print(\"the average of a,b,c is: avg\")\n",
    "print(\"the average of {},{},{} is: {}\")\n",
    "print(f\"the average of {a},{b},{c} is: {avg}\")"
   ]
  },
  {
   "cell_type": "markdown",
   "id": "a8b889ef-46b4-4f02-9171-2bcbc282fb01",
   "metadata": {},
   "source": [
    "**round**"
   ]
  },
  {
   "cell_type": "code",
   "execution_count": null,
   "id": "cdb2c698-9714-420a-b467-2fdf0170ef22",
   "metadata": {},
   "outputs": [],
   "source": [
    "# print()\n",
    "# type()\n",
    "# int()\n",
    "# float()\n",
    "# str()\n",
    "# bool()\n",
    "# round()\n",
    "# CTRL+A\n",
    "# CTRL+/"
   ]
  },
  {
   "cell_type": "code",
   "execution_count": 1,
   "id": "1868a6ea-b1fd-44ef-ba70-f54875355900",
   "metadata": {},
   "outputs": [
    {
     "data": {
      "text/plain": [
       "12"
      ]
     },
     "execution_count": 1,
     "metadata": {},
     "output_type": "execute_result"
    }
   ],
   "source": [
    "round(11.84444)"
   ]
  },
  {
   "cell_type": "code",
   "execution_count": 92,
   "id": "141a914d-d9c9-49bb-86a8-6f3610763242",
   "metadata": {},
   "outputs": [
    {
     "data": {
      "text/plain": [
       "11.84"
      ]
     },
     "execution_count": 92,
     "metadata": {},
     "output_type": "execute_result"
    }
   ],
   "source": [
    "round(11.844444,2)"
   ]
  },
  {
   "cell_type": "code",
   "execution_count": 94,
   "id": "c2f9f540-450c-4bb3-8347-2f309b1220b8",
   "metadata": {},
   "outputs": [
    {
     "data": {
      "text/plain": [
       "11.844"
      ]
     },
     "execution_count": 94,
     "metadata": {},
     "output_type": "execute_result"
    }
   ],
   "source": [
    "round(11.84444,3)"
   ]
  },
  {
   "cell_type": "code",
   "execution_count": 104,
   "id": "d1940b53-a8db-49d1-8b3d-80f8905b89f3",
   "metadata": {},
   "outputs": [
    {
     "name": "stdout",
     "output_type": "stream",
     "text": [
      "20.333333333333332\n",
      "20.33\n"
     ]
    }
   ],
   "source": [
    "a=11\n",
    "b=20\n",
    "c=30\n",
    "avg=(a+b+c)/3\n",
    "print(avg)\n",
    "print(round(avg,2))"
   ]
  },
  {
   "cell_type": "markdown",
   "id": "a57d4b99-2fcd-45be-89e8-627095bff6b7",
   "metadata": {},
   "source": [
    "# end\n",
    "\n",
    "**I have multiple print statements but I want to show in a single line**"
   ]
  },
  {
   "cell_type": "code",
   "execution_count": 114,
   "id": "fe3a8fd7-cc94-491f-854d-13f5f46b1d48",
   "metadata": {},
   "outputs": [
    {
     "name": "stdout",
     "output_type": "stream",
     "text": [
      "10 20\n"
     ]
    }
   ],
   "source": [
    "print(10,end=\" \")\n",
    "print(20)"
   ]
  },
  {
   "cell_type": "code",
   "execution_count": 116,
   "id": "aeb18fe4-614e-4cf5-a8b5-f78a2c9fdc6c",
   "metadata": {},
   "outputs": [
    {
     "name": "stdout",
     "output_type": "stream",
     "text": [
      "10 20 30\n"
     ]
    }
   ],
   "source": [
    "print(10,end=\" \")\n",
    "print(20,end=\" \")\n",
    "print(30)"
   ]
  },
  {
   "cell_type": "code",
   "execution_count": 118,
   "id": "17cb48e4-95e0-4ed5-b0a3-88a21ab51b49",
   "metadata": {},
   "outputs": [
    {
     "name": "stdout",
     "output_type": "stream",
     "text": [
      "hello how are you\n"
     ]
    }
   ],
   "source": [
    "print('hello',end=' ')\n",
    "print('how',end=' ')\n",
    "print('are',end=' ')\n",
    "print('you')"
   ]
  },
  {
   "cell_type": "code",
   "execution_count": 120,
   "id": "fc077b8c-547e-43d5-9396-1edcef8a035d",
   "metadata": {},
   "outputs": [
    {
     "name": "stdout",
     "output_type": "stream",
     "text": [
      "hello how are you\n"
     ]
    }
   ],
   "source": [
    "print('hello how are you')"
   ]
  },
  {
   "cell_type": "markdown",
   "id": "c2a366d9-efa9-4a16-a735-95661aaf0638",
   "metadata": {},
   "source": [
    "# sep\n",
    "\n",
    "**I have multiple values in a single print ststement**\n",
    "\n",
    "**I want to print them with some seperation**"
   ]
  },
  {
   "cell_type": "code",
   "execution_count": 124,
   "id": "af374bde-613b-4ce2-a2a4-47be3d1e0083",
   "metadata": {},
   "outputs": [
    {
     "name": "stdout",
     "output_type": "stream",
     "text": [
      "10===>20===>30\n"
     ]
    }
   ],
   "source": [
    "print(10,20,30,sep='===>')"
   ]
  },
  {
   "cell_type": "markdown",
   "id": "e072fe73-94e1-415e-ae23-6d7aaeb96d27",
   "metadata": {},
   "source": [
    "- basic print statement\n",
    "\n",
    "- we learn format method\n",
    "\n",
    "- we learn f string method\n",
    "\n",
    "- we learn round\n",
    "\n",
    "- we learn end operator\n",
    "\n",
    "- we learn sep operator"
   ]
  },
  {
   "cell_type": "code",
   "execution_count": null,
   "id": "86787c0e-0b6d-4209-a713-0aecc836774b",
   "metadata": {},
   "outputs": [],
   "source": [
    "# # wap take the radius of a circle calculate area of the circle\n",
    "# # var: radius  var: pi=3.14\n",
    "# # formula: pi*radius*radius\n",
    "# # print the answers using f string and format\n",
    "\n",
    "# wap take the breadth and height of a right angle triangle\n",
    "# calculate the area\n",
    "# var1: breadth   var2: height\n",
    "# formula: 0.5*breadth*height\n",
    "\n",
    "# wap take the bill amount and tip amount\n",
    "# calculate total bill\n",
    "# var1: bill amount  var2: tip amount\n",
    "# formula\n",
    "\n",
    "# wap take the length and breadth of a rectangle to calculate the area\n",
    "# var1: length   var2: breadth\n",
    "# formula: length*breadth"
   ]
  },
  {
   "cell_type": "code",
   "execution_count": 23,
   "id": "b9f5863f-a7a9-4a5f-947d-bc827c5edb06",
   "metadata": {},
   "outputs": [
    {
     "name": "stdout",
     "output_type": "stream",
     "text": [
      "314.0\n",
      "the area of circle is 314.0\n",
      "the area of circle is 314.0\n"
     ]
    }
   ],
   "source": [
    "radius=10\n",
    "pi=3.14\n",
    "area=(pi*radius*radius)\n",
    "print(area)\n",
    "print(\"the area of circle is {}\".format(area))\n",
    "print(f\"the area of circle is {area}\")"
   ]
  },
  {
   "cell_type": "code",
   "execution_count": 31,
   "id": "820b9016-d5fb-48e8-85fe-c2b8d5adac6e",
   "metadata": {},
   "outputs": [
    {
     "name": "stdout",
     "output_type": "stream",
     "text": [
      "100.0\n",
      "the area of the right angle triangle is 100.0\n",
      "the area of the right angle triangle is 100.0\n"
     ]
    }
   ],
   "source": [
    "breadth=10\n",
    "height=20\n",
    "area=(0.5*breadth*height)\n",
    "print(area)\n",
    "print(\"the area of the right angle triangle is {}\".format(area))\n",
    "print(f\"the area of the right angle triangle is {area}\")"
   ]
  },
  {
   "cell_type": "code",
   "execution_count": 37,
   "id": "b53644ee-ac48-49e2-a9e9-9af8b9eef17d",
   "metadata": {},
   "outputs": [
    {
     "name": "stdout",
     "output_type": "stream",
     "text": [
      "1200\n",
      "the total bill amount is 1200\n",
      "the total bill amount is 1200\n"
     ]
    }
   ],
   "source": [
    "bill_amount=1000\n",
    "tip_amount=200\n",
    "total=(bill_amount+tip_amount)\n",
    "print(total)\n",
    "print(\"the total bill amount is {}\".format(total))\n",
    "print(f\"the total bill amount is {total}\")"
   ]
  },
  {
   "cell_type": "code",
   "execution_count": 61,
   "id": "84505cac-4b7a-4683-968f-335255180f70",
   "metadata": {},
   "outputs": [
    {
     "name": "stdout",
     "output_type": "stream",
     "text": [
      "200\n",
      "the area of the rectangle is 200\n",
      "the area of the rectangle is 200\n"
     ]
    }
   ],
   "source": [
    "length=10\n",
    "breadth=20\n",
    "area=(length*breadth)\n",
    "print(area)\n",
    "print(\"the area of the rectangle is {}\".format(area))\n",
    "print(f\"the area of the rectangle is {area}\")"
   ]
  },
  {
   "cell_type": "code",
   "execution_count": null,
   "id": "2b057cc7-6b0a-497c-995a-c1af67250d0b",
   "metadata": {},
   "outputs": [],
   "source": []
  },
  {
   "cell_type": "code",
   "execution_count": null,
   "id": "ed37e301-20f9-4d96-85be-b3922df6dd27",
   "metadata": {},
   "outputs": [],
   "source": []
  },
  {
   "cell_type": "code",
   "execution_count": null,
   "id": "ee5a97bf-19c2-425c-a680-5d9c1954b4f1",
   "metadata": {},
   "outputs": [],
   "source": []
  }
 ],
 "metadata": {
  "kernelspec": {
   "display_name": "Python [conda env:base] *",
   "language": "python",
   "name": "conda-base-py"
  },
  "language_info": {
   "codemirror_mode": {
    "name": "ipython",
    "version": 3
   },
   "file_extension": ".py",
   "mimetype": "text/x-python",
   "name": "python",
   "nbconvert_exporter": "python",
   "pygments_lexer": "ipython3",
   "version": "3.12.7"
  }
 },
 "nbformat": 4,
 "nbformat_minor": 5
}
