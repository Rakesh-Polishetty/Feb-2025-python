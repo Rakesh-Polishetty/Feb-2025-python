{
 "cells": [
  {
   "cell_type": "markdown",
   "id": "6717f35f-19b9-47c0-bfbd-1a8f642a09b2",
   "metadata": {},
   "source": [
    "**input**"
   ]
  },
  {
   "cell_type": "markdown",
   "id": "595288b2-8bfe-4a3f-9165-f285fc720d60",
   "metadata": {},
   "source": [
    "- in above we provide the value\n",
    "\n",
    "- input is the inbuild function\n",
    "\n",
    "- using input the user can provide any value"
   ]
  },
  {
   "cell_type": "code",
   "execution_count": 1,
   "id": "7104b611-27ac-4b98-a26c-50e6bcac2ee5",
   "metadata": {},
   "outputs": [
    {
     "data": {
      "text/plain": [
       "<bound method Kernel.raw_input of <ipykernel.ipkernel.IPythonKernel object at 0x00000261AC15BFE0>>"
      ]
     },
     "execution_count": 1,
     "metadata": {},
     "output_type": "execute_result"
    }
   ],
   "source": [
    "input"
   ]
  },
  {
   "cell_type": "markdown",
   "id": "9e9bdcbf-446f-49c7-a003-d46e2afe63fa",
   "metadata": {},
   "source": [
    "**note:whenever we see bound method or function it indicates we forgot the brackets**"
   ]
  },
  {
   "cell_type": "code",
   "execution_count": 5,
   "id": "c9b78bfc-f1ac-4758-a4f5-102fa438c122",
   "metadata": {},
   "outputs": [
    {
     "name": "stdin",
     "output_type": "stream",
     "text": [
      " 100\n"
     ]
    },
    {
     "data": {
      "text/plain": [
       "'100'"
      ]
     },
     "execution_count": 5,
     "metadata": {},
     "output_type": "execute_result"
    }
   ],
   "source": [
    "input()"
   ]
  },
  {
   "cell_type": "code",
   "execution_count": 7,
   "id": "e8481fc5-6fff-4b64-a9a7-eb822eb4fe1b",
   "metadata": {},
   "outputs": [
    {
     "name": "stdin",
     "output_type": "stream",
     "text": [
      " python\n"
     ]
    },
    {
     "data": {
      "text/plain": [
       "'python'"
      ]
     },
     "execution_count": 7,
     "metadata": {},
     "output_type": "execute_result"
    }
   ],
   "source": [
    "input()"
   ]
  },
  {
   "cell_type": "code",
   "execution_count": 9,
   "id": "1a5f5bb5-337d-4c33-8854-db989f9e2096",
   "metadata": {},
   "outputs": [
    {
     "data": {
      "text/plain": [
       "int"
      ]
     },
     "execution_count": 9,
     "metadata": {},
     "output_type": "execute_result"
    }
   ],
   "source": [
    "a=100\n",
    "type(a)"
   ]
  },
  {
   "cell_type": "code",
   "execution_count": 11,
   "id": "bf7dd82b-f532-4999-a3f0-e83d71001fbf",
   "metadata": {},
   "outputs": [
    {
     "name": "stdin",
     "output_type": "stream",
     "text": [
      " 200\n"
     ]
    }
   ],
   "source": [
    "b=input()"
   ]
  },
  {
   "cell_type": "code",
   "execution_count": 13,
   "id": "c9870062-7b37-42c1-960d-6c511d9ab49d",
   "metadata": {},
   "outputs": [
    {
     "data": {
      "text/plain": [
       "'200'"
      ]
     },
     "execution_count": 13,
     "metadata": {},
     "output_type": "execute_result"
    }
   ],
   "source": [
    "b"
   ]
  },
  {
   "cell_type": "code",
   "execution_count": 15,
   "id": "4fa46119-c9f0-471d-8572-1f096d38a149",
   "metadata": {},
   "outputs": [
    {
     "data": {
      "text/plain": [
       "'python'"
      ]
     },
     "execution_count": 15,
     "metadata": {},
     "output_type": "execute_result"
    }
   ],
   "source": [
    "name=\"python\"\n",
    "name"
   ]
  },
  {
   "cell_type": "code",
   "execution_count": 17,
   "id": "5511cc7b-aa6e-4340-baeb-0e9365f17a8b",
   "metadata": {},
   "outputs": [
    {
     "name": "stdin",
     "output_type": "stream",
     "text": [
      " nareshit\n"
     ]
    }
   ],
   "source": [
    "name=input()"
   ]
  },
  {
   "cell_type": "code",
   "execution_count": 19,
   "id": "2129a4f0-f928-4a62-8e41-da3abd8dfe7e",
   "metadata": {},
   "outputs": [
    {
     "data": {
      "text/plain": [
       "'nareshit'"
      ]
     },
     "execution_count": 19,
     "metadata": {},
     "output_type": "execute_result"
    }
   ],
   "source": [
    "name"
   ]
  },
  {
   "cell_type": "code",
   "execution_count": 21,
   "id": "fefa210e-c1aa-40be-a4af-dde45616c3ef",
   "metadata": {},
   "outputs": [
    {
     "name": "stdin",
     "output_type": "stream",
     "text": [
      " RAKESH\n"
     ]
    }
   ],
   "source": [
    "name=input()"
   ]
  },
  {
   "cell_type": "code",
   "execution_count": 23,
   "id": "20489e85-5b71-43a4-bee5-60abfde59a3d",
   "metadata": {},
   "outputs": [
    {
     "data": {
      "text/plain": [
       "'RAKESH'"
      ]
     },
     "execution_count": 23,
     "metadata": {},
     "output_type": "execute_result"
    }
   ],
   "source": [
    "name"
   ]
  },
  {
   "cell_type": "code",
   "execution_count": 27,
   "id": "bb9e1075-9446-44cc-98e1-a4a8b1e03f4a",
   "metadata": {},
   "outputs": [
    {
     "name": "stdin",
     "output_type": "stream",
     "text": [
      " 100\n",
      " 200\n",
      " 300\n"
     ]
    }
   ],
   "source": [
    "n1=input()\n",
    "n2=input()\n",
    "n3=input()"
   ]
  },
  {
   "cell_type": "code",
   "execution_count": 29,
   "id": "3b801f9a-eaea-41cb-bc61-2c62bab7e775",
   "metadata": {},
   "outputs": [
    {
     "data": {
      "text/plain": [
       "('100', '200', '300')"
      ]
     },
     "execution_count": 29,
     "metadata": {},
     "output_type": "execute_result"
    }
   ],
   "source": [
    "n1,n2,n3"
   ]
  },
  {
   "cell_type": "code",
   "execution_count": 37,
   "id": "a29acfdd-206a-4de8-9e17-a02d8b5f33b9",
   "metadata": {},
   "outputs": [
    {
     "name": "stdin",
     "output_type": "stream",
     "text": [
      "enter the number 1= 100\n",
      "enter the number 2= 200\n"
     ]
    }
   ],
   "source": [
    "n1=input(\"enter the number 1=\")\n",
    "n2=input(\"enter the number 2=\")\n",
    "\n",
    "#n1='100'\n",
    "#n2='200'"
   ]
  },
  {
   "cell_type": "code",
   "execution_count": 46,
   "id": "3dd7bfb5-7986-4b8f-9785-10b51a646615",
   "metadata": {},
   "outputs": [
    {
     "name": "stdin",
     "output_type": "stream",
     "text": [
      "enter the number 1= 500\n",
      "enter the number 2= 600\n"
     ]
    },
    {
     "data": {
      "text/plain": [
       "'500600'"
      ]
     },
     "execution_count": 46,
     "metadata": {},
     "output_type": "execute_result"
    }
   ],
   "source": [
    "n1=input(\"enter the number 1=\") # n1='500'\n",
    "n2=input(\"enter the number 2=\") # n2='600'\n",
    "n1+n2 # '500'+'600'='500600'"
   ]
  },
  {
   "cell_type": "markdown",
   "id": "0bcc7540-d76f-41de-a3f4-e50812d74eea",
   "metadata": {},
   "source": [
    "**input values by default string type**"
   ]
  },
  {
   "cell_type": "code",
   "execution_count": 42,
   "id": "758f82b3-273b-409c-97db-620e687eb76c",
   "metadata": {},
   "outputs": [
    {
     "data": {
      "text/plain": [
       "'100200'"
      ]
     },
     "execution_count": 42,
     "metadata": {},
     "output_type": "execute_result"
    }
   ],
   "source": [
    "'100'+'200'"
   ]
  },
  {
   "cell_type": "code",
   "execution_count": 44,
   "id": "9d6dac7c-0c18-4ca0-9203-741d4b1c5545",
   "metadata": {},
   "outputs": [
    {
     "data": {
      "text/plain": [
       "300"
      ]
     },
     "execution_count": 44,
     "metadata": {},
     "output_type": "execute_result"
    }
   ],
   "source": [
    "100+200"
   ]
  },
  {
   "cell_type": "code",
   "execution_count": 48,
   "id": "85cdb84e-1d3b-484a-a5db-76f9fd268975",
   "metadata": {},
   "outputs": [
    {
     "data": {
      "text/plain": [
       "'appleisfruit'"
      ]
     },
     "execution_count": 48,
     "metadata": {},
     "output_type": "execute_result"
    }
   ],
   "source": [
    "str1='apple'\n",
    "str2='is'\n",
    "str3='fruit'\n",
    "str1+str2+str3"
   ]
  },
  {
   "cell_type": "code",
   "execution_count": 58,
   "id": "f693d634-a45b-448a-9dd8-369f6a8d2a39",
   "metadata": {},
   "outputs": [
    {
     "name": "stdin",
     "output_type": "stream",
     "text": [
      "enter a string1:  apple\n",
      "enter a string2:  is\n",
      "enter a string3:  fruit\n"
     ]
    },
    {
     "data": {
      "text/plain": [
       "' apple is fruit'"
      ]
     },
     "execution_count": 58,
     "metadata": {},
     "output_type": "execute_result"
    }
   ],
   "source": [
    "str1=input(\"enter a string1:\")\n",
    "str2=input(\"enter a string2:\")\n",
    "str3=input(\"enter a string3:\")\n",
    "str1+str2+str3"
   ]
  },
  {
   "cell_type": "code",
   "execution_count": 60,
   "id": "b1a22c74-18d3-46ce-93fd-91e80d0ee367",
   "metadata": {},
   "outputs": [
    {
     "name": "stdin",
     "output_type": "stream",
     "text": [
      "enter the number 1= 500\n",
      "enter the number 2= 600\n"
     ]
    },
    {
     "data": {
      "text/plain": [
       "1100"
      ]
     },
     "execution_count": 60,
     "metadata": {},
     "output_type": "execute_result"
    }
   ],
   "source": [
    "n1=int(input(\"enter the number 1=\")) # n1=int('500')=500\n",
    "n2=int(input(\"enter the number 2=\")) # n2=int('600')=600\n",
    "n1+n2 # 500+600= 1100"
   ]
  },
  {
   "cell_type": "code",
   "execution_count": 64,
   "id": "f2cfcbbf-41fe-4171-8179-920f3669f231",
   "metadata": {},
   "outputs": [
    {
     "data": {
      "text/plain": [
       "1100"
      ]
     },
     "execution_count": 64,
     "metadata": {},
     "output_type": "execute_result"
    }
   ],
   "source": [
    "n1=int('500')\n",
    "n2=int('600')\n",
    "n1+n2"
   ]
  },
  {
   "cell_type": "code",
   "execution_count": 71,
   "id": "b19f8460-1fe0-4144-bd4f-9d924efa1ff3",
   "metadata": {},
   "outputs": [
    {
     "name": "stdin",
     "output_type": "stream",
     "text": [
      "enter the number 1= 500\n",
      "enter the number 2= 600\n"
     ]
    },
    {
     "data": {
      "text/plain": [
       "1100"
      ]
     },
     "execution_count": 71,
     "metadata": {},
     "output_type": "execute_result"
    }
   ],
   "source": [
    "n1=(input(\"enter the number 1=\")) # n1=int('500')=500\n",
    "n2=(input(\"enter the number 2=\")) # n2=int('600')=600\n",
    "int(n1)+int(n2) # 500+600= 1100"
   ]
  },
  {
   "cell_type": "code",
   "execution_count": null,
   "id": "4aa22618-9699-4881-a1cf-ce23181c1f98",
   "metadata": {},
   "outputs": [],
   "source": [
    "n1=int(input(\"enter the number 1=\")) # n1=int('500')=500\n",
    "n2=int(input(\"enter the number 2=\")) # n2=int('600')=600\n",
    "n1+n2 # 500+600= 1100\n",
    "\n",
    "n1=(input(\"enter the number 1=\")) # n1=int('500')=500\n",
    "n2=(input(\"enter the number 2=\")) # n2=int('600')=600\n",
    "int(n1)+int(n2) # 500+600= 1100"
   ]
  },
  {
   "cell_type": "code",
   "execution_count": 73,
   "id": "f34e49dc-1229-4ca6-9d0c-9a2ccc6141e4",
   "metadata": {},
   "outputs": [
    {
     "name": "stdin",
     "output_type": "stream",
     "text": [
      "enter the number 1= 10.5\n",
      "enter the number 2= 20\n"
     ]
    },
    {
     "data": {
      "text/plain": [
       "30.5"
      ]
     },
     "execution_count": 73,
     "metadata": {},
     "output_type": "execute_result"
    }
   ],
   "source": [
    "n1=float(input(\"enter the number 1=\")) \n",
    "n2=int(input(\"enter the number 2=\")) \n",
    "(n1)+(n2) "
   ]
  },
  {
   "cell_type": "markdown",
   "id": "1c76202d-532b-4840-8f05-b749fd35bd46",
   "metadata": {},
   "source": [
    "**eval**"
   ]
  },
  {
   "cell_type": "markdown",
   "id": "a073674d-883c-4ec7-bac3-54a97fcee37b",
   "metadata": {},
   "source": [
    "- eval means evaluate\n",
    "\n",
    "- it is related to math family\n",
    "\n",
    "- which means it only works on number which represent as string\n",
    "\n",
    "- it will not work on the english letters\n",
    "\n",
    "- it will convert the respective data type which is user enter\n",
    "\n",
    "- if user enter 10 in quotes then it will convert into 10\n",
    "\n",
    "- if user enter 10.5 in quotes then it will convert into 10.5"
   ]
  },
  {
   "cell_type": "code",
   "execution_count": null,
   "id": "219d382d-2f8e-44d3-a0ea-cdd8ab7a5171",
   "metadata": {},
   "outputs": [],
   "source": [
    "int('10')     # works=10\n",
    "int('10.5')   # fails\n",
    "\n",
    "float('10')   # works=10.0\n",
    "float('10.5')  # works=10.5"
   ]
  },
  {
   "cell_type": "code",
   "execution_count": 91,
   "id": "ccd626a7-531b-4b1f-b502-5692055dfd88",
   "metadata": {},
   "outputs": [
    {
     "data": {
      "text/plain": [
       "(10, 10.5)"
      ]
     },
     "execution_count": 91,
     "metadata": {},
     "output_type": "execute_result"
    }
   ],
   "source": [
    "eval('10'), eval('10.5')"
   ]
  },
  {
   "cell_type": "code",
   "execution_count": 93,
   "id": "19caa820-aeae-4441-8125-9dd5d72e82ca",
   "metadata": {},
   "outputs": [
    {
     "name": "stdin",
     "output_type": "stream",
     "text": [
      "enter the number 1= 30\n",
      "enter the number 2= 20.4\n"
     ]
    },
    {
     "data": {
      "text/plain": [
       "50.4"
      ]
     },
     "execution_count": 93,
     "metadata": {},
     "output_type": "execute_result"
    }
   ],
   "source": [
    "n1=eval(input(\"enter the number 1=\"))\n",
    "n2=eval(input(\"enter the number 2=\"))\n",
    "n1+n2"
   ]
  },
  {
   "cell_type": "code",
   "execution_count": null,
   "id": "8ad96a92-4302-428e-a1d8-d2f656170604",
   "metadata": {},
   "outputs": [],
   "source": [
    "# 1)wap ask the user enter 3 numbers n1,n2,n3 from ketboard\n",
    "# calculate average\n",
    "\n",
    "# 2)wap ask the user enter name age city\n",
    "# print my name is python im 10 years old and came from hyd\n",
    "\n",
    "# 3)wap ask the user to enter radidus of a circle calculate area of the circle\n",
    "# var: radidus  var: pi=3.14\n",
    "# formuale: pi*radius*radius\n",
    "# print the answers using f string and format\n",
    "\n",
    "# 4)wap ask the user enter breadth and height of a right angle triangle\n",
    "# calculate the area\n",
    "# var1: bredath  var2: height\n",
    "# formuale : 0.5*breadth*heigh\n",
    "\n",
    "# 5)wap ask the user the bill amount and tip amount\n",
    "#   calculate total bill\n",
    "#   var1: bill amount var2: tip amount\n",
    "#   formuale\n",
    "\n",
    "# 6)wap ask the user the bill amount and tip percentage\n",
    "#    take tip percentage as 10\n",
    "#   calculate total bill= bill amount+ bill amount*tip per/100\n",
    "#   var1: bill amount var2: tip amount\n",
    "#    formuale\n",
    "\n",
    "# 7)wap ask the length and breadth of a rectangle calculate area\n",
    "#   var1: length  var2: breadth\n",
    "#   formulae: length * breadth\n",
    "\n",
    "# 8) wap ask the user take the radius and calculate volume of sphere\n",
    "#   formulae: pi*r**3(pi*r*r*r)\n",
    "\n",
    "# 9) wap ask the user enter amount in dollars convert into rupees\n",
    "#     1$=85rs\n",
    "\n",
    "# 10)wap ask the user enter weight in kgs convert into pounds\n",
    "#    1kg= 2.2pounds"
   ]
  },
  {
   "cell_type": "markdown",
   "id": "07e1cb7e-6184-45fb-a32d-ba0bacab8d7a",
   "metadata": {},
   "source": [
    "- strings or english does not require eval"
   ]
  },
  {
   "cell_type": "code",
   "execution_count": null,
   "id": "2f9ce2e3-9b87-4aca-835e-c2f71e32df83",
   "metadata": {},
   "outputs": [],
   "source": []
  },
  {
   "cell_type": "code",
   "execution_count": null,
   "id": "7c6266b8-1369-48d6-9e5e-b9f3c8aab33c",
   "metadata": {},
   "outputs": [],
   "source": []
  }
 ],
 "metadata": {
  "kernelspec": {
   "display_name": "Python [conda env:base] *",
   "language": "python",
   "name": "conda-base-py"
  },
  "language_info": {
   "codemirror_mode": {
    "name": "ipython",
    "version": 3
   },
   "file_extension": ".py",
   "mimetype": "text/x-python",
   "name": "python",
   "nbconvert_exporter": "python",
   "pygments_lexer": "ipython3",
   "version": "3.12.7"
  }
 },
 "nbformat": 4,
 "nbformat_minor": 5
}
