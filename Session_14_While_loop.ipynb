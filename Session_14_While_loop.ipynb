{
 "cells": [
  {
   "cell_type": "markdown",
   "id": "1b0c162f-1372-4f54-86fa-f668d1a5ed23",
   "metadata": {},
   "source": [
    "# While loop\n",
    "\n",
    "- initialization to start\n",
    "\n",
    "- increment or decrement\n",
    "\n",
    "- condition to stop"
   ]
  },
  {
   "cell_type": "code",
   "execution_count": null,
   "id": "bd7b544b-cab6-454a-b7f2-47f74dea552b",
   "metadata": {},
   "outputs": [],
   "source": [
    "for i in range(1,10)\n",
    "in a single line we have start=1 increment=+1 stop=10-1=9"
   ]
  },
  {
   "cell_type": "code",
   "execution_count": null,
   "id": "a119ab2d-50db-4874-87d4-3207851603ad",
   "metadata": {},
   "outputs": [],
   "source": [
    "<initialization>\n",
    "\n",
    "while <condition>:\n",
    "    # write your code here\n",
    "\n",
    "    increment/decrement"
   ]
  },
  {
   "cell_type": "code",
   "execution_count": 9,
   "id": "8d678328-6fb6-4188-a26d-a60b85b0531f",
   "metadata": {},
   "outputs": [
    {
     "name": "stdout",
     "output_type": "stream",
     "text": [
      "1 2 3 4 5 6 7 8 9 "
     ]
    }
   ],
   "source": [
    "for i in range(1,10):\n",
    "    print(i,end=' ')"
   ]
  },
  {
   "cell_type": "code",
   "execution_count": 7,
   "id": "8cc3e387-5a92-4da0-a3ff-a45c5200a6a1",
   "metadata": {},
   "outputs": [
    {
     "name": "stdout",
     "output_type": "stream",
     "text": [
      "1 2 3 4 5 6 7 8 9 "
     ]
    }
   ],
   "source": [
    "# for i in range(1,10) ====> 3 lines\n",
    "\n",
    "i=1\n",
    "while i<10:\n",
    "    print(i,end=' ')\n",
    "    i=i+1"
   ]
  },
  {
   "cell_type": "code",
   "execution_count": 21,
   "id": "85a1639c-9b1a-4e18-b496-49fe0c8eeb36",
   "metadata": {},
   "outputs": [
    {
     "name": "stdout",
     "output_type": "stream",
     "text": [
      "1 2 3 4 5 6 7 8 9 10 11 12 13 14 15 16 17 18 19 20 21 22 23 24 25 26 27 28 29 30 31 32 33 34 35 36 37 38 39 40 41 42 43 44 45 46 47 48 49 50 51 52 53 54 55 56 57 58 59 60 61 62 63 64 65 66 67 68 69 70 71 72 73 74 75 76 77 78 79 80 81 82 83 84 85 86 87 88 89 90 91 92 93 94 95 96 97 98 99 "
     ]
    }
   ],
   "source": [
    "i=1\n",
    "while i<100:\n",
    "    print(i,end=' ')\n",
    "    i=i+1"
   ]
  },
  {
   "cell_type": "code",
   "execution_count": 51,
   "id": "e37d878b-66b5-459b-9aa6-dc5da3055f9a",
   "metadata": {},
   "outputs": [
    {
     "name": "stdout",
     "output_type": "stream",
     "text": [
      "1 2 3 4 5 6 7 8 9 10 "
     ]
    }
   ],
   "source": [
    "# Q1)\n",
    "i=1\n",
    "while i<11:\n",
    "    print(i,end=' ')\n",
    "    i=i+1"
   ]
  },
  {
   "cell_type": "code",
   "execution_count": 57,
   "id": "6062c36d-f678-4a8e-8b95-92066e34cf76",
   "metadata": {},
   "outputs": [
    {
     "name": "stdout",
     "output_type": "stream",
     "text": [
      "10 9 8 7 6 5 4 3 2 1 "
     ]
    }
   ],
   "source": [
    "# Q2)\n",
    "\n",
    "i=10\n",
    "while i>=1:\n",
    "    print(i,end=' ')\n",
    "    i=i-1"
   ]
  },
  {
   "cell_type": "code",
   "execution_count": 63,
   "id": "39cf2ee3-738a-45d1-a158-7ae05bdedfd5",
   "metadata": {},
   "outputs": [
    {
     "name": "stdout",
     "output_type": "stream",
     "text": [
      "-1 -2 -3 -4 -5 -6 -7 -8 -9 -10 "
     ]
    }
   ],
   "source": [
    "#Q3)\n",
    "\n",
    "i=-1\n",
    "while i>=-10:\n",
    "    print(i,end=' ')\n",
    "    i=i-1"
   ]
  },
  {
   "cell_type": "code",
   "execution_count": 65,
   "id": "c19c7ee7-0456-4b72-be63-4f9d7f46d552",
   "metadata": {},
   "outputs": [
    {
     "name": "stdout",
     "output_type": "stream",
     "text": [
      "-10 -9 -8 -7 -6 -5 -4 -3 -2 -1 "
     ]
    }
   ],
   "source": [
    "#Q4)\n",
    "\n",
    "i=-10\n",
    "while i<=-1:\n",
    "    print(i,end=' ')\n",
    "    i=i+1"
   ]
  },
  {
   "cell_type": "code",
   "execution_count": 69,
   "id": "3f5aafc0-e901-4bed-bf9e-b90e086d436e",
   "metadata": {},
   "outputs": [
    {
     "name": "stdout",
     "output_type": "stream",
     "text": [
      "-20 -19 -18 -17 -16 -15 -14 -13 -12 -11 -10 -9 -8 -7 -6 -5 -4 -3 -2 -1 "
     ]
    }
   ],
   "source": [
    "i=-20\n",
    "while i<=-1:\n",
    "    print(i,end=' ')\n",
    "    i=i+1"
   ]
  },
  {
   "cell_type": "code",
   "execution_count": 5,
   "id": "2e28ae27-2c37-4c29-b07e-bbcde1bce9c1",
   "metadata": {},
   "outputs": [
    {
     "name": "stdout",
     "output_type": "stream",
     "text": [
      "10 9 8 7 6 5 4 3 2 1 "
     ]
    }
   ],
   "source": [
    "#Q2)\n",
    "i=10\n",
    "while True:\n",
    "    print(i, end=' ')\n",
    "    i=i-1\n",
    "    if i==0:\n",
    "        break"
   ]
  },
  {
   "cell_type": "code",
   "execution_count": 9,
   "id": "9ca6a8ac-8bfa-46dd-ba3b-cc6f5a011553",
   "metadata": {},
   "outputs": [
    {
     "name": "stdout",
     "output_type": "stream",
     "text": [
      "1 3 5 7 9 11 13 15 17 19 "
     ]
    }
   ],
   "source": [
    "i=1\n",
    "while i<=20:\n",
    "    print(i,end=' ')\n",
    "    i=i+2"
   ]
  },
  {
   "cell_type": "code",
   "execution_count": 13,
   "id": "3dbd8833-90f7-427f-af52-6d219753fd13",
   "metadata": {},
   "outputs": [
    {
     "name": "stdout",
     "output_type": "stream",
     "text": [
      "3 1 -1 -3 -5 -7 -9 -11 -13 -15 -17 -19 "
     ]
    }
   ],
   "source": [
    "i=3\n",
    "while i>=-19:\n",
    "    print(i,end=' ')\n",
    "    i=i-2"
   ]
  },
  {
   "cell_type": "code",
   "execution_count": 23,
   "id": "67aa3012-2b22-4a17-abdb-5ef26c07c5e0",
   "metadata": {},
   "outputs": [
    {
     "name": "stdin",
     "output_type": "stream",
     "text": [
      "enter a number: 7\n"
     ]
    },
    {
     "name": "stdout",
     "output_type": "stream",
     "text": [
      "7x1=7\n",
      "7x2=14\n",
      "7x3=21\n",
      "7x4=28\n",
      "7x5=35\n",
      "7x6=42\n",
      "7x7=49\n",
      "7x8=56\n",
      "7x9=63\n",
      "7x10=70\n"
     ]
    }
   ],
   "source": [
    "i=1\n",
    "num=eval(input('enter a number:'))\n",
    "while i<11:\n",
    "    print(f'{num}x{i}={num*i}')\n",
    "    i=i+1"
   ]
  },
  {
   "cell_type": "code",
   "execution_count": 1,
   "id": "ffeb1b80-9ec1-4c27-a656-b43aecaddf3f",
   "metadata": {},
   "outputs": [
    {
     "name": "stdin",
     "output_type": "stream",
     "text": [
      " 75\n"
     ]
    },
    {
     "name": "stdout",
     "output_type": "stream",
     "text": [
      "1 is a divisor of 75\n",
      "3 is a divisor of 75\n",
      "5 is a divisor of 75\n",
      "15 is a divisor of 75\n",
      "25 is a divisor of 75\n",
      "75 is a divisor of 75\n"
     ]
    }
   ],
   "source": [
    "# Q) find the divisors of 75\n",
    "\n",
    "i=1\n",
    "n=eval(input())\n",
    "while i<=75:\n",
    "    if n%i==0:\n",
    "        print(f'{i} is a divisor of {n}')\n",
    "    i=i+1"
   ]
  },
  {
   "cell_type": "code",
   "execution_count": 7,
   "id": "456363af-eb01-43b9-a96b-c42902de3c0e",
   "metadata": {},
   "outputs": [
    {
     "name": "stdout",
     "output_type": "stream",
     "text": [
      "the sum of first 10 natural numbers is 55\n"
     ]
    }
   ],
   "source": [
    "# Q6) sum of first 10 natural numbers\n",
    "i=1\n",
    "summ=0\n",
    "while i<=10:\n",
    "    summ=summ+i\n",
    "    i=i+1\n",
    "print(f'the sum of first 10 natural numbers is {summ}')"
   ]
  },
  {
   "cell_type": "code",
   "execution_count": 13,
   "id": "6bd1ccc1-4d87-463c-b115-38690b2cb22a",
   "metadata": {},
   "outputs": [
    {
     "name": "stdin",
     "output_type": "stream",
     "text": [
      " 75\n"
     ]
    },
    {
     "name": "stdout",
     "output_type": "stream",
     "text": [
      "the sum of divisors of 75 is 124\n"
     ]
    }
   ],
   "source": [
    "# Q7) find the sum of divisors of 75\n",
    "\n",
    "i=1\n",
    "summ=0\n",
    "n=eval(input())\n",
    "while i<=75:\n",
    "    if n%i==0:\n",
    "        summ=summ+i\n",
    "    i=i+1\n",
    "print(f'the sum of divisors of 75 is {summ}')"
   ]
  },
  {
   "cell_type": "code",
   "execution_count": 7,
   "id": "0eb922d4-a23f-43d6-bc40-4be221bc8adc",
   "metadata": {},
   "outputs": [
    {
     "name": "stdin",
     "output_type": "stream",
     "text": [
      "enter a number2: 6\n"
     ]
    },
    {
     "name": "stdout",
     "output_type": "stream",
     "text": [
      "fail\n",
      "fail\n",
      "fail\n"
     ]
    }
   ],
   "source": [
    "import random\n",
    "i=1\n",
    "num1=random.randint(1,10)\n",
    "num2=eval(input('enter a number2:'))\n",
    "while i<=3:\n",
    "    if num1==num2:\n",
    "        print('won')\n",
    "        break\n",
    "    else:\n",
    "        print('fail')\n",
    "    i=i+1"
   ]
  },
  {
   "cell_type": "code",
   "execution_count": 1,
   "id": "13200655-9f63-4d04-83a7-b22a4bf6f51d",
   "metadata": {},
   "outputs": [
    {
     "name": "stdin",
     "output_type": "stream",
     "text": [
      "enter a number2: 6\n"
     ]
    },
    {
     "name": "stdout",
     "output_type": "stream",
     "text": [
      "won\n"
     ]
    }
   ],
   "source": [
    "import random\n",
    "i=1\n",
    "num1=random.randint(1,10)\n",
    "num2=eval(input('enter a number2:'))\n",
    "while True:\n",
    "    if i<=3:   \n",
    "        if num1==num2:\n",
    "            print('won')\n",
    "            break\n",
    "        else:\n",
    "            print('fail')\n",
    "    i=i+1"
   ]
  },
  {
   "cell_type": "code",
   "execution_count": 5,
   "id": "739a641d-d860-4833-9b17-cfd0338fbd00",
   "metadata": {},
   "outputs": [
    {
     "name": "stdout",
     "output_type": "stream",
     "text": [
      "1\n"
     ]
    },
    {
     "name": "stdin",
     "output_type": "stream",
     "text": [
      "enter a number2: 1\n"
     ]
    },
    {
     "name": "stdout",
     "output_type": "stream",
     "text": [
      "won\n"
     ]
    }
   ],
   "source": [
    "import random\n",
    "while True:\n",
    "    num1=random.randint(1,10)\n",
    "    print(num1)\n",
    "    num2=eval(input('enter a number2:'))  \n",
    "    if num1==num2:\n",
    "        print('won')\n",
    "        break\n",
    "    else:\n",
    "        print('fail')"
   ]
  },
  {
   "cell_type": "code",
   "execution_count": 17,
   "id": "7521ecd4-3655-4589-ab89-bce5513c99ea",
   "metadata": {},
   "outputs": [
    {
     "name": "stdout",
     "output_type": "stream",
     "text": [
      "30 is even\n",
      "19 is odd\n",
      "8 is even\n",
      "84 is even\n",
      "17 is odd\n",
      "the sum of even numbers is 122\n",
      "the sum of odd numbers is 36\n",
      "the number of even numbers is 3\n",
      "the number of odd numbers is 2\n"
     ]
    }
   ],
   "source": [
    "# Q8)\n",
    "# ask the user to get 5 random numbers\n",
    "# means you need to get a random number inside the loop\n",
    "# the loop should run 5 times\n",
    "# now perform even and odd operation\n",
    "# 1) even count # 2) sum of even numbers # 3) odd count # 4) sum of odd numbers\n",
    "\n",
    "import random\n",
    "even_count,odd_count=0,0\n",
    "even_summ,odd_summ=0,0\n",
    "\n",
    "i=1\n",
    "while i<=5:\n",
    "    num=random.randint(1,100)\n",
    "    if num%2==0:\n",
    "        print(f'{num} is even')\n",
    "        even_count=even_count+1\n",
    "        even_summ=even_summ+num\n",
    "    else:\n",
    "        print(f'{num} is odd')\n",
    "        odd_count=odd_count+1\n",
    "        odd_summ=odd_summ+num\n",
    "    i=i+1\n",
    "\n",
    "print(f'the sum of even numbers is {even_summ}')\n",
    "print(f'the sum of odd numbers is {odd_summ}')\n",
    "print(f'the number of even numbers is {even_count}')\n",
    "print(f'the number of odd numbers is {odd_count}')"
   ]
  },
  {
   "cell_type": "code",
   "execution_count": 9,
   "id": "7332cef8-45e4-40ed-a559-87f6452c6468",
   "metadata": {},
   "outputs": [
    {
     "name": "stdin",
     "output_type": "stream",
     "text": [
      "enter a number num1: 6\n"
     ]
    },
    {
     "name": "stdout",
     "output_type": "stream",
     "text": [
      "better luck next time\n"
     ]
    },
    {
     "name": "stdin",
     "output_type": "stream",
     "text": [
      "enter a number num1: 5\n"
     ]
    },
    {
     "name": "stdout",
     "output_type": "stream",
     "text": [
      "better luck next time\n"
     ]
    },
    {
     "name": "stdin",
     "output_type": "stream",
     "text": [
      "enter a number num1: 4\n"
     ]
    },
    {
     "name": "stdout",
     "output_type": "stream",
     "text": [
      "better luck next time\n"
     ]
    }
   ],
   "source": [
    "# Q9) \n",
    "import random\n",
    "i=1\n",
    "while i<=3:\n",
    "    num1=random.randint(1,10)\n",
    "    num2=eval(input(\"enter a number num1:\"))\n",
    "    if num1==num2:\n",
    "        print(\"you won\")\n",
    "        break\n",
    "    else:\n",
    "        print(\"better luck next time\")\n",
    "        i=i+1"
   ]
  },
  {
   "cell_type": "code",
   "execution_count": 13,
   "id": "0765194c-2d91-432c-b6e9-f1335299a818",
   "metadata": {},
   "outputs": [
    {
     "name": "stdin",
     "output_type": "stream",
     "text": [
      "enter a number num1: 3\n"
     ]
    },
    {
     "name": "stdout",
     "output_type": "stream",
     "text": [
      "better luck next time\n",
      "you have 2 chances left\n"
     ]
    },
    {
     "name": "stdin",
     "output_type": "stream",
     "text": [
      "enter a number num1: 2\n"
     ]
    },
    {
     "name": "stdout",
     "output_type": "stream",
     "text": [
      "better luck next time\n",
      "you have 1 chances left\n"
     ]
    },
    {
     "name": "stdin",
     "output_type": "stream",
     "text": [
      "enter a number num1: 1\n"
     ]
    },
    {
     "name": "stdout",
     "output_type": "stream",
     "text": [
      "better luck next time\n",
      "you have 0 chances left\n",
      "try after 24 hours\n"
     ]
    }
   ],
   "source": [
    "i=1\n",
    "while i<=3:\n",
    "    num1=random.randint(1,10)\n",
    "    num2=eval(input(\"enter a number num1:\"))\n",
    "    if num1==num2:\n",
    "        print(\"you won\")\n",
    "        break\n",
    "    else:\n",
    "        print(\"better luck next time\")\n",
    "        print(f'you have {3-i} chances left')\n",
    "        if i==3:\n",
    "            print('try after 24 hours')\n",
    "        i=i+1"
   ]
  },
  {
   "cell_type": "code",
   "execution_count": null,
   "id": "ab5a409a-f98e-4d33-9f3a-15e5bd457207",
   "metadata": {},
   "outputs": [],
   "source": []
  }
 ],
 "metadata": {
  "kernelspec": {
   "display_name": "Python [conda env:base] *",
   "language": "python",
   "name": "conda-base-py"
  },
  "language_info": {
   "codemirror_mode": {
    "name": "ipython",
    "version": 3
   },
   "file_extension": ".py",
   "mimetype": "text/x-python",
   "name": "python",
   "nbconvert_exporter": "python",
   "pygments_lexer": "ipython3",
   "version": "3.12.7"
  }
 },
 "nbformat": 4,
 "nbformat_minor": 5
}
