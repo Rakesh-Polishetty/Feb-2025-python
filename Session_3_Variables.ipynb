{
 "cells": [
  {
   "cell_type": "markdown",
   "id": "fc44bd60-223c-421a-b9df-c0b2db696590",
   "metadata": {},
   "source": [
    "# Variables"
   ]
  },
  {
   "cell_type": "markdown",
   "id": "12262020-19a1-4ada-90d9-7b3755690d8c",
   "metadata": {},
   "source": [
    "- we are doing this to check if\n",
    "\n",
    "- it is working or not\n",
    "\n",
    "- please work"
   ]
  },
  {
   "cell_type": "markdown",
   "id": "5e042628-7576-43fd-aa1a-2c8979245deb",
   "metadata": {},
   "source": [
    "- Variables are used to store the data\n",
    "\n",
    "- The Data can be change\n",
    "\n",
    "- These Variables can be use to manipulate python code"
   ]
  },
  {
   "cell_type": "code",
   "execution_count": 3,
   "id": "81a74b9c-ee43-4b7d-8b1a-360b88976ea7",
   "metadata": {},
   "outputs": [
    {
     "data": {
      "text/plain": [
       "100"
      ]
     },
     "execution_count": 3,
     "metadata": {},
     "output_type": "execute_result"
    }
   ],
   "source": [
    "number=100\n",
    "# 100 is stored in a variable called as number\n",
    "number"
   ]
  },
  {
   "cell_type": "code",
   "execution_count": 6,
   "id": "30ac699a-d6dd-4b34-b444-6eb70f26a987",
   "metadata": {},
   "outputs": [
    {
     "data": {
      "text/plain": [
       "200"
      ]
     },
     "execution_count": 6,
     "metadata": {},
     "output_type": "execute_result"
    }
   ],
   "source": [
    "NUMBER=200\n",
    "NUMBER"
   ]
  },
  {
   "cell_type": "code",
   "execution_count": 8,
   "id": "67691705-bf94-411c-b085-277325d995c6",
   "metadata": {},
   "outputs": [
    {
     "data": {
      "text/plain": [
       "(100, 200)"
      ]
     },
     "execution_count": 8,
     "metadata": {},
     "output_type": "execute_result"
    }
   ],
   "source": [
    "number, NUMBER"
   ]
  },
  {
   "cell_type": "code",
   "execution_count": 10,
   "id": "4c674580-798a-40a9-9f48-77b9964cf4a1",
   "metadata": {},
   "outputs": [
    {
     "data": {
      "text/plain": [
       "300"
      ]
     },
     "execution_count": 10,
     "metadata": {},
     "output_type": "execute_result"
    }
   ],
   "source": [
    "NUMber=300\n",
    "NUMber"
   ]
  },
  {
   "cell_type": "code",
   "execution_count": 12,
   "id": "c4ccea60-e922-4771-a28a-43a5e6c0640e",
   "metadata": {},
   "outputs": [
    {
     "data": {
      "text/plain": [
       "(100, 200, 300)"
      ]
     },
     "execution_count": 12,
     "metadata": {},
     "output_type": "execute_result"
    }
   ],
   "source": [
    "number, NUMBER, NUMber"
   ]
  },
  {
   "cell_type": "code",
   "execution_count": 14,
   "id": "3fac5418-5817-407c-9c69-3542aba2dcbf",
   "metadata": {},
   "outputs": [
    {
     "data": {
      "text/plain": [
       "400"
      ]
     },
     "execution_count": 14,
     "metadata": {},
     "output_type": "execute_result"
    }
   ],
   "source": [
    "number123=400\n",
    "number123"
   ]
  },
  {
   "cell_type": "code",
   "execution_count": 17,
   "id": "e219f7e0-e059-4f25-bb60-c3829687bb11",
   "metadata": {},
   "outputs": [
    {
     "ename": "SyntaxError",
     "evalue": "invalid decimal literal (1181908654.py, line 1)",
     "output_type": "error",
     "traceback": [
      "\u001b[1;36m  Cell \u001b[1;32mIn[17], line 1\u001b[1;36m\u001b[0m\n\u001b[1;33m    123number=500\u001b[0m\n\u001b[1;37m      ^\u001b[0m\n\u001b[1;31mSyntaxError\u001b[0m\u001b[1;31m:\u001b[0m invalid decimal literal\n"
     ]
    }
   ],
   "source": [
    "123number=500\n",
    "123number "
   ]
  },
  {
   "cell_type": "markdown",
   "id": "4bb06870-9737-4a89-8110-55a20f81cbbb",
   "metadata": {},
   "source": [
    "**Note**:\n",
    "\n",
    "- Variables are generally in black color\n",
    "\n",
    "- Green color should not be variables\n",
    "\n",
    "- numbers as suffix can work\n",
    "\n",
    "- number as prefix will fail"
   ]
  },
  {
   "cell_type": "code",
   "execution_count": 19,
   "id": "f88d6ff3-5141-4171-bc4e-77e59795c59d",
   "metadata": {},
   "outputs": [
    {
     "ename": "SyntaxError",
     "evalue": "invalid syntax (988349833.py, line 1)",
     "output_type": "error",
     "traceback": [
      "\u001b[1;36m  Cell \u001b[1;32mIn[19], line 1\u001b[1;36m\u001b[0m\n\u001b[1;33m    number$=600\u001b[0m\n\u001b[1;37m          ^\u001b[0m\n\u001b[1;31mSyntaxError\u001b[0m\u001b[1;31m:\u001b[0m invalid syntax\n"
     ]
    }
   ],
   "source": [
    "number$=600\n",
    "number$"
   ]
  },
  {
   "cell_type": "markdown",
   "id": "98204686-0e9d-4349-b9ed-9b113e2e4d30",
   "metadata": {},
   "source": [
    "- special charecters are not allowed"
   ]
  },
  {
   "cell_type": "code",
   "execution_count": 22,
   "id": "e8d76f1e-5f30-443e-83b2-470e2e252e3c",
   "metadata": {},
   "outputs": [
    {
     "ename": "SyntaxError",
     "evalue": "invalid syntax (3486595279.py, line 1)",
     "output_type": "error",
     "traceback": [
      "\u001b[1;36m  Cell \u001b[1;32mIn[22], line 1\u001b[1;36m\u001b[0m\n\u001b[1;33m    number one=200\u001b[0m\n\u001b[1;37m           ^\u001b[0m\n\u001b[1;31mSyntaxError\u001b[0m\u001b[1;31m:\u001b[0m invalid syntax\n"
     ]
    }
   ],
   "source": [
    "number one=200\n",
    "number one"
   ]
  },
  {
   "cell_type": "code",
   "execution_count": 24,
   "id": "bea4c992-f601-42bb-82d0-279d9700c12c",
   "metadata": {},
   "outputs": [
    {
     "data": {
      "text/plain": [
       "300"
      ]
     },
     "execution_count": 24,
     "metadata": {},
     "output_type": "execute_result"
    }
   ],
   "source": [
    "number_one=300\n",
    "number_one"
   ]
  },
  {
   "cell_type": "code",
   "execution_count": 31,
   "id": "9500d884-2413-4db5-8ed8-da18c5b0253e",
   "metadata": {},
   "outputs": [
    {
     "data": {
      "text/plain": [
       "900"
      ]
     },
     "execution_count": 31,
     "metadata": {},
     "output_type": "execute_result"
    }
   ],
   "source": [
    "_=900\n",
    "_"
   ]
  },
  {
   "cell_type": "markdown",
   "id": "6975e212-884a-479a-b25a-404331623f48",
   "metadata": {},
   "source": [
    "- space special charecter not allowed\n",
    "\n",
    "- only underscore is allowed in variables"
   ]
  },
  {
   "cell_type": "code",
   "execution_count": 34,
   "id": "d350d2e2-ba97-4b96-944a-3f1efe303132",
   "metadata": {},
   "outputs": [
    {
     "ename": "SyntaxError",
     "evalue": "invalid syntax (4067401087.py, line 1)",
     "output_type": "error",
     "traceback": [
      "\u001b[1;36m  Cell \u001b[1;32mIn[34], line 1\u001b[1;36m\u001b[0m\n\u001b[1;33m    if=1000\u001b[0m\n\u001b[1;37m      ^\u001b[0m\n\u001b[1;31mSyntaxError\u001b[0m\u001b[1;31m:\u001b[0m invalid syntax\n"
     ]
    }
   ],
   "source": [
    "if=1000"
   ]
  },
  {
   "cell_type": "markdown",
   "id": "6949491e-2f02-4f1b-81e6-217d7a4f8d68",
   "metadata": {},
   "source": [
    "- keywords cannot be used as variables"
   ]
  }
 ],
 "metadata": {
  "kernelspec": {
   "display_name": "Python [conda env:base] *",
   "language": "python",
   "name": "conda-base-py"
  },
  "language_info": {
   "codemirror_mode": {
    "name": "ipython",
    "version": 3
   },
   "file_extension": ".py",
   "mimetype": "text/x-python",
   "name": "python",
   "nbconvert_exporter": "python",
   "pygments_lexer": "ipython3",
   "version": "3.12.7"
  }
 },
 "nbformat": 4,
 "nbformat_minor": 5
}
