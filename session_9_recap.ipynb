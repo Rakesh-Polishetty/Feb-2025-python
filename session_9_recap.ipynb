{
 "cells": [
  {
   "cell_type": "code",
   "execution_count": 8,
   "id": "4c453e86-d29c-4066-a714-ca5d6bd78109",
   "metadata": {},
   "outputs": [],
   "source": [
    "import random\n",
    "random.randint\n",
    "\n",
    "from random import randint\n",
    "\n",
    "from random import randint as virat"
   ]
  },
  {
   "cell_type": "code",
   "execution_count": 10,
   "id": "de1136a3-80de-414c-a8a5-3f9dcc5f03eb",
   "metadata": {},
   "outputs": [],
   "source": [
    "import random\n",
    "import math\n",
    "import time"
   ]
  },
  {
   "cell_type": "code",
   "execution_count": 12,
   "id": "33a72ca5-d408-4123-a6b5-0823ae6b2151",
   "metadata": {},
   "outputs": [
    {
     "name": "stdout",
     "output_type": "stream",
     "text": [
      "48.333333333333336\n",
      "the average of 61,3 and 81 is 49\n"
     ]
    }
   ],
   "source": [
    "# 1)wap ask the user enter 3 numbers n1,n2,n3 from ketboard\n",
    "# calculate average\n",
    "\n",
    "n1=random.randint(1,100)\n",
    "n2=random.randint(1,100)\n",
    "n3=random.randint(1,100)\n",
    "avg=(n1+n2+n3)/3\n",
    "print(avg)\n",
    "avg1=math.ceil(avg)\n",
    "print(f\"the average of {n1},{n2} and {n3} is {avg1}\")"
   ]
  },
  {
   "cell_type": "code",
   "execution_count": 14,
   "id": "cb77bc43-3bb7-4c77-b70e-f09db9f8e621",
   "metadata": {},
   "outputs": [
    {
     "name": "stdin",
     "output_type": "stream",
     "text": [
      "enter the name: python\n",
      "enter the city: hyd\n"
     ]
    },
    {
     "name": "stdout",
     "output_type": "stream",
     "text": [
      "my name is python im 70 years old and came from hyd\n"
     ]
    }
   ],
   "source": [
    "# 2)wap ask the user enter name age city\n",
    "# print my name is python im 10 years old and came from hyd\n",
    "\n",
    "name=input(\"enter the name:\")\n",
    "age=random.randint(1,100)\n",
    "city=input('enter the city:')\n",
    "print(f\"my name is {name} im {age} years old and came from {city}\")"
   ]
  },
  {
   "cell_type": "code",
   "execution_count": 18,
   "id": "cb441e06-e273-41fd-8302-ad3a4c9cc17d",
   "metadata": {},
   "outputs": [
    {
     "name": "stdout",
     "output_type": "stream",
     "text": [
      "the area of a circle for radius 27 is: 2290\n",
      "the area of a circle for radius 27 is: 2290\n"
     ]
    }
   ],
   "source": [
    "# 3)wap ask the user to enter radidus of a circle calculate area of the circle\n",
    "# var: radidus  var: pi=3.14\n",
    "# formuale: pi*radius*radius\n",
    "# print the answers using f string and format\n",
    "\n",
    "radius=random.randint(1,100)\n",
    "pi=3.14\n",
    "area=pi*radius*radius\n",
    "area1=math.ceil(area)\n",
    "print(\"the area of a circle for radius {} is: {}\".format(radius,area1))\n",
    "print(f\"the area of a circle for radius {radius} is: {area1}\")"
   ]
  },
  {
   "cell_type": "code",
   "execution_count": 22,
   "id": "6cd86135-bf71-4cf3-8e2c-87b370aa5bcc",
   "metadata": {},
   "outputs": [
    {
     "name": "stdout",
     "output_type": "stream",
     "text": [
      "for breadth 4 and height 2 area is 4.0\n"
     ]
    }
   ],
   "source": [
    "# 4)wap ask the user enter breadth and height of a right angle triangle\n",
    "# calculate the area\n",
    "# var1: bredath  var2: height\n",
    "# formuale : 0.5*breadth*heigh\n",
    "\n",
    "breadth=random.randint(1,20)\n",
    "height=random.randint(1,10)\n",
    "area=0.5*breadth*height\n",
    "print(f\"for breadth {breadth} and height {height} area is {area}\")"
   ]
  },
  {
   "cell_type": "code",
   "execution_count": 24,
   "id": "b112b1cc-a5fc-4989-814e-574398a990e5",
   "metadata": {},
   "outputs": [
    {
     "name": "stdout",
     "output_type": "stream",
     "text": [
      "the total bill is: 585\n"
     ]
    }
   ],
   "source": [
    "# 5)wap ask the user the bill amount and tip amount\n",
    "#   calculate total bill\n",
    "#   var1: bill amount var2: tip amount\n",
    "#   formuale\n",
    "\n",
    "bill_amount=random.randint(500,1000)\n",
    "tip_amount=random.randint(20,100)\n",
    "total_bill=bill_amount+tip_amount\n",
    "print(\"the total bill is:\",total_bill)"
   ]
  },
  {
   "cell_type": "code",
   "execution_count": 30,
   "id": "0d6c1345-f78c-4b65-a060-37583b0d5746",
   "metadata": {},
   "outputs": [
    {
     "name": "stdout",
     "output_type": "stream",
     "text": [
      "the bill amount is: 785\n",
      "the tip percentage is: 6\n",
      "the total bill is: 833\n"
     ]
    }
   ],
   "source": [
    "# 6)wap ask the user the bill amount and tip percentage\n",
    "#    take tip percentage as 10\n",
    "#   calculate total bill= bill amount+ bill amount*tip per/100\n",
    "#   var1: bill amount var2: tip amount\n",
    "#    formuale\n",
    "\n",
    "bill_amount=random.randint(500,1000)\n",
    "tip_per=random.randint(1,10)\n",
    "tip_amount=bill_amount*tip_per/100\n",
    "total_bill=bill_amount+tip_amount\n",
    "total1=math.ceil(total_bill)\n",
    "print(\"the bill amount is:\",bill_amount)\n",
    "print(\"the tip percentage is:\",tip_per)\n",
    "print(\"the total bill is:\",total1)"
   ]
  },
  {
   "cell_type": "code",
   "execution_count": 34,
   "id": "7d45317d-cf21-4c46-868e-1aeb3e3f3cbe",
   "metadata": {},
   "outputs": [
    {
     "name": "stdout",
     "output_type": "stream",
     "text": [
      "for breadth 3 and length 17 are is 51\n"
     ]
    }
   ],
   "source": [
    "# 7)wap ask the length and breadth of a rectangle calculate area\n",
    "#   var1: length  var2: breadth\n",
    "#   formulae: length * breadth\n",
    "\n",
    "length=random.randint(1,20)\n",
    "breadth=random.randint(1,10)\n",
    "area=length*breadth\n",
    "print(f\"for breadth {breadth} and length {length} are is {area}\")"
   ]
  },
  {
   "cell_type": "code",
   "execution_count": 40,
   "id": "ad2c2074-7ba8-431e-9850-3182755619a5",
   "metadata": {},
   "outputs": [
    {
     "name": "stdout",
     "output_type": "stream",
     "text": [
      "the volume of a sphere for radius 13 is: 6899\n"
     ]
    }
   ],
   "source": [
    "# 8) wap ask the user take the radius and calculate volume of sphere\n",
    "#   formulae: pi*r**3/(pi*r*r*r)\n",
    "\n",
    "radius=random.randint(1,100)\n",
    "pi=3.14\n",
    "area=pi*radius**3\n",
    "area1=math.ceil(area)\n",
    "print(f\"the volume of a sphere for radius {radius} is: {area1}\")"
   ]
  },
  {
   "cell_type": "code",
   "execution_count": 44,
   "id": "c7ddc13d-b0d3-486e-9b67-7f51594a90fa",
   "metadata": {},
   "outputs": [
    {
     "name": "stdout",
     "output_type": "stream",
     "text": [
      "number of 35$=2975INR\n"
     ]
    }
   ],
   "source": [
    "# 9) wap ask the user enter amount in dollars convert into rupees\n",
    "#     1$=85rs\n",
    "\n",
    "dollar=random.randint(1,100)\n",
    "rupees=dollar*85\n",
    "print(f\"number of {dollar}$={rupees}INR\")"
   ]
  },
  {
   "cell_type": "code",
   "execution_count": 48,
   "id": "485edda4-3892-423a-b0ef-0df1f276c3dd",
   "metadata": {},
   "outputs": [
    {
     "name": "stdout",
     "output_type": "stream",
     "text": [
      "91Kg=201 pounds\n"
     ]
    }
   ],
   "source": [
    "# 10)wap ask the user enter weight in kgs convert into pounds\n",
    "#    1kg= 2.2pounds\n",
    "\n",
    "weight=random.randint(1,100)\n",
    "pounds=weight*2.2\n",
    "pounds1=math.ceil(pounds)\n",
    "print(f\"{weight}Kg={pounds1} pounds\")"
   ]
  },
  {
   "cell_type": "code",
   "execution_count": null,
   "id": "e6a5aa15-040a-4f44-a0fe-d1376b91fab0",
   "metadata": {},
   "outputs": [],
   "source": [
    "# 11)\n",
    "# those who are done all the meanwhile do below qn\n",
    "# story between papa and son\n",
    "\n",
    "# son: hi papa\n",
    "# fa : hi beta\n",
    "# son: im going to school\n",
    "# fa: okay beta, i heared your results came out\n",
    "# son: yes papa\n",
    "# fa: then what about the result\n",
    "# son: lets play a game i will give the marks you tell me the perce\n",
    "# fa: exited\n",
    "# Telugu= random\n",
    "# hindi\n",
    "# end\n",
    "# maths\n",
    "# sci\n",
    "# soc\n",
    "# avg\n",
    "# display the avg"
   ]
  },
  {
   "cell_type": "code",
   "execution_count": 2,
   "id": "f25ed99b-a19e-4290-9e7f-cf1f0b048b48",
   "metadata": {},
   "outputs": [],
   "source": [
    "import random\n",
    "import math\n",
    "import time"
   ]
  },
  {
   "cell_type": "code",
   "execution_count": 8,
   "id": "d922073b-3e91-4f72-ba7f-b65eabfde87f",
   "metadata": {},
   "outputs": [
    {
     "name": "stdout",
     "output_type": "stream",
     "text": [
      "son:hi papa\n",
      "father:hi beta\n",
      "son:im going to school\n",
      "father:okay beta, i heared your results came out\n",
      "son:yes papa\n",
      "father:then what about the result\n",
      "son:lets play a game i will give the marks you tell me the percentage\n",
      "father:excited\n",
      "Telugu = 56\n",
      "hindi = 91\n",
      "english = 40\n",
      "maths = 74\n",
      "sci = 36\n",
      "soc = 86\n",
      "63.833333333333336\n",
      "father: the percentage of your marks is63.833333333333336\n",
      "21.020877838134766\n"
     ]
    }
   ],
   "source": [
    "start=time.time()\n",
    "print(\"son:hi papa\")\n",
    "time.sleep(2)\n",
    "print(\"father:hi beta\")\n",
    "time.sleep(2)\n",
    "print(\"son:im going to school\")\n",
    "time.sleep(2)\n",
    "print(\"father:okay beta, i heared your results came out\")\n",
    "time.sleep(2)\n",
    "print(\"son:yes papa\")\n",
    "time.sleep(2)\n",
    "print(\"father:then what about the result\")\n",
    "time.sleep(2)\n",
    "print(\"son:lets play a game i will give the marks you tell me the percentage\")\n",
    "time.sleep(2)\n",
    "print(\"father:excited\")\n",
    "time.sleep(2)\n",
    "Telugu=random.randint(35,100)\n",
    "print(f\"Telugu = {Telugu}\")\n",
    "hindi=random.randint(35,100)\n",
    "print(f\"hindi = {hindi}\")\n",
    "english=random.randint(35,100)\n",
    "print(f\"english = {english}\")\n",
    "maths=random.randint(35,100)\n",
    "print(f\"maths = {maths}\")\n",
    "sci=random.randint(35,100)\n",
    "print(f\"sci = {sci}\")\n",
    "soc=random.randint(35,100)\n",
    "print(f\"soc = {soc}\")\n",
    "time.sleep(5)\n",
    "per=(Telugu+hindi+english+maths+sci+soc)*100/600\n",
    "print(per)\n",
    "math.ceil(per)\n",
    "print(f\"father: the percentage of your marks is{per}\")\n",
    "end=time.time()\n",
    "print(end-start)"
   ]
  },
  {
   "cell_type": "code",
   "execution_count": null,
   "id": "627de410-99a0-49f7-86dd-b875c76cd337",
   "metadata": {},
   "outputs": [],
   "source": []
  }
 ],
 "metadata": {
  "kernelspec": {
   "display_name": "Python [conda env:base] *",
   "language": "python",
   "name": "conda-base-py"
  },
  "language_info": {
   "codemirror_mode": {
    "name": "ipython",
    "version": 3
   },
   "file_extension": ".py",
   "mimetype": "text/x-python",
   "name": "python",
   "nbconvert_exporter": "python",
   "pygments_lexer": "ipython3",
   "version": "3.12.7"
  }
 },
 "nbformat": 4,
 "nbformat_minor": 5
}
