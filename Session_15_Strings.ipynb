{
 "cells": [
  {
   "cell_type": "markdown",
   "id": "aed77af5-a80a-424d-aad9-7fe44a4813d5",
   "metadata": {},
   "source": [
    "- Basic reperesentations\n",
    "\n",
    "- Inbuilt functions\n",
    "\n",
    "  - print\n",
    " \n",
    "  - type\n",
    " \n",
    "  - len\n",
    " \n",
    "  - sum\n",
    " \n",
    "  - max\n",
    " \n",
    "  - min\n",
    " \n",
    "  - sorted\n",
    " \n",
    "  - reversed\n",
    " \n",
    "-  concatenation\n",
    "\n",
    "-  indexing\n",
    "\n",
    "-  mutable or immutable concept\n",
    "\n",
    "-  slice\n",
    "\n",
    "-  methods"
   ]
  },
  {
   "cell_type": "markdown",
   "id": "256932af-4197-4d05-94c2-82021ae52e50",
   "metadata": {},
   "source": [
    "### Basic Representations"
   ]
  },
  {
   "cell_type": "code",
   "execution_count": 3,
   "id": "31a89c21-eee6-461b-841f-8a19cec67685",
   "metadata": {},
   "outputs": [
    {
     "data": {
      "text/plain": [
       "'python'"
      ]
     },
     "execution_count": 3,
     "metadata": {},
     "output_type": "execute_result"
    }
   ],
   "source": [
    "name='python'\n",
    "name"
   ]
  },
  {
   "cell_type": "code",
   "execution_count": 5,
   "id": "a3382e43-c793-4993-8e2a-9fddecc5e33a",
   "metadata": {},
   "outputs": [
    {
     "name": "stdout",
     "output_type": "stream",
     "text": [
      "python\n"
     ]
    }
   ],
   "source": [
    "print(name)"
   ]
  },
  {
   "cell_type": "code",
   "execution_count": 9,
   "id": "8ee8d4a8-83b7-4580-b476-5a899a36b324",
   "metadata": {},
   "outputs": [
    {
     "data": {
      "text/plain": [
       "'python'"
      ]
     },
     "execution_count": 9,
     "metadata": {},
     "output_type": "execute_result"
    }
   ],
   "source": [
    "name=\"python\"\n",
    "name"
   ]
  },
  {
   "cell_type": "markdown",
   "id": "59fee914-0036-43d7-a180-72cf0228d28c",
   "metadata": {},
   "source": [
    "- python by default gives output in **single quotes**\n",
    "\n",
    "- when we print the string the output displays **without quotes**"
   ]
  },
  {
   "cell_type": "code",
   "execution_count": 14,
   "id": "424df76b-0200-4f59-b7b5-846c99756113",
   "metadata": {},
   "outputs": [
    {
     "name": "stdout",
     "output_type": "stream",
     "text": [
      "I love 'Python'\n"
     ]
    }
   ],
   "source": [
    "str1=\"I love 'Python'\"\n",
    "print(str1)"
   ]
  },
  {
   "cell_type": "code",
   "execution_count": 16,
   "id": "feda47d2-2634-46a4-b458-038ed747626f",
   "metadata": {},
   "outputs": [
    {
     "name": "stdout",
     "output_type": "stream",
     "text": [
      "I love \"Python\"\n"
     ]
    }
   ],
   "source": [
    "str2='I love \"Python\"'\n",
    "print(str2)"
   ]
  },
  {
   "cell_type": "markdown",
   "id": "4ad285bd-cf1d-470c-930e-568214b9d34e",
   "metadata": {},
   "source": [
    "**Doc string**\n",
    "\n",
    "- triple quotes also called as doc string\n",
    "\n",
    "- triple quotes means the user try to convey some information"
   ]
  },
  {
   "cell_type": "markdown",
   "id": "e465a605-7ad4-47c1-848b-f2a18143614e",
   "metadata": {},
   "source": [
    "**type**"
   ]
  },
  {
   "cell_type": "code",
   "execution_count": 26,
   "id": "5f9012d5-b70f-45b8-8258-3f2532bd8f19",
   "metadata": {},
   "outputs": [
    {
     "data": {
      "text/plain": [
       "str"
      ]
     },
     "execution_count": 26,
     "metadata": {},
     "output_type": "execute_result"
    }
   ],
   "source": [
    "name='python'\n",
    "type(name)"
   ]
  },
  {
   "cell_type": "code",
   "execution_count": 28,
   "id": "50f7141a-f0b8-4628-81bb-53f58e1f07eb",
   "metadata": {},
   "outputs": [
    {
     "data": {
      "text/plain": [
       "6"
      ]
     },
     "execution_count": 28,
     "metadata": {},
     "output_type": "execute_result"
    }
   ],
   "source": [
    "name='python'\n",
    "len(name)"
   ]
  },
  {
   "cell_type": "code",
   "execution_count": 55,
   "id": "24e4c692-8f1a-4206-90ea-5b3f902490ed",
   "metadata": {},
   "outputs": [
    {
     "data": {
      "text/plain": [
       "'y'"
      ]
     },
     "execution_count": 55,
     "metadata": {},
     "output_type": "execute_result"
    }
   ],
   "source": [
    "max(name)"
   ]
  },
  {
   "cell_type": "code",
   "execution_count": 57,
   "id": "4fae914c-3bea-4f89-a1f3-b1988f978dce",
   "metadata": {},
   "outputs": [
    {
     "data": {
      "text/plain": [
       "'h'"
      ]
     },
     "execution_count": 57,
     "metadata": {},
     "output_type": "execute_result"
    }
   ],
   "source": [
    "min(name)"
   ]
  },
  {
   "cell_type": "code",
   "execution_count": 77,
   "id": "8c349270-f374-4806-98d2-c1710426a76e",
   "metadata": {},
   "outputs": [
    {
     "data": {
      "text/plain": [
       "['h', 'n', 'o', 'p', 't', 'y']"
      ]
     },
     "execution_count": 77,
     "metadata": {},
     "output_type": "execute_result"
    }
   ],
   "source": [
    "sorted(name)"
   ]
  },
  {
   "cell_type": "code",
   "execution_count": 115,
   "id": "07241f6c-e7a8-48fe-8ade-fcd11bffec06",
   "metadata": {},
   "outputs": [
    {
     "data": {
      "text/plain": [
       "<reversed at 0x273b897d180>"
      ]
     },
     "execution_count": 115,
     "metadata": {},
     "output_type": "execute_result"
    }
   ],
   "source": [
    "reversed(name)"
   ]
  },
  {
   "cell_type": "markdown",
   "id": "aa8a560e-cd55-412d-a0b9-66ddf2596915",
   "metadata": {},
   "source": [
    "**sorted**\n",
    "\n",
    "- sorted means either ascending or descending order\n",
    "\n",
    "- ascending: small to big\n",
    "\n",
    "- descending: big to samll"
   ]
  },
  {
   "cell_type": "markdown",
   "id": "a7741868-273f-408e-8957-81a036386e36",
   "metadata": {},
   "source": [
    "**iterable**:- anything that can be print using the loop"
   ]
  },
  {
   "cell_type": "code",
   "execution_count": 84,
   "id": "9010309a-11be-48ec-9b86-dd671ec68270",
   "metadata": {},
   "outputs": [
    {
     "name": "stdout",
     "output_type": "stream",
     "text": [
      "30\n"
     ]
    }
   ],
   "source": [
    "def add(a,b):\n",
    "    print(a+b)\n",
    "add(10,20)"
   ]
  },
  {
   "cell_type": "code",
   "execution_count": 86,
   "id": "d8e91739-c8cc-40c4-a2cf-ba7ee9dad240",
   "metadata": {},
   "outputs": [
    {
     "name": "stdout",
     "output_type": "stream",
     "text": [
      "30\n"
     ]
    }
   ],
   "source": [
    "def add(a,b):\n",
    "    print(a+b)\n",
    "add(a=10,b=20)"
   ]
  },
  {
   "cell_type": "code",
   "execution_count": 88,
   "id": "6721702c-7829-4122-8c24-d5449272302f",
   "metadata": {},
   "outputs": [
    {
     "ename": "TypeError",
     "evalue": "add() got some positional-only arguments passed as keyword arguments: 'a'",
     "output_type": "error",
     "traceback": [
      "\u001b[1;31m---------------------------------------------------------------------------\u001b[0m",
      "\u001b[1;31mTypeError\u001b[0m                                 Traceback (most recent call last)",
      "Cell \u001b[1;32mIn[88], line 3\u001b[0m\n\u001b[0;32m      1\u001b[0m \u001b[38;5;28;01mdef\u001b[39;00m \u001b[38;5;21madd\u001b[39m(a,\u001b[38;5;241m/\u001b[39m,b):\n\u001b[0;32m      2\u001b[0m     \u001b[38;5;28mprint\u001b[39m(a\u001b[38;5;241m+\u001b[39mb)\n\u001b[1;32m----> 3\u001b[0m add(a\u001b[38;5;241m=\u001b[39m\u001b[38;5;241m10\u001b[39m,b\u001b[38;5;241m=\u001b[39m\u001b[38;5;241m20\u001b[39m)\n",
      "\u001b[1;31mTypeError\u001b[0m: add() got some positional-only arguments passed as keyword arguments: 'a'"
     ]
    }
   ],
   "source": [
    "def add(a,/,b):\n",
    "    print(a+b)\n",
    "add(a=10,b=20)"
   ]
  },
  {
   "cell_type": "code",
   "execution_count": 92,
   "id": "609f5aa3-e02c-44aa-beda-f3c02b11e161",
   "metadata": {},
   "outputs": [
    {
     "name": "stdout",
     "output_type": "stream",
     "text": [
      "30\n"
     ]
    }
   ],
   "source": [
    "def add(a,/,b):\n",
    "    print(a+b)\n",
    "add(10,b=20)"
   ]
  },
  {
   "cell_type": "code",
   "execution_count": 94,
   "id": "5e52f05b-1ccb-4515-9413-3e6b36bc5d49",
   "metadata": {},
   "outputs": [
    {
     "ename": "SyntaxError",
     "evalue": "positional argument follows keyword argument (3787002837.py, line 3)",
     "output_type": "error",
     "traceback": [
      "\u001b[1;36m  Cell \u001b[1;32mIn[94], line 3\u001b[1;36m\u001b[0m\n\u001b[1;33m    add(a=10,20)\u001b[0m\n\u001b[1;37m               ^\u001b[0m\n\u001b[1;31mSyntaxError\u001b[0m\u001b[1;31m:\u001b[0m positional argument follows keyword argument\n"
     ]
    }
   ],
   "source": [
    "def add(a,/,b):\n",
    "    print(a+b)\n",
    "add(a=10,20)"
   ]
  },
  {
   "cell_type": "code",
   "execution_count": 108,
   "id": "1d9d70ca-6dda-4bdb-a3e4-dbb9008bea1b",
   "metadata": {},
   "outputs": [
    {
     "ename": "TypeError",
     "evalue": "sorted expected 1 argument, got 0",
     "output_type": "error",
     "traceback": [
      "\u001b[1;31m---------------------------------------------------------------------------\u001b[0m",
      "\u001b[1;31mTypeError\u001b[0m                                 Traceback (most recent call last)",
      "Cell \u001b[1;32mIn[108], line 1\u001b[0m\n\u001b[1;32m----> 1\u001b[0m \u001b[38;5;28msorted\u001b[39m(iterable\u001b[38;5;241m=\u001b[39m\u001b[38;5;124m'\u001b[39m\u001b[38;5;124mpython\u001b[39m\u001b[38;5;124m'\u001b[39m)\n",
      "\u001b[1;31mTypeError\u001b[0m: sorted expected 1 argument, got 0"
     ]
    }
   ],
   "source": [
    "sorted(iterable='python')"
   ]
  },
  {
   "cell_type": "markdown",
   "id": "56c9585b-acf3-4223-be50-ec52f97124a9",
   "metadata": {},
   "source": [
    "**NOTE:**\n",
    "\n",
    "- / before dont use arguement name\n",
    "\n",
    "- / after you can use arguement name, that is our wish\n",
    "\n",
    "- *(star) indicates no need to maintain the order of the arguements"
   ]
  },
  {
   "cell_type": "code",
   "execution_count": 111,
   "id": "6b607bb8-80d7-4c5f-96ba-225a5a40064b",
   "metadata": {},
   "outputs": [
    {
     "ename": "TypeError",
     "evalue": "add() takes 1 positional argument but 3 were given",
     "output_type": "error",
     "traceback": [
      "\u001b[1;31m---------------------------------------------------------------------------\u001b[0m",
      "\u001b[1;31mTypeError\u001b[0m                                 Traceback (most recent call last)",
      "Cell \u001b[1;32mIn[111], line 3\u001b[0m\n\u001b[0;32m      1\u001b[0m \u001b[38;5;28;01mdef\u001b[39;00m \u001b[38;5;21madd\u001b[39m(a,\u001b[38;5;241m/\u001b[39m,\u001b[38;5;241m*\u001b[39m,b,c):\n\u001b[0;32m      2\u001b[0m     \u001b[38;5;28mprint\u001b[39m(a\u001b[38;5;241m+\u001b[39mb\u001b[38;5;241m+\u001b[39mc)\n\u001b[1;32m----> 3\u001b[0m add(\u001b[38;5;241m10\u001b[39m,\u001b[38;5;241m20\u001b[39m,\u001b[38;5;241m30\u001b[39m)\n",
      "\u001b[1;31mTypeError\u001b[0m: add() takes 1 positional argument but 3 were given"
     ]
    }
   ],
   "source": [
    "def add(a,/,*,b,c):\n",
    "    print(a+b+c)\n",
    "add(10,20,30)"
   ]
  },
  {
   "cell_type": "markdown",
   "id": "2bed14fe-e410-452a-9d74-15aab4bcc2d0",
   "metadata": {},
   "source": [
    "**NOTE**\n",
    "\n",
    "- (*) indicates provide the arguement name"
   ]
  },
  {
   "cell_type": "code",
   "execution_count": 124,
   "id": "9d3c697c-a580-4e70-9017-d7e4034f2528",
   "metadata": {},
   "outputs": [
    {
     "data": {
      "text/plain": [
       "['h', 'n', 'o', 'p', 't', 'y']"
      ]
     },
     "execution_count": 124,
     "metadata": {},
     "output_type": "execute_result"
    }
   ],
   "source": [
    "sorted('python',reverse=False)"
   ]
  },
  {
   "cell_type": "code",
   "execution_count": null,
   "id": "739769d2-ecdc-4edd-8fa4-9d558f0ff5f4",
   "metadata": {},
   "outputs": [],
   "source": [
    "sorted('python')  # W by default reverse=False\n",
    "sorted(iterable='python')  # F\n",
    "sorted('python',reverse=True) # W\n",
    "sorted(iterable='python',reverse=True) # F\n",
    "sorted('python',True)  #F"
   ]
  },
  {
   "cell_type": "markdown",
   "id": "7bb43cbc-0154-42c7-8964-c31abd9dc68b",
   "metadata": {},
   "source": [
    "### Reversed"
   ]
  },
  {
   "cell_type": "code",
   "execution_count": 128,
   "id": "3392a553-18e3-4e73-a4f8-ee9b4bc0d51e",
   "metadata": {},
   "outputs": [
    {
     "ename": "TypeError",
     "evalue": "reversed() takes no keyword arguments",
     "output_type": "error",
     "traceback": [
      "\u001b[1;31m---------------------------------------------------------------------------\u001b[0m",
      "\u001b[1;31mTypeError\u001b[0m                                 Traceback (most recent call last)",
      "Cell \u001b[1;32mIn[128], line 1\u001b[0m\n\u001b[1;32m----> 1\u001b[0m \u001b[38;5;28mreversed\u001b[39m(sequence\u001b[38;5;241m=\u001b[39m\u001b[38;5;124m'\u001b[39m\u001b[38;5;124mRakesh\u001b[39m\u001b[38;5;124m'\u001b[39m)\n",
      "\u001b[1;31mTypeError\u001b[0m: reversed() takes no keyword arguments"
     ]
    }
   ],
   "source": [
    "reversed(sequence='Rakesh')"
   ]
  },
  {
   "cell_type": "code",
   "execution_count": 136,
   "id": "0538af2f-985c-4680-86f7-3658999e3a29",
   "metadata": {},
   "outputs": [
    {
     "data": {
      "text/plain": [
       "<reversed at 0x273b9f63fd0>"
      ]
     },
     "execution_count": 136,
     "metadata": {},
     "output_type": "execute_result"
    }
   ],
   "source": [
    "ans=reversed('rakesh')\n",
    "ans"
   ]
  },
  {
   "cell_type": "code",
   "execution_count": 179,
   "id": "930103fe-0a17-483a-a6b3-fbce650f3fd4",
   "metadata": {},
   "outputs": [
    {
     "name": "stdout",
     "output_type": "stream",
     "text": [
      "h\n",
      "s\n",
      "e\n",
      "k\n",
      "a\n",
      "r\n"
     ]
    }
   ],
   "source": [
    "ans=reversed('rakesh')\n",
    "for i in ans:\n",
    "    print(i)"
   ]
  },
  {
   "cell_type": "markdown",
   "id": "2d9a852e-0227-41bd-88d4-597c63307f40",
   "metadata": {},
   "source": [
    "- Answer saved at address memory location\n",
    "\n",
    "- we can see the answer by using for loop or list\n",
    "\n",
    "- whenever we see less than greater than symbol answer\n",
    "\n",
    "- try to apply for loop or list"
   ]
  },
  {
   "cell_type": "code",
   "execution_count": 174,
   "id": "455726f1-b437-4115-b0a8-0f6c7f614273",
   "metadata": {},
   "outputs": [
    {
     "data": {
      "text/plain": [
       "['h', 's', 'e', 'k', 'a', 'r']"
      ]
     },
     "execution_count": 174,
     "metadata": {},
     "output_type": "execute_result"
    }
   ],
   "source": [
    "ans=reversed('rakesh')\n",
    "list(ans)"
   ]
  },
  {
   "cell_type": "markdown",
   "id": "8989398d-d91d-47cc-b2f2-1c34b47450ca",
   "metadata": {},
   "source": [
    "### Concatenation"
   ]
  },
  {
   "cell_type": "code",
   "execution_count": 150,
   "id": "bb686152-6914-40ed-800d-2585e41b9a74",
   "metadata": {},
   "outputs": [
    {
     "data": {
      "text/plain": [
       "'hellopython'"
      ]
     },
     "execution_count": 150,
     "metadata": {},
     "output_type": "execute_result"
    }
   ],
   "source": [
    "str1='hello'\n",
    "str2='python'\n",
    "str1+str2"
   ]
  },
  {
   "cell_type": "code",
   "execution_count": 152,
   "id": "2ba6e23a-d071-4590-b900-4d7cf3962966",
   "metadata": {},
   "outputs": [
    {
     "ename": "TypeError",
     "evalue": "unsupported operand type(s) for -: 'str' and 'str'",
     "output_type": "error",
     "traceback": [
      "\u001b[1;31m---------------------------------------------------------------------------\u001b[0m",
      "\u001b[1;31mTypeError\u001b[0m                                 Traceback (most recent call last)",
      "Cell \u001b[1;32mIn[152], line 1\u001b[0m\n\u001b[1;32m----> 1\u001b[0m str1\u001b[38;5;241m-\u001b[39mstr2\n",
      "\u001b[1;31mTypeError\u001b[0m: unsupported operand type(s) for -: 'str' and 'str'"
     ]
    }
   ],
   "source": [
    "str1-str2"
   ]
  },
  {
   "cell_type": "code",
   "execution_count": 154,
   "id": "52f6a8ad-4cf2-4211-bb98-754b975bbcdc",
   "metadata": {},
   "outputs": [
    {
     "ename": "TypeError",
     "evalue": "can't multiply sequence by non-int of type 'str'",
     "output_type": "error",
     "traceback": [
      "\u001b[1;31m---------------------------------------------------------------------------\u001b[0m",
      "\u001b[1;31mTypeError\u001b[0m                                 Traceback (most recent call last)",
      "Cell \u001b[1;32mIn[154], line 1\u001b[0m\n\u001b[1;32m----> 1\u001b[0m str1\u001b[38;5;241m*\u001b[39mstr2\n",
      "\u001b[1;31mTypeError\u001b[0m: can't multiply sequence by non-int of type 'str'"
     ]
    }
   ],
   "source": [
    "str1*str2"
   ]
  },
  {
   "cell_type": "code",
   "execution_count": 156,
   "id": "bda5c299-5d98-4d1c-8c6c-17b8fbdf9a23",
   "metadata": {},
   "outputs": [
    {
     "ename": "TypeError",
     "evalue": "unsupported operand type(s) for /: 'str' and 'str'",
     "output_type": "error",
     "traceback": [
      "\u001b[1;31m---------------------------------------------------------------------------\u001b[0m",
      "\u001b[1;31mTypeError\u001b[0m                                 Traceback (most recent call last)",
      "Cell \u001b[1;32mIn[156], line 1\u001b[0m\n\u001b[1;32m----> 1\u001b[0m str1\u001b[38;5;241m/\u001b[39mstr2\n",
      "\u001b[1;31mTypeError\u001b[0m: unsupported operand type(s) for /: 'str' and 'str'"
     ]
    }
   ],
   "source": [
    "str1/str2"
   ]
  },
  {
   "cell_type": "code",
   "execution_count": 160,
   "id": "5608d340-d84b-4031-b1c0-1acbec493c50",
   "metadata": {},
   "outputs": [
    {
     "data": {
      "text/plain": [
       "('hellohellohello', 'pythonpythonpython')"
      ]
     },
     "execution_count": 160,
     "metadata": {},
     "output_type": "execute_result"
    }
   ],
   "source": [
    "(str1*3), (str2*3)"
   ]
  },
  {
   "cell_type": "code",
   "execution_count": 162,
   "id": "a262948a-eec0-4a3d-86a8-4719a47f2777",
   "metadata": {},
   "outputs": [
    {
     "data": {
      "text/plain": [
       "'hello python'"
      ]
     },
     "execution_count": 162,
     "metadata": {},
     "output_type": "execute_result"
    }
   ],
   "source": [
    "str1='hello '\n",
    "str2='python'\n",
    "str1+str2"
   ]
  },
  {
   "cell_type": "code",
   "execution_count": 164,
   "id": "6f44c91b-755f-4c1e-98aa-fbed9c364321",
   "metadata": {},
   "outputs": [
    {
     "data": {
      "text/plain": [
       "'hello python'"
      ]
     },
     "execution_count": 164,
     "metadata": {},
     "output_type": "execute_result"
    }
   ],
   "source": [
    "str1='hello'\n",
    "str2=' python'\n",
    "str1+str2"
   ]
  },
  {
   "cell_type": "code",
   "execution_count": 170,
   "id": "3d88b85a-7a9e-4e3a-8353-605c47b18218",
   "metadata": {},
   "outputs": [
    {
     "data": {
      "text/plain": [
       "'hello python'"
      ]
     },
     "execution_count": 170,
     "metadata": {},
     "output_type": "execute_result"
    }
   ],
   "source": [
    "str1='hello'\n",
    "str2='python'\n",
    "str1+' '+str2"
   ]
  },
  {
   "cell_type": "markdown",
   "id": "47de61a2-a1c6-43ed-9811-1b4eee55c228",
   "metadata": {},
   "source": [
    "### Index"
   ]
  },
  {
   "cell_type": "code",
   "execution_count": 2,
   "id": "ccb6af7e-fbb0-4671-af95-a03288749cd3",
   "metadata": {},
   "outputs": [
    {
     "data": {
      "text/plain": [
       "'python'"
      ]
     },
     "execution_count": 2,
     "metadata": {},
     "output_type": "execute_result"
    }
   ],
   "source": [
    "str1='python'\n",
    "str1"
   ]
  },
  {
   "cell_type": "code",
   "execution_count": null,
   "id": "04ddd3eb-857b-430e-8220-1d12ad239e14",
   "metadata": {},
   "outputs": [],
   "source": [
    "-6 -5 -4 -3 -2 -1\n",
    " p  y  t  h  o  n\n",
    " 0  1  2  3  4  5"
   ]
  },
  {
   "cell_type": "markdown",
   "id": "07124e99-a929-4c32-85c5-60a3181bf90e",
   "metadata": {},
   "source": [
    "- access the charcters or elements using square bracket"
   ]
  },
  {
   "cell_type": "code",
   "execution_count": 19,
   "id": "e7a4c2b0-1ef1-4fc0-968a-a66f6f62d226",
   "metadata": {},
   "outputs": [
    {
     "data": {
      "text/plain": [
       "('n', 'n')"
      ]
     },
     "execution_count": 19,
     "metadata": {},
     "output_type": "execute_result"
    }
   ],
   "source": [
    "str1[0],str1[-6]\n",
    "str1[1],str1[-5]\n",
    "str1[2],str1[-4]\n",
    "str1[3],str1[-3]\n",
    "str1[4],str1[-2]\n",
    "str1[5],str1[-1]"
   ]
  },
  {
   "cell_type": "code",
   "execution_count": null,
   "id": "e46d6108-5550-49e1-9e22-5ab81f5856ef",
   "metadata": {},
   "outputs": [],
   "source": [
    "str1[0]\n",
    "str1[1]\n",
    "str1[2]\n",
    "str1[3]\n",
    "str1[4]\n",
    "str1[5]\n",
    "\n",
    "str1[i]"
   ]
  },
  {
   "cell_type": "code",
   "execution_count": 28,
   "id": "23801dd4-736e-457c-9e90-1b4775434659",
   "metadata": {},
   "outputs": [
    {
     "name": "stdout",
     "output_type": "stream",
     "text": [
      "p\n",
      "y\n",
      "t\n",
      "h\n",
      "o\n",
      "n\n"
     ]
    }
   ],
   "source": [
    "str1='python'\n",
    "n=len(str1)\n",
    "for i in range(0,n):\n",
    "    print(str1[i])"
   ]
  },
  {
   "cell_type": "code",
   "execution_count": 30,
   "id": "d74a167b-13fe-4351-b701-031422a232a2",
   "metadata": {},
   "outputs": [
    {
     "name": "stdout",
     "output_type": "stream",
     "text": [
      "h\n",
      "e\n",
      "l\n",
      "l\n",
      "o\n",
      " \n",
      "h\n",
      "o\n",
      "w\n",
      " \n",
      "a\n",
      "r\n",
      "e\n",
      " \n",
      "y\n",
      "o\n",
      "u\n"
     ]
    }
   ],
   "source": [
    "str1='hello how are you'\n",
    "n=len(str1)\n",
    "for i in range(0,n):\n",
    "    print(str1[i])"
   ]
  },
  {
   "cell_type": "code",
   "execution_count": 34,
   "id": "447f34f2-ac05-4e51-a15c-747bb5988f28",
   "metadata": {},
   "outputs": [
    {
     "name": "stdout",
     "output_type": "stream",
     "text": [
      "the positive index of p is 0\n",
      "the positive index of y is 1\n",
      "the positive index of t is 2\n",
      "the positive index of h is 3\n",
      "the positive index of o is 4\n",
      "the positive index of n is 5\n"
     ]
    }
   ],
   "source": [
    "# Q1)\n",
    "# the postive index of p is 0\n",
    "# the postive index of y is 1\n",
    "# the postive index of n is 2\n",
    "\n",
    "str1='python'\n",
    "n=len(str1)\n",
    "for i in range(0,n):\n",
    "    print(f'the positive index of {str1[i]} is {i}')"
   ]
  },
  {
   "cell_type": "code",
   "execution_count": 36,
   "id": "c6833c70-a10b-458f-a29c-9c5bf13c94cf",
   "metadata": {},
   "outputs": [
    {
     "name": "stdout",
     "output_type": "stream",
     "text": [
      "the negative index of p is -6\n",
      "the negative index of y is -5\n",
      "the negative index of t is -4\n",
      "the negative index of h is -3\n",
      "the negative index of o is -2\n",
      "the negative index of n is -1\n"
     ]
    }
   ],
   "source": [
    "# Q2)\n",
    "# the negative index of p is -6\n",
    "# the negative index of y is -5\n",
    "# the negative index of n is -4 and so on\n",
    "\n",
    "str1='python'\n",
    "n=len(str1)\n",
    "for i in range(0,n):\n",
    "    print(f'the negative index of {str1[i]} is {i-6}')"
   ]
  },
  {
   "cell_type": "code",
   "execution_count": 38,
   "id": "2bf87d39-905c-48ce-a121-8a7170ac0d04",
   "metadata": {},
   "outputs": [
    {
     "name": "stdout",
     "output_type": "stream",
     "text": [
      "the positive index is 0 and negative index is -6 for p\n",
      "the positive index is 1 and negative index is -5 for y\n",
      "the positive index is 2 and negative index is -4 for t\n",
      "the positive index is 3 and negative index is -3 for h\n",
      "the positive index is 4 and negative index is -2 for o\n",
      "the positive index is 5 and negative index is -1 for n\n"
     ]
    }
   ],
   "source": [
    "# Q3)\n",
    "# The postvive index is 0 and negtaive index is -6 for p\n",
    "\n",
    "str1='python'\n",
    "n=len(str1)\n",
    "for i in range(0,n):\n",
    "    print(f'the positive index is {i} and negative index is {i-6} for {str1[i]}')"
   ]
  },
  {
   "cell_type": "markdown",
   "id": "afefed25-0350-4003-953b-2430fc6e54fc",
   "metadata": {},
   "source": [
    "#### when to use **in** - when to use **range** operator"
   ]
  },
  {
   "cell_type": "markdown",
   "id": "ca6d444d-44f4-4e80-af51-2d9b744f8004",
   "metadata": {},
   "source": [
    "- **in** operator directly access the elements\n",
    "\n",
    "- **range** operator access the elements using index or numbers\n",
    "\n",
    "- any problem statement if you need numbers the go for range\n",
    "\n",
    "- otherwise go for in operator directly"
   ]
  },
  {
   "cell_type": "code",
   "execution_count": 49,
   "id": "3d34d228-f472-4135-a528-e112f012dd0e",
   "metadata": {},
   "outputs": [
    {
     "name": "stdout",
     "output_type": "stream",
     "text": [
      "p\n",
      "y\n",
      "t\n",
      "h\n",
      "o\n",
      "n\n",
      "0 p\n",
      "1 y\n",
      "2 t\n",
      "3 h\n",
      "4 o\n",
      "5 n\n"
     ]
    }
   ],
   "source": [
    "str1='python'\n",
    "for i in str1:\n",
    "    print(i)\n",
    "\n",
    "for i in range(0,6):\n",
    "    print(i,str1[i])"
   ]
  },
  {
   "cell_type": "code",
   "execution_count": 71,
   "id": "2075e14d-b967-4c89-be70-d7badbe9ad4a",
   "metadata": {},
   "outputs": [
    {
     "name": "stdout",
     "output_type": "stream",
     "text": [
      "2\n",
      "6\n",
      "10\n"
     ]
    }
   ],
   "source": [
    "# Q4) write a progarm to find the indexes of 'a' in a given string\n",
    "# str1='ola ola ola'\n",
    "\n",
    "str1='ola ola ola'\n",
    "for i in range(len(str1)):\n",
    "    if str1[i]=='a':\n",
    "        print(i)"
   ]
  },
  {
   "cell_type": "code",
   "execution_count": 84,
   "id": "e0e0e1a5-721c-4918-afe0-412f5d5751a3",
   "metadata": {},
   "outputs": [
    {
     "name": "stdout",
     "output_type": "stream",
     "text": [
      "2\n",
      "6\n",
      "10\n",
      "the sum of all indexes of a is 18\n",
      "the number of indexes of a are: 3\n"
     ]
    }
   ],
   "source": [
    "# Q5) write a program to find the sum of all indexes of 'a' in a given string\n",
    "# str1='ola ola ola'\n",
    "\n",
    "summ=0\n",
    "count=0\n",
    "str1='ola ola ola'\n",
    "for i in range(len(str1)):\n",
    "    if str1[i]=='a':\n",
    "        print(i)\n",
    "        summ=summ+i\n",
    "        count=count+1\n",
    "print(f'the sum of all indexes of a is {summ}')\n",
    "print(f'the number of indexes of a are: {count}')"
   ]
  },
  {
   "cell_type": "code",
   "execution_count": 88,
   "id": "c7ed4c66-8240-462f-9a47-51c65ba134e3",
   "metadata": {},
   "outputs": [
    {
     "name": "stdout",
     "output_type": "stream",
     "text": [
      "the number of \"a\" are: 3\n"
     ]
    }
   ],
   "source": [
    "# Q6) write a progarm to find the number of 'a' in a given string\n",
    "# str1='ola ola ola'\n",
    "\n",
    "count=0\n",
    "str1='ola ola ola'\n",
    "for i in str1:\n",
    "    if i=='a':\n",
    "        count=count+1\n",
    "print(f'the number of \"a\" are: {count}')"
   ]
  },
  {
   "cell_type": "code",
   "execution_count": 92,
   "id": "1bdb5cdb-7463-432a-ae30-ecd8cca318ac",
   "metadata": {},
   "outputs": [
    {
     "name": "stdout",
     "output_type": "stream",
     "text": [
      "a\n",
      "i\n",
      "o\n",
      "a\n",
      "e\n",
      "o\n",
      "u\n",
      "7\n"
     ]
    }
   ],
   "source": [
    "# Q7) write a progarm to find the vowels and its count in a given string\n",
    "# str1='hai how are you'\n",
    "\n",
    "str1='hai how are you'\n",
    "s1='aeiou'\n",
    "count=0\n",
    "for i in str1:\n",
    "    if i in s1:\n",
    "        print(i)\n",
    "        count=count+1\n",
    "print(count)"
   ]
  },
  {
   "cell_type": "code",
   "execution_count": 96,
   "id": "88703c4b-cc85-4a04-9b9c-decb13764b8a",
   "metadata": {},
   "outputs": [
    {
     "name": "stdout",
     "output_type": "stream",
     "text": [
      "a\n",
      "i\n"
     ]
    }
   ],
   "source": [
    "# Q8) write a progarm to find the vowels which are repaeting then print only\n",
    "# one time\n",
    "str1='haai'\n",
    "s1=''\n",
    "for i in str1:\n",
    "    if i in 'aeiou' and i not in s1:\n",
    "        print(i)\n",
    "        s1=i+s1"
   ]
  },
  {
   "cell_type": "markdown",
   "id": "6120bcbc-029d-48e4-9914-1252a485fc55",
   "metadata": {},
   "source": [
    "#### mutable-immutable"
   ]
  },
  {
   "cell_type": "markdown",
   "id": "8f24ff15-3d58-4d73-bc0a-39c015541792",
   "metadata": {},
   "source": [
    "- mutable means change\n",
    "\n",
    "- immutable means cannot change\n",
    "\n",
    "- we cannot change the elements using index operations"
   ]
  },
  {
   "cell_type": "code",
   "execution_count": 102,
   "id": "fa9f4e4a-baf3-4b6a-b66c-3a97f17330cf",
   "metadata": {},
   "outputs": [
    {
     "ename": "TypeError",
     "evalue": "'str' object does not support item assignment",
     "output_type": "error",
     "traceback": [
      "\u001b[1;31m---------------------------------------------------------------------------\u001b[0m",
      "\u001b[1;31mTypeError\u001b[0m                                 Traceback (most recent call last)",
      "Cell \u001b[1;32mIn[102], line 2\u001b[0m\n\u001b[0;32m      1\u001b[0m str1\u001b[38;5;241m=\u001b[39m\u001b[38;5;124m'\u001b[39m\u001b[38;5;124mhello\u001b[39m\u001b[38;5;124m'\u001b[39m\n\u001b[1;32m----> 2\u001b[0m str1[\u001b[38;5;241m2\u001b[39m]\u001b[38;5;241m=\u001b[39m\u001b[38;5;124m'\u001b[39m\u001b[38;5;124mL\u001b[39m\u001b[38;5;124m'\u001b[39m\n",
      "\u001b[1;31mTypeError\u001b[0m: 'str' object does not support item assignment"
     ]
    }
   ],
   "source": [
    "str1='hello'\n",
    "str1[2]='L'"
   ]
  },
  {
   "cell_type": "code",
   "execution_count": 106,
   "id": "bb584e3c-bdab-4441-b1ad-806e2c475026",
   "metadata": {},
   "outputs": [
    {
     "data": {
      "text/plain": [
       "[10, 200, 30]"
      ]
     },
     "execution_count": 106,
     "metadata": {},
     "output_type": "execute_result"
    }
   ],
   "source": [
    "l=[10,20,30]\n",
    "l[1]=200\n",
    "l"
   ]
  },
  {
   "cell_type": "markdown",
   "id": "dbebd82a-c1ab-4847-a7ce-5dc0c78b19a5",
   "metadata": {},
   "source": [
    "### Slice\n",
    "\n",
    "- slice means cut into pieces\n",
    "\n",
    "- it has the similar anology with for loop range\n",
    "\n",
    "- in the for loop range we have start,stop,step\n",
    "\n",
    "- range(start,stop,step)   **str[start:stop:step]**"
   ]
  },
  {
   "cell_type": "code",
   "execution_count": null,
   "id": "194a3669-9638-4f17-9ef1-1da89a37178e",
   "metadata": {},
   "outputs": [],
   "source": [
    "-17 -16 -15 -14 -13 -12 -11 -10 -9 -8 -7 -6 -5 -4 -3 -2 -1\n",
    "  h  e   l   l   o        h   o  w     a  r  e     y  o  u\n",
    "  0  1   2   3   4   5   6   7   8  9 10  11 12 13 14 15 16"
   ]
  },
  {
   "cell_type": "markdown",
   "id": "fbdd1470-6901-4c2a-bf26-59f39fc468d0",
   "metadata": {},
   "source": [
    "**case-1**\n",
    "\n",
    "#### str[:stop]\n",
    "\n",
    "- by default start=0\n",
    "\n",
    "- by default step= positive direction 1\n",
    "\n",
    "- last=stop-1"
   ]
  },
  {
   "cell_type": "code",
   "execution_count": 9,
   "id": "0852145e-b07b-4d2b-b460-3121b6a7a765",
   "metadata": {},
   "outputs": [
    {
     "data": {
      "text/plain": [
       "'hello how'"
      ]
     },
     "execution_count": 9,
     "metadata": {},
     "output_type": "execute_result"
    }
   ],
   "source": [
    "str1='hello how are you'\n",
    "str1[:9]"
   ]
  },
  {
   "cell_type": "markdown",
   "id": "23eda603-d5f8-435a-ae33-c8664b942251",
   "metadata": {},
   "source": [
    "**case-2**\n",
    "\n",
    "#### str[start:]\n",
    "- by default start=start value\n",
    "\n",
    "- by default step= positive direction 1\n",
    "\n",
    "- last=last index"
   ]
  },
  {
   "cell_type": "code",
   "execution_count": 18,
   "id": "50b37c14-fbe3-4426-a87c-41030fb2fbd5",
   "metadata": {},
   "outputs": [
    {
     "data": {
      "text/plain": [
       "'you'"
      ]
     },
     "execution_count": 18,
     "metadata": {},
     "output_type": "execute_result"
    }
   ],
   "source": [
    "str1[-3:]"
   ]
  },
  {
   "cell_type": "markdown",
   "id": "b7adf604-3bb4-49c3-8079-95a0243be8ef",
   "metadata": {},
   "source": [
    "**case-3**\n",
    "\n",
    "#### str[start:stop]\n",
    "- by default start=start value\n",
    "\n",
    "- by default step= positive direction 1\n",
    "\n",
    "- last=stop-1"
   ]
  },
  {
   "cell_type": "code",
   "execution_count": 29,
   "id": "dd74a0e2-dc22-4cc4-9d79-84ac03993228",
   "metadata": {},
   "outputs": [
    {
     "data": {
      "text/plain": [
       "'hello how are yo'"
      ]
     },
     "execution_count": 29,
     "metadata": {},
     "output_type": "execute_result"
    }
   ],
   "source": [
    "str1[-17:-1]"
   ]
  },
  {
   "cell_type": "code",
   "execution_count": 31,
   "id": "9d7eec7a-d13d-4626-b36d-9129af496a2e",
   "metadata": {},
   "outputs": [
    {
     "data": {
      "text/plain": [
       "'are yo'"
      ]
     },
     "execution_count": 31,
     "metadata": {},
     "output_type": "execute_result"
    }
   ],
   "source": [
    "str1[10:16]"
   ]
  },
  {
   "cell_type": "code",
   "execution_count": 33,
   "id": "475f6ea7-89d0-40fb-ad85-8c460fa93e50",
   "metadata": {},
   "outputs": [
    {
     "data": {
      "text/plain": [
       "'llo how '"
      ]
     },
     "execution_count": 33,
     "metadata": {},
     "output_type": "execute_result"
    }
   ],
   "source": [
    "str1[-15:10]"
   ]
  },
  {
   "cell_type": "code",
   "execution_count": 37,
   "id": "26ae663f-2c4d-420d-ab2c-1eac52489d12",
   "metadata": {},
   "outputs": [
    {
     "data": {
      "text/plain": [
       "'hello how are you'"
      ]
     },
     "execution_count": 37,
     "metadata": {},
     "output_type": "execute_result"
    }
   ],
   "source": [
    "str1[-17:17]"
   ]
  },
  {
   "cell_type": "code",
   "execution_count": 39,
   "id": "cfff5aa2-44e2-42bd-9a6c-aea92a8ba3ed",
   "metadata": {},
   "outputs": [
    {
     "data": {
      "text/plain": [
       "''"
      ]
     },
     "execution_count": 39,
     "metadata": {},
     "output_type": "execute_result"
    }
   ],
   "source": [
    "str1[-17:0]"
   ]
  },
  {
   "cell_type": "code",
   "execution_count": 47,
   "id": "1c656658-c1a8-4f5c-8dcc-d1b7949ae26c",
   "metadata": {},
   "outputs": [],
   "source": [
    "for i in range(17,-17):\n",
    "    print(i)"
   ]
  },
  {
   "cell_type": "markdown",
   "id": "0f1e5ae0-f10a-4946-832c-2de5e9e4e453",
   "metadata": {},
   "source": [
    "**case-4**\n",
    "\n",
    "#### str[start:stop:step]\n",
    "- by default start=start value\n",
    "\n",
    "- if step is positive value\n",
    "\n",
    "  - last=stop-1\n",
    "\n",
    "- if step is negative value\n",
    "\n",
    "  - last=stop+1"
   ]
  },
  {
   "cell_type": "code",
   "execution_count": 53,
   "id": "dbc963b8-9c9a-4da5-a9d1-b5614fecd687",
   "metadata": {},
   "outputs": [
    {
     "data": {
      "text/plain": [
       "'lohwaey'"
      ]
     },
     "execution_count": 53,
     "metadata": {},
     "output_type": "execute_result"
    }
   ],
   "source": [
    "str1[2:15:2]"
   ]
  },
  {
   "cell_type": "code",
   "execution_count": 55,
   "id": "788a47d8-9b57-4b95-be90-71a3213d364b",
   "metadata": {},
   "outputs": [
    {
     "data": {
      "text/plain": [
       "'o r o'"
      ]
     },
     "execution_count": 55,
     "metadata": {},
     "output_type": "execute_result"
    }
   ],
   "source": [
    "str1[-2:5:-2]"
   ]
  },
  {
   "cell_type": "code",
   "execution_count": 58,
   "id": "14cbd184-5955-433d-9f56-d27900582b03",
   "metadata": {},
   "outputs": [
    {
     "data": {
      "text/plain": [
       "'hlohwaey'"
      ]
     },
     "execution_count": 58,
     "metadata": {},
     "output_type": "execute_result"
    }
   ],
   "source": [
    "str1[0:-2:2]"
   ]
  },
  {
   "cell_type": "code",
   "execution_count": 64,
   "id": "7842897b-0382-406f-9be5-d6691c6a20d1",
   "metadata": {},
   "outputs": [
    {
     "data": {
      "text/plain": [
       "'uoy era woh olleh'"
      ]
     },
     "execution_count": 64,
     "metadata": {},
     "output_type": "execute_result"
    }
   ],
   "source": [
    "str1[::-1]"
   ]
  },
  {
   "cell_type": "code",
   "execution_count": 62,
   "id": "4b5e9a16-eb76-45ce-aeab-ac467994a91f",
   "metadata": {},
   "outputs": [
    {
     "data": {
      "text/plain": [
       "'hello how are you'"
      ]
     },
     "execution_count": 62,
     "metadata": {},
     "output_type": "execute_result"
    }
   ],
   "source": [
    "str1[::]"
   ]
  },
  {
   "cell_type": "code",
   "execution_count": 66,
   "id": "4e36c59a-f1ba-4a46-bda1-7b09d36c7777",
   "metadata": {},
   "outputs": [
    {
     "data": {
      "text/plain": [
       "54321"
      ]
     },
     "execution_count": 66,
     "metadata": {},
     "output_type": "execute_result"
    }
   ],
   "source": [
    "num=12345\n",
    "int(str(num)[::-1])"
   ]
  },
  {
   "cell_type": "code",
   "execution_count": 72,
   "id": "ae9351c4-f63a-48e6-91b7-5efaf87e43df",
   "metadata": {},
   "outputs": [
    {
     "data": {
      "text/plain": [
       "'llo how are you'"
      ]
     },
     "execution_count": 72,
     "metadata": {},
     "output_type": "execute_result"
    }
   ],
   "source": [
    "str1[2:99]"
   ]
  },
  {
   "cell_type": "markdown",
   "id": "3957bde5-5b26-4fcf-b732-b091550de5d6",
   "metadata": {},
   "source": [
    "## Methods"
   ]
  },
  {
   "cell_type": "code",
   "execution_count": 2,
   "id": "84e79459-7128-4e23-8596-569efa6eacd8",
   "metadata": {},
   "outputs": [
    {
     "data": {
      "text/plain": [
       "['__add__',\n",
       " '__class__',\n",
       " '__contains__',\n",
       " '__delattr__',\n",
       " '__dir__',\n",
       " '__doc__',\n",
       " '__eq__',\n",
       " '__format__',\n",
       " '__ge__',\n",
       " '__getattribute__',\n",
       " '__getitem__',\n",
       " '__getnewargs__',\n",
       " '__getstate__',\n",
       " '__gt__',\n",
       " '__hash__',\n",
       " '__init__',\n",
       " '__init_subclass__',\n",
       " '__iter__',\n",
       " '__le__',\n",
       " '__len__',\n",
       " '__lt__',\n",
       " '__mod__',\n",
       " '__mul__',\n",
       " '__ne__',\n",
       " '__new__',\n",
       " '__reduce__',\n",
       " '__reduce_ex__',\n",
       " '__repr__',\n",
       " '__rmod__',\n",
       " '__rmul__',\n",
       " '__setattr__',\n",
       " '__sizeof__',\n",
       " '__str__',\n",
       " '__subclasshook__',\n",
       " 'capitalize',\n",
       " 'casefold',\n",
       " 'center',\n",
       " 'count',\n",
       " 'encode',\n",
       " 'endswith',\n",
       " 'expandtabs',\n",
       " 'find',\n",
       " 'format',\n",
       " 'format_map',\n",
       " 'index',\n",
       " 'isalnum',\n",
       " 'isalpha',\n",
       " 'isascii',\n",
       " 'isdecimal',\n",
       " 'isdigit',\n",
       " 'isidentifier',\n",
       " 'islower',\n",
       " 'isnumeric',\n",
       " 'isprintable',\n",
       " 'isspace',\n",
       " 'istitle',\n",
       " 'isupper',\n",
       " 'join',\n",
       " 'ljust',\n",
       " 'lower',\n",
       " 'lstrip',\n",
       " 'maketrans',\n",
       " 'partition',\n",
       " 'removeprefix',\n",
       " 'removesuffix',\n",
       " 'replace',\n",
       " 'rfind',\n",
       " 'rindex',\n",
       " 'rjust',\n",
       " 'rpartition',\n",
       " 'rsplit',\n",
       " 'rstrip',\n",
       " 'split',\n",
       " 'splitlines',\n",
       " 'startswith',\n",
       " 'strip',\n",
       " 'swapcase',\n",
       " 'title',\n",
       " 'translate',\n",
       " 'upper',\n",
       " 'zfill']"
      ]
     },
     "execution_count": 2,
     "metadata": {},
     "output_type": "execute_result"
    }
   ],
   "source": [
    "dir('mrunal thakur')"
   ]
  },
  {
   "cell_type": "markdown",
   "id": "dda75233-c534-4356-acd7-c8f14949ea2b",
   "metadata": {},
   "source": [
    "**upper**"
   ]
  },
  {
   "cell_type": "code",
   "execution_count": 14,
   "id": "cf118879-d320-4fb2-8515-eb963b59df88",
   "metadata": {},
   "outputs": [
    {
     "data": {
      "text/plain": [
       "'I AM NOT IN DANGER I AM THE DANGER'"
      ]
     },
     "execution_count": 14,
     "metadata": {},
     "output_type": "execute_result"
    }
   ],
   "source": [
    "str1='i am not in danger i am the danger'\n",
    "str1.upper()"
   ]
  },
  {
   "cell_type": "code",
   "execution_count": 16,
   "id": "ade67912-214d-4959-a8cb-0a50199e8882",
   "metadata": {},
   "outputs": [
    {
     "data": {
      "text/plain": [
       "'i am not in danger i am the danger'"
      ]
     },
     "execution_count": 16,
     "metadata": {},
     "output_type": "execute_result"
    }
   ],
   "source": [
    "str1.lower()"
   ]
  },
  {
   "cell_type": "code",
   "execution_count": 18,
   "id": "bf59a9b4-0bfc-4ad8-8df2-b0b4db90d14a",
   "metadata": {},
   "outputs": [
    {
     "data": {
      "text/plain": [
       "'I Am Not In Danger I Am The Danger'"
      ]
     },
     "execution_count": 18,
     "metadata": {},
     "output_type": "execute_result"
    }
   ],
   "source": [
    "str1.title()"
   ]
  },
  {
   "cell_type": "code",
   "execution_count": 20,
   "id": "befbad35-fc0f-4b87-a639-36db0403aeff",
   "metadata": {},
   "outputs": [
    {
     "data": {
      "text/plain": [
       "'I am not in danger i am the danger'"
      ]
     },
     "execution_count": 20,
     "metadata": {},
     "output_type": "execute_result"
    }
   ],
   "source": [
    "str1.capitalize()"
   ]
  },
  {
   "cell_type": "code",
   "execution_count": 22,
   "id": "9b8416ef-6848-49eb-8ffa-af217c32cbb9",
   "metadata": {},
   "outputs": [
    {
     "data": {
      "text/plain": [
       "'i am not in danger i am the danger'"
      ]
     },
     "execution_count": 22,
     "metadata": {},
     "output_type": "execute_result"
    }
   ],
   "source": [
    "str1.casefold()"
   ]
  },
  {
   "cell_type": "code",
   "execution_count": 51,
   "id": "5837e1fb-24aa-4ffe-945d-9743fd8c0d4e",
   "metadata": {},
   "outputs": [
    {
     "data": {
      "text/plain": [
       "'           i am not in danger i am the danger           '"
      ]
     },
     "execution_count": 51,
     "metadata": {},
     "output_type": "execute_result"
    }
   ],
   "source": [
    "str1='i am not in danger i am the danger'\n",
    "str1.center(56)"
   ]
  },
  {
   "cell_type": "markdown",
   "id": "3ed1f775-20ee-4309-8977-4ceeab929faf",
   "metadata": {},
   "source": [
    "### difference between methods and inbuilt functions"
   ]
  },
  {
   "cell_type": "code",
   "execution_count": null,
   "id": "82414eb8-2d9c-4bed-8196-54fd060e0ab7",
   "metadata": {},
   "outputs": [],
   "source": [
    "#################### Inbuilt =============================\n",
    "len('python')\n",
    "max()\n",
    "min()\n",
    "type()\n",
    "print()\n",
    "sum()\n",
    "################### Methods ==============================\n",
    "str1.upper()\n",
    "str1.lower()\n",
    "str1.title()\n",
    "str1.capitalize()\n",
    "str1.casefold()"
   ]
  },
  {
   "cell_type": "markdown",
   "id": "ba969264-2125-465a-8024-93b255bb4559",
   "metadata": {},
   "source": [
    "**center**"
   ]
  },
  {
   "cell_type": "code",
   "execution_count": 55,
   "id": "c4d768d1-ede4-4245-a44f-c98d30c71812",
   "metadata": {},
   "outputs": [
    {
     "data": {
      "text/plain": [
       "'***********i am not in danger i am the danger***********'"
      ]
     },
     "execution_count": 55,
     "metadata": {},
     "output_type": "execute_result"
    }
   ],
   "source": [
    "str1='i am not in danger i am the danger'\n",
    "str1.center(56, '*')"
   ]
  },
  {
   "cell_type": "code",
   "execution_count": 65,
   "id": "aa3f8233-cb4f-4d8d-9ab7-dbb1c8625a87",
   "metadata": {},
   "outputs": [
    {
     "data": {
      "text/plain": [
       "'***python***'"
      ]
     },
     "execution_count": 65,
     "metadata": {},
     "output_type": "execute_result"
    }
   ],
   "source": [
    "str1='python'\n",
    "str1.center(12,'*')\n",
    "\n",
    "# here 12 means the len of the string becomes 12 charecters\n",
    "# already 'python' string has 6 charecters\n",
    "# so remaining 6 charecters padd as *"
   ]
  },
  {
   "cell_type": "markdown",
   "id": "80017856-2455-4d14-80f0-40d29336f7a0",
   "metadata": {},
   "source": [
    "**strip-lstrip-rstrip**\n",
    "\n",
    "- strip will remove the charecters both left and right side\n",
    "\n",
    "- lstrip will remove the charecters on left side\n",
    "\n",
    "- rstrip will remove the charecters on right side"
   ]
  },
  {
   "cell_type": "code",
   "execution_count": 75,
   "id": "549ef063-b8c6-40de-af8c-389631f28c32",
   "metadata": {},
   "outputs": [
    {
     "data": {
      "text/plain": [
       "'mrunal thakur'"
      ]
     },
     "execution_count": 75,
     "metadata": {},
     "output_type": "execute_result"
    }
   ],
   "source": [
    "str1='****mrunal thakur****'\n",
    "str1.strip('*')"
   ]
  },
  {
   "cell_type": "code",
   "execution_count": 77,
   "id": "1cc147c7-1721-402e-ad0c-fa2ac32ff34c",
   "metadata": {},
   "outputs": [
    {
     "data": {
      "text/plain": [
       "'mrunal thakur****'"
      ]
     },
     "execution_count": 77,
     "metadata": {},
     "output_type": "execute_result"
    }
   ],
   "source": [
    "str1.lstrip('*')"
   ]
  },
  {
   "cell_type": "code",
   "execution_count": 79,
   "id": "02e00239-e6e2-4c89-8133-f1f83a609aea",
   "metadata": {},
   "outputs": [
    {
     "data": {
      "text/plain": [
       "'****mrunal thakur'"
      ]
     },
     "execution_count": 79,
     "metadata": {},
     "output_type": "execute_result"
    }
   ],
   "source": [
    "str1.rstrip('*')"
   ]
  },
  {
   "cell_type": "code",
   "execution_count": 94,
   "id": "c497b1be-54af-4596-8651-24883ed85007",
   "metadata": {},
   "outputs": [
    {
     "data": {
      "text/plain": [
       "'python'"
      ]
     },
     "execution_count": 94,
     "metadata": {},
     "output_type": "execute_result"
    }
   ],
   "source": [
    "str1=' python '\n",
    "str1.strip(' ')"
   ]
  },
  {
   "cell_type": "code",
   "execution_count": 96,
   "id": "06e40f04-0bce-461b-9f48-8834f6bb5d2c",
   "metadata": {},
   "outputs": [
    {
     "data": {
      "text/plain": [
       "'mrunal thakur'"
      ]
     },
     "execution_count": 96,
     "metadata": {},
     "output_type": "execute_result"
    }
   ],
   "source": [
    "str2='   mrunal thakur****'\n",
    "str2.strip().rstrip('*')"
   ]
  },
  {
   "cell_type": "code",
   "execution_count": 1,
   "id": "27c9502f-3205-47bd-870c-751c75b1d8a8",
   "metadata": {},
   "outputs": [
    {
     "data": {
      "text/plain": [
       "True"
      ]
     },
     "execution_count": 1,
     "metadata": {},
     "output_type": "execute_result"
    }
   ],
   "source": [
    "str1='mrunal thakur'\n",
    "str1.startswith('mrunal')"
   ]
  },
  {
   "cell_type": "code",
   "execution_count": 5,
   "id": "e73c618c-4fbd-4447-a7e9-5cff5fd60852",
   "metadata": {},
   "outputs": [
    {
     "data": {
      "text/plain": [
       "True"
      ]
     },
     "execution_count": 5,
     "metadata": {},
     "output_type": "execute_result"
    }
   ],
   "source": [
    "str1.endswith('thakur')"
   ]
  },
  {
   "cell_type": "markdown",
   "id": "fe1d32ac-a907-4e67-8a66-010a454c429f",
   "metadata": {},
   "source": [
    "### count"
   ]
  },
  {
   "cell_type": "code",
   "execution_count": 12,
   "id": "80b51cc2-0715-4b96-baab-030b67c41046",
   "metadata": {},
   "outputs": [
    {
     "name": "stdout",
     "output_type": "stream",
     "text": [
      "3\n"
     ]
    }
   ],
   "source": [
    "str1='ola ola ola'\n",
    "# in the above string how many a are avialable\n",
    "count=0\n",
    "for i in str1:\n",
    "    if i=='a':\n",
    "        count=count+1\n",
    "print(count)"
   ]
  },
  {
   "cell_type": "markdown",
   "id": "a1f9033e-1f83-47b1-948f-9e657bf16d82",
   "metadata": {},
   "source": [
    "$Case-1$"
   ]
  },
  {
   "cell_type": "code",
   "execution_count": 14,
   "id": "02bad29f-a675-4479-ad3f-c55a43f91c3a",
   "metadata": {},
   "outputs": [
    {
     "data": {
      "text/plain": [
       "3"
      ]
     },
     "execution_count": 14,
     "metadata": {},
     "output_type": "execute_result"
    }
   ],
   "source": [
    "str1='ola ola ola'\n",
    "str1.count('a')"
   ]
  },
  {
   "cell_type": "code",
   "execution_count": 16,
   "id": "51577d6a-cab9-4ca3-9b32-b4d9f1dd7642",
   "metadata": {},
   "outputs": [
    {
     "data": {
      "text/plain": [
       "3"
      ]
     },
     "execution_count": 16,
     "metadata": {},
     "output_type": "execute_result"
    }
   ],
   "source": [
    "str1='ola ola ola'\n",
    "str1.count('la')"
   ]
  },
  {
   "cell_type": "code",
   "execution_count": 18,
   "id": "5d341aae-ab14-4f29-85bd-8162bb3890d3",
   "metadata": {},
   "outputs": [
    {
     "data": {
      "text/plain": [
       "3"
      ]
     },
     "execution_count": 18,
     "metadata": {},
     "output_type": "execute_result"
    }
   ],
   "source": [
    "str1='ola ola ola'\n",
    "str1.count('ola')"
   ]
  },
  {
   "cell_type": "code",
   "execution_count": 20,
   "id": "a41ff2c2-5866-47fc-9778-7de2aa714753",
   "metadata": {},
   "outputs": [
    {
     "data": {
      "text/plain": [
       "2"
      ]
     },
     "execution_count": 20,
     "metadata": {},
     "output_type": "execute_result"
    }
   ],
   "source": [
    "str1='ola ola ola'\n",
    "str1.count('ola ')"
   ]
  },
  {
   "cell_type": "markdown",
   "id": "932e0a2f-b3f6-4af6-920a-5a34cba4f7bc",
   "metadata": {},
   "source": [
    "$Case-2$"
   ]
  },
  {
   "cell_type": "code",
   "execution_count": 24,
   "id": "398bf97c-4424-46cb-97fb-9eedb4143410",
   "metadata": {},
   "outputs": [
    {
     "data": {
      "text/plain": [
       "1"
      ]
     },
     "execution_count": 24,
     "metadata": {},
     "output_type": "execute_result"
    }
   ],
   "source": [
    "str1.count('a',4,9)"
   ]
  },
  {
   "cell_type": "code",
   "execution_count": 26,
   "id": "de6a6c9c-a251-491c-926f-5107b8287989",
   "metadata": {},
   "outputs": [
    {
     "data": {
      "text/plain": [
       "1"
      ]
     },
     "execution_count": 26,
     "metadata": {},
     "output_type": "execute_result"
    }
   ],
   "source": [
    "str1.count('a',4,-2)"
   ]
  },
  {
   "cell_type": "code",
   "execution_count": 44,
   "id": "8b813201-4d8b-4486-9824-f0fe98ab48d5",
   "metadata": {},
   "outputs": [
    {
     "data": {
      "text/plain": [
       "2"
      ]
     },
     "execution_count": 44,
     "metadata": {},
     "output_type": "execute_result"
    }
   ],
   "source": [
    "str1.count('a',-12,-4)"
   ]
  },
  {
   "cell_type": "code",
   "execution_count": 42,
   "id": "6dcbd083-e724-4841-a0b1-b1702f050474",
   "metadata": {},
   "outputs": [
    {
     "data": {
      "text/plain": [
       "1"
      ]
     },
     "execution_count": 42,
     "metadata": {},
     "output_type": "execute_result"
    }
   ],
   "source": [
    "str1.count('a',4,-1)"
   ]
  },
  {
   "cell_type": "code",
   "execution_count": 46,
   "id": "a914e072-457e-4afd-b6df-53a6125a0384",
   "metadata": {},
   "outputs": [
    {
     "data": {
      "text/plain": [
       "0"
      ]
     },
     "execution_count": 46,
     "metadata": {},
     "output_type": "execute_result"
    }
   ],
   "source": [
    "str1.count('z')"
   ]
  },
  {
   "cell_type": "code",
   "execution_count": 96,
   "id": "6bef8242-3658-4cd2-9f1a-2fe7c06e1612",
   "metadata": {},
   "outputs": [
    {
     "name": "stdout",
     "output_type": "stream",
     "text": [
      "3\n"
     ]
    }
   ],
   "source": [
    "count=0\n",
    "str1='ola ola ola'\n",
    "for i in range(len(str1)):\n",
    "    if str1[i:i+3]=='ola':\n",
    "        count=count+1\n",
    "print(count)"
   ]
  },
  {
   "cell_type": "markdown",
   "id": "8a0fef3c-af76-4ebc-b892-bdc924968835",
   "metadata": {},
   "source": [
    "## Sliding Window Approach\n",
    "\n",
    "- fix the slice value first: **str1[i:i+3]**\n",
    "  \n",
    "- Then increase the slice value by 1: **for i in range(len(str1))**\n",
    "\n",
    "- Whenever it is equal to substring:**str1[i:i+3}=='ola'**\n",
    "\n",
    "- then update the count: **count=count+1**"
   ]
  },
  {
   "cell_type": "code",
   "execution_count": 105,
   "id": "1b319330-1e92-497e-8b94-b4751da19f27",
   "metadata": {},
   "outputs": [
    {
     "data": {
      "text/plain": [
       "'weLcome'"
      ]
     },
     "execution_count": 105,
     "metadata": {},
     "output_type": "execute_result"
    }
   ],
   "source": [
    "str1='welcome'\n",
    "str1.replace('l','L')"
   ]
  },
  {
   "cell_type": "code",
   "execution_count": 101,
   "id": "a1d600c1-92cd-4d64-8ca8-91f0e24fa80f",
   "metadata": {},
   "outputs": [
    {
     "data": {
      "text/plain": [
       "'welcome'"
      ]
     },
     "execution_count": 101,
     "metadata": {},
     "output_type": "execute_result"
    }
   ],
   "source": [
    "str1.replace('z','Z')"
   ]
  },
  {
   "cell_type": "code",
   "execution_count": 107,
   "id": "ddfabb32-923f-4170-8676-9503fdf66edd",
   "metadata": {},
   "outputs": [
    {
     "data": {
      "text/plain": [
       "'weLLlcome'"
      ]
     },
     "execution_count": 107,
     "metadata": {},
     "output_type": "execute_result"
    }
   ],
   "source": [
    "str1='welllcome'\n",
    "str1.replace('l','L',2)"
   ]
  },
  {
   "cell_type": "code",
   "execution_count": 119,
   "id": "d1fffdf8-4d28-4e23-8c6a-7699db4beeca",
   "metadata": {},
   "outputs": [
    {
     "data": {
      "text/plain": [
       "'welllcome'"
      ]
     },
     "execution_count": 119,
     "metadata": {},
     "output_type": "execute_result"
    }
   ],
   "source": [
    "str1='welllcome'\n",
    "str1.replace('l','L',0)"
   ]
  },
  {
   "cell_type": "code",
   "execution_count": 125,
   "id": "e4541c75-305a-4984-ba3d-8f8daae3a9ce",
   "metadata": {},
   "outputs": [
    {
     "data": {
      "text/plain": [
       "'weLLLcome'"
      ]
     },
     "execution_count": 125,
     "metadata": {},
     "output_type": "execute_result"
    }
   ],
   "source": [
    "str1='welllcome'\n",
    "str1.replace('l','L',3)"
   ]
  },
  {
   "cell_type": "markdown",
   "id": "d506a353-6c6d-43af-89dc-d514d3ca0038",
   "metadata": {},
   "source": [
    "- By default it will replace all the occurances\n",
    "  \n",
    "- The user can provide the count which indicates how many letters can replace\n",
    "\n",
    "- if the substring not found it will return the original string itself"
   ]
  },
  {
   "cell_type": "code",
   "execution_count": 158,
   "id": "fb63bc61-206e-4afa-80ab-527d94cc3787",
   "metadata": {},
   "outputs": [
    {
     "name": "stdout",
     "output_type": "stream",
     "text": [
      "resta$t\n"
     ]
    }
   ],
   "source": [
    "str1='restart'\n",
    "s1=str1[0:5]\n",
    "s2=str1[5:]\n",
    "s3=s2.replace('r','$')\n",
    "con=s1+s3\n",
    "print(con)"
   ]
  },
  {
   "cell_type": "code",
   "execution_count": 172,
   "id": "ffca3bc7-c774-4a8d-9176-3c01eda0a492",
   "metadata": {},
   "outputs": [
    {
     "data": {
      "text/plain": [
       "'resta$t'"
      ]
     },
     "execution_count": 172,
     "metadata": {},
     "output_type": "execute_result"
    }
   ],
   "source": [
    "str1='restart'\n",
    "str1[::-1].replace('r','$',1)[::-1]"
   ]
  },
  {
   "cell_type": "code",
   "execution_count": 176,
   "id": "b6f328e2-538c-475d-bfad-bf09da53dfab",
   "metadata": {},
   "outputs": [
    {
     "name": "stdout",
     "output_type": "stream",
     "text": [
      "restart $estart\n"
     ]
    }
   ],
   "source": [
    "str1='restart restart'\n",
    "s1=str1[0:8]\n",
    "s2=str1[8:]\n",
    "s3=s2.replace('r','$',1)\n",
    "con=s1+s3\n",
    "print(con)"
   ]
  },
  {
   "cell_type": "markdown",
   "id": "294eb42c-edbf-4757-bdfa-5f5ceaf19d3f",
   "metadata": {},
   "source": [
    "### index"
   ]
  },
  {
   "cell_type": "code",
   "execution_count": 181,
   "id": "7b592e88-ba37-49f5-b854-02731a478b1b",
   "metadata": {},
   "outputs": [
    {
     "data": {
      "text/plain": [
       "(3, 0)"
      ]
     },
     "execution_count": 181,
     "metadata": {},
     "output_type": "execute_result"
    }
   ],
   "source": [
    "str1='restart restart'\n",
    "str1.index('t'), str1.index('r')"
   ]
  },
  {
   "cell_type": "code",
   "execution_count": 185,
   "id": "e1eb2898-92f6-4d34-9b00-849646393684",
   "metadata": {},
   "outputs": [
    {
     "data": {
      "text/plain": [
       "1"
      ]
     },
     "execution_count": 185,
     "metadata": {},
     "output_type": "execute_result"
    }
   ],
   "source": [
    "str1.index('e')"
   ]
  },
  {
   "cell_type": "code",
   "execution_count": 191,
   "id": "a21dba5b-15de-4a46-8ebe-385452b9e1a6",
   "metadata": {},
   "outputs": [
    {
     "data": {
      "text/plain": [
       "5"
      ]
     },
     "execution_count": 191,
     "metadata": {},
     "output_type": "execute_result"
    }
   ],
   "source": [
    "str1.index('r',1)"
   ]
  },
  {
   "cell_type": "code",
   "execution_count": 199,
   "id": "b6744e66-7444-4498-968d-ab9682f700b0",
   "metadata": {},
   "outputs": [
    {
     "data": {
      "text/plain": [
       "13"
      ]
     },
     "execution_count": 199,
     "metadata": {},
     "output_type": "execute_result"
    }
   ],
   "source": [
    "str1='restart restart'\n",
    "str1.index('r')  # 0\n",
    "str1.index('r',1)  # 1=0+1\n",
    "str1.index('r',6)  # 6=5+1\n",
    "str1.index('r',9)  # 9=8+1"
   ]
  },
  {
   "cell_type": "code",
   "execution_count": 201,
   "id": "7707d445-b6c8-4e0c-9c2f-dcdf63daed14",
   "metadata": {},
   "outputs": [
    {
     "name": "stdout",
     "output_type": "stream",
     "text": [
      "0 5 8 13\n"
     ]
    }
   ],
   "source": [
    "str1='restart restart'\n",
    "i1=str1.index('r')  # 0\n",
    "i2=str1.index('r',i1+1)  # 1=0+1\n",
    "i3=str1.index('r',i2+1)  # 6=5+1\n",
    "i4=str1.index('r',i3+1)  # 9=8+1\n",
    "print(i1,i2,i3,i4)"
   ]
  },
  {
   "cell_type": "code",
   "execution_count": 217,
   "id": "38c26245-3cf1-432a-851e-577e9657b58e",
   "metadata": {},
   "outputs": [
    {
     "data": {
      "text/plain": [
       "13"
      ]
     },
     "execution_count": 217,
     "metadata": {},
     "output_type": "execute_result"
    }
   ],
   "source": [
    "str1='restart restart'\n",
    "str1.find('r',9)"
   ]
  },
  {
   "cell_type": "code",
   "execution_count": null,
   "id": "a42fe0cf-ace8-4c74-ac56-f1a8d86114ef",
   "metadata": {},
   "outputs": [],
   "source": [
    "str1='restart'\n",
    "str1.count('z')\n",
    "str1.replace('z','Z')\n",
    "str1.index('z')\n",
    "str1.find('z')"
   ]
  },
  {
   "cell_type": "code",
   "execution_count": 41,
   "id": "e2cb3f32-197f-4279-af99-d531ec0932cc",
   "metadata": {},
   "outputs": [
    {
     "name": "stdout",
     "output_type": "stream",
     "text": [
      "5 15 11\n",
      "virat kohli rcb\n"
     ]
    }
   ],
   "source": [
    "str1='virat.kohli@rcb.com'\n",
    "def extract(str1):\n",
    "    first_dot=str1.index('.')\n",
    "    second_dot=str1.index('.',first_dot+1)\n",
    "    at_the_rate=str1.index('@')\n",
    "    print(first_dot,second_dot,at_the_rate)\n",
    "    first_name=str1[:first_dot]\n",
    "    second_name=str1[first_dot+1:at_the_rate]\n",
    "    cname=str1[at_the_rate+1:second_dot]\n",
    "    print(first_name,second_name,cname)\n",
    "extract(str1)"
   ]
  },
  {
   "cell_type": "markdown",
   "id": "527ed8e7-deb2-4de2-821f-ef0bc324c875",
   "metadata": {},
   "source": [
    "## split"
   ]
  },
  {
   "cell_type": "markdown",
   "id": "715a58c1-a5e5-4480-91b1-e45d01f4448f",
   "metadata": {},
   "source": [
    "- split is used to convert a string to list of elements"
   ]
  },
  {
   "cell_type": "code",
   "execution_count": 63,
   "id": "1a5c1bac-ca87-45a7-988c-5a952dd23a24",
   "metadata": {},
   "outputs": [
    {
     "data": {
      "text/plain": [
       "['hai', 'how,are', 'you']"
      ]
     },
     "execution_count": 63,
     "metadata": {},
     "output_type": "execute_result"
    }
   ],
   "source": [
    "str1='hai how,are you'\n",
    "str1.split()"
   ]
  },
  {
   "cell_type": "code",
   "execution_count": 76,
   "id": "3035451a-5e97-4e4a-8706-61bd85fec9b3",
   "metadata": {},
   "outputs": [
    {
     "data": {
      "text/plain": [
       "['hell', ' hai h', 'w are y', 'u']"
      ]
     },
     "execution_count": 76,
     "metadata": {},
     "output_type": "execute_result"
    }
   ],
   "source": [
    "str1='hello hai how are you'\n",
    "str1.split('o')"
   ]
  },
  {
   "cell_type": "markdown",
   "id": "b3fde3d6-0642-4469-ba61-70b3fdf84dd3",
   "metadata": {},
   "source": [
    "## join"
   ]
  },
  {
   "cell_type": "code",
   "execution_count": 70,
   "id": "cd0cf553-1a87-4f12-b0ca-d053ae55fc50",
   "metadata": {},
   "outputs": [
    {
     "data": {
      "text/plain": [
       "'hai how are you'"
      ]
     },
     "execution_count": 70,
     "metadata": {},
     "output_type": "execute_result"
    }
   ],
   "source": [
    "str1='hai how are you'\n",
    "l=str1.split()\n",
    "l\n",
    "' '.join(l)"
   ]
  },
  {
   "cell_type": "code",
   "execution_count": 86,
   "id": "1c539267-782c-4f98-9c5f-3475e7a3b3db",
   "metadata": {},
   "outputs": [
    {
     "data": {
      "text/plain": [
       "'hai how,are you'"
      ]
     },
     "execution_count": 86,
     "metadata": {},
     "output_type": "execute_result"
    }
   ],
   "source": [
    "str1='hai how,are you'\n",
    "str1.split(',')\n",
    "','.join(str1.split(','))"
   ]
  },
  {
   "cell_type": "code",
   "execution_count": 84,
   "id": "911e1e7d-5db5-4ae8-a3f1-7f031efe829d",
   "metadata": {},
   "outputs": [
    {
     "data": {
      "text/plain": [
       "'hello hai how are you'"
      ]
     },
     "execution_count": 84,
     "metadata": {},
     "output_type": "execute_result"
    }
   ],
   "source": [
    "str1='hello hai how are you'\n",
    "str1.split('o')\n",
    "'o'.join(str1.split('o'))"
   ]
  },
  {
   "cell_type": "code",
   "execution_count": 88,
   "id": "30834f93-2043-4465-b9fb-6f07aa0fbc26",
   "metadata": {},
   "outputs": [
    {
     "data": {
      "text/plain": [
       "['__add__',\n",
       " '__class__',\n",
       " '__contains__',\n",
       " '__delattr__',\n",
       " '__dir__',\n",
       " '__doc__',\n",
       " '__eq__',\n",
       " '__format__',\n",
       " '__ge__',\n",
       " '__getattribute__',\n",
       " '__getitem__',\n",
       " '__getnewargs__',\n",
       " '__getstate__',\n",
       " '__gt__',\n",
       " '__hash__',\n",
       " '__init__',\n",
       " '__init_subclass__',\n",
       " '__iter__',\n",
       " '__le__',\n",
       " '__len__',\n",
       " '__lt__',\n",
       " '__mod__',\n",
       " '__mul__',\n",
       " '__ne__',\n",
       " '__new__',\n",
       " '__reduce__',\n",
       " '__reduce_ex__',\n",
       " '__repr__',\n",
       " '__rmod__',\n",
       " '__rmul__',\n",
       " '__setattr__',\n",
       " '__sizeof__',\n",
       " '__str__',\n",
       " '__subclasshook__',\n",
       " 'capitalize',\n",
       " 'casefold',\n",
       " 'center',\n",
       " 'count',\n",
       " 'encode',\n",
       " 'endswith',\n",
       " 'expandtabs',\n",
       " 'find',\n",
       " 'format',\n",
       " 'format_map',\n",
       " 'index',\n",
       " 'isalnum',\n",
       " 'isalpha',\n",
       " 'isascii',\n",
       " 'isdecimal',\n",
       " 'isdigit',\n",
       " 'isidentifier',\n",
       " 'islower',\n",
       " 'isnumeric',\n",
       " 'isprintable',\n",
       " 'isspace',\n",
       " 'istitle',\n",
       " 'isupper',\n",
       " 'join',\n",
       " 'ljust',\n",
       " 'lower',\n",
       " 'lstrip',\n",
       " 'maketrans',\n",
       " 'partition',\n",
       " 'removeprefix',\n",
       " 'removesuffix',\n",
       " 'replace',\n",
       " 'rfind',\n",
       " 'rindex',\n",
       " 'rjust',\n",
       " 'rpartition',\n",
       " 'rsplit',\n",
       " 'rstrip',\n",
       " 'split',\n",
       " 'splitlines',\n",
       " 'startswith',\n",
       " 'strip',\n",
       " 'swapcase',\n",
       " 'title',\n",
       " 'translate',\n",
       " 'upper',\n",
       " 'zfill']"
      ]
     },
     "execution_count": 88,
     "metadata": {},
     "output_type": "execute_result"
    }
   ],
   "source": [
    "dir(' ')"
   ]
  },
  {
   "cell_type": "code",
   "execution_count": null,
   "id": "2b11fdad-7e85-4d0b-941a-370992f18d99",
   "metadata": {},
   "outputs": [],
   "source": [
    "'isalnum',\n",
    "'isalpha',\n",
    "'isascii',\n",
    "'isdecimal',\n",
    "'isdigit',\n",
    "'isidentifier',\n",
    "'islower',\n",
    "'isnumeric',\n",
    "'isprintable',\n",
    "'isspace',\n",
    "'istitle',\n",
    "'isupper',"
   ]
  },
  {
   "cell_type": "code",
   "execution_count": 10,
   "id": "0e882096-a31a-42b7-a438-c272db39e7b4",
   "metadata": {},
   "outputs": [
    {
     "data": {
      "text/plain": [
       "True"
      ]
     },
     "execution_count": 10,
     "metadata": {},
     "output_type": "execute_result"
    }
   ],
   "source": [
    "str1='mrunalthakur'\n",
    "str1.isalpha()"
   ]
  },
  {
   "cell_type": "code",
   "execution_count": 8,
   "id": "75063852-93c1-45e5-b8f0-59d493ea979a",
   "metadata": {},
   "outputs": [
    {
     "data": {
      "text/plain": [
       "False"
      ]
     },
     "execution_count": 8,
     "metadata": {},
     "output_type": "execute_result"
    }
   ],
   "source": [
    "str1.isalnum()"
   ]
  },
  {
   "cell_type": "code",
   "execution_count": 16,
   "id": "6e6efce9-cb13-42b2-85f9-c9cffde14617",
   "metadata": {},
   "outputs": [
    {
     "data": {
      "text/plain": [
       "True"
      ]
     },
     "execution_count": 16,
     "metadata": {},
     "output_type": "execute_result"
    }
   ],
   "source": [
    "str1.isascii()"
   ]
  },
  {
   "cell_type": "code",
   "execution_count": 18,
   "id": "a9ceecb7-3c06-4b56-b41e-f4efa9eaefa0",
   "metadata": {},
   "outputs": [
    {
     "data": {
      "text/plain": [
       "False"
      ]
     },
     "execution_count": 18,
     "metadata": {},
     "output_type": "execute_result"
    }
   ],
   "source": [
    "str1.isdigit()"
   ]
  },
  {
   "cell_type": "code",
   "execution_count": 40,
   "id": "97761e2f-aed2-412a-bc89-efbaff0dc90d",
   "metadata": {},
   "outputs": [
    {
     "name": "stdout",
     "output_type": "stream",
     "text": [
      "123456\n"
     ]
    }
   ],
   "source": [
    "str1='the telephone is 123456'\n",
    "s1=''\n",
    "for i in str1:\n",
    "    if i.isdigit() is True:\n",
    "        s1=s1+i\n",
    "print(s1)"
   ]
  },
  {
   "cell_type": "code",
   "execution_count": 28,
   "id": "bc26fe0e-df8a-49cf-9f5a-e7f64a86c585",
   "metadata": {},
   "outputs": [
    {
     "data": {
      "text/plain": [
       "False"
      ]
     },
     "execution_count": 28,
     "metadata": {},
     "output_type": "execute_result"
    }
   ],
   "source": [
    "str1='98.5FM'\n",
    "str1.isdecimal()"
   ]
  },
  {
   "cell_type": "code",
   "execution_count": 14,
   "id": "8825dd1d-24ac-49a2-a5a9-0f1b0798e2d1",
   "metadata": {},
   "outputs": [
    {
     "data": {
      "text/plain": [
       "True"
      ]
     },
     "execution_count": 14,
     "metadata": {},
     "output_type": "execute_result"
    }
   ],
   "source": [
    "str1='python'\n",
    "str1.isidentifier()"
   ]
  },
  {
   "cell_type": "code",
   "execution_count": 16,
   "id": "88613bd0-d3c2-451d-badd-78aea8178423",
   "metadata": {},
   "outputs": [
    {
     "data": {
      "text/plain": [
       "True"
      ]
     },
     "execution_count": 16,
     "metadata": {},
     "output_type": "execute_result"
    }
   ],
   "source": [
    "str1.islower()"
   ]
  },
  {
   "cell_type": "code",
   "execution_count": 18,
   "id": "f064756c-2fce-41e6-9bf0-3a0eeaeaff87",
   "metadata": {},
   "outputs": [
    {
     "data": {
      "text/plain": [
       "False"
      ]
     },
     "execution_count": 18,
     "metadata": {},
     "output_type": "execute_result"
    }
   ],
   "source": [
    "str1.isnumeric()"
   ]
  },
  {
   "cell_type": "code",
   "execution_count": 20,
   "id": "04d99b23-b227-4a59-ae5b-dd5626fbc448",
   "metadata": {},
   "outputs": [
    {
     "data": {
      "text/plain": [
       "True"
      ]
     },
     "execution_count": 20,
     "metadata": {},
     "output_type": "execute_result"
    }
   ],
   "source": [
    "str1.isprintable()"
   ]
  },
  {
   "cell_type": "code",
   "execution_count": 24,
   "id": "91880542-4897-4a4a-8ba9-209a3a3aff96",
   "metadata": {},
   "outputs": [
    {
     "data": {
      "text/plain": [
       "True"
      ]
     },
     "execution_count": 24,
     "metadata": {},
     "output_type": "execute_result"
    }
   ],
   "source": [
    "str1=' '\n",
    "str1.isspace()"
   ]
  },
  {
   "cell_type": "code",
   "execution_count": 34,
   "id": "5c3c0afd-3934-494a-9d5e-3a883c38228b",
   "metadata": {},
   "outputs": [
    {
     "data": {
      "text/plain": [
       "True"
      ]
     },
     "execution_count": 34,
     "metadata": {},
     "output_type": "execute_result"
    }
   ],
   "source": [
    "str1='Mrunal Thakur'\n",
    "str1.istitle()"
   ]
  },
  {
   "cell_type": "code",
   "execution_count": 36,
   "id": "16ad6bbd-00f3-4af6-b7ef-e4f023d949ac",
   "metadata": {},
   "outputs": [
    {
     "data": {
      "text/plain": [
       "True"
      ]
     },
     "execution_count": 36,
     "metadata": {},
     "output_type": "execute_result"
    }
   ],
   "source": [
    "str1='MRUNAL THAKUR'\n",
    "str1.isupper()"
   ]
  },
  {
   "cell_type": "code",
   "execution_count": null,
   "id": "cf46e35b-941b-4954-bbcf-40c4dc9dc463",
   "metadata": {},
   "outputs": [],
   "source": []
  }
 ],
 "metadata": {
  "kernelspec": {
   "display_name": "Python [conda env:base] *",
   "language": "python",
   "name": "conda-base-py"
  },
  "language_info": {
   "codemirror_mode": {
    "name": "ipython",
    "version": 3
   },
   "file_extension": ".py",
   "mimetype": "text/x-python",
   "name": "python",
   "nbconvert_exporter": "python",
   "pygments_lexer": "ipython3",
   "version": "3.12.7"
  }
 },
 "nbformat": 4,
 "nbformat_minor": 5
}
