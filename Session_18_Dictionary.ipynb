{
 "cells": [
  {
   "cell_type": "code",
   "execution_count": 4,
   "id": "ad31c432-be49-4c01-918b-70e76029888f",
   "metadata": {},
   "outputs": [
    {
     "name": "stdout",
     "output_type": "stream",
     "text": [
      "Ramesh age is 20\n",
      "Suresh age is 25\n",
      "Sathish age is 30\n"
     ]
    }
   ],
   "source": [
    "names=['Ramesh','Suresh','Sathish']\n",
    "age=[20,25,30]\n",
    "for i in range(len(names)):\n",
    "    print(f'{names[i]} age is {age[i]}')"
   ]
  },
  {
   "cell_type": "markdown",
   "id": "73fa16bc-690d-4a8b-99c7-63f55ed22a0d",
   "metadata": {},
   "source": [
    "#### zip"
   ]
  },
  {
   "cell_type": "code",
   "execution_count": 18,
   "id": "98615764-7921-449d-9ef3-390cbe259912",
   "metadata": {},
   "outputs": [
    {
     "name": "stdout",
     "output_type": "stream",
     "text": [
      "Ramesh 20\n",
      "Ramesh age is 20\n",
      "Suresh 25\n",
      "Suresh age is 25\n",
      "Sathish 30\n",
      "Sathish age is 30\n"
     ]
    }
   ],
   "source": [
    "names=['Ramesh','Suresh','Sathish']\n",
    "age=[20,25,30]\n",
    "for i,j in zip(names,age):\n",
    "    print(i,j)\n",
    "    print(f'{i} age is {j}')"
   ]
  },
  {
   "cell_type": "code",
   "execution_count": 34,
   "id": "abf229be-3499-492d-a309-9c69d54d87e4",
   "metadata": {},
   "outputs": [
    {
     "name": "stdout",
     "output_type": "stream",
     "text": [
      "Ramesh age is 20\n",
      "Suresh age is 25\n",
      "Sathish age is 30\n"
     ]
    },
    {
     "data": {
      "text/plain": [
       "[None, None, None]"
      ]
     },
     "execution_count": 34,
     "metadata": {},
     "output_type": "execute_result"
    }
   ],
   "source": [
    "names=['Ramesh','Suresh','Sathish']\n",
    "age=[20,25,30]\n",
    "zip(names,age)\n",
    "output=[print(f'{i} age is {j}') for i,j in zip(names,age)]\n",
    "output"
   ]
  },
  {
   "cell_type": "markdown",
   "id": "3f567178-e33c-4ea8-9ec5-ea68cd57c5ea",
   "metadata": {},
   "source": [
    "**Dictionary**\n",
    "\n",
    "- in above example names and age are together\n",
    "\n",
    "- when both are together we can pair them\n",
    "\n",
    "- This can happen using Dictionary\n",
    "\n",
    "- Dictionary is called as **key-value** pair\n",
    "\n",
    "- it represents with curly braces : **{key:value}**\n",
    "\n",
    "- Ramesh and 20 years both are pair : {'Ramesh':20}"
   ]
  },
  {
   "cell_type": "code",
   "execution_count": 38,
   "id": "a62c6c0e-ba8f-4cd5-bc2f-694cebfea46a",
   "metadata": {},
   "outputs": [
    {
     "data": {
      "text/plain": [
       "{'Ramesh': 20, 'Suresh': 25, 'Sathish': 30}"
      ]
     },
     "execution_count": 38,
     "metadata": {},
     "output_type": "execute_result"
    }
   ],
   "source": [
    "d1={'Ramesh':20,'Suresh':25,'Sathish':30}\n",
    "d1"
   ]
  },
  {
   "cell_type": "code",
   "execution_count": 42,
   "id": "695c17ec-c7c0-4230-956e-9cbee1389adf",
   "metadata": {},
   "outputs": [
    {
     "data": {
      "text/plain": [
       "{20: 'Ramesh', 25: 'Suresh', 30: 'Sathish'}"
      ]
     },
     "execution_count": 42,
     "metadata": {},
     "output_type": "execute_result"
    }
   ],
   "source": [
    "d2={20:'Ramesh',25:'Suresh',30:'Sathish'}\n",
    "d2"
   ]
  },
  {
   "cell_type": "code",
   "execution_count": 44,
   "id": "77f65cea-bd9d-4f6d-a1d5-a19b5eb9c38b",
   "metadata": {},
   "outputs": [
    {
     "data": {
      "text/plain": [
       "{'Ramesh': '20', 'Suresh': '25', 'Sathish': '30'}"
      ]
     },
     "execution_count": 44,
     "metadata": {},
     "output_type": "execute_result"
    }
   ],
   "source": [
    "d3={'Ramesh':'20','Suresh':'25','Sathish':'30'}\n",
    "d3"
   ]
  },
  {
   "cell_type": "code",
   "execution_count": 46,
   "id": "b7d7abba-ac8c-4fa7-953c-fcb50cecc815",
   "metadata": {},
   "outputs": [
    {
     "data": {
      "text/plain": [
       "{'Ramesh': '20', 'Suresh': '25', 'Sathish': 30}"
      ]
     },
     "execution_count": 46,
     "metadata": {},
     "output_type": "execute_result"
    }
   ],
   "source": [
    "d4={'Ramesh':'20','Suresh':'25','Sathish':30}\n",
    "d4"
   ]
  },
  {
   "cell_type": "code",
   "execution_count": 48,
   "id": "1f56b34f-ce8f-413a-9b94-36c7951d3dde",
   "metadata": {},
   "outputs": [
    {
     "data": {
      "text/plain": [
       "{'Ramesh': 30}"
      ]
     },
     "execution_count": 48,
     "metadata": {},
     "output_type": "execute_result"
    }
   ],
   "source": [
    "d5={'Ramesh':20,'Ramesh':30}\n",
    "d5"
   ]
  },
  {
   "cell_type": "markdown",
   "id": "aaaeed21-7880-4bb7-b7ca-1590cb2430cd",
   "metadata": {},
   "source": [
    "- If both keys are same it will take the latest value as in cell d5\n",
    "\n",
    "- Dictionarys kind of like database"
   ]
  },
  {
   "cell_type": "code",
   "execution_count": 57,
   "id": "ef1413b4-b7df-443b-bf91-7a8ab06d813f",
   "metadata": {},
   "outputs": [
    {
     "data": {
      "text/plain": [
       "{'Ramesh': 20}"
      ]
     },
     "execution_count": 57,
     "metadata": {},
     "output_type": "execute_result"
    }
   ],
   "source": [
    "d6={'Ramesh':20,'Ramesh':20}\n",
    "d6\n",
    "# Dictionarys does not allow duplicates"
   ]
  },
  {
   "cell_type": "code",
   "execution_count": 59,
   "id": "937f9685-5f14-46ee-b748-2fc539e0404b",
   "metadata": {},
   "outputs": [
    {
     "data": {
      "text/plain": [
       "{'Ramesh': 20, 'Suresh': 20}"
      ]
     },
     "execution_count": 59,
     "metadata": {},
     "output_type": "execute_result"
    }
   ],
   "source": [
    "d7={'Ramesh':20,'Suresh':20}\n",
    "d7\n",
    "# In dictionary keys play vital roles\n",
    "# keys cannot be duplicate but values can be duplicate"
   ]
  },
  {
   "cell_type": "code",
   "execution_count": 64,
   "id": "ac8b1014-e263-46e8-9ee9-de24d6c38074",
   "metadata": {},
   "outputs": [
    {
     "data": {
      "text/plain": [
       "{20: 'Suresh'}"
      ]
     },
     "execution_count": 64,
     "metadata": {},
     "output_type": "execute_result"
    }
   ],
   "source": [
    "d8={20:'Ramesh',20:'Suresh'}\n",
    "d8\n",
    "# If both keys are same it will take the latest value as in cell d5"
   ]
  },
  {
   "cell_type": "code",
   "execution_count": 66,
   "id": "9eccb49f-f4e8-4b12-8d63-2f27b82f61de",
   "metadata": {},
   "outputs": [
    {
     "data": {
      "text/plain": [
       "{True: 'true'}"
      ]
     },
     "execution_count": 66,
     "metadata": {},
     "output_type": "execute_result"
    }
   ],
   "source": [
    "d9={True:'true'}\n",
    "d9"
   ]
  },
  {
   "cell_type": "code",
   "execution_count": 68,
   "id": "4b5f5c7e-1dd4-40df-a14b-06e6d6e30c09",
   "metadata": {},
   "outputs": [
    {
     "data": {
      "text/plain": [
       "{'fruits': ['Apple', 'Banana']}"
      ]
     },
     "execution_count": 68,
     "metadata": {},
     "output_type": "execute_result"
    }
   ],
   "source": [
    "d10={'fruits':['Apple','Banana']}\n",
    "d10"
   ]
  },
  {
   "cell_type": "code",
   "execution_count": 70,
   "id": "61a7393c-445d-4c0e-91b8-cd9f6a1fb887",
   "metadata": {},
   "outputs": [
    {
     "ename": "TypeError",
     "evalue": "unhashable type: 'list'",
     "output_type": "error",
     "traceback": [
      "\u001b[1;31m---------------------------------------------------------------------------\u001b[0m",
      "\u001b[1;31mTypeError\u001b[0m                                 Traceback (most recent call last)",
      "Cell \u001b[1;32mIn[70], line 1\u001b[0m\n\u001b[1;32m----> 1\u001b[0m d11\u001b[38;5;241m=\u001b[39m{[\u001b[38;5;124m'\u001b[39m\u001b[38;5;124mApple\u001b[39m\u001b[38;5;124m'\u001b[39m,\u001b[38;5;124m'\u001b[39m\u001b[38;5;124mBanana\u001b[39m\u001b[38;5;124m'\u001b[39m]:\u001b[38;5;124m'\u001b[39m\u001b[38;5;124mfruits\u001b[39m\u001b[38;5;124m'\u001b[39m}\n\u001b[0;32m      2\u001b[0m d11\n",
      "\u001b[1;31mTypeError\u001b[0m: unhashable type: 'list'"
     ]
    }
   ],
   "source": [
    "d11={['Apple','Banana']:'fruits'}\n",
    "d11"
   ]
  },
  {
   "cell_type": "code",
   "execution_count": 72,
   "id": "355aadf0-43b9-4e02-849d-efade1ac7d27",
   "metadata": {},
   "outputs": [
    {
     "data": {
      "text/plain": [
       "{'fruits': ('Apple', 'Banana')}"
      ]
     },
     "execution_count": 72,
     "metadata": {},
     "output_type": "execute_result"
    }
   ],
   "source": [
    "d12={'fruits':('Apple','Banana')}\n",
    "d12"
   ]
  },
  {
   "cell_type": "code",
   "execution_count": 74,
   "id": "424edc38-7493-4fae-acd1-5c155b3fdec8",
   "metadata": {},
   "outputs": [
    {
     "data": {
      "text/plain": [
       "{('Apple', 'Banana'): 'fruits'}"
      ]
     },
     "execution_count": 74,
     "metadata": {},
     "output_type": "execute_result"
    }
   ],
   "source": [
    "d13={('Apple','Banana'):'fruits'}\n",
    "d13"
   ]
  },
  {
   "cell_type": "markdown",
   "id": "acb93434-9e3a-4dab-b9ae-1a1032800dfe",
   "metadata": {},
   "source": [
    "**list as keys fails because list has a mutable behaviour**\n",
    "\n",
    "**tuple as keys works because tuple has immutable behaviour**\n",
    "\n",
    "**in dictionary keys are very very important**\n",
    "\n",
    "**keys doesnot change so when we apply list is failing**"
   ]
  },
  {
   "cell_type": "markdown",
   "id": "7d4d082d-a59f-4450-99cb-a33057b82ca6",
   "metadata": {},
   "source": [
    "- If both keys are same it will take the latest value\n",
    "\n",
    "- Dictionarys does not allow duplicates\n",
    "\n",
    "- In dictionary keys play vital roles\n",
    "\n",
    "- keys cannot be duplicate but values can be duplicate"
   ]
  },
  {
   "cell_type": "code",
   "execution_count": 2,
   "id": "a336d233-69ce-4d6d-94e0-d77ecde5ef61",
   "metadata": {},
   "outputs": [
    {
     "data": {
      "text/plain": [
       "{'fruits': {'Apple': 20}}"
      ]
     },
     "execution_count": 2,
     "metadata": {},
     "output_type": "execute_result"
    }
   ],
   "source": [
    "d14={'fruits':{'Apple':20}}\n",
    "d14"
   ]
  },
  {
   "cell_type": "code",
   "execution_count": 4,
   "id": "e946216a-df7b-478c-8fe7-b7b388df1e49",
   "metadata": {},
   "outputs": [
    {
     "ename": "TypeError",
     "evalue": "unhashable type: 'dict'",
     "output_type": "error",
     "traceback": [
      "\u001b[1;31m---------------------------------------------------------------------------\u001b[0m",
      "\u001b[1;31mTypeError\u001b[0m                                 Traceback (most recent call last)",
      "Cell \u001b[1;32mIn[4], line 1\u001b[0m\n\u001b[1;32m----> 1\u001b[0m d15\u001b[38;5;241m=\u001b[39m{{\u001b[38;5;124m'\u001b[39m\u001b[38;5;124mApple\u001b[39m\u001b[38;5;124m'\u001b[39m:\u001b[38;5;241m20\u001b[39m}:\u001b[38;5;124m'\u001b[39m\u001b[38;5;124mfruits\u001b[39m\u001b[38;5;124m'\u001b[39m}\n\u001b[0;32m      2\u001b[0m d15\n",
      "\u001b[1;31mTypeError\u001b[0m: unhashable type: 'dict'"
     ]
    }
   ],
   "source": [
    "d15={{'Apple':20}:'fruits'}\n",
    "d15"
   ]
  },
  {
   "cell_type": "code",
   "execution_count": 9,
   "id": "76f1c6bd-72b4-4bc8-9aa5-a799b3df0a69",
   "metadata": {},
   "outputs": [
    {
     "data": {
      "text/plain": [
       "('Apple', 'Apple', 20)"
      ]
     },
     "execution_count": 9,
     "metadata": {},
     "output_type": "execute_result"
    }
   ],
   "source": [
    "dict1={'Apple':20,'Banana':30,\"Cherry\":50}\n",
    "dict2={'Apple':20,'apple':30}\n",
    "dict3={20:'Apple',30:'Banana',50:'Cherry'}\n",
    "min(dict1),min(dict2),min(dict3)"
   ]
  },
  {
   "cell_type": "code",
   "execution_count": 11,
   "id": "b1227b07-f62c-436b-92ef-1f9407b2696d",
   "metadata": {},
   "outputs": [
    {
     "data": {
      "text/plain": [
       "('Cherry', 'apple', 50)"
      ]
     },
     "execution_count": 11,
     "metadata": {},
     "output_type": "execute_result"
    }
   ],
   "source": [
    "max(dict1),max(dict2),max(dict3)"
   ]
  },
  {
   "cell_type": "code",
   "execution_count": 21,
   "id": "ddb6546e-49b0-4335-a209-eaee3a3b449e",
   "metadata": {},
   "outputs": [
    {
     "data": {
      "text/plain": [
       "100"
      ]
     },
     "execution_count": 21,
     "metadata": {},
     "output_type": "execute_result"
    }
   ],
   "source": [
    "sum(dict3)\n",
    "# sum(dict1) and sum(dict2) doesnot execute because unsupported operand type(s) for +: 'int' and 'str'"
   ]
  },
  {
   "cell_type": "code",
   "execution_count": 27,
   "id": "234730d1-3a61-49d3-806d-8e4978e7c097",
   "metadata": {},
   "outputs": [
    {
     "data": {
      "text/plain": [
       "(['Apple', 'Banana', 'Cherry'], ['Apple', 'apple'], [20, 30, 50])"
      ]
     },
     "execution_count": 27,
     "metadata": {},
     "output_type": "execute_result"
    }
   ],
   "source": [
    "sorted(dict1),sorted(dict2),sorted(dict3)"
   ]
  },
  {
   "cell_type": "code",
   "execution_count": 35,
   "id": "eba1fa5b-3a54-430d-8f75-1b851a9af803",
   "metadata": {},
   "outputs": [
    {
     "data": {
      "text/plain": [
       "(['Cherry', 'Banana', 'Apple'], ['apple', 'Apple'], [50, 30, 20])"
      ]
     },
     "execution_count": 35,
     "metadata": {},
     "output_type": "execute_result"
    }
   ],
   "source": [
    "list(reversed(dict1)),list(reversed(dict2)),list(reversed(dict3))"
   ]
  },
  {
   "cell_type": "code",
   "execution_count": 57,
   "id": "7bc1543c-5524-4607-8325-631a8534efb6",
   "metadata": {},
   "outputs": [
    {
     "data": {
      "text/plain": [
       "True"
      ]
     },
     "execution_count": 57,
     "metadata": {},
     "output_type": "execute_result"
    }
   ],
   "source": [
    "dict1={'Apple':20,'Banana':30,\"Cherry\":50}\n",
    "'Apple' in dict1"
   ]
  },
  {
   "cell_type": "code",
   "execution_count": 59,
   "id": "2474b898-be2f-4ba8-8cdf-a6873589bcd1",
   "metadata": {},
   "outputs": [
    {
     "data": {
      "text/plain": [
       "False"
      ]
     },
     "execution_count": 59,
     "metadata": {},
     "output_type": "execute_result"
    }
   ],
   "source": [
    "dict1={'Apple':20,'Banana':30,\"Cherry\":50}\n",
    "20 in dict1"
   ]
  },
  {
   "cell_type": "code",
   "execution_count": 61,
   "id": "40080c02-34e2-456c-8a18-0ab172471bba",
   "metadata": {},
   "outputs": [
    {
     "ename": "SyntaxError",
     "evalue": "illegal target for annotation (2819830936.py, line 2)",
     "output_type": "error",
     "traceback": [
      "\u001b[1;36m  Cell \u001b[1;32mIn[61], line 2\u001b[1;36m\u001b[0m\n\u001b[1;33m    'Apple':20 in dict1\u001b[0m\n\u001b[1;37m    ^\u001b[0m\n\u001b[1;31mSyntaxError\u001b[0m\u001b[1;31m:\u001b[0m illegal target for annotation\n"
     ]
    }
   ],
   "source": [
    "dict1={'Apple':20,'Banana':30,\"Cherry\":50}\n",
    "'Apple':20 in dict1"
   ]
  },
  {
   "cell_type": "code",
   "execution_count": 63,
   "id": "dfbed79a-5afb-4b87-9e4d-7f795dbb1158",
   "metadata": {},
   "outputs": [
    {
     "name": "stdout",
     "output_type": "stream",
     "text": [
      "Apple\n",
      "Banana\n",
      "Cherry\n"
     ]
    }
   ],
   "source": [
    "for i in dict1:\n",
    "    print(i)"
   ]
  },
  {
   "cell_type": "code",
   "execution_count": 71,
   "id": "c549e857-73c2-408f-bb62-df8289abd144",
   "metadata": {},
   "outputs": [
    {
     "name": "stdout",
     "output_type": "stream",
     "text": [
      "0\n",
      "1\n",
      "2\n"
     ]
    }
   ],
   "source": [
    "for i in range(len(dict1)):\n",
    "    print(i)"
   ]
  },
  {
   "cell_type": "markdown",
   "id": "dd924b21-2aa9-49ed-9624-edfa6c7359ab",
   "metadata": {},
   "source": [
    "**index**"
   ]
  },
  {
   "cell_type": "code",
   "execution_count": 76,
   "id": "f9c252c6-8a44-43af-9632-ec02df0b7569",
   "metadata": {},
   "outputs": [
    {
     "data": {
      "text/plain": [
       "10"
      ]
     },
     "execution_count": 76,
     "metadata": {},
     "output_type": "execute_result"
    }
   ],
   "source": [
    "l1=[10,20,30]\n",
    "l1[0]"
   ]
  },
  {
   "cell_type": "code",
   "execution_count": 78,
   "id": "2bd6b7ae-b508-47da-930c-cf182fb74546",
   "metadata": {},
   "outputs": [
    {
     "data": {
      "text/plain": [
       "'p'"
      ]
     },
     "execution_count": 78,
     "metadata": {},
     "output_type": "execute_result"
    }
   ],
   "source": [
    "str1='python'\n",
    "str1[0]"
   ]
  },
  {
   "cell_type": "code",
   "execution_count": 99,
   "id": "2b2e5a47-2165-4f47-ba44-de5ddce4fee2",
   "metadata": {},
   "outputs": [
    {
     "data": {
      "text/plain": [
       "50"
      ]
     },
     "execution_count": 99,
     "metadata": {},
     "output_type": "execute_result"
    }
   ],
   "source": [
    "dict1={'Apple':20,'Banana':30,\"Cherry\":50}\n",
    "dict1['Apple']\n",
    "dict1['Banana']\n",
    "dict1['Cherry']"
   ]
  },
  {
   "cell_type": "markdown",
   "id": "e979e3a9-15de-429d-b074-d08f144cecf0",
   "metadata": {},
   "source": [
    "**how to extract the values**\n",
    "\n",
    "- in dictionary we have a concept key:value pair\n",
    "\n",
    "- keys are very important\n",
    "\n",
    "- in order to get the values we need to take the keys help"
   ]
  },
  {
   "cell_type": "code",
   "execution_count": 107,
   "id": "9f87f777-0d39-4f11-becf-886c2d076706",
   "metadata": {},
   "outputs": [
    {
     "name": "stdout",
     "output_type": "stream",
     "text": [
      "Apple 20\n",
      "Banana 30\n",
      "Cherry 50\n"
     ]
    }
   ],
   "source": [
    "dict1={'Apple':20,'Banana':30,\"Cherry\":50}\n",
    "for i in dict1:\n",
    "    print(i,dict1[i])"
   ]
  },
  {
   "cell_type": "code",
   "execution_count": 117,
   "id": "0ff5a89d-98c4-43fb-8675-3e6f51bc6d79",
   "metadata": {},
   "outputs": [
    {
     "name": "stdout",
     "output_type": "stream",
     "text": [
      "Ramesh age is 20\n",
      "Suresh age is 25\n",
      "Sathish age is 30\n"
     ]
    }
   ],
   "source": [
    "names={'Ramesh':20,'Suresh':25,'Sathish':30}\n",
    "for i in names:\n",
    "    print(f'{i} age is {names[i]}')"
   ]
  },
  {
   "cell_type": "code",
   "execution_count": 125,
   "id": "42b89f04-b999-4658-acf9-fca5815d65fb",
   "metadata": {},
   "outputs": [
    {
     "data": {
      "text/plain": [
       "'Cherry'"
      ]
     },
     "execution_count": 125,
     "metadata": {},
     "output_type": "execute_result"
    }
   ],
   "source": [
    "d={'fruits':['Apple','Banana','Cherry']}\n",
    "d['fruits'][2]"
   ]
  },
  {
   "cell_type": "code",
   "execution_count": 137,
   "id": "d3470029-d80d-4253-b8fd-6d2e54c293f7",
   "metadata": {},
   "outputs": [
    {
     "data": {
      "text/plain": [
       "'green'"
      ]
     },
     "execution_count": 137,
     "metadata": {},
     "output_type": "execute_result"
    }
   ],
   "source": [
    "d={'fruits':\n",
    "   {'Apple':\n",
    "    ['sweet','sour','green']\n",
    "   }}\n",
    "d['fruits']['Apple'][2]"
   ]
  },
  {
   "cell_type": "code",
   "execution_count": 147,
   "id": "336d9af7-519f-4a6f-9e2f-d7f89107953a",
   "metadata": {},
   "outputs": [
    {
     "data": {
      "text/plain": [
       "50"
      ]
     },
     "execution_count": 147,
     "metadata": {},
     "output_type": "execute_result"
    }
   ],
   "source": [
    "d={'fruits':[{'Cost':[50]}]}\n",
    "d['fruits'][0]['Cost'][0]"
   ]
  },
  {
   "cell_type": "code",
   "execution_count": 161,
   "id": "4fbdf7af-79b7-47df-b233-f1e6c300a3c2",
   "metadata": {},
   "outputs": [
    {
     "data": {
      "text/plain": [
       "40"
      ]
     },
     "execution_count": 161,
     "metadata": {},
     "output_type": "execute_result"
    }
   ],
   "source": [
    "d={'Fruits':['Apple'],'Cost':[{'1kg':[20,30,40],'2kg':None}]}\n",
    "d['Cost'][0]['1kg'][2]"
   ]
  },
  {
   "cell_type": "code",
   "execution_count": 189,
   "id": "e97cc3f1-09cb-4685-bb23-319cdb20bbcb",
   "metadata": {},
   "outputs": [
    {
     "name": "stdout",
     "output_type": "stream",
     "text": [
      "None\n"
     ]
    }
   ],
   "source": [
    "print(d['Cost'][0]['2kg'])"
   ]
  },
  {
   "cell_type": "code",
   "execution_count": 129,
   "id": "4dd6aaa7-9f73-483b-b3bd-245f09eb1a19",
   "metadata": {},
   "outputs": [
    {
     "name": "stdout",
     "output_type": "stream",
     "text": [
      "{'Shambaji'}\n"
     ]
    },
    {
     "data": {
      "text/plain": [
       "'Shambaji'"
      ]
     },
     "execution_count": 129,
     "metadata": {},
     "output_type": "execute_result"
    }
   ],
   "source": [
    "d={'Fruits':{'Orange':{'Nagpur':{'MH':{'king':{'Shivaji':{'Shambaji'}}}}}}}\n",
    "print(d['Fruits']['Orange']['Nagpur']['MH']['king']['Shivaji'])\n",
    "list(d['Fruits']['Orange']['Nagpur']['MH']['king']['Shivaji'])[0]"
   ]
  },
  {
   "cell_type": "markdown",
   "id": "adbaec98-7407-4018-be97-fbc678922195",
   "metadata": {},
   "source": [
    "**how to create empty dictionary**\n",
    "\n",
    "- Now onwards focus on creation of empty list,strings and dictionary\n",
    "\n",
    "- we will take empty list will use append operation\n",
    "\n",
    "- we will take empty string will use concatenation\n",
    "\n",
    "- we will take empty dictionary will use key:value pair concept"
   ]
  },
  {
   "cell_type": "code",
   "execution_count": 243,
   "id": "1c0a1c3f-de10-4584-bb96-a79801e6300b",
   "metadata": {},
   "outputs": [
    {
     "data": {
      "text/plain": [
       "[10, 20]"
      ]
     },
     "execution_count": 243,
     "metadata": {},
     "output_type": "execute_result"
    }
   ],
   "source": [
    "# list\n",
    "l=[]\n",
    "l.append(10)\n",
    "l.append(20)\n",
    "l"
   ]
  },
  {
   "cell_type": "code",
   "execution_count": 245,
   "id": "a66dccb8-5c19-493e-b032-46e21a09bef1",
   "metadata": {},
   "outputs": [
    {
     "data": {
      "text/plain": [
       "'py'"
      ]
     },
     "execution_count": 245,
     "metadata": {},
     "output_type": "execute_result"
    }
   ],
   "source": [
    "# strings\n",
    "s=''\n",
    "s=s+'p'\n",
    "s=s+'y'\n",
    "s"
   ]
  },
  {
   "cell_type": "code",
   "execution_count": 253,
   "id": "66a36f99-b26e-4315-ab1f-3f01dbb713f8",
   "metadata": {},
   "outputs": [
    {
     "data": {
      "text/plain": [
       "{'Ramesh': 20, 'Suresh': 25, 'Sathish': 30}"
      ]
     },
     "execution_count": 253,
     "metadata": {},
     "output_type": "execute_result"
    }
   ],
   "source": [
    "# dictionary\n",
    "d={}\n",
    "d['Ramesh']=20\n",
    "d['Suresh']=25\n",
    "d['Sathish']=30\n",
    "d"
   ]
  },
  {
   "cell_type": "markdown",
   "id": "f0e7d9c0-5088-4b68-803c-652ab7376f56",
   "metadata": {},
   "source": [
    "### How to convert list to dictionary"
   ]
  },
  {
   "cell_type": "code",
   "execution_count": 259,
   "id": "a05b240c-890b-4818-90d2-772542f030a5",
   "metadata": {},
   "outputs": [
    {
     "data": {
      "text/plain": [
       "{'Ramesh': 20, 'Suresh': 25, 'Sathish': 30}"
      ]
     },
     "execution_count": 259,
     "metadata": {},
     "output_type": "execute_result"
    }
   ],
   "source": [
    "names=['Ramesh','Suresh','Sathish']\n",
    "age=[20,25,30]\n",
    "d={}\n",
    "for i,j in zip(names,age):\n",
    "    d[i]=j\n",
    "d"
   ]
  },
  {
   "cell_type": "markdown",
   "id": "8b32031e-4cbc-4c6d-96f6-9b17045134b4",
   "metadata": {},
   "source": [
    "#### Dictionary Comprehension"
   ]
  },
  {
   "cell_type": "markdown",
   "id": "890e3fab-bf0c-487f-bbeb-b4b7dba4e356",
   "metadata": {},
   "source": [
    "- for list comprehension we written everything inside list\n",
    "\n",
    "- for dictionary comprehension we should write everything inside dictionary"
   ]
  },
  {
   "cell_type": "code",
   "execution_count": null,
   "id": "b9f5e42d-57bb-4ccc-a26c-7260d91f5805",
   "metadata": {},
   "outputs": [],
   "source": [
    "# list comprehension:[<output> <for loop>]\n",
    "# dictionary comprehension:{<key:value> <for loop>}"
   ]
  },
  {
   "cell_type": "code",
   "execution_count": 265,
   "id": "5fac4238-c5ba-46dd-bf15-f593e2db5f2c",
   "metadata": {},
   "outputs": [
    {
     "data": {
      "text/plain": [
       "{'Ramesh': 20, 'Suresh': 25, 'Sathish': 30}"
      ]
     },
     "execution_count": 265,
     "metadata": {},
     "output_type": "execute_result"
    }
   ],
   "source": [
    "names=['Ramesh','Suresh','Sathish']\n",
    "age=[20,25,30]\n",
    "output={i:j for i,j in zip(names,age)}\n",
    "output"
   ]
  },
  {
   "cell_type": "markdown",
   "id": "fe5ea007-492d-4908-971d-5fed9cece1db",
   "metadata": {},
   "source": [
    "**mutable-immutable**\n",
    "\n",
    "- lists are mutable\n",
    "\n",
    "- dictionarys are also mutable\n",
    "\n",
    "- strings are immutable\n",
    "\n",
    "- tuple also immutable\n",
    "\n",
    "- in dictionarys we can change the values using keys"
   ]
  },
  {
   "cell_type": "code",
   "execution_count": 268,
   "id": "922b53d9-1ea5-4b37-be75-4dc054d73ef5",
   "metadata": {},
   "outputs": [
    {
     "data": {
      "text/plain": [
       "{'Ramesh': 30, 'Suresh': 25, 'Sathish': 30}"
      ]
     },
     "execution_count": 268,
     "metadata": {},
     "output_type": "execute_result"
    }
   ],
   "source": [
    "d={'Ramesh': 20, 'Suresh': 25, 'Sathish': 30}\n",
    "d['Ramesh']=30\n",
    "d"
   ]
  },
  {
   "cell_type": "markdown",
   "id": "170c14b9-e4d0-4fb7-b036-ac92f77c27dd",
   "metadata": {},
   "source": [
    "#### methods"
   ]
  },
  {
   "cell_type": "code",
   "execution_count": 271,
   "id": "0c431163-1d02-4a03-911c-d44e2a9eefe5",
   "metadata": {},
   "outputs": [
    {
     "data": {
      "text/plain": [
       "['__class__',\n",
       " '__class_getitem__',\n",
       " '__contains__',\n",
       " '__delattr__',\n",
       " '__delitem__',\n",
       " '__dir__',\n",
       " '__doc__',\n",
       " '__eq__',\n",
       " '__format__',\n",
       " '__ge__',\n",
       " '__getattribute__',\n",
       " '__getitem__',\n",
       " '__getstate__',\n",
       " '__gt__',\n",
       " '__hash__',\n",
       " '__init__',\n",
       " '__init_subclass__',\n",
       " '__ior__',\n",
       " '__iter__',\n",
       " '__le__',\n",
       " '__len__',\n",
       " '__lt__',\n",
       " '__ne__',\n",
       " '__new__',\n",
       " '__or__',\n",
       " '__reduce__',\n",
       " '__reduce_ex__',\n",
       " '__repr__',\n",
       " '__reversed__',\n",
       " '__ror__',\n",
       " '__setattr__',\n",
       " '__setitem__',\n",
       " '__sizeof__',\n",
       " '__str__',\n",
       " '__subclasshook__',\n",
       " 'clear',\n",
       " 'copy',\n",
       " 'fromkeys',\n",
       " 'get',\n",
       " 'items',\n",
       " 'keys',\n",
       " 'pop',\n",
       " 'popitem',\n",
       " 'setdefault',\n",
       " 'update',\n",
       " 'values']"
      ]
     },
     "execution_count": 271,
     "metadata": {},
     "output_type": "execute_result"
    }
   ],
   "source": [
    "dir({})"
   ]
  },
  {
   "cell_type": "markdown",
   "id": "6a09041f-820c-42de-a9b4-5a815930b476",
   "metadata": {},
   "source": [
    "- clear\n",
    "\n",
    "- copy\n",
    "\n",
    "- values\n",
    "\n",
    "- keys\n",
    "\n",
    "- items"
   ]
  },
  {
   "cell_type": "code",
   "execution_count": 278,
   "id": "01c311d9-244c-44e0-9377-b2d6c97ef0bc",
   "metadata": {},
   "outputs": [
    {
     "data": {
      "text/plain": [
       "{}"
      ]
     },
     "execution_count": 278,
     "metadata": {},
     "output_type": "execute_result"
    }
   ],
   "source": [
    "d={'Ramesh': 20, 'Suresh': 25, 'Sathish': 30}\n",
    "d.clear()\n",
    "d"
   ]
  },
  {
   "cell_type": "code",
   "execution_count": 284,
   "id": "5edb0555-8038-44bf-be0e-f82d9f3cd653",
   "metadata": {},
   "outputs": [
    {
     "data": {
      "text/plain": [
       "{'Ramesh': 20, 'Suresh': 25, 'Sathish': 30}"
      ]
     },
     "execution_count": 284,
     "metadata": {},
     "output_type": "execute_result"
    }
   ],
   "source": [
    "d={'Ramesh': 20, 'Suresh': 25, 'Sathish': 30}\n",
    "e=d.copy()\n",
    "e"
   ]
  },
  {
   "cell_type": "code",
   "execution_count": 3,
   "id": "660a41ff-b2d1-4c7a-8021-0419cf4a6e71",
   "metadata": {},
   "outputs": [
    {
     "data": {
      "text/plain": [
       "dict_keys(['Ramesh', 'Suresh', 'Sathish'])"
      ]
     },
     "execution_count": 3,
     "metadata": {},
     "output_type": "execute_result"
    }
   ],
   "source": [
    "d={'Ramesh': 20, 'Suresh': 25, 'Sathish': 30}\n",
    "d.keys()"
   ]
  },
  {
   "cell_type": "code",
   "execution_count": 5,
   "id": "54880271-1b0a-4d89-89d5-d92e1251fe21",
   "metadata": {},
   "outputs": [
    {
     "data": {
      "text/plain": [
       "dict_values([20, 25, 30])"
      ]
     },
     "execution_count": 5,
     "metadata": {},
     "output_type": "execute_result"
    }
   ],
   "source": [
    "d={'Ramesh': 20, 'Suresh': 25, 'Sathish': 30}\n",
    "d.values()"
   ]
  },
  {
   "cell_type": "code",
   "execution_count": 7,
   "id": "7e18dbff-30c2-4dfb-9242-0e3b252d1042",
   "metadata": {},
   "outputs": [
    {
     "data": {
      "text/plain": [
       "dict_items([('Ramesh', 20), ('Suresh', 25), ('Sathish', 30)])"
      ]
     },
     "execution_count": 7,
     "metadata": {},
     "output_type": "execute_result"
    }
   ],
   "source": [
    "d={'Ramesh': 20, 'Suresh': 25, 'Sathish': 30}\n",
    "d.items()"
   ]
  },
  {
   "cell_type": "code",
   "execution_count": 47,
   "id": "bf19a77d-6799-447e-b830-655a02ed7af0",
   "metadata": {},
   "outputs": [
    {
     "data": {
      "text/plain": [
       "{'R': 20, 'a': 20, 'm': 20, 'e': 20, 's': 20, 'h': 20}"
      ]
     },
     "execution_count": 47,
     "metadata": {},
     "output_type": "execute_result"
    }
   ],
   "source": [
    "d={'Ramesh': 20, 'Suresh': 25, 'Sathish': 30}\n",
    "d.fromkeys('Ramesh',20)"
   ]
  },
  {
   "cell_type": "code",
   "execution_count": 49,
   "id": "9ac30999-202f-494e-9c10-bffff6423b58",
   "metadata": {},
   "outputs": [
    {
     "data": {
      "text/plain": [
       "30"
      ]
     },
     "execution_count": 49,
     "metadata": {},
     "output_type": "execute_result"
    }
   ],
   "source": [
    "d={'Ramesh': 20, 'Suresh': 25, 'Sathish': 30}\n",
    "d.get('Sathish')"
   ]
  },
  {
   "cell_type": "code",
   "execution_count": 61,
   "id": "1acad271-4b4e-40ab-9e8a-51291a6d994c",
   "metadata": {},
   "outputs": [
    {
     "name": "stdout",
     "output_type": "stream",
     "text": [
      "25\n"
     ]
    },
    {
     "data": {
      "text/plain": [
       "{'Ramesh': 20, 'Sathish': 30}"
      ]
     },
     "execution_count": 61,
     "metadata": {},
     "output_type": "execute_result"
    }
   ],
   "source": [
    "d={'Ramesh': 20, 'Suresh': 25, 'Sathish': 30}\n",
    "print(d.pop('Suresh'))\n",
    "d"
   ]
  },
  {
   "cell_type": "code",
   "execution_count": 132,
   "id": "ccd1b213-3acb-4ab2-876c-b458451e77f8",
   "metadata": {},
   "outputs": [
    {
     "data": {
      "text/plain": [
       "['Suresh', 'Sathish']"
      ]
     },
     "execution_count": 132,
     "metadata": {},
     "output_type": "execute_result"
    }
   ],
   "source": [
    "l1=['Ramesh','Suresh','Sathish']\n",
    "l1.remove('Ramesh')\n",
    "l1"
   ]
  },
  {
   "cell_type": "markdown",
   "id": "cdbf184e-8cd9-4749-9092-bb50a1c230f0",
   "metadata": {},
   "source": [
    "- **pop** in dictionary, similar anology to **remove** in the list\n",
    "\n",
    "- **pop item** in dictionary,similar analogy to **pop** in the list"
   ]
  },
  {
   "cell_type": "code",
   "execution_count": 134,
   "id": "689b9a12-2452-41c2-b3e2-99e920b5dfed",
   "metadata": {},
   "outputs": [
    {
     "name": "stdout",
     "output_type": "stream",
     "text": [
      "('Sathish', 30)\n"
     ]
    },
    {
     "data": {
      "text/plain": [
       "{'Ramesh': 20, 'Suresh': 25}"
      ]
     },
     "execution_count": 134,
     "metadata": {},
     "output_type": "execute_result"
    }
   ],
   "source": [
    "d={'Ramesh': 20, 'Suresh': 25, 'Sathish': 30}\n",
    "print(d.popitem())\n",
    "d"
   ]
  },
  {
   "cell_type": "code",
   "execution_count": 75,
   "id": "9a4dbbd7-b55d-422d-a98e-c442798f3d79",
   "metadata": {},
   "outputs": [
    {
     "data": {
      "text/plain": [
       "{'Ramesh': 20, 'Suresh': 25, 'Sathish': 30, 'Rakesh': 35}"
      ]
     },
     "execution_count": 75,
     "metadata": {},
     "output_type": "execute_result"
    }
   ],
   "source": [
    "d={'Ramesh': 20, 'Suresh': 25, 'Sathish': 30}\n",
    "d.setdefault('Rakesh',35)\n",
    "d"
   ]
  },
  {
   "cell_type": "code",
   "execution_count": 24,
   "id": "4fd59b2c-d712-4c29-97fd-f8ff9faa6f3d",
   "metadata": {},
   "outputs": [
    {
     "data": {
      "text/plain": [
       "{'Ramesh': 20, 'Suresh': 25, 'Sathish': 30, 'R': '2'}"
      ]
     },
     "execution_count": 24,
     "metadata": {},
     "output_type": "execute_result"
    }
   ],
   "source": [
    "d={'Ramesh': 20, 'Suresh': 25, 'Sathish': 30}\n",
    "d.update(['R2'])\n",
    "d"
   ]
  },
  {
   "cell_type": "markdown",
   "id": "bf3d6caf-3df2-4555-b5a7-908c20e75300",
   "metadata": {},
   "source": [
    "#### keys"
   ]
  },
  {
   "cell_type": "code",
   "execution_count": 2,
   "id": "fd8c86f7-d6b6-4184-8129-fbed639b2349",
   "metadata": {},
   "outputs": [
    {
     "data": {
      "text/plain": [
       "dict_keys(['Ramesh', 'Suresh', 'Sathish'])"
      ]
     },
     "execution_count": 2,
     "metadata": {},
     "output_type": "execute_result"
    }
   ],
   "source": [
    "d={'Ramesh': 20, 'Suresh': 25, 'Sathish': 30}\n",
    "keys=d.keys()\n",
    "keys"
   ]
  },
  {
   "cell_type": "code",
   "execution_count": 4,
   "id": "922361a6-3364-41b0-9e96-43dde5be4f26",
   "metadata": {},
   "outputs": [
    {
     "data": {
      "text/plain": [
       "dict_keys"
      ]
     },
     "execution_count": 4,
     "metadata": {},
     "output_type": "execute_result"
    }
   ],
   "source": [
    "type(keys)"
   ]
  },
  {
   "cell_type": "code",
   "execution_count": 6,
   "id": "33b71be6-5cb7-4891-b590-97b163f0b270",
   "metadata": {},
   "outputs": [
    {
     "ename": "AttributeError",
     "evalue": "'dict_keys' object has no attribute 'count'",
     "output_type": "error",
     "traceback": [
      "\u001b[1;31m---------------------------------------------------------------------------\u001b[0m",
      "\u001b[1;31mAttributeError\u001b[0m                            Traceback (most recent call last)",
      "Cell \u001b[1;32mIn[6], line 2\u001b[0m\n\u001b[0;32m      1\u001b[0m \u001b[38;5;66;03m# i got mistaken assuming this is list type\u001b[39;00m\n\u001b[1;32m----> 2\u001b[0m keys\u001b[38;5;241m.\u001b[39mcount(\u001b[38;5;124m'\u001b[39m\u001b[38;5;124mRamesh\u001b[39m\u001b[38;5;124m'\u001b[39m)\n",
      "\u001b[1;31mAttributeError\u001b[0m: 'dict_keys' object has no attribute 'count'"
     ]
    }
   ],
   "source": [
    "# i got mistaken assuming this is list type\n",
    "keys.count('Ramesh')"
   ]
  },
  {
   "cell_type": "markdown",
   "id": "70be20e9-0b9e-47bb-8d4b-967367e4a1f3",
   "metadata": {},
   "source": [
    "**Convert dictionary to list**\n",
    "\n",
    "- in order to seperate dictionary from list\n",
    "\n",
    "- first we need to seperate keys and values\n",
    "\n",
    "- then apply list type casting"
   ]
  },
  {
   "cell_type": "code",
   "execution_count": 11,
   "id": "2acbcd87-9362-49dd-9fd4-ce45750401ea",
   "metadata": {},
   "outputs": [
    {
     "data": {
      "text/plain": [
       "['Ramesh', 'Suresh', 'Sathish']"
      ]
     },
     "execution_count": 11,
     "metadata": {},
     "output_type": "execute_result"
    }
   ],
   "source": [
    "d={'Ramesh': 20, 'Suresh': 25, 'Sathish': 30}\n",
    "keys=d.keys()\n",
    "keys_list=list(keys)\n",
    "keys_list"
   ]
  },
  {
   "cell_type": "markdown",
   "id": "2638b194-122b-4401-b97e-b31a9550b516",
   "metadata": {},
   "source": [
    "- **list ==== string    using join**\n",
    "\n",
    "- **string === list     using split**\n",
    "\n",
    "- **list ==== dict      using zip**\n",
    "\n",
    "- **dict ==== list      using type casting**"
   ]
  },
  {
   "cell_type": "code",
   "execution_count": 18,
   "id": "8dd765ca-f9e5-41fe-a2eb-4b1c78c09791",
   "metadata": {},
   "outputs": [
    {
     "data": {
      "text/plain": [
       "[20, 25, 30]"
      ]
     },
     "execution_count": 18,
     "metadata": {},
     "output_type": "execute_result"
    }
   ],
   "source": [
    "d={'Ramesh': 20, 'Suresh': 25, 'Sathish': 30}\n",
    "values=d.values()\n",
    "values_list=list(values)\n",
    "values_list"
   ]
  },
  {
   "cell_type": "code",
   "execution_count": 20,
   "id": "bcd3139e-7f3f-4fdb-8e63-c8d449951693",
   "metadata": {},
   "outputs": [
    {
     "data": {
      "text/plain": [
       "[('Ramesh', 20), ('Suresh', 25), ('Sathish', 30)]"
      ]
     },
     "execution_count": 20,
     "metadata": {},
     "output_type": "execute_result"
    }
   ],
   "source": [
    "d={'Ramesh': 20, 'Suresh': 25, 'Sathish': 30}\n",
    "items=d.items()\n",
    "items_list=list(items)\n",
    "items_list"
   ]
  },
  {
   "cell_type": "code",
   "execution_count": 26,
   "id": "eead6db7-734e-447d-8aab-43ad69ee072a",
   "metadata": {},
   "outputs": [
    {
     "data": {
      "text/plain": [
       "(dict_keys, list)"
      ]
     },
     "execution_count": 26,
     "metadata": {},
     "output_type": "execute_result"
    }
   ],
   "source": [
    "type(keys),type(keys_list)"
   ]
  },
  {
   "cell_type": "code",
   "execution_count": 28,
   "id": "dae7f912-1619-478c-9291-b238405ef8b7",
   "metadata": {},
   "outputs": [
    {
     "data": {
      "text/plain": [
       "1"
      ]
     },
     "execution_count": 28,
     "metadata": {},
     "output_type": "execute_result"
    }
   ],
   "source": [
    "keys_list.count('Ramesh')"
   ]
  },
  {
   "cell_type": "code",
   "execution_count": 98,
   "id": "44581f24-8f4e-4bc3-a40e-a03b99b8bd31",
   "metadata": {},
   "outputs": [
    {
     "data": {
      "text/plain": [
       "{'Fname': ['virat', 'rohit', 'ms'],\n",
       " 'Sname': ['kohli', 'sharma', 'dhoni'],\n",
       " 'Cname': ['rcb', 'mi', 'csk']}"
      ]
     },
     "execution_count": 98,
     "metadata": {},
     "output_type": "execute_result"
    }
   ],
   "source": [
    "str1='virat.kohli@rcb.com;rohit.sharma@mi.com;ms.dhoni@csk.com'\n",
    "l=str1.split(';')\n",
    "fname=[]\n",
    "sname=[]\n",
    "cname=[]\n",
    "d={}\n",
    "for i in l:\n",
    "    id1=i.index('.')\n",
    "    id2=i.index('.',id1+1)\n",
    "    atr1=i.index('@')\n",
    "    fname.append(i[:id1])\n",
    "    sname.append(i[id1+1:atr1])\n",
    "    cname.append(i[atr1+1:id2])\n",
    "d['Fname']=fname\n",
    "d['Sname']=sname\n",
    "d['Cname']=cname\n",
    "d"
   ]
  },
  {
   "cell_type": "markdown",
   "id": "80a57c95-1892-462d-a177-1ca9ddcddfae",
   "metadata": {},
   "source": [
    "**get**\n",
    "\n",
    "- **get** in dictionary similar anology to **list index**"
   ]
  },
  {
   "cell_type": "code",
   "execution_count": 138,
   "id": "d1983803-33ac-47ba-aa91-bafe4d336988",
   "metadata": {},
   "outputs": [
    {
     "data": {
      "text/plain": [
       "30"
      ]
     },
     "execution_count": 138,
     "metadata": {},
     "output_type": "execute_result"
    }
   ],
   "source": [
    "d={'Ramesh': 20, 'Suresh': 25, 'Sathish': 30}\n",
    "d.get('Sathish')"
   ]
  },
  {
   "cell_type": "code",
   "execution_count": 142,
   "id": "c61a92db-6f04-45f9-91f8-da100d074b05",
   "metadata": {},
   "outputs": [
    {
     "data": {
      "text/plain": [
       "20"
      ]
     },
     "execution_count": 142,
     "metadata": {},
     "output_type": "execute_result"
    }
   ],
   "source": [
    "d['Ramesh'] # key as an index"
   ]
  },
  {
   "cell_type": "markdown",
   "id": "e50631da-e7e3-44e3-9dbc-ee651653b6dd",
   "metadata": {},
   "source": [
    "**update**\n",
    "\n",
    "- update is similar to anology **list extend**\n",
    "\n",
    "- take two dictionarys and apply update method"
   ]
  },
  {
   "cell_type": "code",
   "execution_count": 156,
   "id": "2efd24a4-4f92-4f15-9aa8-acd8b39df662",
   "metadata": {},
   "outputs": [
    {
     "data": {
      "text/plain": [
       "{'Ramesh': 20,\n",
       " 'Suresh': 25,\n",
       " 'Sathish': 30,\n",
       " 'Rakesh': 35,\n",
       " 'Teja': 40,\n",
       " 'Uday': 50}"
      ]
     },
     "execution_count": 156,
     "metadata": {},
     "output_type": "execute_result"
    }
   ],
   "source": [
    "d1={'Ramesh': 20, 'Suresh': 25, 'Sathish': 30}\n",
    "d2={'Rakesh':35, 'Teja':40, 'Uday':50}\n",
    "d1.update(d2)\n",
    "d1"
   ]
  },
  {
   "cell_type": "code",
   "execution_count": 160,
   "id": "4ff0eb61-eea2-4fad-a877-be269f524384",
   "metadata": {},
   "outputs": [
    {
     "data": {
      "text/plain": [
       "[1, 2, 3, 4, 5, 'A', 'B', 'C', 'D']"
      ]
     },
     "execution_count": 160,
     "metadata": {},
     "output_type": "execute_result"
    }
   ],
   "source": [
    "l1=[1,2,3,4,5]\n",
    "l2=['A','B','C','D']\n",
    "l1.extend(l2)\n",
    "l1"
   ]
  },
  {
   "cell_type": "markdown",
   "id": "3b926311-71d1-467d-9c25-472dd6336269",
   "metadata": {},
   "source": [
    "**setdefault**\n",
    "\n",
    "- suppose an already existing dictionary available\n",
    "\n",
    "- we can update the dictionary with new key:value pair"
   ]
  },
  {
   "cell_type": "code",
   "execution_count": 178,
   "id": "5b88cea9-d94b-40fc-a289-28975da367db",
   "metadata": {},
   "outputs": [
    {
     "data": {
      "text/plain": [
       "{'Ramesh': 20, 'Suresh': 25, 'Sathish': 30, 'Sangepu': None, 'Rakesh': 35}"
      ]
     },
     "execution_count": 178,
     "metadata": {},
     "output_type": "execute_result"
    }
   ],
   "source": [
    "d={'Ramesh': 20, 'Suresh': 25, 'Sathish': 30}\n",
    "d.setdefault('Sangepu')\n",
    "d.setdefault('Rakesh',35)\n",
    "d"
   ]
  },
  {
   "cell_type": "markdown",
   "id": "04d9bb71-c16f-4697-b1ab-37d2e2681351",
   "metadata": {},
   "source": [
    "- **setdefault** in dictionary similar anology to **list append**\n",
    "\n",
    "- always remember dictionary is a key:value pair concept\n",
    "\n",
    "- it never involves index operations\n",
    "\n",
    "- thats why we dont have any index or find methods\n",
    "\n",
    "- we have **get** method to extract values using key"
   ]
  },
  {
   "cell_type": "markdown",
   "id": "d372324f-a71c-4237-849f-bb5fdb3c665b",
   "metadata": {},
   "source": [
    "**fromkeys**\n",
    "\n",
    "- create a dictionary with differnt keys but same value\n",
    "\n",
    "- fromkeys will take an arguement **iterable**\n",
    "\n",
    "- try to provide an iterator as an arguement i.e., string,list,tuple"
   ]
  },
  {
   "cell_type": "code",
   "execution_count": 186,
   "id": "8ebc9c4b-19a0-48fa-9f91-0e0b9c27a481",
   "metadata": {},
   "outputs": [
    {
     "data": {
      "text/plain": [
       "{'Ramesh': 'Naresh IT', 'Suresh': 'Naresh IT', 'Sathish': 'Naresh IT'}"
      ]
     },
     "execution_count": 186,
     "metadata": {},
     "output_type": "execute_result"
    }
   ],
   "source": [
    "d={}\n",
    "names=['Ramesh','Suresh','Sathish']\n",
    "d.fromkeys(names,'Naresh IT')"
   ]
  },
  {
   "cell_type": "code",
   "execution_count": 190,
   "id": "ca904d48-04c4-4d40-9479-1ffa9ede5a78",
   "metadata": {},
   "outputs": [
    {
     "data": {
      "text/plain": [
       "{'p': None, 'y': None, 't': None, 'h': None, 'o': None, 'n': None}"
      ]
     },
     "execution_count": 190,
     "metadata": {},
     "output_type": "execute_result"
    }
   ],
   "source": [
    "d={}\n",
    "str1='python'\n",
    "d.fromkeys(str1)"
   ]
  },
  {
   "cell_type": "code",
   "execution_count": 198,
   "id": "0a62802a-db0f-455b-a02b-f71045aeb755",
   "metadata": {},
   "outputs": [
    {
     "data": {
      "text/plain": [
       "{}"
      ]
     },
     "execution_count": 198,
     "metadata": {},
     "output_type": "execute_result"
    }
   ],
   "source": [
    "d={}\n",
    "t1=(1,2,3,'Apple','Banana','Cherry')\n",
    "d.fromkeys(t1)\n",
    "d"
   ]
  },
  {
   "cell_type": "markdown",
   "id": "eb441ddc-4c3d-4592-b0dc-0d7a6765c626",
   "metadata": {},
   "source": [
    "- **pop** in dictionary, similar anology to **remove** in the list\n",
    "\n",
    "- **pop item** in dictionary,similar analogy to **pop** in the list\n",
    "\n",
    "- update is similar to anology **list extend**\n",
    "\n",
    "- **setdefault** in dictionary similar anology to **list append**\n",
    "\n",
    "- **get** in dictionary similar anology to **list index**\n",
    "\n",
    "- list,string and tuple has count\n",
    "\n",
    "  - but dictionarys does not have **count**\n",
    " \n",
    "  - becuase dictionary does not allow **duplicates**\n",
    " \n",
    " - "
   ]
  },
  {
   "cell_type": "code",
   "execution_count": null,
   "id": "50bf78dc-4f44-4772-b809-99a435d1ae5b",
   "metadata": {},
   "outputs": [],
   "source": []
  },
  {
   "cell_type": "code",
   "execution_count": 210,
   "id": "ba960343-87c2-452c-aceb-17b017b03386",
   "metadata": {},
   "outputs": [
    {
     "name": "stdout",
     "output_type": "stream",
     "text": [
      "['virat', 'rohit', 'ms']\n",
      "['kohli', 'sharma', 'dhoni']\n",
      "['rcb', 'mi', 'csk']\n"
     ]
    }
   ],
   "source": [
    "d={'Fname': ['virat', 'rohit', 'ms'],\n",
    " 'Sname': ['kohli', 'sharma', 'dhoni'],\n",
    " 'Cname': ['rcb', 'mi', 'csk']}\n",
    "# try to make a list out of it\n",
    "keys=d.keys()\n",
    "keys\n",
    "keys_list=list(keys)\n",
    "keys_list\n",
    "values=d.values()\n",
    "values_list=list(values)\n",
    "fname=list(values_list[0])\n",
    "sname=list(values_list[1])\n",
    "cname=list(values_list[2])\n",
    "\n",
    "print(fname)\n",
    "print(sname)\n",
    "print(cname)"
   ]
  },
  {
   "cell_type": "code",
   "execution_count": null,
   "id": "822356f4-6612-4f65-895e-4c1a0f06f82b",
   "metadata": {},
   "outputs": [],
   "source": []
  }
 ],
 "metadata": {
  "kernelspec": {
   "display_name": "Python [conda env:base] *",
   "language": "python",
   "name": "conda-base-py"
  },
  "language_info": {
   "codemirror_mode": {
    "name": "ipython",
    "version": 3
   },
   "file_extension": ".py",
   "mimetype": "text/x-python",
   "name": "python",
   "nbconvert_exporter": "python",
   "pygments_lexer": "ipython3",
   "version": "3.12.7"
  }
 },
 "nbformat": 4,
 "nbformat_minor": 5
}
