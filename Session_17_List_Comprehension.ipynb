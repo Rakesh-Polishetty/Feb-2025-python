{
 "cells": [
  {
   "cell_type": "markdown",
   "id": "f30ef5b9-d11e-4c40-b9a8-8bf657f03272",
   "metadata": {},
   "source": [
    "## List comprehension\n",
    "\n",
    "- List comprehension is a way to write a list operations in a single line\n",
    "\n",
    "- when we apply for loop and if-else conditional statements then the code compilation becomes slow\n",
    "\n",
    "- which means it takes much time\n",
    "\n",
    "- in order to avoid the time complexity we will use list comprehension\n",
    "\n",
    "- List comprehension is a single line code"
   ]
  },
  {
   "cell_type": "markdown",
   "id": "54620dd7-a7d2-4b88-9395-d4217b6e5bf2",
   "metadata": {},
   "source": [
    "#### case-1:Only for loop"
   ]
  },
  {
   "cell_type": "code",
   "execution_count": 4,
   "id": "10c4a736-3ed5-4d4b-a620-be86d066faa8",
   "metadata": {},
   "outputs": [
    {
     "data": {
      "text/plain": [
       "[0, 1, 2, 3, 4, 5, 6, 7, 8, 9]"
      ]
     },
     "execution_count": 4,
     "metadata": {},
     "output_type": "execute_result"
    }
   ],
   "source": [
    "list1=[]\n",
    "for i in range(10):\n",
    "    list1.append(i)\n",
    "list1"
   ]
  },
  {
   "cell_type": "code",
   "execution_count": null,
   "id": "51860e06-296b-457e-b2ae-6afb8bfb5119",
   "metadata": {},
   "outputs": [],
   "source": [
    "list1=[<code should write here>]\n",
    "# inside code no need of append\n",
    "list1=[<output var> <for loop>]"
   ]
  },
  {
   "cell_type": "code",
   "execution_count": 15,
   "id": "49392395-8754-4fe5-afe8-e5f8d3c9fb4b",
   "metadata": {},
   "outputs": [
    {
     "data": {
      "text/plain": [
       "[0, 1, 2, 3, 4, 5, 6, 7, 8, 9]"
      ]
     },
     "execution_count": 15,
     "metadata": {},
     "output_type": "execute_result"
    }
   ],
   "source": [
    "list1=[i for i in range(10)]\n",
    "list1"
   ]
  },
  {
   "cell_type": "markdown",
   "id": "fb51ca5d-e4b7-4597-a10e-187e76614e46",
   "metadata": {},
   "source": [
    "**dont give (:) colon after for loop**"
   ]
  },
  {
   "cell_type": "code",
   "execution_count": 42,
   "id": "472dd5f1-89be-4e53-a3c2-7ab943d9414a",
   "metadata": {},
   "outputs": [
    {
     "data": {
      "text/plain": [
       "['Hyd', 'Bengaluru', 'Pune', 'Mumbai']"
      ]
     },
     "execution_count": 42,
     "metadata": {},
     "output_type": "execute_result"
    }
   ],
   "source": [
    "# Q1)\n",
    "\n",
    "input=['hyd','bengaluru','pune','mumbai']\n",
    "output=[i.capitalize() for i in input]\n",
    "output"
   ]
  },
  {
   "cell_type": "code",
   "execution_count": 44,
   "id": "fba48732-162d-4697-9d0c-d078653a5a9e",
   "metadata": {},
   "outputs": [
    {
     "data": {
      "text/plain": [
       "['HYD', 'BENGALURU', 'PUNE', 'MUMBAI']"
      ]
     },
     "execution_count": 44,
     "metadata": {},
     "output_type": "execute_result"
    }
   ],
   "source": [
    "# Q2)\n",
    "\n",
    "input=['hyd','bengaluru','pune','mumbai']\n",
    "output=[i.upper() for i in input]\n",
    "output"
   ]
  },
  {
   "cell_type": "code",
   "execution_count": 58,
   "id": "fbd500b6-59fe-4550-8a0e-abc571653b3e",
   "metadata": {},
   "outputs": [
    {
     "data": {
      "text/plain": [
       "[0, 10, 20, 30]"
      ]
     },
     "execution_count": 58,
     "metadata": {},
     "output_type": "execute_result"
    }
   ],
   "source": [
    "# Q3)\n",
    "input=['hyd','bengaluru','pune','mumbai']\n",
    "output=[(input.index(i)*10) for i in input]\n",
    "output"
   ]
  },
  {
   "cell_type": "code",
   "execution_count": 77,
   "id": "4f81c993-7902-4912-9195-dc02e35758a7",
   "metadata": {},
   "outputs": [
    {
     "data": {
      "text/plain": [
       "6"
      ]
     },
     "execution_count": 77,
     "metadata": {},
     "output_type": "execute_result"
    }
   ],
   "source": [
    "# Q4)\n",
    "input=['hyd','bengaluru','pune','mumbai']\n",
    "output=[input.index(i) for i in input]\n",
    "sum(output)"
   ]
  },
  {
   "cell_type": "markdown",
   "id": "e8865268-e026-4ba4-80ba-e3ff58ba1364",
   "metadata": {},
   "source": [
    "#### Walrus operator"
   ]
  },
  {
   "cell_type": "code",
   "execution_count": 88,
   "id": "44748766-8654-459c-9a1f-122e1ac48f3e",
   "metadata": {},
   "outputs": [
    {
     "name": "stdout",
     "output_type": "stream",
     "text": [
      "55\n"
     ]
    }
   ],
   "source": [
    "summ=0\n",
    "for i in range(1,11):\n",
    "    summ=summ+i\n",
    "print(summ)"
   ]
  },
  {
   "cell_type": "code",
   "execution_count": 94,
   "id": "59af9bf7-84c6-457c-addb-aee7e3f2eedd",
   "metadata": {},
   "outputs": [
    {
     "data": {
      "text/plain": [
       "55"
      ]
     },
     "execution_count": 94,
     "metadata": {},
     "output_type": "execute_result"
    }
   ],
   "source": [
    "summ=0\n",
    "[summ:=summ+i for i in range(1,11)]\n",
    "summ"
   ]
  },
  {
   "cell_type": "markdown",
   "id": "96d39a20-f734-4adb-94fa-674d89d95ed4",
   "metadata": {},
   "source": [
    "#### case-2: for loop if condition"
   ]
  },
  {
   "cell_type": "code",
   "execution_count": 98,
   "id": "462a3472-2c77-445f-aff5-43ae8be24ccb",
   "metadata": {},
   "outputs": [
    {
     "data": {
      "text/plain": [
       "['even:2', 'even:4', 'even:6', 'even:8']"
      ]
     },
     "execution_count": 98,
     "metadata": {},
     "output_type": "execute_result"
    }
   ],
   "source": [
    "even_list=[]\n",
    "for i in range(1,10):\n",
    "    if i%2==0:\n",
    "        even_list.append(f'even:{i}')\n",
    "even_list"
   ]
  },
  {
   "cell_type": "code",
   "execution_count": 102,
   "id": "598d26f5-b84b-4dd1-8b5f-21f1e1ddd1bf",
   "metadata": {},
   "outputs": [
    {
     "data": {
      "text/plain": [
       "['even2', 'even4', 'even6', 'even8']"
      ]
     },
     "execution_count": 102,
     "metadata": {},
     "output_type": "execute_result"
    }
   ],
   "source": [
    "even_list=[(f'even{i}') for i in range(1,10) if i%2==0]\n",
    "even_list"
   ]
  },
  {
   "cell_type": "code",
   "execution_count": 104,
   "id": "4f105ce8-b0c0-4e86-a6ae-b86cbc063e8b",
   "metadata": {},
   "outputs": [
    {
     "ename": "SyntaxError",
     "evalue": "expected 'else' after 'if' expression (504946745.py, line 1)",
     "output_type": "error",
     "traceback": [
      "\u001b[1;36m  Cell \u001b[1;32mIn[104], line 1\u001b[1;36m\u001b[0m\n\u001b[1;33m    even_list=[(f'even{i}') if i%2==0 for i in range(1,10)]\u001b[0m\n\u001b[1;37m                ^\u001b[0m\n\u001b[1;31mSyntaxError\u001b[0m\u001b[1;31m:\u001b[0m expected 'else' after 'if' expression\n"
     ]
    }
   ],
   "source": [
    "even_list=[(f'even{i}') if i%2==0 for i in range(1,10)]\n",
    "even_list"
   ]
  },
  {
   "cell_type": "code",
   "execution_count": null,
   "id": "93775a74-bc29-412a-8190-5901ed4ef037",
   "metadata": {},
   "outputs": [],
   "source": [
    "**[<output> <if condition> <for loop>]----- not working**\n",
    "**[<output> <for loop> <if condition>]----- working**"
   ]
  },
  {
   "cell_type": "code",
   "execution_count": 108,
   "id": "c1c8e23c-0e88-47c9-819c-bb7869671cf4",
   "metadata": {},
   "outputs": [
    {
     "data": {
      "text/plain": [
       "['ben#galuru', 'mu#mbai']"
      ]
     },
     "execution_count": 108,
     "metadata": {},
     "output_type": "execute_result"
    }
   ],
   "source": [
    "# Q6)\n",
    "input=input=['hyd','ben#galuru','pune','mu#mbai']\n",
    "output=[]\n",
    "for i in input:\n",
    "    if '#' in i:\n",
    "        output.append(i)\n",
    "output"
   ]
  },
  {
   "cell_type": "code",
   "execution_count": 112,
   "id": "aa9c167b-f5b5-4c1c-a000-8b3ffeaf2b9f",
   "metadata": {},
   "outputs": [
    {
     "data": {
      "text/plain": [
       "['ben#galuru', 'mu#mbai']"
      ]
     },
     "execution_count": 112,
     "metadata": {},
     "output_type": "execute_result"
    }
   ],
   "source": [
    "output=[i for i in input if '#' in i]\n",
    "output"
   ]
  },
  {
   "cell_type": "code",
   "execution_count": 116,
   "id": "41b18f6c-b4a9-4349-b1a5-a39308cc8248",
   "metadata": {},
   "outputs": [
    {
     "data": {
      "text/plain": [
       "['hyd', 'pune']"
      ]
     },
     "execution_count": 116,
     "metadata": {},
     "output_type": "execute_result"
    }
   ],
   "source": [
    "# Q7)\n",
    "output=[i for i in input if '#' not in i]\n",
    "output"
   ]
  },
  {
   "cell_type": "code",
   "execution_count": null,
   "id": "f7fb5741-1adf-48e7-9138-f48c9baf61bb",
   "metadata": {},
   "outputs": [],
   "source": [
    "case-1 for loop:[<output var> <for loop>]\n",
    "case-2 for-if:[<output var> <for loop> <if condition>]\n",
    "case-3 for-if-else:[<if output> <if condition> <else> <else output> <for loop>]"
   ]
  },
  {
   "cell_type": "markdown",
   "id": "14c25689-56b4-4129-839d-126ea4ff8453",
   "metadata": {},
   "source": [
    "#### case-3: for loop if-else condition"
   ]
  },
  {
   "cell_type": "code",
   "execution_count": 123,
   "id": "a0ab7de6-2346-4d82-9052-8387118f7d6d",
   "metadata": {},
   "outputs": [
    {
     "data": {
      "text/plain": [
       "['odd:1',\n",
       " 'even:2',\n",
       " 'odd:3',\n",
       " 'even:4',\n",
       " 'odd:5',\n",
       " 'even:6',\n",
       " 'odd:7',\n",
       " 'even:8',\n",
       " 'odd:9']"
      ]
     },
     "execution_count": 123,
     "metadata": {},
     "output_type": "execute_result"
    }
   ],
   "source": [
    "list1=[]\n",
    "for i in range(1,10):\n",
    "    if i%2==0:\n",
    "        list1.append(f'even:{i}')\n",
    "    else:\n",
    "        list1.append(f'odd:{i}')\n",
    "list1"
   ]
  },
  {
   "cell_type": "code",
   "execution_count": 125,
   "id": "571c6808-b1ca-42b9-ab71-69fb25fc2181",
   "metadata": {},
   "outputs": [
    {
     "data": {
      "text/plain": [
       "['odd:1',\n",
       " 'even:2',\n",
       " 'odd:3',\n",
       " 'even:4',\n",
       " 'odd:5',\n",
       " 'even:6',\n",
       " 'odd:7',\n",
       " 'even:8',\n",
       " 'odd:9']"
      ]
     },
     "execution_count": 125,
     "metadata": {},
     "output_type": "execute_result"
    }
   ],
   "source": [
    "list1=[f'even:{i}' if i%2==0 else f'odd:{i}' for i in range(1,10)]\n",
    "list1"
   ]
  },
  {
   "cell_type": "markdown",
   "id": "d0bcc9fc-239d-4ef6-bb6c-c329ec3bc9b5",
   "metadata": {},
   "source": [
    "#### case-4: for loop if-elif-else condition\n",
    "\n",
    "- in List Comprehension we dont have **elif** representation\n",
    "\n",
    "- elif also represent as **else+if**\n",
    "\n",
    "- in elif we have **elif condition** and **elif output**"
   ]
  },
  {
   "cell_type": "code",
   "execution_count": null,
   "id": "d1fef393-3d05-45f8-b35d-03d649742e44",
   "metadata": {},
   "outputs": [],
   "source": [
    "case-1 for loop:[<output var> <for loop>]\n",
    "case-2 for-if:[<output var> <for loop> <if condition>]\n",
    "case-3 for-if-else:[<if output> <if condition> <else> <else output> <for loop>]\n",
    "case-4 for-if-elif-else:[<if output> <if condition> else <elif output> <elif condition> <else> <else output> <for loop>]\n",
    "\n",
    "**Note**: instead of elif term write if"
   ]
  },
  {
   "cell_type": "code",
   "execution_count": 132,
   "id": "b503be91-7450-4e06-b9f1-91ee2b194574",
   "metadata": {},
   "outputs": [
    {
     "name": "stdout",
     "output_type": "stream",
     "text": [
      "45: C grade\n",
      "55: C grade\n",
      "65: B grade\n",
      "75: B grade\n",
      "85: B grade\n",
      "95: A grade\n"
     ]
    }
   ],
   "source": [
    "l=[45,55,65,75,85,95]\n",
    "for i in l:\n",
    "    if i>85:\n",
    "        print(f'{i}: A grade')\n",
    "    elif i>60:\n",
    "        print(f'{i}: B grade')\n",
    "    else:\n",
    "        print(f'{i}: C grade')"
   ]
  },
  {
   "cell_type": "code",
   "execution_count": 138,
   "id": "2ea53a17-5a3a-4a09-ab04-ba9bfea7c91c",
   "metadata": {},
   "outputs": [
    {
     "data": {
      "text/plain": [
       "['45: C grade',\n",
       " '55: C grade',\n",
       " '65: B grade',\n",
       " '75: B grade',\n",
       " '85: B grade',\n",
       " '95: A grade']"
      ]
     },
     "execution_count": 138,
     "metadata": {},
     "output_type": "execute_result"
    }
   ],
   "source": [
    "l=[45,55,65,75,85,95]\n",
    "output=[f'{i}: A grade' if i>85 \\\n",
    "        else f'{i}: B grade' if i>60 \\\n",
    "        else f'{i}: C grade' for i in l]\n",
    "output"
   ]
  },
  {
   "cell_type": "markdown",
   "id": "47cac429-c5b9-4ecf-ad1f-c21b26103068",
   "metadata": {},
   "source": [
    "### Screening paper question"
   ]
  },
  {
   "cell_type": "code",
   "execution_count": 21,
   "id": "ead2c57f-a6b7-43da-bc49-23ada112751e",
   "metadata": {},
   "outputs": [
    {
     "data": {
      "text/plain": [
       "[1, 2, 3, 4, 5, 6, 9]"
      ]
     },
     "execution_count": 21,
     "metadata": {},
     "output_type": "execute_result"
    }
   ],
   "source": [
    "# Question- List of student marks in python,marks=[45,76,89,53,67,90,82,49,33,99],solve below all problems by using list comprehension topic.\n",
    "# a) Filter the students who passed (marks>=50)\n",
    "marks=[45,76,89,53,67,90,82,49,33,99]\n",
    "output=[marks.index(i) for i in marks if i>=50]\n",
    "output"
   ]
  },
  {
   "cell_type": "code",
   "execution_count": 5,
   "id": "ef1b0321-74aa-4fed-80cf-57708efadf79",
   "metadata": {},
   "outputs": [
    {
     "data": {
      "text/plain": [
       "['45: F grade',\n",
       " '76: B grade',\n",
       " '89: A grade',\n",
       " '53: C grade',\n",
       " '67: C grade',\n",
       " '90: A grade',\n",
       " '82: B grade',\n",
       " '49: F grade',\n",
       " '33: F grade',\n",
       " '99: A grade']"
      ]
     },
     "execution_count": 5,
     "metadata": {},
     "output_type": "execute_result"
    }
   ],
   "source": [
    "# b) Calculate grades for all students (A:85+,B:70-84,C:50-69:,f:<50)\n",
    "marks=[45,76,89,53,67,90,82,49,33,99]\n",
    "output=[f'{i}: A grade' if i>=85 \\\n",
    "        else f'{i}: B grade' if i>=70 \\\n",
    "        else f'{i}: C grade' if i>=50 \\\n",
    "        else f'{i}: F grade' for i in marks]\n",
    "output"
   ]
  },
  {
   "cell_type": "code",
   "execution_count": 9,
   "id": "f5072b71-0918-42c8-b5de-1c24823dfb3b",
   "metadata": {},
   "outputs": [
    {
     "data": {
      "text/plain": [
       "[50, 54, 38]"
      ]
     },
     "execution_count": 9,
     "metadata": {},
     "output_type": "execute_result"
    }
   ],
   "source": [
    "# c) add 5 grace marks to students who failed(<50)\n",
    "marks=[45,76,89,53,67,90,82,49,33,99]\n",
    "output=[i+5 for i in marks if i<50]\n",
    "output"
   ]
  },
  {
   "cell_type": "code",
   "execution_count": 70,
   "id": "d50bb31d-ec0a-4c52-82bd-4fe4b1253c2b",
   "metadata": {},
   "outputs": [
    {
     "data": {
      "text/plain": [
       "[99, 90, 89]"
      ]
     },
     "execution_count": 70,
     "metadata": {},
     "output_type": "execute_result"
    }
   ],
   "source": [
    "# d) Identify the top 3 scorers\n",
    "marks=[45,76,89,53,67,90,82,49,33,99]\n",
    "output=sorted(marks,reverse=True)\n",
    "l=output[:3]\n",
    "l"
   ]
  },
  {
   "cell_type": "code",
   "execution_count": 55,
   "id": "52228941-e36e-42a6-bf97-e53339de2fb9",
   "metadata": {},
   "outputs": [
    {
     "name": "stdout",
     "output_type": "stream",
     "text": [
      "99\n",
      "90\n",
      "89\n"
     ]
    }
   ],
   "source": [
    "# d) Identify the top 3 scorers without using sorted or sort method\n",
    "marks=[45,76,89,53,67,90,82,49,33,99]\n",
    "max_val=max(marks)\n",
    "for i in range(3):\n",
    "    max_val=max(marks)\n",
    "    print(max_val)\n",
    "    marks.remove(max_val)"
   ]
  },
  {
   "cell_type": "code",
   "execution_count": 61,
   "id": "258ed89b-a4b4-4fa0-bc2e-2872d08a02ed",
   "metadata": {},
   "outputs": [
    {
     "data": {
      "text/plain": [
       "[99, 90, 89]"
      ]
     },
     "execution_count": 61,
     "metadata": {},
     "output_type": "execute_result"
    }
   ],
   "source": [
    "marks=[45,76,89,53,67,90,82,49,33,99]\n",
    "top_3=[(max_val:=max(marks),marks.remove(max_val))[0] for i in range(3)]\n",
    "top_3"
   ]
  },
  {
   "cell_type": "code",
   "execution_count": 65,
   "id": "f6c552ba-27c0-4d7f-b8c1-51c28968df02",
   "metadata": {},
   "outputs": [
    {
     "data": {
      "text/plain": [
       "68.3"
      ]
     },
     "execution_count": 65,
     "metadata": {},
     "output_type": "execute_result"
    }
   ],
   "source": [
    "# e) Find the average marks\n",
    "summ=0\n",
    "marks=[45,76,89,53,67,90,82,49,33,99]\n",
    "[summ:=summ+i for i in marks]\n",
    "summ/len(marks)"
   ]
  },
  {
   "cell_type": "markdown",
   "id": "6c85e20f-c48a-48d6-8bdd-ce90c88584fe",
   "metadata": {},
   "source": [
    "**distance between two points**"
   ]
  },
  {
   "cell_type": "code",
   "execution_count": null,
   "id": "d7e5c18f-be06-4d8f-a7a4-a9b750d733ad",
   "metadata": {},
   "outputs": [],
   "source": [
    "l1=[[1,2],[4,5],[7,9]]\n",
    "l2=[10,20]\n",
    "# find the distance between l2 with all other points from l1\n",
    "# which is the maximum distance give me that"
   ]
  },
  {
   "cell_type": "markdown",
   "id": "ea88d972-bc98-490c-9ea4-32ff7034c5da",
   "metadata": {},
   "source": [
    "<img id=\"dimg_2gqqZ-mKKL_jseMPrIurqQo_307\" src=\"data:image/png;base64,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\" class=\"YQ4gaf\" height=\"162\" style=\"object-position:71% 75%\" width=\"311\" alt=\"Calculate Euclidean distance in Python ...\" data-csiid=\"2gqqZ-mKKL_jseMPrIurqQo_24\" data-atf=\"1\">"
   ]
  },
  {
   "cell_type": "code",
   "execution_count": 11,
   "id": "5723b27e-2dbe-41c8-8b13-ef18b3f3e9d2",
   "metadata": {},
   "outputs": [
    {
     "data": {
      "text/plain": [
       "28.284271247461902"
      ]
     },
     "execution_count": 11,
     "metadata": {},
     "output_type": "execute_result"
    }
   ],
   "source": [
    "import math\n",
    "l1=[10,20]  # [x1,y1]\n",
    "l2=[30,40]  # [x2,y2]\n",
    "d1=l2[0]-l1[0] # (x2-x1)=30-10=20\n",
    "d1_square=math.pow(d1,2)\n",
    "d1_square\n",
    "d2=l2[1]-l1[1] # (y2-y1)=40-20=20\n",
    "d2_square=math.pow(d2,2)\n",
    "d2_square\n",
    "##############################\n",
    "summ=d1_square+d2_square\n",
    "##############################\n",
    "math.sqrt(summ)"
   ]
  },
  {
   "cell_type": "code",
   "execution_count": 15,
   "id": "c247a06d-600a-4689-aa68-347e1b1a56e5",
   "metadata": {},
   "outputs": [
    {
     "data": {
      "text/plain": [
       "28.284271247461902"
      ]
     },
     "execution_count": 15,
     "metadata": {},
     "output_type": "execute_result"
    }
   ],
   "source": [
    "math.sqrt(math.pow(l2[0]-l1[0],2)+math.pow(l2[1]-l1[1],2))"
   ]
  },
  {
   "cell_type": "code",
   "execution_count": 23,
   "id": "2a318dfc-e2d4-4c5d-a04e-fdb29a7c825e",
   "metadata": {},
   "outputs": [
    {
     "data": {
      "text/plain": [
       "20.12461179749811"
      ]
     },
     "execution_count": 23,
     "metadata": {},
     "output_type": "execute_result"
    }
   ],
   "source": [
    "import math\n",
    "l1=[1,2]  \n",
    "l2=[10,20]\n",
    "d1=l2[0]-l1[0]\n",
    "d1_square=math.pow(d1,2)\n",
    "d1_square\n",
    "d2=l2[1]-l1[1]\n",
    "d2_square=math.pow(d2,2)\n",
    "d2_square\n",
    "summ=d1_square+d2_square\n",
    "math.sqrt(summ)"
   ]
  },
  {
   "cell_type": "code",
   "execution_count": null,
   "id": "7fbf2bf4-db7b-4a80-b1d7-f80809bb4f1c",
   "metadata": {},
   "outputs": [],
   "source": []
  }
 ],
 "metadata": {
  "kernelspec": {
   "display_name": "Python [conda env:base] *",
   "language": "python",
   "name": "conda-base-py"
  },
  "language_info": {
   "codemirror_mode": {
    "name": "ipython",
    "version": 3
   },
   "file_extension": ".py",
   "mimetype": "text/x-python",
   "name": "python",
   "nbconvert_exporter": "python",
   "pygments_lexer": "ipython3",
   "version": "3.12.7"
  }
 },
 "nbformat": 4,
 "nbformat_minor": 5
}
