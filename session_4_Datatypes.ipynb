{
 "cells": [
  {
   "cell_type": "markdown",
   "id": "632fcb8f-4546-4771-8272-6feb8b81b04e",
   "metadata": {},
   "source": [
    "# DATA TYPES"
   ]
  },
  {
   "cell_type": "markdown",
   "id": "a8e84031-a232-4ba1-9d2b-69ac6104c6ad",
   "metadata": {},
   "source": [
    "- integer : int\n",
    "\n",
    "- float\n",
    "\n",
    "- string\n",
    "\n",
    "- list\n",
    "\n",
    "- tuple\n",
    "\n",
    "- set\n",
    "\n",
    "    - frozen set\n",
    "\n",
    "- dictionary\n",
    "\n",
    "- bool\n",
    "\n",
    "- complex\n",
    "\n",
    "- range\n",
    "\n",
    "- byte\n",
    "\n",
    "- byte array\n",
    "\n",
    "- memory view\n",
    "\n",
    "- None type"
   ]
  },
  {
   "cell_type": "markdown",
   "id": "a047e20a-a3ba-4420-abb2-356e563b4e8e",
   "metadata": {},
   "source": [
    "- myth\n",
    "\n",
    "    - only 14-15 data types are avaialble, dont believe this."
   ]
  },
  {
   "cell_type": "markdown",
   "id": "111f258d-9996-4437-b13c-6b25616936d3",
   "metadata": {},
   "source": [
    "$integer$"
   ]
  },
  {
   "cell_type": "code",
   "execution_count": 5,
   "id": "e6719480-7e21-4681-9f44-1617151d2c56",
   "metadata": {},
   "outputs": [
    {
     "data": {
      "text/plain": [
       "100"
      ]
     },
     "execution_count": 5,
     "metadata": {},
     "output_type": "execute_result"
    }
   ],
   "source": [
    "number=100\n",
    "number"
   ]
  },
  {
   "cell_type": "code",
   "execution_count": 7,
   "id": "40895cec-1dd9-44e5-883f-3743f7e0a12c",
   "metadata": {},
   "outputs": [
    {
     "data": {
      "text/plain": [
       "int"
      ]
     },
     "execution_count": 7,
     "metadata": {},
     "output_type": "execute_result"
    }
   ],
   "source": [
    "type(number)"
   ]
  },
  {
   "cell_type": "markdown",
   "id": "221809b8-5565-4921-8e33-6204b3d63c63",
   "metadata": {},
   "source": [
    "**numbers system**\n",
    "\n",
    "- Binary number system\n",
    "\n",
    "- decimal number system\n",
    "\n",
    "- Octa number system\n",
    "\n",
    "- Hexa number system"
   ]
  },
  {
   "cell_type": "markdown",
   "id": "4d3274f7-ccfc-476c-9b85-cb046c1a1752",
   "metadata": {},
   "source": [
    "**Binary number system**\n",
    "\n",
    "- it is denoted with **0b** or **0B**\n",
    "\n",
    "- Binary means two\n",
    "\n",
    "- We generally have 0 to 9 digits available\n",
    "\n",
    "- Binary means only two digits are allowed which are 0 and 1\n",
    "\n",
    "- ex: 0b101 0b111 0b000 0B001\n",
    "\n",
    "- not valid: 0b123 0B1000012"
   ]
  },
  {
   "cell_type": "code",
   "execution_count": 12,
   "id": "9cdb3a57-b020-4fb1-afeb-b65a167741b0",
   "metadata": {},
   "outputs": [
    {
     "data": {
      "text/plain": [
       "7"
      ]
     },
     "execution_count": 12,
     "metadata": {},
     "output_type": "execute_result"
    }
   ],
   "source": [
    "0b111"
   ]
  },
  {
   "cell_type": "code",
   "execution_count": 14,
   "id": "81774cb8-4966-43a9-addf-3c3447868751",
   "metadata": {},
   "outputs": [
    {
     "data": {
      "text/plain": [
       "11"
      ]
     },
     "execution_count": 14,
     "metadata": {},
     "output_type": "execute_result"
    }
   ],
   "source": [
    "0b1011"
   ]
  },
  {
   "cell_type": "code",
   "execution_count": 16,
   "id": "d194cf00-f609-4620-8cfd-8f15ee40b229",
   "metadata": {},
   "outputs": [
    {
     "data": {
      "text/plain": [
       "11"
      ]
     },
     "execution_count": 16,
     "metadata": {},
     "output_type": "execute_result"
    }
   ],
   "source": [
    "0B01011"
   ]
  },
  {
   "cell_type": "code",
   "execution_count": 18,
   "id": "0262e7ad-1e6c-4927-98c9-5315da9c0d95",
   "metadata": {},
   "outputs": [
    {
     "data": {
      "text/plain": [
       "29"
      ]
     },
     "execution_count": 18,
     "metadata": {},
     "output_type": "execute_result"
    }
   ],
   "source": [
    "0B11101"
   ]
  },
  {
   "cell_type": "code",
   "execution_count": 90,
   "id": "1253b9c9-3637-4f13-9766-6a44109457e7",
   "metadata": {},
   "outputs": [
    {
     "data": {
      "text/plain": [
       "9876543210"
      ]
     },
     "execution_count": 90,
     "metadata": {},
     "output_type": "execute_result"
    }
   ],
   "source": [
    "0B1001001100101100000001011011101010"
   ]
  },
  {
   "cell_type": "code",
   "execution_count": 1,
   "id": "050708b3-cff6-449a-85de-27aa86051934",
   "metadata": {},
   "outputs": [
    {
     "ename": "SyntaxError",
     "evalue": "invalid syntax (1349175946.py, line 1)",
     "output_type": "error",
     "traceback": [
      "\u001b[1;36m  Cell \u001b[1;32mIn[1], line 1\u001b[1;36m\u001b[0m\n\u001b[1;33m    2^3 2^2  2^1  2^0\u001b[0m\n\u001b[1;37m        ^\u001b[0m\n\u001b[1;31mSyntaxError\u001b[0m\u001b[1;31m:\u001b[0m invalid syntax\n"
     ]
    }
   ],
   "source": [
    "2^3 2^2  2^1  2^0\n",
    "8    4    2    1\n",
    "########################\n",
    "0    0     0    0     0\n",
    "0    0     0    1     1 \n",
    "0    0     1    0     2\n",
    "0    0     1    1     3\n",
    "0    1     0    0     4\n",
    "0    1     0    1     5\n",
    "0    1     1    0     6\n",
    "0    1     1    1     7\n",
    "1    0     0    0     8\n",
    "1    0     0    1     9\n",
    "1    0     1    0     10\n",
    "1    0     1    1     11\n",
    "1    1     0    0     12\n",
    "1    1     0    1     13\n",
    "1    1     1    0     14\n",
    "1    1     1    1     15"
   ]
  },
  {
   "cell_type": "code",
   "execution_count": 27,
   "id": "467455a8-0a0a-4a0a-89be-233f178e9330",
   "metadata": {},
   "outputs": [
    {
     "data": {
      "text/plain": [
       "15"
      ]
     },
     "execution_count": 27,
     "metadata": {},
     "output_type": "execute_result"
    }
   ],
   "source": [
    "0B1111"
   ]
  },
  {
   "cell_type": "markdown",
   "id": "304f7fb1-8cb8-4a88-bf9b-0a87a1dfef4d",
   "metadata": {},
   "source": [
    "**octa number system**\n",
    "\n",
    "- it is denoted with **0o** or **0O**\n",
    "\n",
    "- Octa means eight\n",
    "\n",
    "- We generally have 0 to 9 digits available\n",
    "\n",
    "- Octa means only eight digits are allowed which are 0 1 2 3 4 5 6 7\n",
    "\n",
    "- ex: 0o123 0O567\n",
    "\n",
    "- not valid:0O12789"
   ]
  },
  {
   "cell_type": "code",
   "execution_count": 24,
   "id": "3e0000db-b0bf-43a0-982c-cf2f0e196355",
   "metadata": {},
   "outputs": [
    {
     "data": {
      "text/plain": [
       "375"
      ]
     },
     "execution_count": 24,
     "metadata": {},
     "output_type": "execute_result"
    }
   ],
   "source": [
    "0o567"
   ]
  },
  {
   "cell_type": "code",
   "execution_count": 26,
   "id": "df4df24b-7762-47ac-b4fc-26667e1bbee3",
   "metadata": {},
   "outputs": [
    {
     "data": {
      "text/plain": [
       "83"
      ]
     },
     "execution_count": 26,
     "metadata": {},
     "output_type": "execute_result"
    }
   ],
   "source": [
    "0O123"
   ]
  },
  {
   "cell_type": "code",
   "execution_count": 84,
   "id": "1eaebf3d-d75c-427f-903e-a885b2d16e69",
   "metadata": {},
   "outputs": [
    {
     "data": {
      "text/plain": [
       "7532112"
      ]
     },
     "execution_count": 84,
     "metadata": {},
     "output_type": "execute_result"
    }
   ],
   "source": [
    "0O34567120"
   ]
  },
  {
   "cell_type": "markdown",
   "id": "d742df8d-02dd-495e-b267-1018bec25190",
   "metadata": {},
   "source": [
    "**Hexa number system**\n",
    "\n",
    "- it is denoted with **0x** or **0X**\n",
    "\n",
    "- Hexa means  16\n",
    "\n",
    "- We generally have 0 to 9 digits available\n",
    "\n",
    "- Hexa means only sixteen digits allowed: 0 to 9 and A to F\n",
    "\n",
    "-  A:10  B:11  C:12  D:13  E:14 F:15\n",
    "\n",
    "- ex: 0xabc  0XA1 \n",
    "\n",
    "- not valid: 0xefg"
   ]
  },
  {
   "cell_type": "code",
   "execution_count": 29,
   "id": "87326602-289a-479c-8d70-45aedb255f44",
   "metadata": {},
   "outputs": [
    {
     "data": {
      "text/plain": [
       "161"
      ]
     },
     "execution_count": 29,
     "metadata": {},
     "output_type": "execute_result"
    }
   ],
   "source": [
    "0xa1"
   ]
  },
  {
   "cell_type": "code",
   "execution_count": 94,
   "id": "3979ec67-99ca-4f21-a492-11bba4fe6917",
   "metadata": {},
   "outputs": [
    {
     "data": {
      "text/plain": [
       "9876543210"
      ]
     },
     "execution_count": 94,
     "metadata": {},
     "output_type": "execute_result"
    }
   ],
   "source": [
    "0X24cb016EA"
   ]
  },
  {
   "cell_type": "markdown",
   "id": "b8d83d41-87f2-4a65-ab50-9eeab29c44e6",
   "metadata": {},
   "source": [
    "# Float"
   ]
  },
  {
   "cell_type": "code",
   "execution_count": 52,
   "id": "42efd3fc-82eb-44d8-b230-fccd01249ec2",
   "metadata": {},
   "outputs": [
    {
     "data": {
      "text/plain": [
       "float"
      ]
     },
     "execution_count": 52,
     "metadata": {},
     "output_type": "execute_result"
    }
   ],
   "source": [
    "number=10.5\n",
    "type(number)"
   ]
  },
  {
   "cell_type": "markdown",
   "id": "a221485b-c988-4675-8c7b-b1b44e180a6e",
   "metadata": {},
   "source": [
    "# e representation"
   ]
  },
  {
   "cell_type": "code",
   "execution_count": null,
   "id": "b0ab0d2d-6bce-4333-ab71-63bcf034107f",
   "metadata": {},
   "outputs": [],
   "source": [
    "1e1   # 1*10=10\n",
    "1e2   #1*100=100\n",
    "2e3   #2*1000=2000\n",
    "4e4   #4*10000=40000"
   ]
  },
  {
   "cell_type": "code",
   "execution_count": 1,
   "id": "5c459184-77f9-454c-99d3-5f4b9d4f0d0e",
   "metadata": {},
   "outputs": [
    {
     "name": "stdout",
     "output_type": "stream",
     "text": [
      "10.0\n",
      "100.0\n",
      "2000.0\n",
      "40000.0\n"
     ]
    }
   ],
   "source": [
    "print(1e+1)   # 1*10=10\n",
    "print(1e+2)   #1*100=100\n",
    "print(2e+3)   #2*1000=2000\n",
    "print(4e+4)   #4*10000=40000"
   ]
  },
  {
   "cell_type": "code",
   "execution_count": 3,
   "id": "f692db5c-6b5b-4bbd-ba66-bb00424bfd1f",
   "metadata": {},
   "outputs": [
    {
     "name": "stdout",
     "output_type": "stream",
     "text": [
      "0.1\n",
      "0.01\n",
      "0.002\n",
      "0.0004\n"
     ]
    }
   ],
   "source": [
    "print(1e-1)   # 1/10=0.1\n",
    "print(1e-2)   #1/100=0.01\n",
    "print(2e-3)   #2/1000=0.002\n",
    "print(4e-4)   #4/10000=0.0004"
   ]
  },
  {
   "cell_type": "code",
   "execution_count": null,
   "id": "db363df7-8bba-4cb0-9ee6-f3a3d2e9150f",
   "metadata": {},
   "outputs": [],
   "source": [
    "# integer data type\n",
    "#float data type"
   ]
  },
  {
   "cell_type": "markdown",
   "id": "271773ab-06cb-4c3b-9673-d14b4ee5edab",
   "metadata": {},
   "source": [
    "# boolean\n",
    "**boolean gives false value only for zeros/off**"
   ]
  },
  {
   "cell_type": "code",
   "execution_count": 6,
   "id": "1d354631-404b-43a5-945e-5c1f2fe019a8",
   "metadata": {},
   "outputs": [
    {
     "data": {
      "text/plain": [
       "True"
      ]
     },
     "execution_count": 6,
     "metadata": {},
     "output_type": "execute_result"
    }
   ],
   "source": [
    "val=True\n",
    "val"
   ]
  },
  {
   "cell_type": "code",
   "execution_count": 8,
   "id": "df96b1d8-8ec9-47bf-9bd2-e09741219641",
   "metadata": {},
   "outputs": [
    {
     "data": {
      "text/plain": [
       "bool"
      ]
     },
     "execution_count": 8,
     "metadata": {},
     "output_type": "execute_result"
    }
   ],
   "source": [
    "type(val)"
   ]
  },
  {
   "cell_type": "code",
   "execution_count": 10,
   "id": "54510539-22e8-491b-b8bf-5ff8e17929b5",
   "metadata": {},
   "outputs": [
    {
     "data": {
      "text/plain": [
       "False"
      ]
     },
     "execution_count": 10,
     "metadata": {},
     "output_type": "execute_result"
    }
   ],
   "source": [
    "val1=False\n",
    "val1"
   ]
  },
  {
   "cell_type": "code",
   "execution_count": 12,
   "id": "e6c01a02-21d3-421d-8d57-ec8d7bd0936e",
   "metadata": {},
   "outputs": [
    {
     "data": {
      "text/plain": [
       "bool"
      ]
     },
     "execution_count": 12,
     "metadata": {},
     "output_type": "execute_result"
    }
   ],
   "source": [
    "val1=False\n",
    "type(val1)"
   ]
  },
  {
   "cell_type": "markdown",
   "id": "35a6a792-73ee-4bc1-affc-027f7066169c",
   "metadata": {},
   "source": [
    "**strings**"
   ]
  },
  {
   "cell_type": "markdown",
   "id": "629d4df2-74fb-47db-b3a7-8d49d9b265fc",
   "metadata": {},
   "source": [
    "- English format representation\n",
    "\n",
    "- strings represent with quotes\n",
    "\n",
    "- we can use single quotes, double quotes and triple quotes"
   ]
  },
  {
   "cell_type": "code",
   "execution_count": 16,
   "id": "2061a217-02e0-4880-826d-227a2339eebf",
   "metadata": {},
   "outputs": [
    {
     "data": {
      "text/plain": [
       "'python'"
      ]
     },
     "execution_count": 16,
     "metadata": {},
     "output_type": "execute_result"
    }
   ],
   "source": [
    "name='python'\n",
    "name"
   ]
  },
  {
   "cell_type": "code",
   "execution_count": 18,
   "id": "d949d092-470c-4dd3-8e78-3b015b11afdb",
   "metadata": {},
   "outputs": [
    {
     "data": {
      "text/plain": [
       "str"
      ]
     },
     "execution_count": 18,
     "metadata": {},
     "output_type": "execute_result"
    }
   ],
   "source": [
    "type(name)"
   ]
  },
  {
   "cell_type": "code",
   "execution_count": 22,
   "id": "17272392-15f9-4635-bab5-bb581dedefd3",
   "metadata": {},
   "outputs": [
    {
     "name": "stdout",
     "output_type": "stream",
     "text": [
      "python\n"
     ]
    }
   ],
   "source": [
    "print(name)\n",
    "# when we print, we will not be able to see the quotes"
   ]
  },
  {
   "cell_type": "code",
   "execution_count": 24,
   "id": "ee7c83f3-aeb6-4dd5-a735-5931cc7182a8",
   "metadata": {},
   "outputs": [
    {
     "data": {
      "text/plain": [
       "str"
      ]
     },
     "execution_count": 24,
     "metadata": {},
     "output_type": "execute_result"
    }
   ],
   "source": [
    "val='10'\n",
    "type(val)"
   ]
  },
  {
   "cell_type": "code",
   "execution_count": 28,
   "id": "14ef8e1f-79b0-40d7-9d18-e5825acff0c5",
   "metadata": {},
   "outputs": [
    {
     "data": {
      "text/plain": [
       "int"
      ]
     },
     "execution_count": 28,
     "metadata": {},
     "output_type": "execute_result"
    }
   ],
   "source": [
    "val1=10\n",
    "type(val1)"
   ]
  },
  {
   "cell_type": "code",
   "execution_count": 30,
   "id": "1e3ebbcd-ea7c-4123-8bd2-d2f95328d6d8",
   "metadata": {},
   "outputs": [
    {
     "data": {
      "text/plain": [
       "'naresh it'"
      ]
     },
     "execution_count": 30,
     "metadata": {},
     "output_type": "execute_result"
    }
   ],
   "source": [
    "name=\"naresh it\"\n",
    "name\n",
    "# but the output is displayed in single quotes"
   ]
  },
  {
   "cell_type": "code",
   "execution_count": 32,
   "id": "adf7aa0c-99c4-41ba-a063-d4ffd22d6463",
   "metadata": {},
   "outputs": [
    {
     "data": {
      "text/plain": [
       "str"
      ]
     },
     "execution_count": 32,
     "metadata": {},
     "output_type": "execute_result"
    }
   ],
   "source": [
    "type(name)"
   ]
  },
  {
   "cell_type": "code",
   "execution_count": 34,
   "id": "b877fc84-ddb9-43d6-ae7d-93d5abb9f75c",
   "metadata": {},
   "outputs": [
    {
     "name": "stdout",
     "output_type": "stream",
     "text": [
      "naresh it\n"
     ]
    }
   ],
   "source": [
    "print(name)"
   ]
  },
  {
   "cell_type": "code",
   "execution_count": 42,
   "id": "a1958775-d49e-4849-9d49-cca94c19b140",
   "metadata": {},
   "outputs": [
    {
     "name": "stdout",
     "output_type": "stream",
     "text": [
      "I love 'python'\n"
     ]
    }
   ],
   "source": [
    "str1=\"I love 'python'\"\n",
    "print(str1)"
   ]
  },
  {
   "cell_type": "markdown",
   "id": "29ac6cb8-0223-4e1e-b296-4d774c085b31",
   "metadata": {},
   "source": [
    "- Keep the entire string in Double quotes, then highlight the word with single single quotes and vice versa"
   ]
  },
  {
   "cell_type": "markdown",
   "id": "f0365b4b-c748-49e2-b736-d3535e2dfbca",
   "metadata": {},
   "source": [
    "**triple quotes**"
   ]
  },
  {
   "cell_type": "markdown",
   "id": "ad1fffc5-71d6-4c4b-8e98-def2bbc08caa",
   "metadata": {},
   "source": [
    "- triple quotes cannot be used in the coding part\n",
    "\n",
    "- triple quotes means conveying the information\n",
    "\n",
    "- this process is called as **DOC STRING**\n",
    "\n",
    "- In jupyter notebook we have markdown option\n",
    "\n",
    "- But in vscode or pycharm, there is no markdown option\n",
    "\n",
    "- So user will convey the information by providing triple quotes"
   ]
  },
  {
   "cell_type": "code",
   "execution_count": null,
   "id": "7edc7fbb-2752-4f3f-ac4a-ae60d1788364",
   "metadata": {},
   "outputs": [],
   "source": [
    "'''Hi\n",
    "Today I am learning python\n",
    "It is easy'''"
   ]
  },
  {
   "cell_type": "code",
   "execution_count": null,
   "id": "2b886121-d084-44bb-9703-79259f2a5eaf",
   "metadata": {},
   "outputs": [],
   "source": [
    "true=True  # works, type is bool\n",
    "true='True'# works, type is str\n",
    "true=10.5  # works, type is float\n",
    "True=10    # fails, as keywords like True cannot be used as variables\n",
    "True=True  # fails, as keywords like True cannot be used as variables"
   ]
  },
  {
   "cell_type": "code",
   "execution_count": null,
   "id": "cb2c7287-6062-47a0-b7cc-d60a37bd1281",
   "metadata": {},
   "outputs": [],
   "source": [
    "# in python datatypes words appearing in red are strings, green colour means keywords and black means vaiables"
   ]
  }
 ],
 "metadata": {
  "kernelspec": {
   "display_name": "Python [conda env:base] *",
   "language": "python",
   "name": "conda-base-py"
  },
  "language_info": {
   "codemirror_mode": {
    "name": "ipython",
    "version": 3
   },
   "file_extension": ".py",
   "mimetype": "text/x-python",
   "name": "python",
   "nbconvert_exporter": "python",
   "pygments_lexer": "ipython3",
   "version": "3.12.7"
  }
 },
 "nbformat": 4,
 "nbformat_minor": 5
}
