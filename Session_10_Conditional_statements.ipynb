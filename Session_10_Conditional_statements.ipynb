{
 "cells": [
  {
   "cell_type": "markdown",
   "id": "cf1be04a-37e1-4d85-9c3b-26c9facca25d",
   "metadata": {},
   "source": [
    "## conditional statements\n",
    "\n",
    "- conditional statements are used to execute the code based on some conditions\n",
    "\n",
    "- assume a statement\n",
    "\n",
    "    - if raining I will stay at hostel\n",
    "\n",
    "    - if raining I will stay at hostel otherwise I will go to play cricket\n",
    " \n",
    "    - if raining I will stay at hostel otherwise I will go to ground but if omkar sir calls i will go to NareshIT\n",
    " \n",
    "\n",
    "- if raining I will stay at hostel else I will go to play cricket\n",
    "\n",
    "- **if**\n",
    "\n",
    "- **if-else**\n",
    "\n",
    "- **if-elif-else**"
   ]
  },
  {
   "cell_type": "code",
   "execution_count": null,
   "id": "103e34ce-cc9b-41a1-8c70-53923d2dc75f",
   "metadata": {},
   "outputs": [],
   "source": [
    "if <condition>:\n",
    "    # write your code here\n",
    "\n",
    "# whenever the condition is True\n",
    "# then python will go inside the if area then the lines will be executed"
   ]
  },
  {
   "cell_type": "code",
   "execution_count": 5,
   "id": "82bb4422-c699-4a1b-ae82-1c3396d75289",
   "metadata": {},
   "outputs": [
    {
     "name": "stdout",
     "output_type": "stream",
     "text": [
      "False\n",
      "True\n",
      "False\n",
      "False\n",
      "True\n",
      "True\n"
     ]
    }
   ],
   "source": [
    "num=10 # one = symbol is assigning  10 as a value stored in a variable name num\n",
    "# double == symbol is condition check for num value equal to 10 or not\n",
    "print(num==100) \n",
    "print(num==10)\n",
    "print(num>10)\n",
    "print(num<10)\n",
    "print(num>=10)\n",
    "print(num<=10)"
   ]
  },
  {
   "cell_type": "code",
   "execution_count": 7,
   "id": "97dee728-4dce-4124-a590-3509095b4b55",
   "metadata": {},
   "outputs": [
    {
     "name": "stdout",
     "output_type": "stream",
     "text": [
      "hello\n"
     ]
    }
   ],
   "source": [
    "if 100>10:\n",
    "    print('hello')\n",
    "\n",
    "# step-1: 100>10  True\n",
    "# step-2: hello"
   ]
  },
  {
   "cell_type": "markdown",
   "id": "f841f16a-209a-4d80-b79a-64206d70afa1",
   "metadata": {},
   "source": [
    "**mistake 1**\n",
    "\n",
    "**indentation error**\n",
    "\n",
    "- whenever a line starts with a keyword at last :(colon) will be there\n",
    "\n",
    "- whenever :(colon) is there then we have indentation"
   ]
  },
  {
   "cell_type": "code",
   "execution_count": 3,
   "id": "cd80f703-8c27-4255-8804-3b894e6712ab",
   "metadata": {},
   "outputs": [
    {
     "name": "stdout",
     "output_type": "stream",
     "text": [
      "hello\n"
     ]
    }
   ],
   "source": [
    "if 100>10:\n",
    "    print('hello')"
   ]
  },
  {
   "cell_type": "markdown",
   "id": "1ef5634a-484d-4c90-80f1-32fd4ac32bd5",
   "metadata": {},
   "source": [
    "**mistake 2**"
   ]
  },
  {
   "cell_type": "code",
   "execution_count": 21,
   "id": "052ee2db-601a-471b-8d4e-969964f26702",
   "metadata": {},
   "outputs": [
    {
     "name": "stdout",
     "output_type": "stream",
     "text": [
      "hello\n"
     ]
    }
   ],
   "source": [
    "if 100>10:\n",
    "    print('hello')\n",
    "\n",
    "# : colon should not miss in condition"
   ]
  },
  {
   "cell_type": "code",
   "execution_count": 1,
   "id": "a638cc54-1601-4fee-acc7-721d4e901271",
   "metadata": {},
   "outputs": [],
   "source": [
    "if 100<10:\n",
    "    print('hello')\n",
    "\n",
    "# step-1: 100<10 is False"
   ]
  },
  {
   "cell_type": "code",
   "execution_count": 5,
   "id": "10250651-6363-494e-9002-e185a23dba9f",
   "metadata": {},
   "outputs": [
    {
     "data": {
      "text/plain": [
       "True"
      ]
     },
     "execution_count": 5,
     "metadata": {},
     "output_type": "execute_result"
    }
   ],
   "source": [
    "100>10"
   ]
  },
  {
   "cell_type": "code",
   "execution_count": 7,
   "id": "cef989b3-c233-4ecb-b39f-947bc224fe0c",
   "metadata": {},
   "outputs": [
    {
     "name": "stdout",
     "output_type": "stream",
     "text": [
      "hello\n"
     ]
    }
   ],
   "source": [
    "if True:\n",
    "    print('hello')"
   ]
  },
  {
   "cell_type": "code",
   "execution_count": 9,
   "id": "66c2480e-f874-4b42-965b-019873972b1b",
   "metadata": {},
   "outputs": [],
   "source": [
    "if False:\n",
    "    print('hello')"
   ]
  },
  {
   "cell_type": "code",
   "execution_count": 11,
   "id": "ddb186a1-9bf0-4482-b7cc-5fd043722b3e",
   "metadata": {},
   "outputs": [
    {
     "data": {
      "text/plain": [
       "True"
      ]
     },
     "execution_count": 11,
     "metadata": {},
     "output_type": "execute_result"
    }
   ],
   "source": [
    "bool(100)"
   ]
  },
  {
   "cell_type": "code",
   "execution_count": 33,
   "id": "812dace7-945f-4ca2-a5bf-b207ac0ffaa4",
   "metadata": {},
   "outputs": [
    {
     "name": "stdout",
     "output_type": "stream",
     "text": [
      "hello\n",
      "hello\n",
      "hello\n"
     ]
    }
   ],
   "source": [
    "if bool(100):\n",
    "    print('hello')\n",
    "\n",
    "if 100>10:\n",
    "    print('hello')\n",
    "\n",
    "if True:\n",
    "    print('hello')"
   ]
  },
  {
   "cell_type": "code",
   "execution_count": 35,
   "id": "8ac6a662-fd70-4705-80da-5f4dec7391c8",
   "metadata": {},
   "outputs": [
    {
     "name": "stdout",
     "output_type": "stream",
     "text": [
      "hello\n",
      "hi\n",
      "i am with condition bye\n",
      "i am without condition bye\n"
     ]
    }
   ],
   "source": [
    "###################################\n",
    "if 100>10:\n",
    "    print('hello')\n",
    "    print('hi')\n",
    "    print('i am with condition bye')\n",
    "###################################\n",
    "print('i am without condition bye')"
   ]
  },
  {
   "cell_type": "code",
   "execution_count": 13,
   "id": "344c916b-4fd1-4656-b45e-4c25351b4cf8",
   "metadata": {},
   "outputs": [
    {
     "data": {
      "text/plain": [
       "True"
      ]
     },
     "execution_count": 13,
     "metadata": {},
     "output_type": "execute_result"
    }
   ],
   "source": [
    "100>10  # mask\n",
    "True    # face"
   ]
  },
  {
   "cell_type": "code",
   "execution_count": 37,
   "id": "879d9cb2-8d64-46b7-839a-9fbf75c7c746",
   "metadata": {},
   "outputs": [
    {
     "name": "stdout",
     "output_type": "stream",
     "text": [
      "i am without condition bye\n"
     ]
    }
   ],
   "source": [
    "###################################\n",
    "if 100<10:\n",
    "    print('hello')\n",
    "    print('hi')\n",
    "    print('i am with condition bye')\n",
    "###################################\n",
    "print('i am without condition bye')"
   ]
  },
  {
   "cell_type": "code",
   "execution_count": 39,
   "id": "2bd58bf9-22c2-4961-a0fb-696d30057b91",
   "metadata": {},
   "outputs": [
    {
     "name": "stdout",
     "output_type": "stream",
     "text": [
      "1\n",
      "2\n",
      "i am without condition bye\n"
     ]
    }
   ],
   "source": [
    "print(1)\n",
    "print(2)\n",
    "###################################\n",
    "if 100<10:\n",
    "    print('hello')\n",
    "    print('hi')\n",
    "    print('i am with condition bye')\n",
    "###################################\n",
    "print('i am without condition bye')"
   ]
  },
  {
   "cell_type": "code",
   "execution_count": 41,
   "id": "e9aa67f4-aa36-4852-a481-54d1748348ff",
   "metadata": {},
   "outputs": [
    {
     "name": "stdout",
     "output_type": "stream",
     "text": [
      "hello\n",
      "hi\n",
      "i am with condition bye\n",
      "1\n",
      "2\n",
      "i am without condition bye\n"
     ]
    }
   ],
   "source": [
    "if 100>10:\n",
    "    print('hello')\n",
    "    print('hi')\n",
    "    print('i am with condition bye')\n",
    "###################################    \n",
    "print(1)\n",
    "print(2)\n",
    "###################################\n",
    "if 100<10:\n",
    "    print('hello')\n",
    "    print('hi')\n",
    "    print('i am with condition bye')\n",
    "###################################\n",
    "print('i am without condition bye')"
   ]
  },
  {
   "cell_type": "code",
   "execution_count": null,
   "id": "c4a7028f-c9d1-41b5-a246-63aae570f8f7",
   "metadata": {},
   "outputs": [],
   "source": [
    "if <con>:\n",
    "    <write our code here>"
   ]
  },
  {
   "cell_type": "markdown",
   "id": "87f98e03-6530-48bc-b183-f3c7e4bb52cf",
   "metadata": {},
   "source": [
    "**case-2: if-else**"
   ]
  },
  {
   "cell_type": "markdown",
   "id": "1fa50a8f-4661-40f5-99e3-d3a80b98bfa5",
   "metadata": {},
   "source": [
    "- if condition is True the if statements will execute\n",
    "\n",
    "- if condition is False then else statements will execute\n",
    "\n",
    "- one condition two outputs\n",
    "\n",
    "- if needs condition but not else"
   ]
  },
  {
   "cell_type": "code",
   "execution_count": null,
   "id": "c94a7d98-d5bb-4edf-b65f-315631ec5f97",
   "metadata": {},
   "outputs": [],
   "source": [
    "# syntax\n",
    "if <condition>:\n",
    "    <write your code here>\n",
    "else:\n",
    "    <write your code here>"
   ]
  },
  {
   "cell_type": "code",
   "execution_count": 7,
   "id": "77a9d023-4112-4b36-9c9b-fbe99ea3a588",
   "metadata": {},
   "outputs": [
    {
     "name": "stdout",
     "output_type": "stream",
     "text": [
      "hello\n"
     ]
    }
   ],
   "source": [
    "print('hello')"
   ]
  },
  {
   "cell_type": "code",
   "execution_count": 9,
   "id": "6c2039a6-d74a-4735-8be3-fc7b5c3c53fb",
   "metadata": {},
   "outputs": [
    {
     "name": "stdout",
     "output_type": "stream",
     "text": [
      "hello\n"
     ]
    }
   ],
   "source": [
    "friend='yes'\n",
    "if friend=='yes':\n",
    "    print('hello')"
   ]
  },
  {
   "cell_type": "code",
   "execution_count": 11,
   "id": "61080b03-170c-4797-9cd8-e6a03779a256",
   "metadata": {},
   "outputs": [
    {
     "name": "stdout",
     "output_type": "stream",
     "text": [
      "positive number\n"
     ]
    }
   ],
   "source": [
    "if 100>0:\n",
    "    print('positive number')\n",
    "else:\n",
    "    print('negative number')"
   ]
  },
  {
   "cell_type": "code",
   "execution_count": 13,
   "id": "098bae86-c1a9-4a3f-bda1-98ef77ec3b13",
   "metadata": {},
   "outputs": [
    {
     "name": "stdout",
     "output_type": "stream",
     "text": [
      "negative number\n"
     ]
    }
   ],
   "source": [
    "if 100<0:\n",
    "    print('positive number')\n",
    "else:\n",
    "    print('negative number')"
   ]
  },
  {
   "cell_type": "code",
   "execution_count": 17,
   "id": "6ccc0c2d-ef6f-434a-8583-7e2dad1833c9",
   "metadata": {},
   "outputs": [
    {
     "name": "stdout",
     "output_type": "stream",
     "text": [
      "positive number\n"
     ]
    }
   ],
   "source": [
    "n=100\n",
    "if n>0:\n",
    "    print('positive number')\n",
    "else:\n",
    "    print('negative number')"
   ]
  },
  {
   "cell_type": "code",
   "execution_count": 19,
   "id": "12723503-0999-4ec9-be91-13f959db28bd",
   "metadata": {},
   "outputs": [
    {
     "name": "stdin",
     "output_type": "stream",
     "text": [
      "enter the number: -100\n"
     ]
    },
    {
     "name": "stdout",
     "output_type": "stream",
     "text": [
      "negative number\n"
     ]
    }
   ],
   "source": [
    "n=eval(input('enter the number:'))\n",
    "if n>0:\n",
    "    print('positive number')\n",
    "else:\n",
    "    print('negative number')"
   ]
  },
  {
   "cell_type": "code",
   "execution_count": 21,
   "id": "db8d604b-5485-4d0c-9d77-881094ec21c1",
   "metadata": {},
   "outputs": [
    {
     "name": "stdout",
     "output_type": "stream",
     "text": [
      "-24 is a negative number\n"
     ]
    }
   ],
   "source": [
    "import random\n",
    "n=random.randint(-100,100)\n",
    "if n>0:\n",
    "    print(f'{n}is a positive number')\n",
    "else:\n",
    "    print(f'{n} is a negative number')"
   ]
  },
  {
   "cell_type": "code",
   "execution_count": 23,
   "id": "2f63d944-214d-4ea1-beeb-674c279054e8",
   "metadata": {},
   "outputs": [
    {
     "name": "stdout",
     "output_type": "stream",
     "text": [
      "positive number\n",
      "positive number\n"
     ]
    },
    {
     "name": "stdin",
     "output_type": "stream",
     "text": [
      "enter the number: -100\n"
     ]
    },
    {
     "name": "stdout",
     "output_type": "stream",
     "text": [
      "negative number\n",
      "-81 is a negative number\n"
     ]
    }
   ],
   "source": [
    "if 100>0:\n",
    "    print('positive number')\n",
    "else:\n",
    "    print('negative number')\n",
    "\n",
    "###################################\n",
    "n=100\n",
    "if n>0:\n",
    "    print('positive number')\n",
    "else:\n",
    "    print('negative number')\n",
    "###################################\n",
    "n=eval(input('enter the number:'))\n",
    "if n>0:\n",
    "    print('positive number')\n",
    "else:\n",
    "    print('negative number')\n",
    "\n",
    "###################################\n",
    "import random\n",
    "n=random.randint(-100,100)\n",
    "if n>0:\n",
    "    print(f'{n}is a positive number')\n",
    "else:\n",
    "    print(f'{n} is a negative number')"
   ]
  },
  {
   "cell_type": "code",
   "execution_count": 25,
   "id": "b3889bc0-331d-4dde-908d-8226aeb94cc3",
   "metadata": {},
   "outputs": [
    {
     "name": "stdout",
     "output_type": "stream",
     "text": [
      "hello\n",
      "positive number\n",
      "condition is False\n"
     ]
    }
   ],
   "source": [
    "print('hello')\n",
    "if 100>0:\n",
    "    print('positive number')\n",
    "    print('condition is False')\n",
    "else:\n",
    "    print('negative number')\n",
    "    print('condition is False')"
   ]
  },
  {
   "cell_type": "code",
   "execution_count": 27,
   "id": "c49bb544-99ac-45e8-9124-7bf5bcc6fe7c",
   "metadata": {},
   "outputs": [
    {
     "name": "stdout",
     "output_type": "stream",
     "text": [
      "hello\n",
      "negative number\n",
      "condition is False\n"
     ]
    }
   ],
   "source": [
    "print('hello')\n",
    "if 100<0:\n",
    "    print('positive number')\n",
    "    print('condition is False')\n",
    "else:\n",
    "    print('negative number')\n",
    "    print('condition is False')"
   ]
  },
  {
   "cell_type": "code",
   "execution_count": 29,
   "id": "523a2a94-7e03-4e29-ad99-2f716808c56a",
   "metadata": {},
   "outputs": [
    {
     "name": "stdout",
     "output_type": "stream",
     "text": [
      "hello\n",
      "negative number\n",
      "condition is False\n",
      "bye\n"
     ]
    }
   ],
   "source": [
    "print('hello')\n",
    "if 100<0:\n",
    "    print('positive number')\n",
    "    print('condition is False')\n",
    "else:\n",
    "    print('negative number')\n",
    "    print('condition is False')\n",
    "print('bye')"
   ]
  },
  {
   "cell_type": "code",
   "execution_count": 31,
   "id": "bafd84c7-40c6-4adf-a2bd-a3bf8deea0fa",
   "metadata": {},
   "outputs": [
    {
     "name": "stdout",
     "output_type": "stream",
     "text": [
      "hello\n",
      "positive number\n",
      "condition is False\n",
      "bye\n"
     ]
    }
   ],
   "source": [
    "print('hello')\n",
    "if 100>0:\n",
    "    print('positive number')\n",
    "    print('condition is False')\n",
    "else:\n",
    "    print('negative number')\n",
    "    print('condition is False')\n",
    "print('bye')"
   ]
  },
  {
   "cell_type": "code",
   "execution_count": null,
   "id": "5d77752c-b0da-4b96-954e-cd46bc607798",
   "metadata": {},
   "outputs": [],
   "source": [
    "print('hello')\n",
    "if 100>0:\n",
    "    print('positive number')\n",
    "    print('condition is False')\n",
    "print('why are you in the middle')\n",
    "else:\n",
    "    print('negative number')\n",
    "    print('condition is False')\n",
    "print('bye')\n",
    "# if and else should be together\n",
    "# no one should come in the middle"
   ]
  },
  {
   "cell_type": "code",
   "execution_count": null,
   "id": "9f70a149-fb8e-4db2-b38e-a5ee255b5181",
   "metadata": {},
   "outputs": [],
   "source": [
    "# wap to ask the user enter two numbers\n",
    "# find the gratest number\n",
    "\n",
    "# idea\n",
    "# n1=eval(input())\n",
    "# n2=eval(input())\n",
    "#if cond:\n",
    "#    print()\n",
    "# else\n",
    "#    print()"
   ]
  },
  {
   "cell_type": "code",
   "execution_count": 1,
   "id": "1d31a37d-5a26-4da2-9140-45395f385c70",
   "metadata": {},
   "outputs": [
    {
     "name": "stdin",
     "output_type": "stream",
     "text": [
      "enter the number: 100\n",
      "enter the number: 99\n"
     ]
    },
    {
     "name": "stdout",
     "output_type": "stream",
     "text": [
      "100 is greater number\n"
     ]
    }
   ],
   "source": [
    "n1=eval(input('enter the number:'))\n",
    "n2=eval(input('enter the number:'))\n",
    "\n",
    "if n1>n2:\n",
    "    print(f\"{n1} is greater number\")\n",
    "else:\n",
    "    print(f\"{n2} is greater number\")"
   ]
  },
  {
   "cell_type": "code",
   "execution_count": 48,
   "id": "9a4e45df-2c26-4dfb-b08c-50ef328fab4c",
   "metadata": {},
   "outputs": [
    {
     "name": "stdout",
     "output_type": "stream",
     "text": [
      "n1:95 is greater number\n"
     ]
    }
   ],
   "source": [
    "import random\n",
    "n1=random.randint(1,100)\n",
    "n2=random.randint(1,100)\n",
    "\n",
    "if n1>n2:\n",
    "    print(f\"n1:{n1} is greater number\")\n",
    "else:\n",
    "    print(f\"n2:{n2} is greater number\")"
   ]
  },
  {
   "cell_type": "code",
   "execution_count": null,
   "id": "4ca1d319-c141-4ea8-a2ed-1a2f78572ecf",
   "metadata": {},
   "outputs": [],
   "source": [
    "# wap to ask the user enter distance\n",
    "# if distance >25km\n",
    "# then ask the charge per km\n",
    "# other wise print free ride\n",
    "\n",
    "# 1) enter the distance\n",
    "# 2) if distance>25\n",
    "# 3) ask the charge\n",
    "# 4) calculate the charge\n",
    "# 5) else\n",
    "# 6) free ride"
   ]
  },
  {
   "cell_type": "code",
   "execution_count": 6,
   "id": "a269b9cd-b295-4562-831e-aacaf9b3ada6",
   "metadata": {},
   "outputs": [
    {
     "name": "stdin",
     "output_type": "stream",
     "text": [
      "enter the distance in km 30\n",
      "enter the charge per km 10\n"
     ]
    },
    {
     "name": "stdout",
     "output_type": "stream",
     "text": [
      "the total charge is 300 INR\n"
     ]
    }
   ],
   "source": [
    "distance=eval(input('enter the distance in km'))\n",
    "            \n",
    "if distance>25:\n",
    "    charge=eval(input('enter the charge per km'))\n",
    "    total= (distance*charge)\n",
    "    print(f\"the total charge is {total} INR\")\n",
    "            \n",
    "else:\n",
    "    print('free ride')"
   ]
  },
  {
   "cell_type": "code",
   "execution_count": 8,
   "id": "f9237bd1-346b-492d-ae33-ac9ba9a6c2cc",
   "metadata": {},
   "outputs": [
    {
     "name": "stdin",
     "output_type": "stream",
     "text": [
      "enter the distance in km 20\n"
     ]
    },
    {
     "name": "stdout",
     "output_type": "stream",
     "text": [
      "free ride\n"
     ]
    }
   ],
   "source": [
    "distance=eval(input('enter the distance in km'))\n",
    "            \n",
    "if distance>25:\n",
    "    charge=eval(input('enter the charge per km'))\n",
    "    total= (distance*charge)\n",
    "    print(f\"the total charge is {total} INR\")\n",
    "            \n",
    "else:\n",
    "    print('free ride')"
   ]
  },
  {
   "cell_type": "code",
   "execution_count": null,
   "id": "7a4bf9ea-d8fc-4eeb-a3a0-5920186b39ec",
   "metadata": {},
   "outputs": [],
   "source": [
    "# wap to ask the user enter distance\n",
    "# enter the free_distance=25km\n",
    "# if distance >25km\n",
    "# then ask the charge per km: 10km\n",
    "# distance_covered=distance-free_distance\n",
    "# other wise print free ride\n",
    "\n",
    "# 1) enter the distance\n",
    "# 2) if distance>25\n",
    "# 3) ask the charge\n",
    "# 4) calculate the charge\n",
    "# 5) else\n",
    "# 6) free ride"
   ]
  },
  {
   "cell_type": "code",
   "execution_count": 14,
   "id": "02a124b3-db47-4e56-a053-b4cfcfd24a26",
   "metadata": {},
   "outputs": [
    {
     "name": "stdin",
     "output_type": "stream",
     "text": [
      "enter the distance in km 30\n",
      "enter the free distance in km 25\n"
     ]
    },
    {
     "name": "stdout",
     "output_type": "stream",
     "text": [
      "the actual distance covered is 5 km\n"
     ]
    },
    {
     "name": "stdin",
     "output_type": "stream",
     "text": [
      "enter the charge per km 10\n"
     ]
    },
    {
     "name": "stdout",
     "output_type": "stream",
     "text": [
      "the total charge is 50 INR\n"
     ]
    }
   ],
   "source": [
    "distance=eval(input('enter the distance in km'))\n",
    "free_distance=eval(input('enter the free distance in km'))          \n",
    "if distance>free_distance:\n",
    "    actual_distance=distance-free_distance\n",
    "    print(f\"the actual distance covered is {actual_distance} km\")\n",
    "    charge=eval(input('enter the charge per km'))\n",
    "    total= (actual_distance*charge)\n",
    "    print(f\"the total charge is {total} INR\")\n",
    "            \n",
    "else:\n",
    "    print('free ride')"
   ]
  },
  {
   "cell_type": "code",
   "execution_count": 16,
   "id": "2afc82ea-8b79-4d17-acdd-c3790edb4839",
   "metadata": {},
   "outputs": [
    {
     "name": "stdin",
     "output_type": "stream",
     "text": [
      "enter the distance in km 30\n",
      "enter the charge per km 30\n"
     ]
    },
    {
     "name": "stdout",
     "output_type": "stream",
     "text": [
      "the total charge is 900 INR\n"
     ]
    }
   ],
   "source": [
    "distance=eval(input('enter the distance in km'))\n",
    "            \n",
    "if distance<25:\n",
    "    print('free ride')\n",
    "            \n",
    "else:\n",
    "    charge=eval(input('enter the charge per km'))\n",
    "    total= (distance*charge)\n",
    "    print(f\"the total charge is {total} INR\")"
   ]
  },
  {
   "cell_type": "code",
   "execution_count": 36,
   "id": "ca565c1f-69c6-422f-a1b4-b193bfceeb69",
   "metadata": {},
   "outputs": [],
   "source": [
    "# Q4)\n",
    "# wap ask the user enter a number from keyboard n1\n",
    "# ask the user to get a random number between 1,10 n2\n",
    "# if n1=n2 print you won\n",
    "# otherwise print you lost"
   ]
  },
  {
   "cell_type": "code",
   "execution_count": 60,
   "id": "ac2a43c8-5dc5-419a-92f8-3d1407324715",
   "metadata": {},
   "outputs": [
    {
     "name": "stdin",
     "output_type": "stream",
     "text": [
      "enter the number n1: 4\n"
     ]
    },
    {
     "name": "stdout",
     "output_type": "stream",
     "text": [
      "4\n",
      "lucky bhaskar\n"
     ]
    }
   ],
   "source": [
    "import random\n",
    "n1=eval(input(\"enter the number n1:\"))\n",
    "n2=random.randint(1,10)\n",
    "print(n2)\n",
    "if n1==n2:\n",
    "    print('lucky bhaskar')\n",
    "else:\n",
    "    print('zindagi khatam')"
   ]
  },
  {
   "cell_type": "code",
   "execution_count": null,
   "id": "004360c5-39e1-4252-ac12-d3913279726b",
   "metadata": {},
   "outputs": [],
   "source": [
    "#Q5)\n",
    "# course name= Data science\n",
    "# Inst name= Naresh IT\n",
    "\n",
    "# ask the user to enter the course name\n",
    "# user enter ist name\n",
    "# if course name= Data science and Inst name= Naresh IT\n",
    "# then print you are at safe place\n",
    "# else\n",
    "# print katam zindagi"
   ]
  },
  {
   "cell_type": "code",
   "execution_count": 8,
   "id": "7ae37e53-8a61-42e2-8e28-bd31abeb8111",
   "metadata": {},
   "outputs": [
    {
     "name": "stdin",
     "output_type": "stream",
     "text": [
      "enter the course name: Data Science\n",
      "enter the institute name: Naresh IT\n"
     ]
    },
    {
     "name": "stdout",
     "output_type": "stream",
     "text": [
      "you are at safe hands!\n"
     ]
    }
   ],
   "source": [
    "course_name=input(\"enter the course name:\")\n",
    "institute_name=input(\"enter the institute name:\")\n",
    "if course_name=='Data Science' and institute_name=='Naresh IT':\n",
    "    print('you are at safe hands!')\n",
    "else:\n",
    "    print('katam zindagi')"
   ]
  },
  {
   "cell_type": "code",
   "execution_count": 10,
   "id": "d9a7f182-e9bd-4c60-9229-2a27fc0f23b5",
   "metadata": {},
   "outputs": [
    {
     "name": "stdin",
     "output_type": "stream",
     "text": [
      "enter the course name: python\n",
      "enter the institute name: Naresh IT\n"
     ]
    },
    {
     "name": "stdout",
     "output_type": "stream",
     "text": [
      "you are at safe hands!\n"
     ]
    }
   ],
   "source": [
    "course_name=input(\"enter the course name:\")\n",
    "institute_name=input(\"enter the institute name:\")\n",
    "if course_name=='Data Science' or institute_name=='Naresh IT':\n",
    "    print('you are at safe hands!')\n",
    "else:\n",
    "    print('katam zindagi')"
   ]
  },
  {
   "cell_type": "code",
   "execution_count": null,
   "id": "a4d54d0a-a7ad-404a-a67e-023adb2a3550",
   "metadata": {},
   "outputs": [],
   "source": [
    "# Q5)\n",
    "# wap ask the user to enter the number\n",
    "# print if it is even number or odd number\n",
    "\n",
    "# idea:- if any number divided by 2 and gives remainder as 0 then it is even number"
   ]
  },
  {
   "cell_type": "code",
   "execution_count": 12,
   "id": "a1a30ffe-9db7-449f-8a53-d68b290c3bca",
   "metadata": {},
   "outputs": [
    {
     "name": "stdout",
     "output_type": "stream",
     "text": [
      "8\n",
      "the 8 is even number\n"
     ]
    }
   ],
   "source": [
    "import random\n",
    "num=random.randint(2,10)\n",
    "print(num)\n",
    "if num%2==0:\n",
    "    print(f\"the {num} is even number\")\n",
    "else:\n",
    "    print(f\"the {num} is odd number\")"
   ]
  },
  {
   "cell_type": "code",
   "execution_count": 16,
   "id": "e341f320-50e8-4f19-9086-b5192801aad6",
   "metadata": {},
   "outputs": [
    {
     "name": "stdin",
     "output_type": "stream",
     "text": [
      "enter the number: 20\n"
     ]
    },
    {
     "name": "stdout",
     "output_type": "stream",
     "text": [
      "20\n",
      "the 20 is even number\n"
     ]
    }
   ],
   "source": [
    "num=eval(input('enter the number:'))\n",
    "print(num)\n",
    "if num%2==0:\n",
    "    print(f\"the {num} is even number\")\n",
    "else:\n",
    "    print(f\"the {num} is odd number\")"
   ]
  },
  {
   "cell_type": "markdown",
   "id": "a3a9768b-db30-4ad1-b432-6a92e40c9a9a",
   "metadata": {},
   "source": [
    "**if-elif-else**\n",
    "\n",
    "- Whenever we have multiple conditions we will do **if-elif-else**\n",
    "\n",
    "- if single condition is there we will go for **if-else**\n",
    "\n",
    "    - two answers\n",
    "\n",
    "    - if needs condition to mention then else does not require any condition\n",
    "\n",
    "- if two conditions are there we will go for **if-elif-else**\n",
    "\n",
    "    - three answers\n",
    "\n",
    "    - if and elif need condition to mention else does not require any condition\n",
    "\n",
    "- if three conditions are there we will go for **if-elif-elif-else**\n",
    "\n",
    "   - Four answers\n",
    " \n",
    "   - if elif and elif need condition to mention else does not require any condition"
   ]
  },
  {
   "cell_type": "code",
   "execution_count": null,
   "id": "62ed8725-070b-493a-90d4-35f976f2a94d",
   "metadata": {},
   "outputs": [],
   "source": [
    "if <condition>:\n",
    "    <write your code here>\n",
    "elif <condition>:\n",
    "    <write your code here>\n",
    "elif <condition>:\n",
    "    <write your code here>\n",
    "else:\n",
    "    <write your code here>"
   ]
  },
  {
   "cell_type": "code",
   "execution_count": null,
   "id": "26c258b8-0556-4f17-98cf-52a23c06e09d",
   "metadata": {},
   "outputs": [],
   "source": [
    "# wap ask the user enter a number\n",
    "# if num=1 then print 'one'\n",
    "# if number=2 then print two\n",
    "# if num=3 print three\n",
    "# other wise print enter a valid number"
   ]
  },
  {
   "cell_type": "code",
   "execution_count": 4,
   "id": "a883c8a0-d6d6-4625-ba56-b03a98d269b2",
   "metadata": {},
   "outputs": [
    {
     "name": "stdin",
     "output_type": "stream",
     "text": [
      "enter the number: 4\n"
     ]
    },
    {
     "name": "stdout",
     "output_type": "stream",
     "text": [
      "enter a valid number\n"
     ]
    }
   ],
   "source": [
    "num=eval(input(\"enter the number:\"))\n",
    "if num==1:\n",
    "    print('one')\n",
    "elif num==2:\n",
    "    print('two')\n",
    "elif num==3:\n",
    "    print('three')\n",
    "else:\n",
    "    print('enter a valid number')"
   ]
  },
  {
   "cell_type": "code",
   "execution_count": null,
   "id": "c1ac8d85-9ad0-4175-a5bc-08de1bf387ef",
   "metadata": {},
   "outputs": [],
   "source": [
    "# wap ask the user enter a percent of marks\n",
    "# if marks>90 then print 'A grade'\n",
    "# if marks between 70 to 90 then print B grade\n",
    "# if marks between 50 to 70 then print C grade\n",
    "# if marks between 35 to 50 then print D grade\n",
    "# other wise print fail"
   ]
  },
  {
   "cell_type": "code",
   "execution_count": 12,
   "id": "372b2e3f-7dc1-404e-8005-3f23664ff979",
   "metadata": {},
   "outputs": [
    {
     "name": "stdin",
     "output_type": "stream",
     "text": [
      "percentage of marks 69\n"
     ]
    },
    {
     "name": "stdout",
     "output_type": "stream",
     "text": [
      "the percentage of marks is 69%\n",
      "C Grade\n"
     ]
    }
   ],
   "source": [
    "marks=eval(input(\"percentage of marks\"))\n",
    "print(f\"the percentage of marks is {marks}%\")\n",
    "if marks>90:\n",
    "    print('A Grade')\n",
    "elif marks>=70 and marks<=90:\n",
    "    print('B Grade')\n",
    "elif marks>=50 and marks<=70:\n",
    "    print('C Grade')\n",
    "elif marks>=35 and marks<=50:\n",
    "    print('D Grade')\n",
    "else:\n",
    "    print('Fail')"
   ]
  },
  {
   "cell_type": "code",
   "execution_count": 16,
   "id": "01c4bda6-26b2-4f6e-acf4-4467c59092c6",
   "metadata": {},
   "outputs": [
    {
     "name": "stdin",
     "output_type": "stream",
     "text": [
      "percentage of marks 35\n"
     ]
    },
    {
     "name": "stdout",
     "output_type": "stream",
     "text": [
      "D Grade\n"
     ]
    }
   ],
   "source": [
    "marks=eval(input(\"percentage of marks\"))\n",
    "\n",
    "if marks>90:\n",
    "    print('A Grade')\n",
    "elif marks>=70:\n",
    "    print('B Grade')\n",
    "elif marks>=50:\n",
    "    print('C Grade')\n",
    "elif marks>=35:\n",
    "    print('D Grade')\n",
    "else:\n",
    "    print('Fail')"
   ]
  },
  {
   "cell_type": "code",
   "execution_count": null,
   "id": "94eb4711-54e0-499a-9c17-7efdef3b155c",
   "metadata": {},
   "outputs": [],
   "source": [
    "# Wap ask the user enter age\n",
    "# if age>100 years unlucky\n",
    "# if age between 80 to 100 years print old guy\n",
    "# if age between 60 to 80 years print sesion citizen\n",
    "# if age between 40 to 60 years print MA\n",
    "# if age between 20 to 40 years print young\n",
    "# if age between 10 to 20 years print teenage\n",
    "# other wise print kid"
   ]
  },
  {
   "cell_type": "code",
   "execution_count": 24,
   "id": "298cf0ce-2c50-45f7-8b03-07e01dcf495c",
   "metadata": {},
   "outputs": [
    {
     "name": "stdin",
     "output_type": "stream",
     "text": [
      "enter age in years 23\n"
     ]
    },
    {
     "name": "stdout",
     "output_type": "stream",
     "text": [
      "young\n"
     ]
    }
   ],
   "source": [
    "age=eval(input(\"enter age in years\"))\n",
    "\n",
    "if age>100:\n",
    "    print('unlucky')\n",
    "elif age>=80:\n",
    "    print('Old Guy')\n",
    "elif age>=60:\n",
    "    print('Senior Citizen')\n",
    "elif age>=40:\n",
    "    print('Middle Age')\n",
    "elif age>=20:\n",
    "    print('young')\n",
    "elif age>=10:\n",
    "    print('teenage')\n",
    "else:\n",
    "    print('kid')"
   ]
  },
  {
   "cell_type": "code",
   "execution_count": null,
   "id": "55bc9315-8fdf-4545-a523-5f82801dec8a",
   "metadata": {},
   "outputs": [],
   "source": [
    "# wap ask the user enter gender\n",
    "# if gender = male\n",
    "  # ask the user to enter age\n",
    "  # if age>60 print Sc\n",
    "  # if age between 30-60 print MA man\n",
    "  # if age 15-30 print ypung man\n",
    "  # other wise print boy\n",
    "# if gender = female\n",
    "  # ask the user to enter age\n",
    "  # if age>60 print Sc\n",
    "  # if age between 30-60 print MA woman\n",
    "  # if age 15-30 print ypung woman\n",
    "  # other wise print girl\n",
    "# else:\n",
    "# print enter a valid gender"
   ]
  },
  {
   "cell_type": "code",
   "execution_count": 36,
   "id": "1f4af455-7db3-4b43-a4e0-94c5b046ed09",
   "metadata": {},
   "outputs": [
    {
     "name": "stdin",
     "output_type": "stream",
     "text": [
      "The gender is: Male\n",
      "enter the age 23\n"
     ]
    },
    {
     "name": "stdout",
     "output_type": "stream",
     "text": [
      "young man\n"
     ]
    }
   ],
   "source": [
    "gender=(input(\"The gender is:\"))\n",
    "if gender=='Male':\n",
    "    age=eval(input(\"enter the age\"))\n",
    "    if age>=60:\n",
    "        print('Senior Citizen')\n",
    "    elif age>=30:\n",
    "        print('Middle Aged Man')\n",
    "    elif age>=15:\n",
    "        print('young man')\n",
    "    else:\n",
    "        print('boy')\n",
    "elif gender=='Female':\n",
    "    age=eval(input(\"enter the age\"))\n",
    "    if age>=60:\n",
    "        print('Senior Citizen')\n",
    "    elif age>=30:\n",
    "        print('Middle Aged Woman')\n",
    "    elif age>=15:\n",
    "        print('young Woman')\n",
    "    else:\n",
    "        print('girl')\n",
    "else:\n",
    "    print('enter a valid gender')"
   ]
  },
  {
   "cell_type": "code",
   "execution_count": null,
   "id": "b5c2b2cf-f9bd-43f9-81f1-8ff975575cef",
   "metadata": {},
   "outputs": [],
   "source": [
    "# wap ask the user enter a number\n",
    "# if num>=0\n",
    "  # if num>0 then print positive\n",
    "  # other wise print zero\n",
    "# else print negative number"
   ]
  },
  {
   "cell_type": "code",
   "execution_count": 42,
   "id": "85ee7552-52fb-4ce5-97c4-ed405966ebbc",
   "metadata": {},
   "outputs": [
    {
     "name": "stdin",
     "output_type": "stream",
     "text": [
      "enter the number: 2\n"
     ]
    },
    {
     "name": "stdout",
     "output_type": "stream",
     "text": [
      "positive number\n"
     ]
    }
   ],
   "source": [
    "num=eval(input(\"enter the number:\"))\n",
    "if num>=0:\n",
    "    if num>0:\n",
    "        print('positive number')\n",
    "    else:\n",
    "        print('zero')\n",
    "else:\n",
    "    print('negative number')"
   ]
  },
  {
   "cell_type": "code",
   "execution_count": null,
   "id": "468b7ab1-79b9-488e-80b0-bbcd4f4697c5",
   "metadata": {},
   "outputs": [],
   "source": [
    "# print some statements below\n",
    "# enter 1 for addition\n",
    "# enter 2 for sub\n",
    "# enter 3 for mul\n",
    "# enter 4 for div\n",
    "\n",
    "# wap ask the user enter the number 1-4: operation\n",
    "# if n==1\n",
    "#  n1=eval()\n",
    "#  n2=eval()\n",
    "#  add=n1+n2\n",
    "#  print(add)\n",
    "\n",
    "# elif oper==2\n",
    "#  sub\n",
    "#elif  oper==3\n",
    "#  mul\n",
    "# elif==4\n",
    "# div"
   ]
  },
  {
   "cell_type": "code",
   "execution_count": 44,
   "id": "b176ed0a-513a-4dff-a315-2ebcbddfa56d",
   "metadata": {},
   "outputs": [
    {
     "name": "stdin",
     "output_type": "stream",
     "text": [
      "enter number for addition: 1\n",
      "enter number for subtraction: 2\n",
      "enter number for multiplication: 3\n",
      "enter number for division: 4\n",
      "enter a number between 1 to 4: 4\n",
      "enter a number: 16\n",
      "enter a number: 4\n"
     ]
    },
    {
     "name": "stdout",
     "output_type": "stream",
     "text": [
      "4.0\n"
     ]
    }
   ],
   "source": [
    "add=eval(input('enter number for addition:'))\n",
    "sub=eval(input('enter number for subtraction:'))\n",
    "mul=eval(input('enter number for multiplication:'))\n",
    "div=eval(input('enter number for division:'))\n",
    "\n",
    "operation=eval(input('enter a number between 1 to 4:'))\n",
    "if operation==1:\n",
    "    n1=eval(input('enter a number:'))\n",
    "    n2=eval(input('enter a number:'))\n",
    "    add=n1+n2\n",
    "    print(add)\n",
    "elif operation==2:\n",
    "    n1=eval(input('enter a number:'))\n",
    "    n2=eval(input('enter a number:'))\n",
    "    sub=n1-n2\n",
    "    print(sub)\n",
    "elif operation==3:\n",
    "    n1=eval(input('enter a number:'))\n",
    "    n2=eval(input('enter a number:'))\n",
    "    mul=n1*n2\n",
    "    print(mul)\n",
    "elif operation==4:\n",
    "    n1=eval(input('enter a number:'))\n",
    "    n2=eval(input('enter a number:'))\n",
    "    div=n1/n2\n",
    "    print(div)\n",
    "else:\n",
    "    print('enter a valid number')"
   ]
  },
  {
   "cell_type": "code",
   "execution_count": null,
   "id": "0eb1c4bf-4d5a-4091-9186-b08153005e77",
   "metadata": {},
   "outputs": [],
   "source": []
  }
 ],
 "metadata": {
  "kernelspec": {
   "display_name": "Python [conda env:base] *",
   "language": "python",
   "name": "conda-base-py"
  },
  "language_info": {
   "codemirror_mode": {
    "name": "ipython",
    "version": 3
   },
   "file_extension": ".py",
   "mimetype": "text/x-python",
   "name": "python",
   "nbconvert_exporter": "python",
   "pygments_lexer": "ipython3",
   "version": "3.12.7"
  }
 },
 "nbformat": 4,
 "nbformat_minor": 5
}
