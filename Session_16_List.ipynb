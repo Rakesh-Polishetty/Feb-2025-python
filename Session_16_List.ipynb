{
 "cells": [
  {
   "cell_type": "markdown",
   "id": "e9f8e03d-b6c8-4348-8df1-26129474180d",
   "metadata": {},
   "source": [
    "### Basic representations\n",
    "\n",
    "- for strings we write in the quotes\n",
    "\n",
    "- List elements is in square brackets"
   ]
  },
  {
   "cell_type": "code",
   "execution_count": 3,
   "id": "39b8781c-fc69-415c-a49c-13d9e53d9a72",
   "metadata": {},
   "outputs": [
    {
     "data": {
      "text/plain": [
       "[1, 2, 3, 4]"
      ]
     },
     "execution_count": 3,
     "metadata": {},
     "output_type": "execute_result"
    }
   ],
   "source": [
    "list1=[1,2,3,4]\n",
    "list1"
   ]
  },
  {
   "cell_type": "code",
   "execution_count": 5,
   "id": "2479f673-46fe-4721-b458-d9c46148a719",
   "metadata": {},
   "outputs": [
    {
     "data": {
      "text/plain": [
       "list"
      ]
     },
     "execution_count": 5,
     "metadata": {},
     "output_type": "execute_result"
    }
   ],
   "source": [
    "type(list1)"
   ]
  },
  {
   "cell_type": "code",
   "execution_count": 9,
   "id": "0a986630-1174-47f5-bf3e-000482006c19",
   "metadata": {},
   "outputs": [
    {
     "data": {
      "text/plain": [
       "['A', 'B', 'C']"
      ]
     },
     "execution_count": 9,
     "metadata": {},
     "output_type": "execute_result"
    }
   ],
   "source": [
    "list2=['A','B','C']\n",
    "list2"
   ]
  },
  {
   "cell_type": "code",
   "execution_count": 11,
   "id": "e49ad9e7-e08e-4644-ab5c-f2a5ce9360b8",
   "metadata": {},
   "outputs": [
    {
     "data": {
      "text/plain": [
       "[1, 2, 3, 4, 'A', 'B', 'C']"
      ]
     },
     "execution_count": 11,
     "metadata": {},
     "output_type": "execute_result"
    }
   ],
   "source": [
    "list3=[1,2,3,4,'A','B','C']\n",
    "list3"
   ]
  },
  {
   "cell_type": "code",
   "execution_count": 46,
   "id": "76d609c2-857f-4a8d-b414-44d4759deaf1",
   "metadata": {},
   "outputs": [
    {
     "data": {
      "text/plain": [
       "[1.2, 'T', True, 'a', 1364, (80-32j)]"
      ]
     },
     "execution_count": 46,
     "metadata": {},
     "output_type": "execute_result"
    }
   ],
   "source": [
    "list4=[1.2,'T',True,'a',4*341,24+56-32j]\n",
    "list4"
   ]
  },
  {
   "cell_type": "code",
   "execution_count": 52,
   "id": "ae0cd1d2-a11c-4f51-adce-28d112941fb2",
   "metadata": {},
   "outputs": [
    {
     "data": {
      "text/plain": [
       "[10, 20, 30, ['rakesh']]"
      ]
     },
     "execution_count": 52,
     "metadata": {},
     "output_type": "execute_result"
    }
   ],
   "source": [
    "list5=[10,20,30,[\"rakesh\"]]\n",
    "list5"
   ]
  },
  {
   "cell_type": "code",
   "execution_count": 63,
   "id": "1452b5f7-9e9e-4fe3-9bfc-006549c0f519",
   "metadata": {},
   "outputs": [
    {
     "data": {
      "text/plain": [
       "['python']"
      ]
     },
     "execution_count": 63,
     "metadata": {},
     "output_type": "execute_result"
    }
   ],
   "source": [
    "name='python'\n",
    "list6=[name]\n",
    "list6"
   ]
  },
  {
   "cell_type": "code",
   "execution_count": 65,
   "id": "63b2d552-a5d8-48a9-b049-ba0eb92cbf39",
   "metadata": {},
   "outputs": [
    {
     "data": {
      "text/plain": [
       "['{\"dataframes\": [], \"user\": \"Chinna\"}']"
      ]
     },
     "execution_count": 65,
     "metadata": {},
     "output_type": "execute_result"
    }
   ],
   "source": [
    "list7=[_]\n",
    "list7"
   ]
  },
  {
   "cell_type": "code",
   "execution_count": 72,
   "id": "7a9ad69d-9d0c-43be-bda1-cc59b8e403e6",
   "metadata": {},
   "outputs": [
    {
     "name": "stdout",
     "output_type": "stream",
     "text": [
      "[10, 20, 2, 5, 75] ['Apple', 'apple', 'cherry', 'Banana'] [10, 20, 2, 5, 75, 'Apple', 'apple', 'cherry', 'Banana']\n"
     ]
    }
   ],
   "source": [
    "list1=[10,20,2,5,75]\n",
    "list2=['Apple','apple','cherry','Banana']\n",
    "list3=[10,20,2,5,75,'Apple','apple','cherry','Banana']\n",
    "print(list1,list2,list3)"
   ]
  },
  {
   "cell_type": "code",
   "execution_count": 82,
   "id": "b78e1e3c-4965-4d6d-9688-73aa54344c82",
   "metadata": {},
   "outputs": [
    {
     "data": {
      "text/plain": [
       "(5, 4, 9)"
      ]
     },
     "execution_count": 82,
     "metadata": {},
     "output_type": "execute_result"
    }
   ],
   "source": [
    "len(list1),len(list2),len(list3)"
   ]
  },
  {
   "cell_type": "code",
   "execution_count": 155,
   "id": "5a88c351-9de6-4a96-91a6-2aafd3fe2bed",
   "metadata": {},
   "outputs": [
    {
     "data": {
      "text/plain": [
       "112"
      ]
     },
     "execution_count": 155,
     "metadata": {},
     "output_type": "execute_result"
    }
   ],
   "source": [
    "sum(list1)"
   ]
  },
  {
   "cell_type": "markdown",
   "id": "b60ab316-71c4-439e-80f4-4535e8c468b0",
   "metadata": {},
   "source": [
    "list2 and list3\n",
    "\n",
    "- TypeError: unsupported operand type(s) for +: 'int' and 'str'"
   ]
  },
  {
   "cell_type": "code",
   "execution_count": 97,
   "id": "a1ec4381-5561-466e-b83f-958f147d9a3a",
   "metadata": {},
   "outputs": [
    {
     "data": {
      "text/plain": [
       "(75, 'cherry')"
      ]
     },
     "execution_count": 97,
     "metadata": {},
     "output_type": "execute_result"
    }
   ],
   "source": [
    "max(list1),max(list2)"
   ]
  },
  {
   "cell_type": "markdown",
   "id": "d7f5a07e-dd8c-4965-abd9-a2b677da8b2a",
   "metadata": {},
   "source": [
    "max(list3)\n",
    "\n",
    "- TypeError: '>' not supported between instances of 'str' and 'int'"
   ]
  },
  {
   "cell_type": "code",
   "execution_count": 145,
   "id": "69bf639c-390c-4b3f-ab00-f3022f796f26",
   "metadata": {},
   "outputs": [
    {
     "data": {
      "text/plain": [
       "(2, 'Apple')"
      ]
     },
     "execution_count": 145,
     "metadata": {},
     "output_type": "execute_result"
    }
   ],
   "source": [
    "min(list1),min(list2)"
   ]
  },
  {
   "cell_type": "markdown",
   "id": "f9c2306e-41ac-48ed-8139-b0032ca59330",
   "metadata": {},
   "source": [
    "min(list3)\n",
    "\n",
    "- TypeError: '<' not supported between instances of 'str' and 'int'"
   ]
  },
  {
   "cell_type": "code",
   "execution_count": 111,
   "id": "150efc98-5b39-4e54-b21c-f35e884d0dc5",
   "metadata": {},
   "outputs": [
    {
     "data": {
      "text/plain": [
       "([2, 5, 10, 20, 75], ['Apple', 'Banana', 'apple', 'cherry'])"
      ]
     },
     "execution_count": 111,
     "metadata": {},
     "output_type": "execute_result"
    }
   ],
   "source": [
    "sorted(list1),sorted(list2)"
   ]
  },
  {
   "cell_type": "markdown",
   "id": "1a158e59-af69-42da-85e9-136a72cd65c6",
   "metadata": {},
   "source": [
    "sorted(list3)\n",
    "\n",
    "- TypeError: '<' not supported between instances of 'str' and 'int'"
   ]
  },
  {
   "cell_type": "code",
   "execution_count": 123,
   "id": "1a330cbb-f6b1-45e6-863b-4801d28e05f2",
   "metadata": {},
   "outputs": [],
   "source": [
    "ans1=reversed(list1)\n",
    "ans2=reversed(list2)\n",
    "ans3=reversed(list3)"
   ]
  },
  {
   "cell_type": "code",
   "execution_count": 127,
   "id": "e84997c2-d052-48d5-a25b-dd0b0e5e245f",
   "metadata": {},
   "outputs": [
    {
     "name": "stdout",
     "output_type": "stream",
     "text": [
      "75\n",
      "5\n",
      "2\n",
      "20\n",
      "10\n"
     ]
    }
   ],
   "source": [
    "ans1=reversed(list1)\n",
    "for i in ans1:\n",
    "    print(i)"
   ]
  },
  {
   "cell_type": "code",
   "execution_count": 129,
   "id": "df275f1c-d88a-493e-a057-80f29078e475",
   "metadata": {},
   "outputs": [
    {
     "name": "stdout",
     "output_type": "stream",
     "text": [
      "Banana\n",
      "cherry\n",
      "apple\n",
      "Apple\n"
     ]
    }
   ],
   "source": [
    "ans2=reversed(list2)\n",
    "for i in ans2:\n",
    "    print(i)"
   ]
  },
  {
   "cell_type": "code",
   "execution_count": 131,
   "id": "61794853-1909-437d-af2d-04385d9ca718",
   "metadata": {},
   "outputs": [
    {
     "name": "stdout",
     "output_type": "stream",
     "text": [
      "Banana\n",
      "cherry\n",
      "apple\n",
      "Apple\n",
      "75\n",
      "5\n",
      "2\n",
      "20\n",
      "10\n"
     ]
    }
   ],
   "source": [
    "ans3=reversed(list3)\n",
    "for i in ans3:\n",
    "    print(i)"
   ]
  },
  {
   "cell_type": "code",
   "execution_count": 157,
   "id": "e7196e5d-bf05-4e81-80d4-69ccaad9e75e",
   "metadata": {},
   "outputs": [
    {
     "data": {
      "text/plain": [
       "[75, 5, 2, 20, 10]"
      ]
     },
     "execution_count": 157,
     "metadata": {},
     "output_type": "execute_result"
    }
   ],
   "source": [
    "list(reversed(list1))"
   ]
  },
  {
   "cell_type": "code",
   "execution_count": 161,
   "id": "329c77ed-999e-4452-bca8-9cb187571c50",
   "metadata": {},
   "outputs": [
    {
     "data": {
      "text/plain": [
       "([2, 5, 10, 20, 75], [75, 20, 10, 5, 2])"
      ]
     },
     "execution_count": 161,
     "metadata": {},
     "output_type": "execute_result"
    }
   ],
   "source": [
    "sorted(list1),sorted(list1,reverse=True)"
   ]
  },
  {
   "cell_type": "markdown",
   "id": "dd4dab0e-5182-45ce-a10a-df6989b8e328",
   "metadata": {},
   "source": [
    "### Concatenation"
   ]
  },
  {
   "cell_type": "code",
   "execution_count": 181,
   "id": "96bd1e8d-adb4-4416-a816-a880852c3338",
   "metadata": {},
   "outputs": [
    {
     "data": {
      "text/plain": [
       "[1, 2, 3, 4, 'A', 'B', 'C', 'D']"
      ]
     },
     "execution_count": 181,
     "metadata": {},
     "output_type": "execute_result"
    }
   ],
   "source": [
    "list1=[1,2,3,4]\n",
    "list2=['A','B','C','D']\n",
    "\n",
    "list1+list2"
   ]
  },
  {
   "cell_type": "markdown",
   "id": "5aa50012-e1fe-4cab-9f46-18ccbd7b22c5",
   "metadata": {},
   "source": [
    "### index"
   ]
  },
  {
   "cell_type": "code",
   "execution_count": 193,
   "id": "faa7d8c7-e988-4476-b091-4d51cdc53dd1",
   "metadata": {},
   "outputs": [
    {
     "data": {
      "text/plain": [
       "30"
      ]
     },
     "execution_count": 193,
     "metadata": {},
     "output_type": "execute_result"
    }
   ],
   "source": [
    "list1=[10,20,30,'A','B','C']\n",
    "list1[-4]"
   ]
  },
  {
   "cell_type": "code",
   "execution_count": 197,
   "id": "b52f52c6-b5d5-4d62-9212-8397b95a235d",
   "metadata": {},
   "outputs": [
    {
     "name": "stdout",
     "output_type": "stream",
     "text": [
      "the positive index of 10 is 0\n",
      "the positive index of 20 is 1\n",
      "the positive index of 30 is 2\n",
      "the positive index of A is 3\n",
      "the positive index of B is 4\n",
      "the positive index of C is 5\n"
     ]
    }
   ],
   "source": [
    "list1=[10,20,30,'A','B','C']\n",
    "for i in range(0,len(list1)):\n",
    "    print(f'the positive index of {list1[i]} is {i}')"
   ]
  },
  {
   "cell_type": "code",
   "execution_count": 201,
   "id": "77eceec2-ceda-4845-b807-6b2a9f4f8af7",
   "metadata": {},
   "outputs": [
    {
     "name": "stdout",
     "output_type": "stream",
     "text": [
      "the negative index of 10 is -6\n",
      "the negative index of 20 is -5\n",
      "the negative index of 30 is -4\n",
      "the negative index of A is -3\n",
      "the negative index of B is -2\n",
      "the negative index of C is -1\n"
     ]
    }
   ],
   "source": [
    "list1=[10,20,30,'A','B','C']\n",
    "for i in range(0,len(list1)):\n",
    "    print(f'the negative index of {list1[i]} is {i-6}')"
   ]
  },
  {
   "cell_type": "code",
   "execution_count": 203,
   "id": "9ac345f8-18df-4313-ac44-d193f7858640",
   "metadata": {},
   "outputs": [
    {
     "name": "stdout",
     "output_type": "stream",
     "text": [
      "the positive index is 0 and negative index is -6 for 10\n",
      "the positive index is 1 and negative index is -5 for 20\n",
      "the positive index is 2 and negative index is -4 for 30\n",
      "the positive index is 3 and negative index is -3 for A\n",
      "the positive index is 4 and negative index is -2 for B\n",
      "the positive index is 5 and negative index is -1 for C\n"
     ]
    }
   ],
   "source": [
    "list1=[10,20,30,'A','B','C']\n",
    "for i in range(0,len(list1)):\n",
    "    print(f'the positive index is {i} and negative index is {i-6} for {list1[i]}')"
   ]
  },
  {
   "cell_type": "code",
   "execution_count": 213,
   "id": "2cb0b6d9-4829-4aba-8c02-2fe0383cbd43",
   "metadata": {},
   "outputs": [
    {
     "data": {
      "text/plain": [
       "(10, 20)"
      ]
     },
     "execution_count": 213,
     "metadata": {},
     "output_type": "execute_result"
    }
   ],
   "source": [
    "list1=[10,20]\n",
    "list1[0],list1[1]"
   ]
  },
  {
   "cell_type": "code",
   "execution_count": 209,
   "id": "66494efe-57d5-4eb5-b3b9-f4569285794d",
   "metadata": {},
   "outputs": [
    {
     "data": {
      "text/plain": [
       "10"
      ]
     },
     "execution_count": 209,
     "metadata": {},
     "output_type": "execute_result"
    }
   ],
   "source": [
    "list1=[[10]]\n",
    "list1[0][0]"
   ]
  },
  {
   "cell_type": "code",
   "execution_count": 215,
   "id": "0038f809-5a6e-4c08-965b-45b5083c0858",
   "metadata": {},
   "outputs": [
    {
     "data": {
      "text/plain": [
       "(2, 1)"
      ]
     },
     "execution_count": 215,
     "metadata": {},
     "output_type": "execute_result"
    }
   ],
   "source": [
    "list1=[10,20]\n",
    "list2=[[10,20]]\n",
    "len(list1),len(list2)"
   ]
  },
  {
   "cell_type": "code",
   "execution_count": 219,
   "id": "aadd2157-ab22-476e-95d4-afb33ccc3b4a",
   "metadata": {},
   "outputs": [
    {
     "data": {
      "text/plain": [
       "20"
      ]
     },
     "execution_count": 219,
     "metadata": {},
     "output_type": "execute_result"
    }
   ],
   "source": [
    "list1=[10,[20]]\n",
    "list1[1][0]"
   ]
  },
  {
   "cell_type": "code",
   "execution_count": 221,
   "id": "57032b15-4b26-43dc-a432-2192c5ef35e1",
   "metadata": {},
   "outputs": [
    {
     "data": {
      "text/plain": [
       "'Cherry'"
      ]
     },
     "execution_count": 221,
     "metadata": {},
     "output_type": "execute_result"
    }
   ],
   "source": [
    "list1=[10,20,30,'A',['Banana','Cherry']]\n",
    "list1[4][1]"
   ]
  },
  {
   "cell_type": "code",
   "execution_count": 255,
   "id": "d614dda4-0beb-47cf-beb0-54e227285a45",
   "metadata": {},
   "outputs": [
    {
     "data": {
      "text/plain": [
       "'Cherry'"
      ]
     },
     "execution_count": 255,
     "metadata": {},
     "output_type": "execute_result"
    }
   ],
   "source": [
    "list1=['A',['Apple','B',['Banana'],'C',['Cherry']]]\n",
    "list1[1][4][0]"
   ]
  },
  {
   "cell_type": "code",
   "execution_count": 265,
   "id": "a51e5201-f007-49bb-81c2-a0666493937a",
   "metadata": {},
   "outputs": [
    {
     "data": {
      "text/plain": [
       "'Dragon fruit'"
      ]
     },
     "execution_count": 265,
     "metadata": {},
     "output_type": "execute_result"
    }
   ],
   "source": [
    "list1=['A',['Apple','B',['Banana','C',['Cherry','D',['Dragon fruit']]]]]\n",
    "list1[1][2][2][2][0]"
   ]
  },
  {
   "cell_type": "code",
   "execution_count": 275,
   "id": "fd3ce433-0ab5-4a70-9a5d-76c62cb881b2",
   "metadata": {},
   "outputs": [
    {
     "data": {
      "text/plain": [
       "'Bat'"
      ]
     },
     "execution_count": 275,
     "metadata": {},
     "output_type": "execute_result"
    }
   ],
   "source": [
    "list1=['Apple',['Kashmir',['India',['Cricket',['Bat']]]]]\n",
    "list1[1][1][1][1][0]"
   ]
  },
  {
   "cell_type": "code",
   "execution_count": 279,
   "id": "5404e3e6-42f7-4a8d-b3bb-55bdfc5f761a",
   "metadata": {},
   "outputs": [
    {
     "data": {
      "text/plain": [
       "'Vicky'"
      ]
     },
     "execution_count": 279,
     "metadata": {},
     "output_type": "execute_result"
    }
   ],
   "source": [
    "list1=['Ornage',['Nagpur',['MH',['Shivaji',['Shambaji',['Vicky']]]]]]\n",
    "list1[1][1][1][1][1][0]"
   ]
  },
  {
   "cell_type": "code",
   "execution_count": 283,
   "id": "cedda420-3f9d-434d-a8d5-99783ff6f770",
   "metadata": {},
   "outputs": [
    {
     "data": {
      "text/plain": [
       "'Apple'"
      ]
     },
     "execution_count": 283,
     "metadata": {},
     "output_type": "execute_result"
    }
   ],
   "source": [
    "list1=[[[[[[[[['Apple']]]]]]]]]\n",
    "list1[0][0][0][0][0][0][0][0][0]"
   ]
  },
  {
   "cell_type": "markdown",
   "id": "e817f48b-4969-46ec-8c5d-e470de0e9c99",
   "metadata": {},
   "source": [
    "### range vs in\n",
    "\n",
    "- when we have use with index then go for range\n",
    "\n",
    "- when we have use with only element go for in"
   ]
  },
  {
   "cell_type": "markdown",
   "id": "92ab5e77-c65f-4498-8748-1d3deff08125",
   "metadata": {},
   "source": [
    "### mutable vs immutable\n"
   ]
  },
  {
   "cell_type": "code",
   "execution_count": 3,
   "id": "7d9b9ee0-4a0f-41a3-adf5-28bebac1fa0e",
   "metadata": {},
   "outputs": [
    {
     "data": {
      "text/plain": [
       "[10, 200, 30]"
      ]
     },
     "execution_count": 3,
     "metadata": {},
     "output_type": "execute_result"
    }
   ],
   "source": [
    "list1=[10,20,30]\n",
    "list1[1]=200\n",
    "list1"
   ]
  },
  {
   "cell_type": "markdown",
   "id": "c60470d6-c647-4dfd-948a-f7eadb26e40f",
   "metadata": {},
   "source": [
    "**lists are mutable**"
   ]
  },
  {
   "cell_type": "markdown",
   "id": "64acf5f1-f189-4be0-a99f-d9d1a802ed29",
   "metadata": {},
   "source": [
    "### Slice"
   ]
  },
  {
   "cell_type": "code",
   "execution_count": 20,
   "id": "f0f8c3c5-9590-4df9-9a27-e4bced51914e",
   "metadata": {},
   "outputs": [
    {
     "data": {
      "text/plain": [
       "[30, 50, 'B', 'D']"
      ]
     },
     "execution_count": 20,
     "metadata": {},
     "output_type": "execute_result"
    }
   ],
   "source": [
    "l1=[10,20,30,40,50,'A','B','C','D','E','apple','banana']\n",
    "l1[2:10:2]"
   ]
  },
  {
   "cell_type": "code",
   "execution_count": 22,
   "id": "df17face-c880-42a9-9cd6-b7fd5ff8bbec",
   "metadata": {},
   "outputs": [
    {
     "data": {
      "text/plain": [
       "[]"
      ]
     },
     "execution_count": 22,
     "metadata": {},
     "output_type": "execute_result"
    }
   ],
   "source": [
    "l1[2:10:-2]"
   ]
  },
  {
   "cell_type": "code",
   "execution_count": 24,
   "id": "eb94475c-ab46-41d9-b9cf-9fd860a68917",
   "metadata": {},
   "outputs": [
    {
     "data": {
      "text/plain": [
       "[]"
      ]
     },
     "execution_count": 24,
     "metadata": {},
     "output_type": "execute_result"
    }
   ],
   "source": [
    "l1[2:-10:2]"
   ]
  },
  {
   "cell_type": "markdown",
   "id": "56888460-4e8a-46bb-bf1f-42c79896de65",
   "metadata": {},
   "source": [
    "### Methods"
   ]
  },
  {
   "cell_type": "code",
   "execution_count": 28,
   "id": "d5d17e8b-c139-48ff-805f-0dcb636f11be",
   "metadata": {},
   "outputs": [
    {
     "data": {
      "text/plain": [
       "['__add__',\n",
       " '__class__',\n",
       " '__class_getitem__',\n",
       " '__contains__',\n",
       " '__delattr__',\n",
       " '__delitem__',\n",
       " '__dir__',\n",
       " '__doc__',\n",
       " '__eq__',\n",
       " '__format__',\n",
       " '__ge__',\n",
       " '__getattribute__',\n",
       " '__getitem__',\n",
       " '__getstate__',\n",
       " '__gt__',\n",
       " '__hash__',\n",
       " '__iadd__',\n",
       " '__imul__',\n",
       " '__init__',\n",
       " '__init_subclass__',\n",
       " '__iter__',\n",
       " '__le__',\n",
       " '__len__',\n",
       " '__lt__',\n",
       " '__mul__',\n",
       " '__ne__',\n",
       " '__new__',\n",
       " '__reduce__',\n",
       " '__reduce_ex__',\n",
       " '__repr__',\n",
       " '__reversed__',\n",
       " '__rmul__',\n",
       " '__setattr__',\n",
       " '__setitem__',\n",
       " '__sizeof__',\n",
       " '__str__',\n",
       " '__subclasshook__',\n",
       " 'append',\n",
       " 'clear',\n",
       " 'copy',\n",
       " 'count',\n",
       " 'extend',\n",
       " 'index',\n",
       " 'insert',\n",
       " 'pop',\n",
       " 'remove',\n",
       " 'reverse',\n",
       " 'sort']"
      ]
     },
     "execution_count": 28,
     "metadata": {},
     "output_type": "execute_result"
    }
   ],
   "source": [
    "dir([])"
   ]
  },
  {
   "cell_type": "code",
   "execution_count": null,
   "id": "4a40e15f-d393-47ff-9265-c64655230861",
   "metadata": {},
   "outputs": [],
   "source": [
    "'append',\n",
    "'clear',\n",
    "'copy',\n",
    "'count',\n",
    "'extend',\n",
    "'index',\n",
    "'insert',\n",
    "'pop',\n",
    "'remove',\n",
    "'reverse',\n",
    "'sort']"
   ]
  },
  {
   "cell_type": "code",
   "execution_count": 36,
   "id": "ad585a78-4132-440d-b315-a3cb95835719",
   "metadata": {},
   "outputs": [
    {
     "data": {
      "text/plain": [
       "[]"
      ]
     },
     "execution_count": 36,
     "metadata": {},
     "output_type": "execute_result"
    }
   ],
   "source": [
    "l1=[10,20,30,40,50,'A','B','C','D','E','apple','banana']\n",
    "l1.clear()\n",
    "l1"
   ]
  },
  {
   "cell_type": "code",
   "execution_count": 52,
   "id": "8f0a50e9-8404-42e9-abce-b028bfc83ead",
   "metadata": {},
   "outputs": [
    {
     "name": "stdout",
     "output_type": "stream",
     "text": [
      "[]\n",
      "[10, 20, 30, 40, 50, 'A', 'B', 'C', 'D', 'E', 'apple', 'banana']\n"
     ]
    }
   ],
   "source": [
    "l1=[10,20,30,40,50,'A','B','C','D','E','apple','banana']\n",
    "l2=l1.copy()\n",
    "l1.clear()\n",
    "print(l1)\n",
    "print(l2)"
   ]
  },
  {
   "cell_type": "code",
   "execution_count": 56,
   "id": "791b316e-dc60-480b-9769-049ed76ba031",
   "metadata": {},
   "outputs": [
    {
     "data": {
      "text/plain": [
       "2"
      ]
     },
     "execution_count": 56,
     "metadata": {},
     "output_type": "execute_result"
    }
   ],
   "source": [
    "l1=[10,20,30,40,50,'A','B','C','D','E','apple','banana',10]\n",
    "l1.count(10)"
   ]
  },
  {
   "cell_type": "markdown",
   "id": "6dee96d5-65bb-4554-bc24-93e12e579a86",
   "metadata": {},
   "source": [
    "### append\n",
    "\n",
    "- append is very very important method in the entire list\n",
    "\n",
    "- in our life we will use this method very very frequently\n",
    "\n",
    "- append means adding an element at last"
   ]
  },
  {
   "cell_type": "code",
   "execution_count": 66,
   "id": "9c2fa839-a963-490e-95fb-afc98e500eab",
   "metadata": {},
   "outputs": [
    {
     "data": {
      "text/plain": [
       "[10, 20, 30, 40]"
      ]
     },
     "execution_count": 66,
     "metadata": {},
     "output_type": "execute_result"
    }
   ],
   "source": [
    "l1=[10,20,30]\n",
    "l1.append(40)\n",
    "l1"
   ]
  },
  {
   "cell_type": "code",
   "execution_count": 84,
   "id": "82defd4c-8adf-4407-9485-9eb6c72eae9e",
   "metadata": {},
   "outputs": [
    {
     "data": {
      "text/plain": [
       "[10, 20, 30, 'Apple', 'Banana']"
      ]
     },
     "execution_count": 84,
     "metadata": {},
     "output_type": "execute_result"
    }
   ],
   "source": [
    "l1=[10,20,30]\n",
    "l1.append('Apple')\n",
    "l1.append('Banana')\n",
    "l1"
   ]
  },
  {
   "cell_type": "code",
   "execution_count": 79,
   "id": "490f84ab-febb-4ef8-bdd1-3c9ae6f6e893",
   "metadata": {},
   "outputs": [
    {
     "ename": "TypeError",
     "evalue": "list.append() takes exactly one argument (2 given)",
     "output_type": "error",
     "traceback": [
      "\u001b[1;31m---------------------------------------------------------------------------\u001b[0m",
      "\u001b[1;31mTypeError\u001b[0m                                 Traceback (most recent call last)",
      "Cell \u001b[1;32mIn[79], line 2\u001b[0m\n\u001b[0;32m      1\u001b[0m l1\u001b[38;5;241m=\u001b[39m[\u001b[38;5;241m10\u001b[39m,\u001b[38;5;241m20\u001b[39m,\u001b[38;5;241m30\u001b[39m]\n\u001b[1;32m----> 2\u001b[0m l1\u001b[38;5;241m.\u001b[39mappend(\u001b[38;5;124m'\u001b[39m\u001b[38;5;124mApple\u001b[39m\u001b[38;5;124m'\u001b[39m,\u001b[38;5;124m'\u001b[39m\u001b[38;5;124mBanana\u001b[39m\u001b[38;5;124m'\u001b[39m)\n\u001b[0;32m      3\u001b[0m l1\n",
      "\u001b[1;31mTypeError\u001b[0m: list.append() takes exactly one argument (2 given)"
     ]
    }
   ],
   "source": [
    "l1=[10,20,30]\n",
    "l1.append('Apple','Banana')\n",
    "l1"
   ]
  },
  {
   "cell_type": "code",
   "execution_count": 76,
   "id": "4ae601e0-7635-4680-a48f-9b0c5bc4d811",
   "metadata": {},
   "outputs": [
    {
     "data": {
      "text/plain": [
       "[10, 20, 30, ['Apple', 'Banana']]"
      ]
     },
     "execution_count": 76,
     "metadata": {},
     "output_type": "execute_result"
    }
   ],
   "source": [
    "l1=[10,20,30]\n",
    "l1.append(['Apple','Banana'])\n",
    "l1"
   ]
  },
  {
   "cell_type": "markdown",
   "id": "078be54b-ac9a-47e5-9e6f-c045398893f4",
   "metadata": {},
   "source": [
    "**always recall if you see anywhere multiple values means most of the time we will kepp those values in a list**"
   ]
  },
  {
   "cell_type": "markdown",
   "id": "4fa1f452-113e-4df2-8250-e2ec0a18e7d4",
   "metadata": {},
   "source": [
    "**append method is used to store the outputs**"
   ]
  },
  {
   "cell_type": "code",
   "execution_count": 87,
   "id": "7bd37594-8ee6-4863-965d-334d635c7a06",
   "metadata": {},
   "outputs": [
    {
     "data": {
      "text/plain": [
       "[1, 2, 3, 4, 5]"
      ]
     },
     "execution_count": 87,
     "metadata": {},
     "output_type": "execute_result"
    }
   ],
   "source": [
    "# example 1\n",
    "\n",
    "l=[]\n",
    "for i in range(1,6):\n",
    "    l.append(i)\n",
    "l"
   ]
  },
  {
   "cell_type": "code",
   "execution_count": 98,
   "id": "fd9a6ec8-52b4-4a64-ae09-241d1ade9fd2",
   "metadata": {},
   "outputs": [
    {
     "data": {
      "text/plain": [
       "['88:7744', '99:9801', '61:3721']"
      ]
     },
     "execution_count": 98,
     "metadata": {},
     "output_type": "execute_result"
    }
   ],
   "source": [
    "# wap ask the user to enter 3 random numbers \n",
    "# perform the square of the numbers, save the squares in a list\n",
    "\n",
    "import random\n",
    "l=[]\n",
    "for i in range(3):\n",
    "    num=random.randint(1,100)\n",
    "    l.append(f'{num}:{num*num}')\n",
    "l"
   ]
  },
  {
   "cell_type": "code",
   "execution_count": 110,
   "id": "232fc155-5c6b-40b8-89da-4a2075624cff",
   "metadata": {},
   "outputs": [
    {
     "name": "stdout",
     "output_type": "stream",
     "text": [
      "the even list is:[10, 12]\n",
      "the odd list is: [47, 53, 27]\n"
     ]
    }
   ],
   "source": [
    "# Q2) i already have al list\n",
    "# l=[10,47,53,12,27]\n",
    "l=[10,47,53,12,27]\n",
    "l1=[]\n",
    "l2=[]\n",
    "for i in range(len(l)):\n",
    "    if l[i]%2==0:\n",
    "        l1.append(l[i])\n",
    "    else:\n",
    "        l2.append(l[i])\n",
    "\n",
    "print(f'the even list is:{l1}')\n",
    "print(f'the odd list is: {l2}')"
   ]
  },
  {
   "cell_type": "markdown",
   "id": "1f08a97d-db1f-4b1c-a482-a9312f31c9d4",
   "metadata": {},
   "source": [
    "### word frequency"
   ]
  },
  {
   "cell_type": "code",
   "execution_count": 2,
   "id": "b89b5eaf-4afc-43ed-acae-bd824183e94c",
   "metadata": {},
   "outputs": [
    {
     "data": {
      "text/plain": [
       "['can:4', 'canner:3', 'you:3', 'not:1', 'with:1', 'but:1', 'the:1']"
      ]
     },
     "execution_count": 2,
     "metadata": {},
     "output_type": "execute_result"
    }
   ],
   "source": [
    "# Q9) input='can canner can you can not canner with you but you can the canner'\n",
    "#     output=['can'-4,'canner'-3,'you'-3,'not'-1,'with'-1,'but'-1,'the'-1]\n",
    "\n",
    "\n",
    "input='can canner can you can not canner with you but you can the canner'\n",
    "l=input.split()\n",
    "l1=[]\n",
    "counter=[]\n",
    "for i in l:\n",
    "    if i not in l1:\n",
    "        counter.append(f'{i}:{l.count(i)}')\n",
    "        l1.append(i)\n",
    "counter"
   ]
  },
  {
   "cell_type": "markdown",
   "id": "17aae6c7-b7eb-4a52-af57-eb966555ec47",
   "metadata": {},
   "source": [
    "### extend"
   ]
  },
  {
   "cell_type": "code",
   "execution_count": 5,
   "id": "a778d745-3970-467a-b6e7-6ca97f74e74a",
   "metadata": {},
   "outputs": [],
   "source": [
    "l1=[1,2,3,4,5]\n",
    "l2=['A','B','C','D']\n",
    "l1.extend(l2)"
   ]
  },
  {
   "cell_type": "code",
   "execution_count": 7,
   "id": "5e122071-5ff3-4b1f-84ad-a7ded5847457",
   "metadata": {},
   "outputs": [
    {
     "data": {
      "text/plain": [
       "[1, 2, 3, 4, 5, 'A', 'B', 'C', 'D']"
      ]
     },
     "execution_count": 7,
     "metadata": {},
     "output_type": "execute_result"
    }
   ],
   "source": [
    "l1"
   ]
  },
  {
   "cell_type": "code",
   "execution_count": 9,
   "id": "fa0be89b-bc19-4fb5-92d0-6207bc25ea80",
   "metadata": {},
   "outputs": [
    {
     "data": {
      "text/plain": [
       "['A', 'B', 'C', 'D', 1, 2, 3, 4, 5]"
      ]
     },
     "execution_count": 9,
     "metadata": {},
     "output_type": "execute_result"
    }
   ],
   "source": [
    "l1=[1,2,3,4,5]\n",
    "l2=['A','B','C','D']\n",
    "l2.extend(l1)\n",
    "l2"
   ]
  },
  {
   "cell_type": "code",
   "execution_count": 15,
   "id": "0b7ecf57-085f-4477-830c-91cf17380141",
   "metadata": {},
   "outputs": [
    {
     "data": {
      "text/plain": [
       "['A', 'B', 'C', 'D', [1, 2, 3, 4, 5]]"
      ]
     },
     "execution_count": 15,
     "metadata": {},
     "output_type": "execute_result"
    }
   ],
   "source": [
    "l1=[1,2,3,4,5]\n",
    "l2=['A','B','C','D']\n",
    "l2.append(l1)\n",
    "l2"
   ]
  },
  {
   "cell_type": "code",
   "execution_count": 17,
   "id": "c4d1144c-73d8-45e1-8ab7-e4721c469a88",
   "metadata": {},
   "outputs": [
    {
     "data": {
      "text/plain": [
       "[1, 2, 3, 4, 5, 'A', 'B', 'C', 'D']"
      ]
     },
     "execution_count": 17,
     "metadata": {},
     "output_type": "execute_result"
    }
   ],
   "source": [
    "l1=[1,2,3,4,5]\n",
    "l2=['A','B','C','D']\n",
    "l1+l2"
   ]
  },
  {
   "cell_type": "markdown",
   "id": "9310e9e3-6b8f-4fca-94a0-2f7f71cc3152",
   "metadata": {},
   "source": [
    "#### **L1 will be overwriiten if we use extend**"
   ]
  },
  {
   "cell_type": "markdown",
   "id": "d763d721-0f0f-4b17-ba68-a8109e916133",
   "metadata": {},
   "source": [
    "### index"
   ]
  },
  {
   "cell_type": "code",
   "execution_count": 52,
   "id": "736407d1-0110-4dba-801e-d5fd34b2aae5",
   "metadata": {},
   "outputs": [
    {
     "data": {
      "text/plain": [
       "8"
      ]
     },
     "execution_count": 52,
     "metadata": {},
     "output_type": "execute_result"
    }
   ],
   "source": [
    "l1=[1,2,3,4,5,6,7,8,5]\n",
    "id1=l1.index(5)\n",
    "l1.index(5,id1+1)"
   ]
  },
  {
   "cell_type": "markdown",
   "id": "75979e5f-865a-4bff-bbdd-7a333d139a4b",
   "metadata": {},
   "source": [
    "### insert"
   ]
  },
  {
   "cell_type": "code",
   "execution_count": 71,
   "id": "3f4b4080-acf2-402f-884d-cf3b120aef3f",
   "metadata": {},
   "outputs": [
    {
     "data": {
      "text/plain": [
       "[1, 2, 3, 4, 5, 100, 6, 7, 8, 5]"
      ]
     },
     "execution_count": 71,
     "metadata": {},
     "output_type": "execute_result"
    }
   ],
   "source": [
    "l1=[1,2,3,4,5,6,7,8,5]\n",
    "id=l1.index(5)\n",
    "l1.insert(id+1,100)\n",
    "l1"
   ]
  },
  {
   "cell_type": "markdown",
   "id": "b8a94e95-e128-4255-b151-277dc2e36e26",
   "metadata": {},
   "source": [
    "#### **append will attach object at last in the list where as insert can attach before the given index**"
   ]
  },
  {
   "cell_type": "markdown",
   "id": "3278c75d-2715-40d9-8595-df76386198b0",
   "metadata": {},
   "source": [
    "### pop vs remove"
   ]
  },
  {
   "cell_type": "code",
   "execution_count": 97,
   "id": "ba9ed03c-a5e7-4268-953f-cd16b8f4e42e",
   "metadata": {},
   "outputs": [
    {
     "data": {
      "text/plain": [
       "[10, 20, 30, 40, 'Apple', 'Banana', 'Cherry', 40, 50]"
      ]
     },
     "execution_count": 97,
     "metadata": {},
     "output_type": "execute_result"
    }
   ],
   "source": [
    "l=[10,20,30,40,50,'Apple','Banana','Cherry',40,50]\n",
    "l.remove(50)\n",
    "l"
   ]
  },
  {
   "cell_type": "code",
   "execution_count": 109,
   "id": "e6827894-9b1f-40ad-8be2-add33a439534",
   "metadata": {},
   "outputs": [
    {
     "data": {
      "text/plain": [
       "[10, 20, 30, 40, 50, 'Banana', 'Cherry', 40, 50]"
      ]
     },
     "execution_count": 109,
     "metadata": {},
     "output_type": "execute_result"
    }
   ],
   "source": [
    "l=[10,20,30,40,50,'Apple','Banana','Cherry',40,50]\n",
    "del(l[5])\n",
    "l"
   ]
  },
  {
   "cell_type": "code",
   "execution_count": 119,
   "id": "37b8e441-a851-4a84-b54a-e6159513feb6",
   "metadata": {},
   "outputs": [
    {
     "data": {
      "text/plain": [
       "[10, 20, 30, 40, 50, 'Banana', 'Cherry', 40, 50]"
      ]
     },
     "execution_count": 119,
     "metadata": {},
     "output_type": "execute_result"
    }
   ],
   "source": [
    "l=[10,20,30,40,50,'Apple','Banana','Cherry',40,50]\n",
    "del l[5]\n",
    "l"
   ]
  },
  {
   "cell_type": "code",
   "execution_count": 117,
   "id": "7ed6ef57-6354-464b-933c-add43a77ac49",
   "metadata": {},
   "outputs": [
    {
     "ename": "NameError",
     "evalue": "name 'l1' is not defined",
     "output_type": "error",
     "traceback": [
      "\u001b[1;31m---------------------------------------------------------------------------\u001b[0m",
      "\u001b[1;31mNameError\u001b[0m                                 Traceback (most recent call last)",
      "Cell \u001b[1;32mIn[117], line 3\u001b[0m\n\u001b[0;32m      1\u001b[0m l1\u001b[38;5;241m=\u001b[39m[\u001b[38;5;241m10\u001b[39m,\u001b[38;5;241m20\u001b[39m,\u001b[38;5;241m30\u001b[39m,\u001b[38;5;241m40\u001b[39m,\u001b[38;5;241m50\u001b[39m,\u001b[38;5;124m'\u001b[39m\u001b[38;5;124mApple\u001b[39m\u001b[38;5;124m'\u001b[39m,\u001b[38;5;124m'\u001b[39m\u001b[38;5;124mBanana\u001b[39m\u001b[38;5;124m'\u001b[39m,\u001b[38;5;124m'\u001b[39m\u001b[38;5;124mCherry\u001b[39m\u001b[38;5;124m'\u001b[39m,\u001b[38;5;241m40\u001b[39m,\u001b[38;5;241m50\u001b[39m]\n\u001b[0;32m      2\u001b[0m \u001b[38;5;28;01mdel\u001b[39;00m(l1)\n\u001b[1;32m----> 3\u001b[0m l1\n",
      "\u001b[1;31mNameError\u001b[0m: name 'l1' is not defined"
     ]
    }
   ],
   "source": [
    "l1=[10,20,30,40,50,'Apple','Banana','Cherry',40,50]\n",
    "del(l1)\n",
    "l1"
   ]
  },
  {
   "cell_type": "markdown",
   "id": "8935f863-1602-4cde-a891-789526b5f31f",
   "metadata": {},
   "source": [
    "- if we want to delete any element\n",
    "\n",
    "- pop:based on index\n",
    "\n",
    "- remove: based on values\n",
    "\n",
    "- del is a built in function"
   ]
  },
  {
   "cell_type": "markdown",
   "id": "409ea042-87e4-4e52-af60-df8c558ef3f6",
   "metadata": {},
   "source": [
    "**reverse-reversed**\n",
    "\n",
    "- reverse is a method\n",
    "\n",
    "- reversed is a built in function"
   ]
  },
  {
   "cell_type": "code",
   "execution_count": 123,
   "id": "07b3a09d-caa8-4a01-9687-5237d69aa351",
   "metadata": {},
   "outputs": [
    {
     "data": {
      "text/plain": [
       "[50, 40, 'Cherry', 'Banana', 'Apple', 50, 40, 30, 20, 10]"
      ]
     },
     "execution_count": 123,
     "metadata": {},
     "output_type": "execute_result"
    }
   ],
   "source": [
    "l1=[10,20,30,40,50,'Apple','Banana','Cherry',40,50]\n",
    "l1.reverse()\n",
    "l1"
   ]
  },
  {
   "cell_type": "code",
   "execution_count": 135,
   "id": "ed51307d-607b-4943-9aa9-7a7db07ae7d2",
   "metadata": {},
   "outputs": [
    {
     "name": "stdout",
     "output_type": "stream",
     "text": [
      "[50, 40, 'Cherry', 'Banana', 'Apple', 50, 40, 30, 20, 10]\n"
     ]
    }
   ],
   "source": [
    "reversed(l1)\n",
    "print(l1)"
   ]
  },
  {
   "cell_type": "markdown",
   "id": "93badfc8-15d9-472c-abb2-4ac9160ea911",
   "metadata": {},
   "source": [
    "#### **IN PLACE**\n",
    "\n",
    "- when we perform the operations some times the values will not overwrite\n",
    "\n",
    "- if you see **inplace** word or **inplace=True**\n",
    "\n",
    "- this indicates the output will be overwritten in corresponding variable"
   ]
  },
  {
   "cell_type": "markdown",
   "id": "633a38f3-4fbf-4c26-9cd2-9f309d2ee6ee",
   "metadata": {},
   "source": [
    "**sort-sorted**"
   ]
  },
  {
   "cell_type": "code",
   "execution_count": 158,
   "id": "e4ce13fc-03d7-4919-854c-c6461b6e9a17",
   "metadata": {},
   "outputs": [
    {
     "name": "stdout",
     "output_type": "stream",
     "text": [
      "[2, 10, 20, 34, 44, 56]\n",
      "[56, 44, 34, 20, 10, 2]\n"
     ]
    }
   ],
   "source": [
    "l1=[34,20,44,56,10,2]\n",
    "l1.sort(reverse=False)\n",
    "print(l1)\n",
    "l1.sort(reverse=True)\n",
    "print(l1)"
   ]
  },
  {
   "cell_type": "markdown",
   "id": "1097a63d-bef5-43c2-94c4-46d8a1956320",
   "metadata": {},
   "source": [
    "- **inbuilt functions applicable for any datatypes**\n",
    "\n",
    "- **but methods works with respect to data types**"
   ]
  },
  {
   "cell_type": "markdown",
   "id": "12ad37dc-3288-4afa-9e4b-9f745b11de17",
   "metadata": {},
   "source": [
    "- clear\n",
    "\n",
    "- count\n",
    "\n",
    "- "
   ]
  },
  {
   "cell_type": "markdown",
   "id": "94994289-df3c-41de-b05e-b5625befc6b0",
   "metadata": {},
   "source": [
    "### tuple"
   ]
  },
  {
   "cell_type": "code",
   "execution_count": 3,
   "id": "e759e64f-aafd-4b82-bc3b-1303ea18ed09",
   "metadata": {},
   "outputs": [
    {
     "data": {
      "text/plain": [
       "['__add__',\n",
       " '__class__',\n",
       " '__class_getitem__',\n",
       " '__contains__',\n",
       " '__delattr__',\n",
       " '__dir__',\n",
       " '__doc__',\n",
       " '__eq__',\n",
       " '__format__',\n",
       " '__ge__',\n",
       " '__getattribute__',\n",
       " '__getitem__',\n",
       " '__getnewargs__',\n",
       " '__getstate__',\n",
       " '__gt__',\n",
       " '__hash__',\n",
       " '__init__',\n",
       " '__init_subclass__',\n",
       " '__iter__',\n",
       " '__le__',\n",
       " '__len__',\n",
       " '__lt__',\n",
       " '__mul__',\n",
       " '__ne__',\n",
       " '__new__',\n",
       " '__reduce__',\n",
       " '__reduce_ex__',\n",
       " '__repr__',\n",
       " '__rmul__',\n",
       " '__setattr__',\n",
       " '__sizeof__',\n",
       " '__str__',\n",
       " '__subclasshook__',\n",
       " 'count',\n",
       " 'index']"
      ]
     },
     "execution_count": 3,
     "metadata": {},
     "output_type": "execute_result"
    }
   ],
   "source": [
    "dir(())"
   ]
  },
  {
   "cell_type": "code",
   "execution_count": 19,
   "id": "faebf946-b22b-43c4-bcda-42ee305c2f8f",
   "metadata": {},
   "outputs": [
    {
     "data": {
      "text/plain": [
       "4"
      ]
     },
     "execution_count": 19,
     "metadata": {},
     "output_type": "execute_result"
    }
   ],
   "source": [
    "t1=('ppyyyyttthhonn')\n",
    "t1.count('y')"
   ]
  },
  {
   "cell_type": "code",
   "execution_count": 21,
   "id": "e747253b-9b39-4012-8f12-05d406bc27fa",
   "metadata": {},
   "outputs": [
    {
     "data": {
      "text/plain": [
       "2"
      ]
     },
     "execution_count": 21,
     "metadata": {},
     "output_type": "execute_result"
    }
   ],
   "source": [
    "t1=(10,20,30,40,50,'Apple','Banana','Cherry',40,50)\n",
    "t1.count(50)"
   ]
  },
  {
   "cell_type": "code",
   "execution_count": 31,
   "id": "59475a3a-a00d-435f-8be9-fb23473e9551",
   "metadata": {},
   "outputs": [
    {
     "data": {
      "text/plain": [
       "3"
      ]
     },
     "execution_count": 31,
     "metadata": {},
     "output_type": "execute_result"
    }
   ],
   "source": [
    "i1=t1.index(40)\n",
    "i1"
   ]
  },
  {
   "cell_type": "code",
   "execution_count": 33,
   "id": "e19ff5de-9afc-48f1-97eb-85b5dcd976d5",
   "metadata": {},
   "outputs": [
    {
     "data": {
      "text/plain": [
       "8"
      ]
     },
     "execution_count": 33,
     "metadata": {},
     "output_type": "execute_result"
    }
   ],
   "source": [
    "t1.index(40,i1+1)"
   ]
  },
  {
   "cell_type": "code",
   "execution_count": null,
   "id": "4a874e69-e002-40cd-bd11-075815ffb2b6",
   "metadata": {},
   "outputs": [],
   "source": []
  }
 ],
 "metadata": {
  "kernelspec": {
   "display_name": "Python [conda env:base] *",
   "language": "python",
   "name": "conda-base-py"
  },
  "language_info": {
   "codemirror_mode": {
    "name": "ipython",
    "version": 3
   },
   "file_extension": ".py",
   "mimetype": "text/x-python",
   "name": "python",
   "nbconvert_exporter": "python",
   "pygments_lexer": "ipython3",
   "version": "3.12.7"
  }
 },
 "nbformat": 4,
 "nbformat_minor": 5
}
