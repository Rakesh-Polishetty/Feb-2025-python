{
 "cells": [
  {
   "cell_type": "markdown",
   "id": "9474f922-045f-48a9-ae21-dd9eddb82b04",
   "metadata": {},
   "source": [
    "## Loops"
   ]
  },
  {
   "cell_type": "markdown",
   "id": "19979e03-4424-436e-8f37-f1a3e9b5fce8",
   "metadata": {},
   "source": [
    "- Loops are used to iterate the code multiple times\n",
    "\n",
    "- functions are used to re use the code block\n",
    "\n",
    "- that code block can be repeated multiple times\n",
    "\n",
    "- Whenever you are doing same task multiple times then think about Loop\n",
    "\n",
    "- We have two loops\n",
    "\n",
    "  - for loop\n",
    " \n",
    "  - while loop\n",
    " \n",
    "- Any loop we need three things\n",
    "\n",
    "  - Initialization(start point)\n",
    " \n",
    "  - increment or decrement\n",
    " \n",
    "  - Condition to stop"
   ]
  },
  {
   "cell_type": "markdown",
   "id": "385b4b64-7801-4c33-9c63-d4814f99667b",
   "metadata": {},
   "source": [
    "**For loop**"
   ]
  },
  {
   "cell_type": "code",
   "execution_count": null,
   "id": "cfe76b3b-4f37-4485-a31c-f1cdbe495aa2",
   "metadata": {},
   "outputs": [],
   "source": [
    "for <variable> in range (<number>):\n",
    "    <write your code here>"
   ]
  },
  {
   "cell_type": "code",
   "execution_count": 9,
   "id": "a867ae2b-5fde-4a9d-8e48-e1e82d97321e",
   "metadata": {},
   "outputs": [
    {
     "name": "stdout",
     "output_type": "stream",
     "text": [
      "0\n",
      "1\n",
      "2\n",
      "3\n",
      "4\n"
     ]
    }
   ],
   "source": [
    "for i in range(5):\n",
    "    print(i)"
   ]
  },
  {
   "cell_type": "code",
   "execution_count": 11,
   "id": "eabcbd9f-19c5-4bc9-a0a7-53b9f4565d1a",
   "metadata": {},
   "outputs": [
    {
     "name": "stdout",
     "output_type": "stream",
     "text": [
      "0\n",
      "1\n",
      "2\n"
     ]
    }
   ],
   "source": [
    "for uppi in range(3):\n",
    "    print(uppi)"
   ]
  },
  {
   "cell_type": "code",
   "execution_count": 13,
   "id": "6c50a251-8814-4252-96cf-f8d8bf0d0b15",
   "metadata": {},
   "outputs": [
    {
     "name": "stdout",
     "output_type": "stream",
     "text": [
      "0 1 2 "
     ]
    }
   ],
   "source": [
    "for i in range(3):\n",
    "    print(i,end=' ')"
   ]
  },
  {
   "cell_type": "markdown",
   "id": "a1dae2c3-7654-4e92-b1ad-b16d0dd47197",
   "metadata": {},
   "source": [
    "**case-1:range(stop)**\n",
    "\n",
    "- start=0 : python index always starts with zero\n",
    "\n",
    "- increment by 1\n",
    "\n",
    "- last = stop-1"
   ]
  },
  {
   "cell_type": "code",
   "execution_count": 24,
   "id": "474c33b7-fe75-4210-bd54-3554bdf02574",
   "metadata": {},
   "outputs": [
    {
     "name": "stdout",
     "output_type": "stream",
     "text": [
      "0 1 2 3 4 5 6 7 8 9 "
     ]
    }
   ],
   "source": [
    "for i in range(10):\n",
    "    print(i,end=' ')"
   ]
  },
  {
   "cell_type": "code",
   "execution_count": 26,
   "id": "f46da56d-0235-458e-af4b-86abd262ab6c",
   "metadata": {},
   "outputs": [
    {
     "name": "stdout",
     "output_type": "stream",
     "text": [
      "good night\n",
      "good night\n",
      "good night\n"
     ]
    }
   ],
   "source": [
    "for i in range(3):\n",
    "    print('good night')"
   ]
  },
  {
   "cell_type": "markdown",
   "id": "54186a40-5a9e-4d3e-aac3-46fecff2719d",
   "metadata": {},
   "source": [
    "**case-2:range(start,stop)**\n",
    "\n",
    "- Suppose I want to start my loop with a particular number\n",
    "\n",
    "- then add start also inside range\n",
    "\n",
    "- start=start\n",
    "\n",
    "- increment by 1\n",
    "\n",
    "- last=stop-1"
   ]
  },
  {
   "cell_type": "code",
   "execution_count": 29,
   "id": "85e502cc-716f-450c-9a3d-55c8a8066bbd",
   "metadata": {},
   "outputs": [
    {
     "name": "stdout",
     "output_type": "stream",
     "text": [
      "10 11 12 13 14 15 16 17 18 19 "
     ]
    }
   ],
   "source": [
    "for i in range(10,20):\n",
    "    print(i,end=' ')"
   ]
  },
  {
   "cell_type": "code",
   "execution_count": 35,
   "id": "cc63f414-0d2d-4c25-8574-ed06b1287d9d",
   "metadata": {},
   "outputs": [],
   "source": [
    "# wap ask the user print the square of first 5 numbers"
   ]
  },
  {
   "cell_type": "code",
   "execution_count": 39,
   "id": "5210aa46-8e5b-4aab-919d-b1ec29773dd3",
   "metadata": {},
   "outputs": [
    {
     "name": "stdout",
     "output_type": "stream",
     "text": [
      "the square of 1 is : 1\n",
      "the square of 2 is : 4\n",
      "the square of 3 is : 9\n",
      "the square of 4 is : 16\n",
      "the square of 5 is : 25\n"
     ]
    }
   ],
   "source": [
    "for i in range(1,6):\n",
    "    print(f'the square of {i} is : {i**2}')"
   ]
  },
  {
   "cell_type": "code",
   "execution_count": 45,
   "id": "0340cfdf-d8c6-4afb-8dde-e3eaa60aa797",
   "metadata": {},
   "outputs": [
    {
     "name": "stdin",
     "output_type": "stream",
     "text": [
      "enter the number: 20\n"
     ]
    },
    {
     "name": "stdout",
     "output_type": "stream",
     "text": [
      "the square of 20 is : 400\n"
     ]
    },
    {
     "name": "stdin",
     "output_type": "stream",
     "text": [
      "enter the number: 10\n"
     ]
    },
    {
     "name": "stdout",
     "output_type": "stream",
     "text": [
      "the square of 10 is : 100\n"
     ]
    },
    {
     "name": "stdin",
     "output_type": "stream",
     "text": [
      "enter the number: 30\n"
     ]
    },
    {
     "name": "stdout",
     "output_type": "stream",
     "text": [
      "the square of 30 is : 900\n"
     ]
    },
    {
     "name": "stdin",
     "output_type": "stream",
     "text": [
      "enter the number: 40\n"
     ]
    },
    {
     "name": "stdout",
     "output_type": "stream",
     "text": [
      "the square of 40 is : 1600\n"
     ]
    },
    {
     "name": "stdin",
     "output_type": "stream",
     "text": [
      "enter the number: 50\n"
     ]
    },
    {
     "name": "stdout",
     "output_type": "stream",
     "text": [
      "the square of 50 is : 2500\n"
     ]
    }
   ],
   "source": [
    "for i in range(5):\n",
    "    num=eval(input('enter the number:'))\n",
    "    print(f'the square of {num} is : {num**2}')"
   ]
  },
  {
   "cell_type": "code",
   "execution_count": 47,
   "id": "15dd2a26-6578-4b1c-9e25-ebd17d22b71b",
   "metadata": {},
   "outputs": [
    {
     "name": "stdin",
     "output_type": "stream",
     "text": [
      "enter the number: 5\n"
     ]
    },
    {
     "name": "stdout",
     "output_type": "stream",
     "text": [
      "the square of 5 is : 25\n"
     ]
    },
    {
     "name": "stdin",
     "output_type": "stream",
     "text": [
      "enter the number: 6\n"
     ]
    },
    {
     "name": "stdout",
     "output_type": "stream",
     "text": [
      "the square of 6 is : 36\n"
     ]
    },
    {
     "name": "stdin",
     "output_type": "stream",
     "text": [
      "enter the number: 7\n"
     ]
    },
    {
     "name": "stdout",
     "output_type": "stream",
     "text": [
      "the square of 7 is : 49\n"
     ]
    }
   ],
   "source": [
    "def square():\n",
    "    num=eval(input('enter the number:'))\n",
    "    print(f'the square of {num} is : {num**2}')\n",
    "\n",
    "for i in range(3):\n",
    "    square()"
   ]
  },
  {
   "cell_type": "markdown",
   "id": "b9a1f282-fae3-49e4-aae9-4af09c862b87",
   "metadata": {},
   "source": [
    "### Case-3: range(start,stop,step)\n",
    "\n",
    "- start=start only\n",
    "\n",
    "- step:\n",
    "\n",
    "  - look about the step sign is it positive or negative sign\n",
    " \n",
    "  - positive means increment\n",
    " \n",
    "  - last=stop-1\n",
    " \n",
    "  - negative means decrement\n",
    " \n",
    "  - last=stop+1"
   ]
  },
  {
   "cell_type": "code",
   "execution_count": null,
   "id": "fabb1733-bb5c-44dd-b3ac-e17699e94261",
   "metadata": {},
   "outputs": [],
   "source": [
    "# example-1: range(3,20,2)\n",
    "# start=3\n",
    "# step=+2 positive direction\n",
    "# last=20-1=19"
   ]
  },
  {
   "cell_type": "code",
   "execution_count": 53,
   "id": "33691952-1b48-4e56-8b0c-b3eb746ee9ca",
   "metadata": {},
   "outputs": [
    {
     "name": "stdout",
     "output_type": "stream",
     "text": [
      "3 5 7 9 11 13 15 17 19 "
     ]
    }
   ],
   "source": [
    "for i in range(3,20,2):\n",
    "    print(i,end=' ')"
   ]
  },
  {
   "cell_type": "code",
   "execution_count": 57,
   "id": "ef8602d0-e6bf-4f19-80be-109f39598d6b",
   "metadata": {},
   "outputs": [],
   "source": [
    "# example-1: range(3,20,-2)\n",
    "# start=3\n",
    "# step=-2 negative direction\n",
    "# last=19+1=20\n",
    "\n",
    "for i in range(3,19,-2):\n",
    "    print(i,end=' ')"
   ]
  },
  {
   "cell_type": "code",
   "execution_count": 59,
   "id": "f5c70f19-18d7-470f-a0e1-c09e68353fb5",
   "metadata": {},
   "outputs": [
    {
     "name": "stdout",
     "output_type": "stream",
     "text": [
      "3 1 -1 -3 -5 -7 -9 -11 -13 -15 -17 "
     ]
    }
   ],
   "source": [
    "for i in range(3,-19,-2):\n",
    "    print(i,end=' ')"
   ]
  },
  {
   "cell_type": "code",
   "execution_count": 61,
   "id": "6e492e9f-0eb0-4b34-8cf5-aa5302725269",
   "metadata": {},
   "outputs": [],
   "source": [
    "for i in range(3,-19,2):\n",
    "    print(i,end=' ')"
   ]
  },
  {
   "cell_type": "code",
   "execution_count": 3,
   "id": "32a5e8c7-0c2f-4d7e-b795-06fd57092c58",
   "metadata": {},
   "outputs": [
    {
     "name": "stdout",
     "output_type": "stream",
     "text": [
      "20\n",
      "10\n",
      "0\n",
      "-10\n"
     ]
    }
   ],
   "source": [
    " for i in range(20,-20,-10):\n",
    "    print(i)"
   ]
  },
  {
   "cell_type": "code",
   "execution_count": 25,
   "id": "56265274-efda-4f7a-a7ab-73e16bc44061",
   "metadata": {},
   "outputs": [
    {
     "name": "stdin",
     "output_type": "stream",
     "text": [
      "enter a number: 7\n"
     ]
    },
    {
     "name": "stdout",
     "output_type": "stream",
     "text": [
      "7x1=7\n",
      "7x2=14\n",
      "7x3=21\n",
      "7x4=28\n",
      "7x5=35\n",
      "7x6=42\n",
      "7x7=49\n",
      "7x8=56\n",
      "7x9=63\n",
      "7x10=70\n"
     ]
    }
   ],
   "source": [
    "num=eval(input(\"enter a number:\"))\n",
    "for i in range(1,11):\n",
    "    print(f'{num}x{i}={num*i}')"
   ]
  },
  {
   "cell_type": "code",
   "execution_count": 23,
   "id": "fec32bc8-b095-4d9d-9a98-8d2f4c3e7a84",
   "metadata": {},
   "outputs": [
    {
     "name": "stdin",
     "output_type": "stream",
     "text": [
      "enter a number: 14\n"
     ]
    },
    {
     "name": "stdout",
     "output_type": "stream",
     "text": [
      "14x1=14\n",
      "14x2=28\n",
      "14x3=42\n",
      "14x4=56\n",
      "14x5=70\n",
      "14x6=84\n",
      "14x7=98\n",
      "14x8=112\n",
      "14x9=126\n",
      "14x10=140\n"
     ]
    }
   ],
   "source": [
    "num=eval(input(\"enter a number:\"))\n",
    "for i in range(1,11):\n",
    "    print(f'{num}x{i}={num*i}')"
   ]
  },
  {
   "cell_type": "code",
   "execution_count": 47,
   "id": "c88eba75-4078-4d23-b353-36640036abed",
   "metadata": {},
   "outputs": [
    {
     "name": "stdin",
     "output_type": "stream",
     "text": [
      "enter the number for divisors wanted: 75\n"
     ]
    },
    {
     "name": "stdout",
     "output_type": "stream",
     "text": [
      "1 is a divisor of 75\n",
      "3 is a divisor of 75\n",
      "5 is a divisor of 75\n",
      "15 is a divisor of 75\n",
      "25 is a divisor of 75\n",
      "75 is a divisor of 75\n"
     ]
    }
   ],
   "source": [
    "# Q) find the divisors of 75\n",
    "n=eval(input(\"enter the number for divisors wanted:\"))\n",
    "\n",
    "for i in range(1,n+1):\n",
    "    if n%i==0:\n",
    "        print(f'{i} is a divisor of {n}')"
   ]
  },
  {
   "cell_type": "markdown",
   "id": "3d8a34e4-7033-48f0-9c3d-fc288a4d8e9a",
   "metadata": {},
   "source": [
    "**summation wrapper**\n",
    "\n",
    "- starting we initialize the sum value =0\n",
    "\n",
    "- inside loop we will add single line : summ=summ+i"
   ]
  },
  {
   "cell_type": "code",
   "execution_count": 58,
   "id": "e4de9e39-dcea-4b24-b89b-bc30617f7a2f",
   "metadata": {},
   "outputs": [
    {
     "name": "stdout",
     "output_type": "stream",
     "text": [
      "1\n",
      "3\n",
      "6\n",
      "10\n",
      "15\n",
      "21\n",
      "28\n",
      "36\n",
      "45\n",
      "55\n",
      "the sum of first 10 natural numbers is: 55\n"
     ]
    }
   ],
   "source": [
    "# Q6) sum of first 10 natural numbers\n",
    "\n",
    "summ=0\n",
    "for i in range(1,11):\n",
    "    summ=summ+i\n",
    "    print(summ)\n",
    "print(f'the sum of first 10 natural numbers is: {summ}')"
   ]
  },
  {
   "cell_type": "code",
   "execution_count": 60,
   "id": "7e6284b8-2fb3-48da-b415-316aee7e0d8f",
   "metadata": {},
   "outputs": [
    {
     "data": {
      "text/plain": [
       "55"
      ]
     },
     "execution_count": 60,
     "metadata": {},
     "output_type": "execute_result"
    }
   ],
   "source": [
    "summ"
   ]
  },
  {
   "cell_type": "code",
   "execution_count": 74,
   "id": "27d9df33-60ac-478a-bd16-4e1fc94113a4",
   "metadata": {},
   "outputs": [
    {
     "name": "stdin",
     "output_type": "stream",
     "text": [
      "which number divisors want: 75\n"
     ]
    },
    {
     "name": "stdout",
     "output_type": "stream",
     "text": [
      "1\n",
      "3\n",
      "5\n",
      "15\n",
      "25\n",
      "75\n",
      "the sum of divisors of 75 is: 124\n"
     ]
    }
   ],
   "source": [
    "# Q7) find the sum of divisors of 75\n",
    "\n",
    "n1=eval(input('which number divisors want:'))\n",
    "summ=0\n",
    "\n",
    "for i in range(1,n1+1):\n",
    "    if n1%i==0:\n",
    "        summ=summ+i\n",
    "        print(i)\n",
    "print(f'the sum of divisors of {n1} is: {summ}')       "
   ]
  },
  {
   "cell_type": "markdown",
   "id": "5f137e09-fa70-4f5b-8f94-9d7f1136fbfa",
   "metadata": {},
   "source": [
    "**counter wrapper**\n",
    "\n",
    "- Counter means counting the success ones\n",
    "\n",
    "- count=0\n",
    "\n",
    "- for loop\n",
    "\n",
    "   - count=count+1"
   ]
  },
  {
   "cell_type": "code",
   "execution_count": 82,
   "id": "1827c9b3-790e-4c0e-93b0-9f63d37fe60c",
   "metadata": {},
   "outputs": [
    {
     "name": "stdin",
     "output_type": "stream",
     "text": [
      "which number divisors want: 75\n"
     ]
    },
    {
     "name": "stdout",
     "output_type": "stream",
     "text": [
      "1\n",
      "3\n",
      "5\n",
      "15\n",
      "25\n",
      "75\n",
      "the number of divisors of 75 is: 6\n"
     ]
    }
   ],
   "source": [
    "# Q7) find the num of divisors of 75\n",
    "\n",
    "n2=eval(input('which number divisors want:'))\n",
    "count=0\n",
    "\n",
    "for i in range(1,n2+1):\n",
    "    if n2%i==0:\n",
    "        count=count+1\n",
    "        print(i)\n",
    "print(f'the number of divisors of {n2} is: {count}')    "
   ]
  },
  {
   "cell_type": "code",
   "execution_count": 94,
   "id": "120f7f85-4bcf-467f-bd47-79eb553e9883",
   "metadata": {},
   "outputs": [
    {
     "name": "stdout",
     "output_type": "stream",
     "text": [
      "12 is even\n",
      "29 is odd\n",
      "82 is even\n",
      "69 is odd\n",
      "6 is even\n",
      "the sum of even numbers is 100\n",
      "the sum of odd numbers is 98\n",
      "the number of even numbers is 3\n",
      "the number of odd numbers is 2\n"
     ]
    }
   ],
   "source": [
    "# Q8)\n",
    "# ask the user to get 5 random numbers\n",
    "# means you need to get a random number inside the loop\n",
    "# the loop should run 5 times\n",
    "# now perform even and odd operation\n",
    "# 1) even count # 2) sum of even numbers # 3) odd count # 4) sum of odd numbers\n",
    "\n",
    "import random\n",
    "even_count,odd_count=0,0\n",
    "even_summ,odd_summ=0,0\n",
    "\n",
    "for i in range(5):\n",
    "    num=random.randint(1,100)\n",
    "    if num%2==0:\n",
    "        print(f'{num} is even')\n",
    "        even_count=even_count+1\n",
    "        even_summ=even_summ+num\n",
    "    else:\n",
    "        print(f'{num} is odd')\n",
    "        odd_count=odd_count+1\n",
    "        odd_summ=odd_summ+num\n",
    "\n",
    "print(f'the sum of even numbers is {even_summ}')\n",
    "print(f'the sum of odd numbers is {odd_summ}')\n",
    "print(f'the number of even numbers is {even_count}')\n",
    "print(f'the number of odd numbers is {odd_count}')"
   ]
  },
  {
   "cell_type": "code",
   "execution_count": 106,
   "id": "9cef99dd-8d21-4f5a-9b20-189e51807366",
   "metadata": {},
   "outputs": [
    {
     "name": "stdin",
     "output_type": "stream",
     "text": [
      "enter a number num1: 5\n"
     ]
    },
    {
     "name": "stdout",
     "output_type": "stream",
     "text": [
      "lost\n"
     ]
    },
    {
     "name": "stdin",
     "output_type": "stream",
     "text": [
      "enter a number num1: 2\n"
     ]
    },
    {
     "name": "stdout",
     "output_type": "stream",
     "text": [
      "won\n"
     ]
    },
    {
     "name": "stdin",
     "output_type": "stream",
     "text": [
      "enter a number num1: 1\n"
     ]
    },
    {
     "name": "stdout",
     "output_type": "stream",
     "text": [
      "lost\n"
     ]
    }
   ],
   "source": [
    "# Q9) \n",
    "import random\n",
    "for i in range(3):\n",
    "    num1=eval(input(\"enter a number num1:\"))\n",
    "    num2=random.randint(1,10)\n",
    "    if num1==num2:\n",
    "        print(\"won\")\n",
    "    else:\n",
    "        print(\"lost\")"
   ]
  },
  {
   "cell_type": "code",
   "execution_count": 3,
   "id": "bd670f9b-7cbe-4112-bcce-4bfbd27ecdfa",
   "metadata": {},
   "outputs": [
    {
     "name": "stdout",
     "output_type": "stream",
     "text": [
      "3\n"
     ]
    },
    {
     "name": "stdin",
     "output_type": "stream",
     "text": [
      "enter a number num1: 4\n"
     ]
    },
    {
     "name": "stdout",
     "output_type": "stream",
     "text": [
      "better luck next time\n",
      "1\n"
     ]
    },
    {
     "name": "stdin",
     "output_type": "stream",
     "text": [
      "enter a number num1: 1\n"
     ]
    },
    {
     "name": "stdout",
     "output_type": "stream",
     "text": [
      "you won\n"
     ]
    }
   ],
   "source": [
    "# Q9) \n",
    "import random\n",
    "for i in range(3):\n",
    "    num1=random.randint(1,10)\n",
    "    print(num1)\n",
    "    num2=eval(input(\"enter a number num1:\"))\n",
    "    if num1==num2:\n",
    "        print(\"you won\")\n",
    "        break\n",
    "    else:\n",
    "        print(\"better luck next time\")"
   ]
  },
  {
   "cell_type": "code",
   "execution_count": 39,
   "id": "fb6476f8-03c7-4e88-a7dc-d4f2d3588e71",
   "metadata": {},
   "outputs": [
    {
     "name": "stdin",
     "output_type": "stream",
     "text": [
      "enter a number num2: 1\n"
     ]
    },
    {
     "name": "stdout",
     "output_type": "stream",
     "text": [
      "better luck next time\n",
      "you have 2 chances left\n"
     ]
    },
    {
     "name": "stdin",
     "output_type": "stream",
     "text": [
      "enter a number num2: 3\n"
     ]
    },
    {
     "name": "stdout",
     "output_type": "stream",
     "text": [
      "better luck next time\n",
      "you have 1 chances left\n"
     ]
    },
    {
     "name": "stdin",
     "output_type": "stream",
     "text": [
      "enter a number num2: 4\n"
     ]
    },
    {
     "name": "stdout",
     "output_type": "stream",
     "text": [
      "better luck next time\n",
      "you have 0 chances left\n",
      "try after 24 hours\n"
     ]
    }
   ],
   "source": [
    "# Q9) \n",
    "import random\n",
    "for i in range(3):\n",
    "    num1=random.randint(1,10)\n",
    "    num2=eval(input(\"enter a number num2:\"))\n",
    "    if num1==num2:\n",
    "        print(\"you won\")\n",
    "        break\n",
    "    else:\n",
    "        print(\"better luck next time\")\n",
    "        print(f\"you have {2-i} chances left\")\n",
    "        if i==2:\n",
    "            print(\"try after 24 hours\")"
   ]
  },
  {
   "cell_type": "markdown",
   "id": "9714167e-a417-4044-b8bb-c321d5aae23a",
   "metadata": {},
   "source": [
    "### in\n",
    "\n",
    "- in for loop we have range and in operators\n",
    "\n",
    "- range is a math related word, whenever we use a range it expects a number inside the range\n",
    "\n",
    "- in operator expects a string"
   ]
  },
  {
   "cell_type": "code",
   "execution_count": 5,
   "id": "a074d17e-2d88-4ca1-b3d7-7412ce201b79",
   "metadata": {},
   "outputs": [
    {
     "name": "stdout",
     "output_type": "stream",
     "text": [
      "0 1 2 3 4 5 6 7 8 9 "
     ]
    }
   ],
   "source": [
    "for i in range(10):\n",
    "    print(i,end=' ')"
   ]
  },
  {
   "cell_type": "code",
   "execution_count": 7,
   "id": "db482a24-9810-42e6-9f3e-47aa3eb83688",
   "metadata": {},
   "outputs": [
    {
     "ename": "TypeError",
     "evalue": "'str' object cannot be interpreted as an integer",
     "output_type": "error",
     "traceback": [
      "\u001b[1;31m---------------------------------------------------------------------------\u001b[0m",
      "\u001b[1;31mTypeError\u001b[0m                                 Traceback (most recent call last)",
      "Cell \u001b[1;32mIn[7], line 1\u001b[0m\n\u001b[1;32m----> 1\u001b[0m \u001b[38;5;28;01mfor\u001b[39;00m i \u001b[38;5;129;01min\u001b[39;00m \u001b[38;5;28mrange\u001b[39m(\u001b[38;5;124m'\u001b[39m\u001b[38;5;124mpython\u001b[39m\u001b[38;5;124m'\u001b[39m):\n\u001b[0;32m      2\u001b[0m     \u001b[38;5;28mprint\u001b[39m(i,end\u001b[38;5;241m=\u001b[39m\u001b[38;5;124m'\u001b[39m\u001b[38;5;124m \u001b[39m\u001b[38;5;124m'\u001b[39m)\n",
      "\u001b[1;31mTypeError\u001b[0m: 'str' object cannot be interpreted as an integer"
     ]
    }
   ],
   "source": [
    "for i in range('python'):\n",
    "    print(i,end=' ')"
   ]
  },
  {
   "cell_type": "code",
   "execution_count": 13,
   "id": "d53d7d8a-c6cf-43ba-8f7a-0e77c1bdd251",
   "metadata": {},
   "outputs": [
    {
     "name": "stdout",
     "output_type": "stream",
     "text": [
      "p y t h o n "
     ]
    }
   ],
   "source": [
    "for i in 'python':\n",
    "    print(i,end=' ')"
   ]
  },
  {
   "cell_type": "code",
   "execution_count": 17,
   "id": "34c2ce7e-436c-48f0-8e67-0d0ce0ded5b0",
   "metadata": {},
   "outputs": [
    {
     "data": {
      "text/plain": [
       "True"
      ]
     },
     "execution_count": 17,
     "metadata": {},
     "output_type": "execute_result"
    }
   ],
   "source": [
    "'p' in 'python'\n",
    "\n",
    "'y' in 'python'\n",
    "\n",
    "'t' in 'python'\n",
    "\n",
    "'h' in 'python'\n",
    "\n",
    "'o' in 'python'\n",
    "\n",
    "'n' in 'python'"
   ]
  },
  {
   "cell_type": "markdown",
   "id": "83acfdb6-fb5a-4b2b-a831-3dfe6435bb14",
   "metadata": {},
   "source": [
    "## ASCII\n",
    "\n",
    "- AMERICAN STANDARD CODE FOR INFORMATION INTERCHANGE"
   ]
  },
  {
   "cell_type": "code",
   "execution_count": 22,
   "id": "9f4c9dbb-6037-49da-9762-5a5396a70afb",
   "metadata": {},
   "outputs": [
    {
     "data": {
      "text/plain": [
       "False"
      ]
     },
     "execution_count": 22,
     "metadata": {},
     "output_type": "execute_result"
    }
   ],
   "source": [
    "'A'==65\n",
    "'a'==97\n",
    "\n",
    "'A'>'a'"
   ]
  },
  {
   "cell_type": "markdown",
   "id": "c5375eac-9418-4038-9fa9-ec8f3b498388",
   "metadata": {},
   "source": [
    "- How to convert char to number\n",
    "\n",
    "- how to convert number to char"
   ]
  },
  {
   "cell_type": "markdown",
   "id": "dfd0f0c7-fcd5-43b4-a064-5b6c6d87caf0",
   "metadata": {},
   "source": [
    "### chr-ord"
   ]
  },
  {
   "cell_type": "code",
   "execution_count": 47,
   "id": "4bd6d339-6044-4117-b212-b67e5a12d123",
   "metadata": {},
   "outputs": [
    {
     "data": {
      "text/plain": [
       "('A', 'a')"
      ]
     },
     "execution_count": 47,
     "metadata": {},
     "output_type": "execute_result"
    }
   ],
   "source": [
    "chr(65), chr(97)"
   ]
  },
  {
   "cell_type": "code",
   "execution_count": 51,
   "id": "34b13f59-063a-44fa-b36f-76a62b4647c2",
   "metadata": {},
   "outputs": [
    {
     "data": {
      "text/plain": [
       "(65, 97)"
      ]
     },
     "execution_count": 51,
     "metadata": {},
     "output_type": "execute_result"
    }
   ],
   "source": [
    "ord('A'), ord('a')"
   ]
  },
  {
   "cell_type": "code",
   "execution_count": 55,
   "id": "7e78a5c9-5578-4b5c-b0a3-3455f5d71c86",
   "metadata": {},
   "outputs": [
    {
     "data": {
      "text/plain": [
       "(32, ' ')"
      ]
     },
     "execution_count": 55,
     "metadata": {},
     "output_type": "execute_result"
    }
   ],
   "source": [
    "ord(' '), chr(32)"
   ]
  },
  {
   "cell_type": "code",
   "execution_count": 58,
   "id": "5e36e8cd-56ee-4a3d-81d0-f829b6d4575b",
   "metadata": {},
   "outputs": [
    {
     "data": {
      "text/plain": [
       "(114, 97, 107, 101, 115, 104)"
      ]
     },
     "execution_count": 58,
     "metadata": {},
     "output_type": "execute_result"
    }
   ],
   "source": [
    "ord('r'), ord('a'), ord('k'), ord('e'), ord('s'), ord('h')"
   ]
  },
  {
   "cell_type": "markdown",
   "id": "23a31c01-91fb-4f31-aee7-3e7685543c72",
   "metadata": {},
   "source": [
    "- so **ord** converting char to number\n",
    "\n",
    "- **chr** converting number to char"
   ]
  },
  {
   "cell_type": "code",
   "execution_count": 137,
   "id": "a5e709bd-1ed5-449d-92b0-e2b6d0e6d77e",
   "metadata": {},
   "outputs": [
    {
     "name": "stdout",
     "output_type": "stream",
     "text": [
      "A:65 B:66 C:67 D:68 E:69 F:70 G:71 H:72 I:73 J:74 K:75 L:76 M:77 N:78 O:79 P:80 Q:81 R:82 S:83 T:84 U:85 V:86 W:87 X:88 Y:89 Z:90 "
     ]
    }
   ],
   "source": [
    "for i in string.ascii_uppercase:\n",
    "    print(f'{i}:{ord(i)}',end=' ')"
   ]
  },
  {
   "cell_type": "markdown",
   "id": "b592b3bc-a60b-44f1-a7c0-302aec82b99d",
   "metadata": {},
   "source": [
    "**package: string**"
   ]
  },
  {
   "cell_type": "code",
   "execution_count": 93,
   "id": "44f61b8a-99a6-4d32-b2ec-8cb5170cbb96",
   "metadata": {},
   "outputs": [
    {
     "data": {
      "text/plain": [
       "['Formatter',\n",
       " 'Template',\n",
       " '_ChainMap',\n",
       " '__all__',\n",
       " '__builtins__',\n",
       " '__cached__',\n",
       " '__doc__',\n",
       " '__file__',\n",
       " '__loader__',\n",
       " '__name__',\n",
       " '__package__',\n",
       " '__spec__',\n",
       " '_re',\n",
       " '_sentinel_dict',\n",
       " '_string',\n",
       " 'ascii_letters',\n",
       " 'ascii_lowercase',\n",
       " 'ascii_uppercase',\n",
       " 'capwords',\n",
       " 'digits',\n",
       " 'hexdigits',\n",
       " 'octdigits',\n",
       " 'printable',\n",
       " 'punctuation',\n",
       " 'whitespace']"
      ]
     },
     "execution_count": 93,
     "metadata": {},
     "output_type": "execute_result"
    }
   ],
   "source": [
    "import string\n",
    "dir(string)"
   ]
  },
  {
   "cell_type": "code",
   "execution_count": 97,
   "id": "3f3c8997-4581-402a-a1eb-6474c4fe951f",
   "metadata": {},
   "outputs": [
    {
     "data": {
      "text/plain": [
       "'ABCDEFGHIJKLMNOPQRSTUVWXYZ'"
      ]
     },
     "execution_count": 97,
     "metadata": {},
     "output_type": "execute_result"
    }
   ],
   "source": [
    "string.ascii_uppercase"
   ]
  },
  {
   "cell_type": "code",
   "execution_count": 99,
   "id": "4d3266a1-4f14-4f14-8a1d-cc965690b72c",
   "metadata": {},
   "outputs": [
    {
     "data": {
      "text/plain": [
       "'abcdefghijklmnopqrstuvwxyz'"
      ]
     },
     "execution_count": 99,
     "metadata": {},
     "output_type": "execute_result"
    }
   ],
   "source": [
    "string.ascii_lowercase"
   ]
  },
  {
   "cell_type": "code",
   "execution_count": 107,
   "id": "d061a2cc-88b1-46f2-8b0e-20826032a817",
   "metadata": {},
   "outputs": [
    {
     "data": {
      "text/plain": [
       "'0123456789'"
      ]
     },
     "execution_count": 107,
     "metadata": {},
     "output_type": "execute_result"
    }
   ],
   "source": [
    "string.digits"
   ]
  },
  {
   "cell_type": "code",
   "execution_count": 111,
   "id": "6ff8190e-379f-4ad2-9626-47b82ae0c1a4",
   "metadata": {},
   "outputs": [
    {
     "data": {
      "text/plain": [
       "'!\"#$%&\\'()*+,-./:;<=>?@[\\\\]^_`{|}~'"
      ]
     },
     "execution_count": 111,
     "metadata": {},
     "output_type": "execute_result"
    }
   ],
   "source": [
    "string.punctuation"
   ]
  },
  {
   "cell_type": "code",
   "execution_count": 135,
   "id": "4fb5313d-1069-435f-bbaa-e3660a4fc2ee",
   "metadata": {},
   "outputs": [
    {
     "name": "stdout",
     "output_type": "stream",
     "text": [
      "a:97 b:98 c:99 d:100 e:101 f:102 g:103 h:104 i:105 j:106 k:107 l:108 m:109 n:110 o:111 p:112 q:113 r:114 s:115 t:116 u:117 v:118 w:119 x:120 y:121 z:122 "
     ]
    }
   ],
   "source": [
    "for i in string.ascii_lowercase:\n",
    "    print(f'{i}:{ord(i)}',end=' ')"
   ]
  },
  {
   "cell_type": "code",
   "execution_count": 133,
   "id": "846fe71b-4153-44bb-8a00-d9ec60a36278",
   "metadata": {},
   "outputs": [
    {
     "name": "stdout",
     "output_type": "stream",
     "text": [
      "!:33 \":34 #:35 $:36 %:37 &:38 ':39 (:40 ):41 *:42 +:43 ,:44 -:45 .:46 /:47 ::58 ;:59 <:60 =:61 >:62 ?:63 @:64 [:91 \\:92 ]:93 ^:94 _:95 `:96 {:123 |:124 }:125 ~:126 "
     ]
    }
   ],
   "source": [
    "for i in string.punctuation:\n",
    "    print(f'{i}:{ord(i)}',end=' ')"
   ]
  },
  {
   "cell_type": "code",
   "execution_count": 131,
   "id": "7d2e2e34-4ee8-4ffd-8854-d2e96669fc66",
   "metadata": {},
   "outputs": [
    {
     "name": "stdout",
     "output_type": "stream",
     "text": [
      "0:48 1:49 2:50 3:51 4:52 5:53 6:54 7:55 8:56 9:57 "
     ]
    }
   ],
   "source": [
    "for i in string.digits:\n",
    "    print(f'{i}:{ord(i)}',end=' ')"
   ]
  },
  {
   "cell_type": "code",
   "execution_count": 161,
   "id": "79ec9fcf-2696-492f-a23c-f0b151f30015",
   "metadata": {},
   "outputs": [
    {
     "name": "stdout",
     "output_type": "stream",
     "text": [
      "33:! 34:\" 35:# 36:$ 37:% 38:& 39:' 40:( 41:) 42:* 43:+ 44:, 45:- 46:. 47:/ 48:0 49:1 50:2 51:3 52:4 53:5 54:6 55:7 56:8 57:9 58:: 59:; 60:< 61:= 62:> 63:? 64:@ 65:A 66:B 67:C 68:D 69:E 70:F 71:G 72:H 73:I 74:J 75:K 76:L 77:M 78:N 79:O 80:P 81:Q 82:R 83:S 84:T 85:U 86:V 87:W 88:X 89:Y 90:Z 91:[ 92:\\ 93:] 94:^ 95:_ 96:` 97:a 98:b 99:c 100:d 101:e 102:f 103:g 104:h 105:i 106:j 107:k 108:l 109:m 110:n 111:o 112:p 113:q 114:r 115:s 116:t 117:u 118:v 119:w 120:x 121:y 122:z 123:{ 124:| 125:} 126:~ "
     ]
    }
   ],
   "source": [
    "for i in range(33,127):\n",
    "    print(f'{i}:{chr(i)}',end=' ')"
   ]
  },
  {
   "cell_type": "code",
   "execution_count": 163,
   "id": "81907986-ad56-419d-b9dd-dbf8aaa04e17",
   "metadata": {},
   "outputs": [
    {
     "name": "stdout",
     "output_type": "stream",
     "text": [
      "1:\u0001 2:\u0002 3:\u0003 4:\u0004 5:\u0005 6:\u0006 7:\u0007 8 9:\t 10:\n",
      " 14:\u000e 15:\u000f 16:\u0010 17:\u0011 18:\u0012 19:\u0013 20:\u0014 21:\u0015 22:\u0016 23:\u0017 24:\u0018 25:\u0019 26:\u001a 27:\u001b 28:\u001c",
      " 29:\u001d",
      " 30:\u001e",
      " 31:\u001f 32:  33:! "
     ]
    }
   ],
   "source": [
    "for i in range(1,34):\n",
    "    print(f'{i}:{chr(i)}',end=' ')"
   ]
  },
  {
   "cell_type": "code",
   "execution_count": 165,
   "id": "7e1b9236-efb2-4692-833b-8c1d50c351a9",
   "metadata": {},
   "outputs": [
    {
     "name": "stdout",
     "output_type": "stream",
     "text": [
      "127: 128: 129: 130: 131: 132: 133:",
      " 134: 135: 136: 137: 138: 139: 140: 141: 142: 143: 144: 145: 146: 147: 148: 149: 150: 151: 152: 153: 154: 155: 156: 157: 158: 159: 160:  161:¡ 162:¢ 163:£ 164:¤ 165:¥ 166:¦ 167:§ 168:¨ 169:© 170:ª 171:« 172:¬ 173:­ 174:® 175:¯ 176:° 177:± 178:² 179:³ 180:´ 181:µ 182:¶ 183:· 184:¸ 185:¹ 186:º 187:» 188:¼ 189:½ 190:¾ 191:¿ 192:À 193:Á 194:Â 195:Ã 196:Ä 197:Å 198:Æ 199:Ç 200:È 201:É 202:Ê 203:Ë 204:Ì 205:Í 206:Î 207:Ï 208:Ð 209:Ñ 210:Ò 211:Ó 212:Ô 213:Õ 214:Ö 215:× 216:Ø 217:Ù 218:Ú 219:Û 220:Ü 221:Ý 222:Þ 223:ß 224:à 225:á 226:â 227:ã 228:ä 229:å 230:æ 231:ç 232:è 233:é 234:ê 235:ë 236:ì 237:í 238:î 239:ï 240:ð 241:ñ 242:ò 243:ó 244:ô 245:õ 246:ö 247:÷ 248:ø 249:ù "
     ]
    }
   ],
   "source": [
    "for i in range(127,250):\n",
    "    print(f'{i}:{chr(i)}',end=' ')"
   ]
  },
  {
   "cell_type": "code",
   "execution_count": 179,
   "id": "6e1a14ec-2511-4103-9af5-d7b9bec999d6",
   "metadata": {},
   "outputs": [
    {
     "name": "stdout",
     "output_type": "stream",
     "text": [
      "3072:ఀ 3073:ఁ 3074:ం 3075:ః 3076:ఄ 3077:అ 3078:ఆ 3079:ఇ 3080:ఈ 3081:ఉ 3082:ఊ 3083:ఋ 3084:ఌ 3085:఍ 3086:ఎ 3087:ఏ 3088:ఐ 3089:఑ 3090:ఒ 3091:ఓ 3092:ఔ 3093:క 3094:ఖ 3095:గ 3096:ఘ 3097:ఙ 3098:చ 3099:ఛ 3100:జ 3101:ఝ 3102:ఞ 3103:ట 3104:ఠ 3105:డ 3106:ఢ 3107:ణ 3108:త 3109:థ 3110:ద 3111:ధ 3112:న 3113:఩ 3114:ప 3115:ఫ 3116:బ 3117:భ 3118:మ 3119:య 3120:ర 3121:ఱ 3122:ల 3123:ళ 3124:ఴ 3125:వ 3126:శ 3127:ష 3128:స 3129:హ 3130:఺ 3131:఻ 3132:఼ 3133:ఽ 3134:ా 3135:ి 3136:ీ 3137:ు 3138:ూ 3139:ృ 3140:ౄ 3141:౅ 3142:ె 3143:ే 3144:ై 3145:౉ 3146:ొ 3147:ో 3148:ౌ 3149:్ 3150:౎ 3151:౏ 3152:౐ 3153:౑ 3154:౒ 3155:౓ 3156:౔ 3157:ౕ 3158:ౖ 3159:౗ 3160:ౘ 3161:ౙ 3162:ౚ 3163:౛ 3164:౜ 3165:ౝ 3166:౞ 3167:౟ 3168:ౠ 3169:ౡ 3170:ౢ 3171:ౣ 3172:౤ 3173:౥ 3174:౦ 3175:౧ 3176:౨ 3177:౩ 3178:౪ 3179:౫ 3180:౬ 3181:౭ 3182:౮ 3183:౯ 3184:౰ 3185:౱ 3186:౲ 3187:౳ 3188:౴ 3189:౵ 3190:౶ 3191:౷ 3192:౸ 3193:౹ 3194:౺ 3195:౻ 3196:౼ 3197:౽ 3198:౾ "
     ]
    }
   ],
   "source": [
    "for i in range(3072,3199):\n",
    "    print(f'{i}:{chr(i)}',end=' ')"
   ]
  },
  {
   "cell_type": "code",
   "execution_count": null,
   "id": "5d7c92ea-49ef-4070-a817-03c046fed171",
   "metadata": {},
   "outputs": [],
   "source": []
  }
 ],
 "metadata": {
  "kernelspec": {
   "display_name": "Python [conda env:base] *",
   "language": "python",
   "name": "conda-base-py"
  },
  "language_info": {
   "codemirror_mode": {
    "name": "ipython",
    "version": 3
   },
   "file_extension": ".py",
   "mimetype": "text/x-python",
   "name": "python",
   "nbconvert_exporter": "python",
   "pygments_lexer": "ipython3",
   "version": "3.12.7"
  }
 },
 "nbformat": 4,
 "nbformat_minor": 5
}
